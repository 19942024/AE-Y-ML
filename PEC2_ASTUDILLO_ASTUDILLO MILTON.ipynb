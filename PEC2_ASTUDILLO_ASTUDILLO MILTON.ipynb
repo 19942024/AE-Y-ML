{
  "cells": [
    {
      "cell_type": "markdown",
      "metadata": {
        "nbpresent": {
          "id": "b8300535-6e4c-460b-b499-7db5c12d363e"
        },
        "id": "SGB73wKa6u9u"
      },
      "source": [
        "<a name = \"inicio\"></a>\n",
        "\n",
        "***\n",
        "\n",
        "<div style=\"font-size: 30px;text-align: center;height:60px;padding:10px;margin:10px 0 0 0;\">Prueba evaluación continua (PEC2) </div>\n",
        "\n",
        "<table>\n",
        "  <tr>\n",
        "    <td>\n",
        "<div>\n",
        "<img src=\"attachment:image-2.png\" width=\"135\"/>\n",
        "<td>&nbsp;</td><td>&nbsp;</td>\n",
        "</div>\n",
        "    </td>\n",
        "    <td>\n",
        "<div>\n",
        "<img src=\"attachment:image-3.png\" width=\"350\"/>\n",
        "</div>       \n",
        "</td>\n",
        "  </tr>\n",
        "<table>\n",
        "    \n",
        "<u>Índice de contenidos<u>:\n",
        "\n",
        "1. [Instrucciones de la prueba](#topic1)\n",
        "2. [Bloque 1: Ejercicios básicos de la prueba](#topic2)\n",
        "3. [Bloque 2: Ejercicios intermedios de la prueba](#topic3)\n",
        "4. [Bloque 3: Ejercicios avanzados de la prueba](#topic4)\n",
        "\n",
        "***"
      ]
    },
    {
      "cell_type": "markdown",
      "metadata": {
        "id": "SHX2jWL86u93"
      },
      "source": [
        "# Instrucciones de la prueba <a id=\"topic1\"></a>&nbsp;&nbsp;<a href=\"#index\"><i class=\"fa fa-list-alt\" aria-hidden=\"true\"></i></a>\n"
      ]
    },
    {
      "cell_type": "markdown",
      "metadata": {
        "id": "dmNYTDiT6u94"
      },
      "source": [
        "Este notebook corresponde a la <u>segunda prueba de evaluación continua</u>. El peso de la misma corresponde al **20% de la nota final** de la asignatura. Se establecen los siguientes tres niveles de evaluación por bloques de dificultad:\n",
        "\n",
        "1. Básico: el alumno es capaz de realizar tareas, ejercicios o prácticas similares a las realizadas durante la asignatura.\n",
        "2. Intermedio: el alumno es capaz de aplicar las técnicas, conocimientos y habilidades vistas en clase a problemas con elementos diferentes.\n",
        "3. Avanzado: el alumno es capaz de ampliar las técnicas, conocimientos y habilidades vistas en clase, investigando nuevos aspectos o problemas.\n",
        "\n",
        "Las calificaciones, por tanto, serán coherentes al nivel alcanzado. Cada alumno deberá de entregar este mismo notebook con sus respuestas a través de la plataforma **Blackboard** llamando al archivo **PEC2_Apellidos**. El profesor publicará las calificaciones con posterioridad. ¡Mucha suerte y ánimo a tod@s!\n",
        "\n",
        "**<mark>Nota.-**<mark><div style=\"background-color:#F7DC6F\"><b>Tened en cuenta que deberéis de aportar respuestas detalladas y bien justificadas. No es admisible adjuntar únicamente el código sin comentar. Hay que incluir paso a paso lo que estáis haciendo en las propias celdas de código. Además, deberéis de razonar, argumentar e interpretar los resultados obtenidos utilizando para ello celdas tipo Markdown. </b></div>"
      ]
    },
    {
      "cell_type": "markdown",
      "metadata": {
        "id": "RNRZ0W0L6u95"
      },
      "source": [
        "# Bloque 1: Ejercicios básicos de la prueba <a id=\"topic2\"></a>&nbsp;&nbsp;<a href=\"#index\"><i class=\"fa fa-list-alt\" aria-hidden=\"true\"></i></a>"
      ]
    },
    {
      "cell_type": "markdown",
      "metadata": {
        "id": "k7qwKYF26u96"
      },
      "source": [
        "### 01 Ejercicio [1.5 puntos]\n",
        "\n",
        "Un analista de deportes quiere saber si existe una relación entre la variable número de bateos que realiza un equipo de béisbol (`numero_bateos`) y la variable dependiente, número de runs que consigue, (`runs`). Para ello contáis con la base de datos $\\tt beisbol$ que se aporta abajo sobre diferentes equipos de la Major League Baseball (MLB) de los EE.UU. Realizar los siguientes apartados:\n",
        "\n",
        "1. Exploración inicial de la base de datos\n",
        "2. Análisis de la existencia de relación lineal entre las variables\n",
        "3. Estimación de un modelo de regresión lineal simple entre las variables\n",
        "4. Interpretación de las salidas de estimación de un modelo de regresión lineal simple"
      ]
    },
    {
      "cell_type": "code",
      "execution_count": null,
      "metadata": {
        "id": "bNwm9Tou6u97"
      },
      "outputs": [],
      "source": [
        "# Base de datos beisbol MLB\n",
        "equipos = c(\"Texas\", \"Boston\", \"Detroit\", \"Kansas\", \"St.\", \"New_S.\", \"New_Y.\", \"Milwaukee\", \"Colorado\", \"Houston\", \"Baltimore\", \"Los_An.\", \"Chicago\", \"Cincinnati\", \"Los_P.\", \"Philadelphia\", \"Chicago\", \"Cleveland\", \"Arizona\", \"Toronto\", \"Minnesota\", \"Florida\", \"Pittsburgh\", \"Oakland\", \"Tampa\", \"Atlanta\", \"Washington\", \"San.F\", \"San.I\", \"Seattle\")\n",
        "numero_bateos = c(5659, 5710, 5563, 5672, 5532, 5600, 5518, 5447, 5544, 5598, 5585, 5436, 5549, 5612, 5513, 5579, 5502, 5509, 5421, 5559, 5487, 5508, 5421, 5452, 5436, 5528, 5441, 5486, 5417, 5421)\n",
        "runs = c(855, 875, 787, 730, 762, 718, 867, 721, 735, 615, 708, 644, 654 , 735, 667, 713, 654, 704, 731, 743, 619, 625, 610, 645, 707, 641, 624, 570, 593, 556)\n",
        "beisbol = data.frame(equipos, numero_bateos, runs)"
      ]
    },
    {
      "cell_type": "markdown",
      "metadata": {
        "id": "RQzRiWrC6u-C"
      },
      "source": [
        "<div style=\"background-color:#F7DC6F\"><b>Resolución Ejercicio 01</b></div>"
      ]
    },
    {
      "cell_type": "markdown",
      "metadata": {
        "id": "BQ37u0n86u-D"
      },
      "source": [
        "<div style=\"background-color:#5DADE2\"><b>Apartado 1</b></div>"
      ]
    },
    {
      "cell_type": "code",
      "source": [
        "#mostramos el dataframe\n",
        "head(beisbol)"
      ],
      "metadata": {
        "colab": {
          "base_uri": "https://localhost:8080/",
          "height": 286
        },
        "id": "j7ay4i8VsKqe",
        "outputId": "354ff481-8105-4695-e818-38dfda36870c"
      },
      "execution_count": null,
      "outputs": [
        {
          "output_type": "display_data",
          "data": {
            "text/html": [
              "<table class=\"dataframe\">\n",
              "<caption>A data.frame: 6 × 3</caption>\n",
              "<thead>\n",
              "\t<tr><th></th><th scope=col>equipos</th><th scope=col>numero_bateos</th><th scope=col>runs</th></tr>\n",
              "\t<tr><th></th><th scope=col>&lt;chr&gt;</th><th scope=col>&lt;dbl&gt;</th><th scope=col>&lt;dbl&gt;</th></tr>\n",
              "</thead>\n",
              "<tbody>\n",
              "\t<tr><th scope=row>1</th><td>Texas  </td><td>5659</td><td>855</td></tr>\n",
              "\t<tr><th scope=row>2</th><td>Boston </td><td>5710</td><td>875</td></tr>\n",
              "\t<tr><th scope=row>3</th><td>Detroit</td><td>5563</td><td>787</td></tr>\n",
              "\t<tr><th scope=row>4</th><td>Kansas </td><td>5672</td><td>730</td></tr>\n",
              "\t<tr><th scope=row>5</th><td>St.    </td><td>5532</td><td>762</td></tr>\n",
              "\t<tr><th scope=row>6</th><td>New_S. </td><td>5600</td><td>718</td></tr>\n",
              "</tbody>\n",
              "</table>\n"
            ],
            "text/markdown": "\nA data.frame: 6 × 3\n\n| <!--/--> | equipos &lt;chr&gt; | numero_bateos &lt;dbl&gt; | runs &lt;dbl&gt; |\n|---|---|---|---|\n| 1 | Texas   | 5659 | 855 |\n| 2 | Boston  | 5710 | 875 |\n| 3 | Detroit | 5563 | 787 |\n| 4 | Kansas  | 5672 | 730 |\n| 5 | St.     | 5532 | 762 |\n| 6 | New_S.  | 5600 | 718 |\n\n",
            "text/latex": "A data.frame: 6 × 3\n\\begin{tabular}{r|lll}\n  & equipos & numero\\_bateos & runs\\\\\n  & <chr> & <dbl> & <dbl>\\\\\n\\hline\n\t1 & Texas   & 5659 & 855\\\\\n\t2 & Boston  & 5710 & 875\\\\\n\t3 & Detroit & 5563 & 787\\\\\n\t4 & Kansas  & 5672 & 730\\\\\n\t5 & St.     & 5532 & 762\\\\\n\t6 & New\\_S.  & 5600 & 718\\\\\n\\end{tabular}\n",
            "text/plain": [
              "  equipos numero_bateos runs\n",
              "1 Texas   5659          855 \n",
              "2 Boston  5710          875 \n",
              "3 Detroit 5563          787 \n",
              "4 Kansas  5672          730 \n",
              "5 St.     5532          762 \n",
              "6 New_S.  5600          718 "
            ]
          },
          "metadata": {}
        }
      ]
    },
    {
      "cell_type": "code",
      "source": [
        "# Revisamos la estructura del dataframe\n",
        "str(beisbol)"
      ],
      "metadata": {
        "colab": {
          "base_uri": "https://localhost:8080/"
        },
        "id": "4zet2XH6rrXO",
        "outputId": "dd697ca1-7440-42d0-8efa-8fc198dda5a3"
      },
      "execution_count": null,
      "outputs": [
        {
          "output_type": "stream",
          "name": "stdout",
          "text": [
            "'data.frame':\t30 obs. of  3 variables:\n",
            " $ equipos      : chr  \"Texas\" \"Boston\" \"Detroit\" \"Kansas\" ...\n",
            " $ numero_bateos: num  5659 5710 5563 5672 5532 ...\n",
            " $ runs         : num  855 875 787 730 762 718 867 721 735 615 ...\n"
          ]
        }
      ]
    },
    {
      "cell_type": "code",
      "source": [
        "# Clases de la base de datos beisbol\n",
        "class(beisbol)"
      ],
      "metadata": {
        "colab": {
          "base_uri": "https://localhost:8080/",
          "height": 34
        },
        "id": "95xAvG-v6M2G",
        "outputId": "3b4b621b-8f00-426e-873a-6e2073033cd5"
      },
      "execution_count": null,
      "outputs": [
        {
          "output_type": "display_data",
          "data": {
            "text/html": [
              "'data.frame'"
            ],
            "text/markdown": "'data.frame'",
            "text/latex": "'data.frame'",
            "text/plain": [
              "[1] \"data.frame\""
            ]
          },
          "metadata": {}
        }
      ]
    },
    {
      "cell_type": "code",
      "source": [
        "# Dimensiones de la base de datos beisbol\n",
        "dim(beisbol)"
      ],
      "metadata": {
        "colab": {
          "base_uri": "https://localhost:8080/",
          "height": 34
        },
        "id": "suQ58Xat6on7",
        "outputId": "14998043-2da5-45a5-8dc1-246bb4211035"
      },
      "execution_count": null,
      "outputs": [
        {
          "output_type": "display_data",
          "data": {
            "text/html": [
              "<style>\n",
              ".list-inline {list-style: none; margin:0; padding: 0}\n",
              ".list-inline>li {display: inline-block}\n",
              ".list-inline>li:not(:last-child)::after {content: \"\\00b7\"; padding: 0 .5ex}\n",
              "</style>\n",
              "<ol class=list-inline><li>30</li><li>3</li></ol>\n"
            ],
            "text/markdown": "1. 30\n2. 3\n\n\n",
            "text/latex": "\\begin{enumerate*}\n\\item 30\n\\item 3\n\\end{enumerate*}\n",
            "text/plain": [
              "[1] 30  3"
            ]
          },
          "metadata": {}
        }
      ]
    },
    {
      "cell_type": "code",
      "source": [
        "# Variables de la base de datos beisbol\n",
        "names(beisbol)"
      ],
      "metadata": {
        "colab": {
          "base_uri": "https://localhost:8080/",
          "height": 34
        },
        "id": "4s-tCAfj60T6",
        "outputId": "321cfb07-0842-4f4b-e930-65b42e74e262"
      },
      "execution_count": null,
      "outputs": [
        {
          "output_type": "display_data",
          "data": {
            "text/html": [
              "<style>\n",
              ".list-inline {list-style: none; margin:0; padding: 0}\n",
              ".list-inline>li {display: inline-block}\n",
              ".list-inline>li:not(:last-child)::after {content: \"\\00b7\"; padding: 0 .5ex}\n",
              "</style>\n",
              "<ol class=list-inline><li>'equipos'</li><li>'numero_bateos'</li><li>'runs'</li></ol>\n"
            ],
            "text/markdown": "1. 'equipos'\n2. 'numero_bateos'\n3. 'runs'\n\n\n",
            "text/latex": "\\begin{enumerate*}\n\\item 'equipos'\n\\item 'numero\\_bateos'\n\\item 'runs'\n\\end{enumerate*}\n",
            "text/plain": [
              "[1] \"equipos\"       \"numero_bateos\" \"runs\"         "
            ]
          },
          "metadata": {}
        }
      ]
    },
    {
      "cell_type": "code",
      "source": [
        "# Mostramos un resumen estadistico para tener una mejor información de los datos.\n",
        "summary(beisbol)"
      ],
      "metadata": {
        "colab": {
          "base_uri": "https://localhost:8080/",
          "height": 139
        },
        "id": "XBfvPjDbsE7G",
        "outputId": "fee1aca8-5f96-4db8-cdec-298b5bdfe960"
      },
      "execution_count": null,
      "outputs": [
        {
          "output_type": "display_data",
          "data": {
            "text/plain": [
              "   equipos          numero_bateos       runs      \n",
              " Length:30          Min.   :5417   Min.   :556.0  \n",
              " Class :character   1st Qu.:5448   1st Qu.:629.0  \n",
              " Mode  :character   Median :5516   Median :705.5  \n",
              "                    Mean   :5524   Mean   :693.6  \n",
              "                    3rd Qu.:5575   3rd Qu.:734.0  \n",
              "                    Max.   :5710   Max.   :875.0  "
            ]
          },
          "metadata": {}
        }
      ]
    },
    {
      "cell_type": "markdown",
      "metadata": {
        "id": "oAK7oNCPb2vh"
      },
      "source": [
        "<div style=\"background-color:#5DADE2\"><b>Apartado 2</b></div>"
      ]
    },
    {
      "cell_type": "code",
      "source": [
        "# Para saber si existe correlación lineal aplicamos(evidencia númerica)\n",
        "cor(beisbol$numero_bateos, beisbol$runs)\n"
      ],
      "metadata": {
        "colab": {
          "base_uri": "https://localhost:8080/",
          "height": 34
        },
        "id": "0uFcRqhLt0lk",
        "outputId": "229f8645-e2bf-4932-ebff-eb241b21d7bd"
      },
      "execution_count": null,
      "outputs": [
        {
          "output_type": "display_data",
          "data": {
            "text/html": [
              "0.610627046720669"
            ],
            "text/markdown": "0.610627046720669",
            "text/latex": "0.610627046720669",
            "text/plain": [
              "[1] 0.610627"
            ]
          },
          "metadata": {}
        }
      ]
    },
    {
      "cell_type": "markdown",
      "source": [
        "Obtuvimos una correlación de 0.61 lo cual es cercana a 1, por lo que hay una relación moderadamente positiva entre el número de bateos y los runs en tus datos de béisbol."
      ],
      "metadata": {
        "id": "Mkphb_NQuFCS"
      }
    },
    {
      "cell_type": "code",
      "source": [
        "# Evidencia gráfica a través del gráfico de dispersión\n",
        "scatter.smooth(x = beisbol$numero_bateos, y = beisbol$runs, main = \"numero_bateos ~ runs\")"
      ],
      "metadata": {
        "colab": {
          "base_uri": "https://localhost:8080/",
          "height": 437
        },
        "id": "dspwjUaRbiAl",
        "outputId": "3092292a-871c-4fed-f365-b1e7400a8220"
      },
      "execution_count": null,
      "outputs": [
        {
          "output_type": "display_data",
          "data": {
            "text/plain": [
              "Plot with title “numero_bateos ~ runs”"
            ],
            "image/png": "[encoded data removed]"
          },
          "metadata": {
            "image/png": {
              "width": 420,
              "height": 420
            }
          }
        }
      ]
    },
    {
      "cell_type": "markdown",
      "source": [
        "Interpretación resultados.- Podemos observar en el gráfico de dispersión existe una relación entre la variables ya que siguen un patron."
      ],
      "metadata": {
        "id": "q_6tpUsztmLb"
      }
    },
    {
      "cell_type": "code",
      "source": [
        "# Evidencia gráfica a través del gráfico de dispersión (librería ggplot2)\n",
        "\n",
        "require(ggplot2)\n",
        "ggplot(data = beisbol, aes(x = bateos, y = runs)) +\n",
        "       geom_point(colour = \"red4\") +\n",
        "       ggtitle(\"Gráfico de dispersión\") +\n",
        "       theme_bw() +\n",
        "       theme(plot.title = element_text(hjust = 0.5))"
      ],
      "metadata": {
        "colab": {
          "base_uri": "https://localhost:8080/"
        },
        "id": "85RMXx2_br3a",
        "outputId": "36d7f843-d507-4288-9d9c-4f618a8be809"
      },
      "execution_count": null,
      "outputs": [
        {
          "output_type": "stream",
          "name": "stderr",
          "text": [
            "Loading required package: ggplot2\n",
            "\n",
            "ERROR while rich displaying an object: \u001b[1m\u001b[33mError\u001b[39m in `geom_point()`:\u001b[22m\n",
            "\u001b[1m\u001b[22m\u001b[33m!\u001b[39m Problem while computing aesthetics.\n",
            "\u001b[36mℹ\u001b[39m Error occurred in the 1st layer.\n",
            "\u001b[1mCaused by error:\u001b[22m\n",
            "\u001b[33m!\u001b[39m object 'bateos' not found\n",
            "\n",
            "Traceback:\n",
            "1. tryCatch(withCallingHandlers({\n",
            " .     if (!mime %in% names(repr::mime2repr)) \n",
            " .         stop(\"No repr_* for mimetype \", mime, \" in repr::mime2repr\")\n",
            " .     rpr <- repr::mime2repr[[mime]](obj)\n",
            " .     if (is.null(rpr)) \n",
            " .         return(NULL)\n",
            " .     prepare_content(is.raw(rpr), rpr)\n",
            " . }, error = error_handler), error = outer_handler)\n",
            "2. tryCatchList(expr, classes, parentenv, handlers)\n",
            "3. tryCatchOne(expr, names, parentenv, handlers[[1L]])\n",
            "4. doTryCatch(return(expr), name, parentenv, handler)\n",
            "5. withCallingHandlers({\n",
            " .     if (!mime %in% names(repr::mime2repr)) \n",
            " .         stop(\"No repr_* for mimetype \", mime, \" in repr::mime2repr\")\n",
            " .     rpr <- repr::mime2repr[[mime]](obj)\n",
            " .     if (is.null(rpr)) \n",
            " .         return(NULL)\n",
            " .     prepare_content(is.raw(rpr), rpr)\n",
            " . }, error = error_handler)\n",
            "6. repr::mime2repr[[mime]](obj)\n",
            "7. repr_text.default(obj)\n",
            "8. paste(capture.output(print(obj)), collapse = \"\\n\")\n",
            "9. capture.output(print(obj))\n",
            "10. withVisible(...elt(i))\n",
            "11. print(obj)\n",
            "12. print.ggplot(obj)\n",
            "13. ggplot_build(x)\n",
            "14. ggplot_build.ggplot(x)\n",
            "15. by_layer(function(l, d) l$compute_aesthetics(d, plot), layers, \n",
            "  .     data, \"computing aesthetics\")\n",
            "16. try_fetch(for (i in seq_along(data)) {\n",
            "  .     out[[i]] <- f(l = layers[[i]], d = data[[i]])\n",
            "  . }, error = function(cnd) {\n",
            "  .     cli::cli_abort(c(\"Problem while {step}.\", i = \"Error occurred in the {ordinal(i)} layer.\"), \n",
            "  .         call = layers[[i]]$constructor, parent = cnd)\n",
            "  . })\n",
            "17. tryCatch(withCallingHandlers(expr, condition = function(cnd) {\n",
            "  .     {\n",
            "  .         .__handler_frame__. <- TRUE\n",
            "  .         .__setup_frame__. <- frame\n",
            "  .         if (inherits(cnd, \"message\")) {\n",
            "  .             except <- c(\"warning\", \"error\")\n",
            "  .         }\n",
            "  .         else if (inherits(cnd, \"warning\")) {\n",
            "  .             except <- \"error\"\n",
            "  .         }\n",
            "  .         else {\n",
            "  .             except <- \"\"\n",
            "  .         }\n",
            "  .     }\n",
            "  .     while (!is_null(cnd)) {\n",
            "  .         if (inherits(cnd, \"error\")) {\n",
            "  .             out <- handlers[[1L]](cnd)\n",
            "  .             if (!inherits(out, \"rlang_zap\")) \n",
            "  .                 throw(out)\n",
            "  .         }\n",
            "  .         inherit <- .subset2(.subset2(cnd, \"rlang\"), \"inherit\")\n",
            "  .         if (is_false(inherit)) {\n",
            "  .             return()\n",
            "  .         }\n",
            "  .         cnd <- .subset2(cnd, \"parent\")\n",
            "  .     }\n",
            "  . }), stackOverflowError = handlers[[1L]])\n",
            "18. tryCatchList(expr, classes, parentenv, handlers)\n",
            "19. tryCatchOne(expr, names, parentenv, handlers[[1L]])\n",
            "20. doTryCatch(return(expr), name, parentenv, handler)\n",
            "21. withCallingHandlers(expr, condition = function(cnd) {\n",
            "  .     {\n",
            "  .         .__handler_frame__. <- TRUE\n",
            "  .         .__setup_frame__. <- frame\n",
            "  .         if (inherits(cnd, \"message\")) {\n",
            "  .             except <- c(\"warning\", \"error\")\n",
            "  .         }\n",
            "  .         else if (inherits(cnd, \"warning\")) {\n",
            "  .             except <- \"error\"\n",
            "  .         }\n",
            "  .         else {\n",
            "  .             except <- \"\"\n",
            "  .         }\n",
            "  .     }\n",
            "  .     while (!is_null(cnd)) {\n",
            "  .         if (inherits(cnd, \"error\")) {\n",
            "  .             out <- handlers[[1L]](cnd)\n",
            "  .             if (!inherits(out, \"rlang_zap\")) \n",
            "  .                 throw(out)\n",
            "  .         }\n",
            "  .         inherit <- .subset2(.subset2(cnd, \"rlang\"), \"inherit\")\n",
            "  .         if (is_false(inherit)) {\n",
            "  .             return()\n",
            "  .         }\n",
            "  .         cnd <- .subset2(cnd, \"parent\")\n",
            "  .     }\n",
            "  . })\n",
            "22. f(l = layers[[i]], d = data[[i]])\n",
            "23. l$compute_aesthetics(d, plot)\n",
            "24. compute_aesthetics(..., self = self)\n",
            "25. scales_add_defaults(plot$scales, data, aesthetics, plot$plot_env)\n",
            "26. lapply(aesthetics[new_aesthetics], eval_tidy, data = data)\n",
            "27. FUN(X[[i]], ...)\n",
            "28. .handleSimpleError(function (cnd) \n",
            "  . {\n",
            "  .     {\n",
            "  .         .__handler_frame__. <- TRUE\n",
            "  .         .__setup_frame__. <- frame\n",
            "  .         if (inherits(cnd, \"message\")) {\n",
            "  .             except <- c(\"warning\", \"error\")\n",
            "  .         }\n",
            "  .         else if (inherits(cnd, \"warning\")) {\n",
            "  .             except <- \"error\"\n",
            "  .         }\n",
            "  .         else {\n",
            "  .             except <- \"\"\n",
            "  .         }\n",
            "  .     }\n",
            "  .     while (!is_null(cnd)) {\n",
            "  .         if (inherits(cnd, \"error\")) {\n",
            "  .             out <- handlers[[1L]](cnd)\n",
            "  .             if (!inherits(out, \"rlang_zap\")) \n",
            "  .                 throw(out)\n",
            "  .         }\n",
            "  .         inherit <- .subset2(.subset2(cnd, \"rlang\"), \"inherit\")\n",
            "  .         if (is_false(inherit)) {\n",
            "  .             return()\n",
            "  .         }\n",
            "  .         cnd <- .subset2(cnd, \"parent\")\n",
            "  .     }\n",
            "  . }, \"object 'bateos' not found\", base::quote(NULL))\n",
            "29. h(simpleError(msg, call))\n",
            "30. handlers[[1L]](cnd)\n",
            "31. cli::cli_abort(c(\"Problem while {step}.\", i = \"Error occurred in the {ordinal(i)} layer.\"), \n",
            "  .     call = layers[[i]]$constructor, parent = cnd)\n",
            "32. rlang::abort(message, ..., call = call, use_cli_format = TRUE, \n",
            "  .     .frame = .frame)\n",
            "33. signal_abort(cnd, .file)\n"
          ]
        }
      ]
    },
    {
      "cell_type": "markdown",
      "source": [],
      "metadata": {
        "id": "4QNy2dO1tlmO"
      }
    },
    {
      "cell_type": "code",
      "source": [
        "# Evidencia contrastada\n",
        "cor.test(beisbol$numero_bateos, beisbol$runs)"
      ],
      "metadata": {
        "colab": {
          "base_uri": "https://localhost:8080/",
          "height": 208
        },
        "id": "o1hiqd-FbsER",
        "outputId": "f6bf2f1c-191b-47a5-c3b8-e738f5b32b19"
      },
      "execution_count": null,
      "outputs": [
        {
          "output_type": "display_data",
          "data": {
            "text/plain": [
              "\n",
              "\tPearson's product-moment correlation\n",
              "\n",
              "data:  beisbol$numero_bateos and beisbol$runs\n",
              "t = 4.0801, df = 28, p-value = 0.0003388\n",
              "alternative hypothesis: true correlation is not equal to 0\n",
              "95 percent confidence interval:\n",
              " 0.3209675 0.7958231\n",
              "sample estimates:\n",
              "     cor \n",
              "0.610627 \n"
            ]
          },
          "metadata": {}
        }
      ]
    },
    {
      "cell_type": "markdown",
      "source": [
        "interpretación resultados.- El  p -valor obtenido es   0.0003388  siendo  <α=0.05 ,por lo que tenemos que rechazar la hipótesis nula, entonces las variables de numero de bateos y runs si  están correlacionados."
      ],
      "metadata": {
        "id": "MaV2ROmkyAMd"
      }
    },
    {
      "cell_type": "markdown",
      "metadata": {
        "id": "YVvtU4QLb2vh"
      },
      "source": [
        "<div style=\"background-color:#5DADE2\"><b>Apartado 3</b></div>"
      ]
    },
    {
      "cell_type": "code",
      "source": [
        "# Alternativa 1 incluyendo el dataset como parámetro\n",
        "modelox <- lm(numero_bateos ~ runs, data = beisbol)\n",
        "modelox"
      ],
      "metadata": {
        "colab": {
          "base_uri": "https://localhost:8080/",
          "height": 139
        },
        "id": "Y-d2wmlPbsMy",
        "outputId": "38037a56-c866-4fe0-ce35-c50efaee94a2"
      },
      "execution_count": null,
      "outputs": [
        {
          "output_type": "display_data",
          "data": {
            "text/plain": [
              "\n",
              "Call:\n",
              "lm(formula = numero_bateos ~ runs, data = beisbol)\n",
              "\n",
              "Coefficients:\n",
              "(Intercept)         runs  \n",
              "  5113.3510       0.5913  \n"
            ]
          },
          "metadata": {}
        }
      ]
    },
    {
      "cell_type": "markdown",
      "source": [
        "interpretación resultados.- Los coeficientes del modelo de regresión lineal estimado son  β0=5113.3510   y  β1=0.5913 . La interpretación de los parámetros  β0  y  β1  en un modelo de regresión lineal simple donde la variable dependiente es el numero de bateos y la variable independiente es runs. En este caso,  β0=5113.3510 representa el valor de la intersección con el eje y, lo que implica el numero de bateos estimado cuando el nivel de educación es cero. Este valor puede ser interpretado como el coeficiente del salario base o de inicio sin considerar la educación. Por otro lado,  β1=0.5414  es el coeficiente de la pendiente y muestra cómo cambia el salario en función del nivel de educación. Específicamente, indica que por cada unidad adicional en el nivel de educación, se espera un aumento de  0.5414  unidades en el nivel de salario. Este coeficiente positivo sugiere una relación directa y proporcional entre la educación y los salarios, donde un mayor nivel educativo se asocia con salarios más altos."
      ],
      "metadata": {
        "id": "9dL0fu730aKs"
      }
    },
    {
      "cell_type": "code",
      "source": [
        "# Información de salida del modelo de regresión estimado\n",
        "str(modelox)"
      ],
      "metadata": {
        "id": "RIbHqJ25ktLY",
        "colab": {
          "base_uri": "https://localhost:8080/"
        },
        "outputId": "dfaae345-a366-4104-900d-eba1aed66e9e"
      },
      "execution_count": null,
      "outputs": [
        {
          "output_type": "stream",
          "name": "stdout",
          "text": [
            "List of 12\n",
            " $ coefficients : Named num [1:2] 5113.351 0.591\n",
            "  ..- attr(*, \"names\")= chr [1:2] \"(Intercept)\" \"runs\"\n",
            " $ residuals    : Named num [1:30] 40.1 79.2 -15.7 127 -31.9 ...\n",
            "  ..- attr(*, \"names\")= chr [1:30] \"1\" \"2\" \"3\" \"4\" ...\n",
            " $ effects      : Named num [1:30] -30253.5 -262.6 -30.2 119.4 -43.4 ...\n",
            "  ..- attr(*, \"names\")= chr [1:30] \"(Intercept)\" \"runs\" \"\" \"\" ...\n",
            " $ rank         : int 2\n",
            " $ fitted.values: Named num [1:30] 5619 5631 5579 5545 5564 ...\n",
            "  ..- attr(*, \"names\")= chr [1:30] \"1\" \"2\" \"3\" \"4\" ...\n",
            " $ assign       : int [1:2] 0 1\n",
            " $ qr           :List of 5\n",
            "  ..$ qr   : num [1:30, 1:2] -5.477 0.183 0.183 0.183 0.183 ...\n",
            "  .. ..- attr(*, \"dimnames\")=List of 2\n",
            "  .. .. ..$ : chr [1:30] \"1\" \"2\" \"3\" \"4\" ...\n",
            "  .. .. ..$ : chr [1:2] \"(Intercept)\" \"runs\"\n",
            "  .. ..- attr(*, \"assign\")= int [1:2] 0 1\n",
            "  ..$ qraux: num [1:2] 1.18 1.35\n",
            "  ..$ pivot: int [1:2] 1 2\n",
            "  ..$ tol  : num 1e-07\n",
            "  ..$ rank : int 2\n",
            "  ..- attr(*, \"class\")= chr \"qr\"\n",
            " $ df.residual  : int 28\n",
            " $ xlevels      : Named list()\n",
            " $ call         : language lm(formula = numero_bateos ~ runs, data = beisbol)\n",
            " $ terms        :Classes 'terms', 'formula'  language numero_bateos ~ runs\n",
            "  .. ..- attr(*, \"variables\")= language list(numero_bateos, runs)\n",
            "  .. ..- attr(*, \"factors\")= int [1:2, 1] 0 1\n",
            "  .. .. ..- attr(*, \"dimnames\")=List of 2\n",
            "  .. .. .. ..$ : chr [1:2] \"numero_bateos\" \"runs\"\n",
            "  .. .. .. ..$ : chr \"runs\"\n",
            "  .. ..- attr(*, \"term.labels\")= chr \"runs\"\n",
            "  .. ..- attr(*, \"order\")= int 1\n",
            "  .. ..- attr(*, \"intercept\")= int 1\n",
            "  .. ..- attr(*, \"response\")= int 1\n",
            "  .. ..- attr(*, \".Environment\")=<environment: R_GlobalEnv> \n",
            "  .. ..- attr(*, \"predvars\")= language list(numero_bateos, runs)\n",
            "  .. ..- attr(*, \"dataClasses\")= Named chr [1:2] \"numeric\" \"numeric\"\n",
            "  .. .. ..- attr(*, \"names\")= chr [1:2] \"numero_bateos\" \"runs\"\n",
            " $ model        :'data.frame':\t30 obs. of  2 variables:\n",
            "  ..$ numero_bateos: num [1:30] 5659 5710 5563 5672 5532 ...\n",
            "  ..$ runs         : num [1:30] 855 875 787 730 762 718 867 721 735 615 ...\n",
            "  ..- attr(*, \"terms\")=Classes 'terms', 'formula'  language numero_bateos ~ runs\n",
            "  .. .. ..- attr(*, \"variables\")= language list(numero_bateos, runs)\n",
            "  .. .. ..- attr(*, \"factors\")= int [1:2, 1] 0 1\n",
            "  .. .. .. ..- attr(*, \"dimnames\")=List of 2\n",
            "  .. .. .. .. ..$ : chr [1:2] \"numero_bateos\" \"runs\"\n",
            "  .. .. .. .. ..$ : chr \"runs\"\n",
            "  .. .. ..- attr(*, \"term.labels\")= chr \"runs\"\n",
            "  .. .. ..- attr(*, \"order\")= int 1\n",
            "  .. .. ..- attr(*, \"intercept\")= int 1\n",
            "  .. .. ..- attr(*, \"response\")= int 1\n",
            "  .. .. ..- attr(*, \".Environment\")=<environment: R_GlobalEnv> \n",
            "  .. .. ..- attr(*, \"predvars\")= language list(numero_bateos, runs)\n",
            "  .. .. ..- attr(*, \"dataClasses\")= Named chr [1:2] \"numeric\" \"numeric\"\n",
            "  .. .. .. ..- attr(*, \"names\")= chr [1:2] \"numero_bateos\" \"runs\"\n",
            " - attr(*, \"class\")= chr \"lm\"\n"
          ]
        }
      ]
    },
    {
      "cell_type": "markdown",
      "metadata": {
        "id": "R1gQkHufb2vh"
      },
      "source": [
        "<div style=\"background-color:#5DADE2\"><b>Apartado 4</b></div>"
      ]
    },
    {
      "cell_type": "code",
      "execution_count": null,
      "metadata": {
        "scrolled": true,
        "id": "_72GrRR2nnxS",
        "outputId": "9bf9cda6-fa13-4851-f26b-8bc246ee6d18",
        "colab": {
          "base_uri": "https://localhost:8080/",
          "height": 329
        }
      },
      "outputs": [
        {
          "output_type": "display_data",
          "data": {
            "text/plain": [
              "\n",
              "Call:\n",
              "lm(formula = numero_bateos ~ runs, data = beisbol)\n",
              "\n",
              "Residuals:\n",
              "     Min       1Q   Median       3Q      Max \n",
              "-124.616  -42.407    3.573   43.036  126.975 \n",
              "\n",
              "Coefficients:\n",
              "             Estimate Std. Error t value Pr(>|t|)    \n",
              "(Intercept) 5113.3510   101.2081   50.52  < 2e-16 ***\n",
              "runs           0.5913     0.1449    4.08 0.000339 ***\n",
              "---\n",
              "Signif. codes:  0 ‘***’ 0.001 ‘**’ 0.01 ‘*’ 0.05 ‘.’ 0.1 ‘ ’ 1\n",
              "\n",
              "Residual standard error: 64.37 on 28 degrees of freedom\n",
              "Multiple R-squared:  0.3729,\tAdjusted R-squared:  0.3505 \n",
              "F-statistic: 16.65 on 1 and 28 DF,  p-value: 0.0003388\n"
            ]
          },
          "metadata": {}
        }
      ],
      "source": [
        "# Aplicamos la función summary para obtener los principales resultados del modelo de regresión lineal\n",
        "output <- summary(modelox)\n",
        "output"
      ]
    },
    {
      "cell_type": "markdown",
      "metadata": {
        "id": "AqF7XFDznnxT"
      },
      "source": [
        "**<u>Interpretación resultados</u>.-**  \n",
        "\n",
        "El modelo muestra una relación positiva y estadísticamente significativa entre runs y numero_bateos. Aunque el modelo es significativo, no explica toda la variabilidad en numero_bateos, lo que sugiere que otros factores podrían estar también influyendo. El ajuste del modelo es moderado, como se evidencia en el R-cuadrado y el error estándar residual.\n",
        "\n",
        " En resumen, el modelo de regresión lineal simple para la ecuación de  una vez estimados los coeficientes de regresión quedaría del siguiente modo:\n",
        "\n",
        "\\begin{align*}\n",
        "wage_{i}&=5113.3510 + 0.5913 * runs_{i}+\\hat \\epsilon_{i} \\quad i=1,\\dots,n\\\\\n",
        "\\end{align*}"
      ]
    },
    {
      "cell_type": "markdown",
      "metadata": {
        "id": "SAE9VuyInnxe"
      },
      "source": [
        "### 4.4.2 ¿Cómo extraer los coeficientes de regresión estimados?\n",
        "Escogimos realizar la extraccion de forma directa\n",
        "\n",
        "* Extracción **directa** de los coeficientes de regresión $\\hat{\\beta}=(\\hat{\\beta}_{0},\\hat{\\beta}_{1})'$ utilizando el objeto `output`.\n"
      ]
    },
    {
      "cell_type": "code",
      "execution_count": null,
      "metadata": {
        "scrolled": true,
        "id": "ADogE5qGnnxf",
        "outputId": "0d4e7fb8-e8fc-4907-d99f-0f1cebe02547",
        "colab": {
          "base_uri": "https://localhost:8080/",
          "height": 129
        }
      },
      "outputs": [
        {
          "output_type": "display_data",
          "data": {
            "text/html": [
              "<table class=\"dataframe\">\n",
              "<caption>A matrix: 2 × 4 of type dbl</caption>\n",
              "<thead>\n",
              "\t<tr><th></th><th scope=col>Estimate</th><th scope=col>Std. Error</th><th scope=col>t value</th><th scope=col>Pr(&gt;|t|)</th></tr>\n",
              "</thead>\n",
              "<tbody>\n",
              "\t<tr><th scope=row>(Intercept)</th><td>5113.3510228</td><td>101.2080627</td><td>50.523159</td><td>4.708059e-29</td></tr>\n",
              "\t<tr><th scope=row>runs</th><td>   0.5913336</td><td>  0.1449299</td><td> 4.080136</td><td>3.388351e-04</td></tr>\n",
              "</tbody>\n",
              "</table>\n"
            ],
            "text/markdown": "\nA matrix: 2 × 4 of type dbl\n\n| <!--/--> | Estimate | Std. Error | t value | Pr(&gt;|t|) |\n|---|---|---|---|---|\n| (Intercept) | 5113.3510228 | 101.2080627 | 50.523159 | 4.708059e-29 |\n| runs |    0.5913336 |   0.1449299 |  4.080136 | 3.388351e-04 |\n\n",
            "text/latex": "A matrix: 2 × 4 of type dbl\n\\begin{tabular}{r|llll}\n  & Estimate & Std. Error & t value & Pr(>\\textbar{}t\\textbar{})\\\\\n\\hline\n\t(Intercept) & 5113.3510228 & 101.2080627 & 50.523159 & 4.708059e-29\\\\\n\truns &    0.5913336 &   0.1449299 &  4.080136 & 3.388351e-04\\\\\n\\end{tabular}\n",
            "text/plain": [
              "            Estimate     Std. Error  t value   Pr(>|t|)    \n",
              "(Intercept) 5113.3510228 101.2080627 50.523159 4.708059e-29\n",
              "runs           0.5913336   0.1449299  4.080136 3.388351e-04"
            ]
          },
          "metadata": {}
        }
      ],
      "source": [
        "# Extracción directa de los coeficientes de regresión (utilizamos output NO modelo)\n",
        "output$coef"
      ]
    },
    {
      "cell_type": "markdown",
      "metadata": {
        "id": "jg4fg9Ltnnxk"
      },
      "source": [
        "**<u>Interpretación resultados</u>.-** Los coeficientes del modelo de regresión lineal estimado son $\\beta_0 = -5113.3510228$ y $\\beta_1 =0.5913336$. La interpretación de los parámetros $\\beta_0$ y $\\beta_1$ en un modelo de regresión lineal simple donde la variable dependiente es el nivel de salarios y la variable independiente es el nivel de educación es fundamental para comprender la relación entre estas dos variables."
      ]
    },
    {
      "cell_type": "markdown",
      "metadata": {
        "id": "08jGPumGnnxk"
      },
      "source": [
        "### 4.4.3 ¿Cómo extraer los valores ajustados de la variable dependiente?\n",
        "\n",
        "Vamos extraer los valores ajustados de la variable dependiente a través de\n",
        "\n",
        "+ Extracción **directa** de los valores ajustados de nuestra variable dependiente $\\hat{y}$ sobre el `modelo`estimado.\n"
      ]
    },
    {
      "cell_type": "code",
      "execution_count": null,
      "metadata": {
        "scrolled": false,
        "id": "azYqrC0Cnnxk",
        "outputId": "08b24cae-2fbc-4e54-f941-67b306ed02b8",
        "colab": {
          "base_uri": "https://localhost:8080/",
          "height": 34
        }
      },
      "outputs": [
        {
          "output_type": "display_data",
          "data": {
            "text/html": [
              "<style>\n",
              ".dl-inline {width: auto; margin:0; padding: 0}\n",
              ".dl-inline>dt, .dl-inline>dd {float: none; width: auto; display: inline-block}\n",
              ".dl-inline>dt::after {content: \":\\0020\"; padding-right: .5ex}\n",
              ".dl-inline>dt:not(:first-of-type) {padding-left: .5ex}\n",
              "</style><dl class=dl-inline><dt>1</dt><dd>5618.94124123333</dd><dt>2</dt><dd>5630.76791300945</dd><dt>3</dt><dd>5578.7305571945</dd><dt>4</dt><dd>5545.02454263255</dd><dt>5</dt><dd>5563.94721747435</dd><dt>6</dt><dd>5537.92853956687</dd></dl>\n"
            ],
            "text/markdown": "1\n:   5618.941241233332\n:   5630.767913009453\n:   5578.73055719454\n:   5545.024542632555\n:   5563.947217474356\n:   5537.92853956687\n\n",
            "text/latex": "\\begin{description*}\n\\item[1] 5618.94124123333\n\\item[2] 5630.76791300945\n\\item[3] 5578.7305571945\n\\item[4] 5545.02454263255\n\\item[5] 5563.94721747435\n\\item[6] 5537.92853956687\n\\end{description*}\n",
            "text/plain": [
              "       1        2        3        4        5        6 \n",
              "5618.941 5630.768 5578.731 5545.025 5563.947 5537.929 "
            ]
          },
          "metadata": {}
        }
      ],
      "source": [
        "# Extracción directa de los valores ajustados de la variable dependiente\n",
        "head(modelox$fitted.values)"
      ]
    },
    {
      "cell_type": "markdown",
      "metadata": {
        "id": "rKjgQsjhnnxn"
      },
      "source": [
        "**<u>Interpretación resultados</u>.-**  La comparación de estos valores ajustados con los valores observados de bateos permite evaluar la precisión y utilidad del modelo."
      ]
    },
    {
      "cell_type": "markdown",
      "metadata": {
        "id": "11qd2Rusnnxo"
      },
      "source": [
        "### 4.4.4 ¿Cómo extraer los residuos estimados?\n",
        "\n",
        "Vamos a <u>extraer los residuos</u> estimados a través\n",
        "\n",
        "+ Extracción **directa** del valor de los residuos estimados $\\hat{\\epsilon}$ sobre el `modelo`estimado."
      ]
    },
    {
      "cell_type": "code",
      "execution_count": null,
      "metadata": {
        "scrolled": false,
        "id": "QZDoBq__nnxr",
        "outputId": "42bdb2ec-7b72-4368-e5b4-e37d7c90ef9a",
        "colab": {
          "base_uri": "https://localhost:8080/",
          "height": 34
        }
      },
      "outputs": [
        {
          "output_type": "display_data",
          "data": {
            "text/html": [
              "<style>\n",
              ".dl-inline {width: auto; margin:0; padding: 0}\n",
              ".dl-inline>dt, .dl-inline>dd {float: none; width: auto; display: inline-block}\n",
              ".dl-inline>dt::after {content: \":\\0020\"; padding-right: .5ex}\n",
              ".dl-inline>dt:not(:first-of-type) {padding-left: .5ex}\n",
              "</style><dl class=dl-inline><dt>1</dt><dd>40.0587587666729</dd><dt>2</dt><dd>79.23208699055</dd><dt>3</dt><dd>-15.7305571945019</dd><dt>4</dt><dd>126.975457367453</dd><dt>5</dt><dd>-31.9472174743462</dd><dt>6</dt><dd>62.0714604331279</dd></dl>\n"
            ],
            "text/markdown": "1\n:   40.05875876667292\n:   79.232086990553\n:   -15.73055719450194\n:   126.9754573674535\n:   -31.94721747434626\n:   62.0714604331279\n\n",
            "text/latex": "\\begin{description*}\n\\item[1] 40.0587587666729\n\\item[2] 79.23208699055\n\\item[3] -15.7305571945019\n\\item[4] 126.975457367453\n\\item[5] -31.9472174743462\n\\item[6] 62.0714604331279\n\\end{description*}\n",
            "text/plain": [
              "        1         2         3         4         5         6 \n",
              " 40.05876  79.23209 -15.73056 126.97546 -31.94722  62.07146 "
            ]
          },
          "metadata": {}
        }
      ],
      "source": [
        "# Extracción directa del valor de los residuos estimados\n",
        "head(modelox$residuals)"
      ]
    },
    {
      "cell_type": "markdown",
      "metadata": {
        "id": "02l-MLXNnnxw"
      },
      "source": [
        "**<u>Interpretación resultados</u>.-** En este caso, los residuos representan la diferencia entre los valores observados de bateos y los valores predichos por el modelo. los residuos son grandes por lo que puede indicar que el modelo no captura completamente la relación entre bateos y runs, o que hay otras variables influyentes no consideradas en el modelo."
      ]
    },
    {
      "cell_type": "markdown",
      "metadata": {
        "id": "0HSzciuhnnxx"
      },
      "source": [
        "### 4.4.5 ¿Cómo extraer los grados de libertad?\n",
        "\n",
        "Vamos a <u>extraer los grados de libertad</u> estimados a través de\n",
        "\n",
        "+ Extracción **directa** del valor de los grados de libertad utilizando el objeto `output`.\n"
      ]
    },
    {
      "cell_type": "code",
      "execution_count": null,
      "metadata": {
        "id": "RzjkccB9nnxy",
        "outputId": "71b95962-7714-4982-dc07-5f2de74c194b",
        "colab": {
          "base_uri": "https://localhost:8080/",
          "height": 34
        }
      },
      "outputs": [
        {
          "output_type": "display_data",
          "data": {
            "text/html": [
              "28"
            ],
            "text/markdown": "28",
            "text/latex": "28",
            "text/plain": [
              "[1] 28"
            ]
          },
          "metadata": {}
        }
      ],
      "source": [
        "# Extracción directa del valor de los grados de libertad (utilizamos output NO modelo)\n",
        "head(output$df)[2]"
      ]
    },
    {
      "cell_type": "markdown",
      "metadata": {
        "id": "t8AbQXUlnnx0"
      },
      "source": [
        "**<u>Interpretación resultados</u>.-** En un modelo de regresión lineal simple, los grados de libertad se calculan tomando el número total de observaciones y restando el número de parámetros estimados (en este caso, dos parámetros: la intersección y la pendiente). tenemos un grado de libertad de 28 lo que indica que no hay mucha confiabilidad en las conclusiones estadisticas.  "
      ]
    },
    {
      "cell_type": "markdown",
      "metadata": {
        "id": "92CN0kN5nnx0"
      },
      "source": [
        "### 4.4.6 ¿Cómo extraer la suma de cuadrados de los residuos?\n",
        "\n",
        "Vamos a <u>extraer la suma de cuadrados de los residuos</u> estimados a través de\n",
        "\n",
        "+ Extracción **directa** de la suma de cuadrados de los residuos denotado por $SSR$ o $\\hat{\\sigma}$ utilizando el objeto `output`. Este estadístico cuantifica **cuánta información de la variable dependiente se pierde con el modelo empleado** (variables independientes utilizadas). Es útil cuándo lo comparamos con otros modelos.\n"
      ]
    },
    {
      "cell_type": "code",
      "execution_count": null,
      "metadata": {
        "scrolled": false,
        "id": "Q_foW3V3nnx1",
        "outputId": "c2bc9266-c3f3-41d4-9cc3-0fd2aedfeda6",
        "colab": {
          "base_uri": "https://localhost:8080/",
          "height": 34
        }
      },
      "outputs": [
        {
          "output_type": "display_data",
          "data": {
            "text/html": [
              "64.3725526201783"
            ],
            "text/markdown": "64.3725526201783",
            "text/latex": "64.3725526201783",
            "text/plain": [
              "[1] 64.37255"
            ]
          },
          "metadata": {}
        }
      ],
      "source": [
        "# Extracción directa de la suma de cuadrados de los residuos (utilizamos output NO modelo)\n",
        "head(output$sigma)"
      ]
    },
    {
      "cell_type": "markdown",
      "metadata": {
        "id": "juMItESUnnx2"
      },
      "source": [
        "**<u>Interpretación resultados</u>.-** La suma de cuadrados de los residuos (SSR) es una medida estadística que refleja la variabilidad en una variable dependiente, en este caso el numero de runs, que no es explicada por el modelo de regresión lineal simple. En el contexto de este modelo, donde la variable independiente es el numero de bateos, un SSR de $64.3725526201783$ indica la **cantidad total de variabilidad en los runs que no es capturada por el modelo**."
      ]
    },
    {
      "cell_type": "markdown",
      "metadata": {
        "id": "lYh_nH74nnx3"
      },
      "source": [
        "### 4.4.7 ¿Cómo extraer los errores de los parámetros estimados?\n",
        "\n",
        "Vamos a <u>extraer los errores de los parámetros</u> estimados a través de\n",
        "\n",
        "+ Extracción **directa** de los errores de los coeficientes de regresión $\\hat{\\beta}=(\\hat{\\beta}_{0},\\hat{\\beta}_{1})'$ utilizando el objeto `output`.\n",
        "\n"
      ]
    },
    {
      "cell_type": "code",
      "execution_count": null,
      "metadata": {
        "scrolled": true,
        "id": "hJTvXcl2nnx3",
        "outputId": "901529f4-c3e5-43eb-94bc-b7eab1a6465d",
        "colab": {
          "base_uri": "https://localhost:8080/",
          "height": 129
        }
      },
      "outputs": [
        {
          "output_type": "display_data",
          "data": {
            "text/html": [
              "<table class=\"dataframe\">\n",
              "<caption>A matrix: 2 × 4 of type dbl</caption>\n",
              "<thead>\n",
              "\t<tr><th></th><th scope=col>Estimate</th><th scope=col>Std. Error</th><th scope=col>t value</th><th scope=col>Pr(&gt;|t|)</th></tr>\n",
              "</thead>\n",
              "<tbody>\n",
              "\t<tr><th scope=row>(Intercept)</th><td>5113.3510228</td><td>101.2080627</td><td>50.523159</td><td>4.708059e-29</td></tr>\n",
              "\t<tr><th scope=row>runs</th><td>   0.5913336</td><td>  0.1449299</td><td> 4.080136</td><td>3.388351e-04</td></tr>\n",
              "</tbody>\n",
              "</table>\n"
            ],
            "text/markdown": "\nA matrix: 2 × 4 of type dbl\n\n| <!--/--> | Estimate | Std. Error | t value | Pr(&gt;|t|) |\n|---|---|---|---|---|\n| (Intercept) | 5113.3510228 | 101.2080627 | 50.523159 | 4.708059e-29 |\n| runs |    0.5913336 |   0.1449299 |  4.080136 | 3.388351e-04 |\n\n",
            "text/latex": "A matrix: 2 × 4 of type dbl\n\\begin{tabular}{r|llll}\n  & Estimate & Std. Error & t value & Pr(>\\textbar{}t\\textbar{})\\\\\n\\hline\n\t(Intercept) & 5113.3510228 & 101.2080627 & 50.523159 & 4.708059e-29\\\\\n\truns &    0.5913336 &   0.1449299 &  4.080136 & 3.388351e-04\\\\\n\\end{tabular}\n",
            "text/plain": [
              "            Estimate     Std. Error  t value   Pr(>|t|)    \n",
              "(Intercept) 5113.3510228 101.2080627 50.523159 4.708059e-29\n",
              "runs           0.5913336   0.1449299  4.080136 3.388351e-04"
            ]
          },
          "metadata": {}
        }
      ],
      "source": [
        "# Extracción directa de los errores de los coeficientes de regresión (utilizamos output NO modelo)\n",
        "output$coef"
      ]
    },
    {
      "cell_type": "markdown",
      "metadata": {
        "id": "_fSCjtqXnnx_"
      },
      "source": [
        "**<u>Interpretación resultados</u>.-** La interpretación de los errores estándar de los coeficientes en un modelo de regresión lineal simple es crucial para **entender la precisión de las estimaciones de los coeficientes**. En este caso, donde la variable dependiente es el numero de bateos y la variable independiente es los runs, un error estándar de $101.2080627$ para $\\beta_0$ (la intersección) y de $101.2080627$ para $\\beta_1$(la pendiente) proporciona información sobre la confiabilidad de esos estimadores. El error estándar de $\\beta_0$ indica que hay una variabilidad significativa en la estimación delnumero de bateos, independiente de los runs. Un valor más alto del error estándar sugiere una menor precisión en la estimación de este coeficiente."
      ]
    },
    {
      "cell_type": "markdown",
      "metadata": {
        "id": "7QeztBmhnnyA"
      },
      "source": [
        "### 4.4.8 ¿Cómo extraer los coeficientes de determinación?\n",
        "\n",
        "Vamos a <u>extraer los coeficientes de determinación</u> estimados a través de\n",
        "\n",
        "+ Extracción **directa** del valor de los coeficientes de determinación utilizando el objeto `output`.\n"
      ]
    },
    {
      "cell_type": "code",
      "execution_count": null,
      "metadata": {
        "id": "8zL4cQsLnnyL",
        "outputId": "3b93cbfe-3cc8-4ae8-c679-39e4dfa96bcd",
        "colab": {
          "base_uri": "https://localhost:8080/",
          "height": 34
        }
      },
      "outputs": [
        {
          "output_type": "display_data",
          "data": {
            "text/html": [
              "0.372865390186806"
            ],
            "text/markdown": "0.372865390186806",
            "text/latex": "0.372865390186806",
            "text/plain": [
              "[1] 0.3728654"
            ]
          },
          "metadata": {}
        }
      ],
      "source": [
        "# Extracción directa del valor de los coeficientes de determinación\n",
        "# Obtenemos R2 (utilizamos output NO modelo)\n",
        "R2=output$r.squared\n",
        "R2"
      ]
    },
    {
      "cell_type": "markdown",
      "metadata": {
        "id": "BTqtEGlmnnyN"
      },
      "source": [
        "**<u>Interpretación resultados</u>.-** El coeficiente de determinación $R^2$, es una medida fundamental en la interpretación de un modelo de regresión lineal simple.  un $R^2$ igual a $0.372865390186806$ significa que aproximadamente el 37.28%."
      ]
    },
    {
      "cell_type": "markdown",
      "metadata": {
        "id": "2j4ftSLwnnyR"
      },
      "source": [
        "### 4.4.9 ¿Cómo extraer los intervalos de confianza para los coeficientes de regresión?\n",
        "\n",
        "Vamos a <u>extraer los intervalos de confianza</u> para los coeficiente estimados a través de :\n",
        "\n",
        "\n",
        "+ Extracción de los intervalos de confianza para los coeficientes de regresión con la **función** $\\tt confint$ sobre el `modelo` estimado. El parámetro `level` permite elegir el nivel de confianza (por defecto es 0.95). Es decir, el nivel de significación $\\alpha$ es igual al $5\\%$."
      ]
    },
    {
      "cell_type": "code",
      "execution_count": null,
      "metadata": {
        "id": "gh1UIGr3nnyT",
        "outputId": "34819691-d905-4116-ee89-c89daf7d12d9",
        "colab": {
          "base_uri": "https://localhost:8080/",
          "height": 129
        }
      },
      "outputs": [
        {
          "output_type": "display_data",
          "data": {
            "text/html": [
              "<table class=\"dataframe\">\n",
              "<caption>A matrix: 2 × 2 of type dbl</caption>\n",
              "<thead>\n",
              "\t<tr><th></th><th scope=col>2.5 %</th><th scope=col>97.5 %</th></tr>\n",
              "</thead>\n",
              "<tbody>\n",
              "\t<tr><th scope=row>(Intercept)</th><td>4906.0357044</td><td>5320.666341</td></tr>\n",
              "\t<tr><th scope=row>runs</th><td>   0.2944582</td><td>   0.888209</td></tr>\n",
              "</tbody>\n",
              "</table>\n"
            ],
            "text/markdown": "\nA matrix: 2 × 2 of type dbl\n\n| <!--/--> | 2.5 % | 97.5 % |\n|---|---|---|\n| (Intercept) | 4906.0357044 | 5320.666341 |\n| runs |    0.2944582 |    0.888209 |\n\n",
            "text/latex": "A matrix: 2 × 2 of type dbl\n\\begin{tabular}{r|ll}\n  & 2.5 \\% & 97.5 \\%\\\\\n\\hline\n\t(Intercept) & 4906.0357044 & 5320.666341\\\\\n\truns &    0.2944582 &    0.888209\\\\\n\\end{tabular}\n",
            "text/plain": [
              "            2.5 %        97.5 %     \n",
              "(Intercept) 4906.0357044 5320.666341\n",
              "runs           0.2944582    0.888209"
            ]
          },
          "metadata": {}
        }
      ],
      "source": [
        "# Extracción de los intervalos de confianza para los coeficientes de regresión con la **función** `confint`\n",
        "# Ejemplo para un nivel de confianza del 95%\n",
        "ci.bhat <- confint(modelox)\n",
        "ci.bhat"
      ]
    },
    {
      "cell_type": "code",
      "execution_count": null,
      "metadata": {
        "scrolled": true,
        "id": "M-3ibw_CnnyU",
        "outputId": "fad48fb1-f7e1-432c-8a79-b81dad8b7b7b",
        "colab": {
          "base_uri": "https://localhost:8080/",
          "height": 129
        }
      },
      "outputs": [
        {
          "output_type": "display_data",
          "data": {
            "text/html": [
              "<table class=\"dataframe\">\n",
              "<caption>A matrix: 2 × 2 of type dbl</caption>\n",
              "<thead>\n",
              "\t<tr><th></th><th scope=col>5 %</th><th scope=col>95 %</th></tr>\n",
              "</thead>\n",
              "<tbody>\n",
              "\t<tr><th scope=row>(Intercept)</th><td>4941.1828566</td><td>5285.5191891</td></tr>\n",
              "\t<tr><th scope=row>runs</th><td>   0.3447889</td><td>   0.8378783</td></tr>\n",
              "</tbody>\n",
              "</table>\n"
            ],
            "text/markdown": "\nA matrix: 2 × 2 of type dbl\n\n| <!--/--> | 5 % | 95 % |\n|---|---|---|\n| (Intercept) | 4941.1828566 | 5285.5191891 |\n| runs |    0.3447889 |    0.8378783 |\n\n",
            "text/latex": "A matrix: 2 × 2 of type dbl\n\\begin{tabular}{r|ll}\n  & 5 \\% & 95 \\%\\\\\n\\hline\n\t(Intercept) & 4941.1828566 & 5285.5191891\\\\\n\truns &    0.3447889 &    0.8378783\\\\\n\\end{tabular}\n",
            "text/plain": [
              "            5 %          95 %        \n",
              "(Intercept) 4941.1828566 5285.5191891\n",
              "runs           0.3447889    0.8378783"
            ]
          },
          "metadata": {}
        }
      ],
      "source": [
        "# Ejemplo para un nivel de confianza del 90%\n",
        "ci.bhat2 <- confint(modelox, level = 0.9)\n",
        "ci.bhat2"
      ]
    },
    {
      "cell_type": "markdown",
      "metadata": {
        "id": "3I_kZC58nnyV"
      },
      "source": [
        "**<u>Interpretación resultados</u>.-** existe una compensación entre el nivel de confianza y la precisión de la estimación: a mayor nivel de confianza, menor precisión, y viceversa. El rango de los intervalos de confianza se puede ver como un indicador de la precisión con la que estamos estimando los coeficientes: un rango estrecho sugiere una alta precisión, mientras que un rango amplio indica una menor precisión en nuestras estimaciones."
      ]
    },
    {
      "cell_type": "markdown",
      "metadata": {
        "id": "uR3zDv2RnnyW"
      },
      "source": [
        "### 4.4.10 ¿Cómo extraer el estadístico F y su p-valor?\n",
        "\n",
        "+ Extracción del estadístico F y su p-valor con la **función** $\\tt anova$ sobre el `modelo` estimado."
      ]
    },
    {
      "cell_type": "code",
      "execution_count": null,
      "metadata": {
        "scrolled": true,
        "id": "6SXUuL76nnyX",
        "outputId": "1dcbe1a9-e437-4e1a-c3e3-f277923bee00",
        "colab": {
          "base_uri": "https://localhost:8080/",
          "height": 161
        }
      },
      "outputs": [
        {
          "output_type": "display_data",
          "data": {
            "text/html": [
              "<table class=\"dataframe\">\n",
              "<caption>A anova: 2 × 5</caption>\n",
              "<thead>\n",
              "\t<tr><th></th><th scope=col>Df</th><th scope=col>Sum Sq</th><th scope=col>Mean Sq</th><th scope=col>F value</th><th scope=col>Pr(&gt;F)</th></tr>\n",
              "\t<tr><th></th><th scope=col>&lt;int&gt;</th><th scope=col>&lt;dbl&gt;</th><th scope=col>&lt;dbl&gt;</th><th scope=col>&lt;dbl&gt;</th><th scope=col>&lt;dbl&gt;</th></tr>\n",
              "</thead>\n",
              "<tbody>\n",
              "\t<tr><th scope=row>runs</th><td> 1</td><td> 68984.39</td><td>68984.385</td><td>16.64751</td><td>0.0003388351</td></tr>\n",
              "\t<tr><th scope=row>Residuals</th><td>28</td><td>116027.11</td><td> 4143.826</td><td>      NA</td><td>          NA</td></tr>\n",
              "</tbody>\n",
              "</table>\n"
            ],
            "text/markdown": "\nA anova: 2 × 5\n\n| <!--/--> | Df &lt;int&gt; | Sum Sq &lt;dbl&gt; | Mean Sq &lt;dbl&gt; | F value &lt;dbl&gt; | Pr(&gt;F) &lt;dbl&gt; |\n|---|---|---|---|---|---|\n| runs |  1 |  68984.39 | 68984.385 | 16.64751 | 0.0003388351 |\n| Residuals | 28 | 116027.11 |  4143.826 |       NA |           NA |\n\n",
            "text/latex": "A anova: 2 × 5\n\\begin{tabular}{r|lllll}\n  & Df & Sum Sq & Mean Sq & F value & Pr(>F)\\\\\n  & <int> & <dbl> & <dbl> & <dbl> & <dbl>\\\\\n\\hline\n\truns &  1 &  68984.39 & 68984.385 & 16.64751 & 0.0003388351\\\\\n\tResiduals & 28 & 116027.11 &  4143.826 &       NA &           NA\\\\\n\\end{tabular}\n",
            "text/plain": [
              "          Df Sum Sq    Mean Sq   F value  Pr(>F)      \n",
              "runs       1  68984.39 68984.385 16.64751 0.0003388351\n",
              "Residuals 28 116027.11  4143.826       NA           NA"
            ]
          },
          "metadata": {}
        }
      ],
      "source": [
        "# Obtenemos el estadístico F y su p-valor con la función 'anova'\n",
        "anova.ols = anova(modelox)\n",
        "anova.ols"
      ]
    },
    {
      "cell_type": "code",
      "execution_count": null,
      "metadata": {
        "scrolled": true,
        "id": "XvN-z2HXnnyY",
        "outputId": "695f6afe-97a2-471a-ae01-76a59de82ca3",
        "colab": {
          "base_uri": "https://localhost:8080/",
          "height": 329
        }
      },
      "outputs": [
        {
          "output_type": "display_data",
          "data": {
            "text/plain": [
              "\n",
              "Call:\n",
              "lm(formula = numero_bateos ~ runs, data = beisbol)\n",
              "\n",
              "Residuals:\n",
              "     Min       1Q   Median       3Q      Max \n",
              "-124.616  -42.407    3.573   43.036  126.975 \n",
              "\n",
              "Coefficients:\n",
              "             Estimate Std. Error t value Pr(>|t|)    \n",
              "(Intercept) 5113.3510   101.2081   50.52  < 2e-16 ***\n",
              "runs           0.5913     0.1449    4.08 0.000339 ***\n",
              "---\n",
              "Signif. codes:  0 ‘***’ 0.001 ‘**’ 0.01 ‘*’ 0.05 ‘.’ 0.1 ‘ ’ 1\n",
              "\n",
              "Residual standard error: 64.37 on 28 degrees of freedom\n",
              "Multiple R-squared:  0.3729,\tAdjusted R-squared:  0.3505 \n",
              "F-statistic: 16.65 on 1 and 28 DF,  p-value: 0.0003388\n"
            ]
          },
          "metadata": {}
        }
      ],
      "source": [
        "# Comprobamos que el valor del estadístico F y su p-valor coinciden con los que aparecen en el summary del modelo\n",
        "summary(modelox)"
      ]
    },
    {
      "cell_type": "markdown",
      "metadata": {
        "id": "GvMQpVMZnnyZ"
      },
      "source": [
        "**<u>Interpretación resultados</u>.-** En este caso, la función `anova` la utilizamos para contrastar la **significatividad global** del conjunto de parámetros $\\beta^{'s}$ siendo la hipótesis nula $H_0:\\beta_0=\\beta_1=0$. En este caso, rechazamos la hipótesis nula ya que el p-valor es menor que el nivel de significación fijado por defecto ($5\\%$)."
      ]
    },
    {
      "cell_type": "markdown",
      "metadata": {
        "id": "kzb8iZWO6u-F"
      },
      "source": [
        "### 02 Ejercicio [1.5 puntos]\n",
        "\n",
        "El archivo de datos `USA.txt` contiene datos demográficos, sociales y económicos de los 50 estados de los Estados Unidos más el distrito de Columbia el año que Barack Obama ganó sus segundas elecciones presidenciales. Estos datos han sido recopilados de diversas fuentes como el United States Census Bureau, el Pew Research Center y el Bureau of Labor Statistics. Explicar variable `obama` que representa el porcentaje de votos a Obama en esas elecciones para cada estado en función de la variable `grad_univ` que representa el porcentaje de graduados universitarios de cada estado, la variable `afro` que representa el porcentaje de afroamericanos de cada estado, la variable `hispanos` que representa el porcentaje de hispanohablantes de cada estado y la variable `blancos` que representa el porcentaje de personas para cada estado cuya tonalidad de piel es clara. Realizar los siguientes apartados:\n",
        "\n",
        "1. Cargar el dataset en R y transformarlo en un dataframe\n",
        "2. Exploración inicial de la base de datos\n",
        "3. Análisis de la existencia de relación lineal entre las variables seleccionadas\n",
        "4. Estimación de un modelo de regresión lineal múltiple entre las variables seleccionadas\n",
        "5. Interpretación de las salidas de estimación del modelo de regresión lineal múltiple obtenido"
      ]
    },
    {
      "cell_type": "markdown",
      "metadata": {
        "id": "CtJdie3k6u-G"
      },
      "source": [
        "<div style=\"background-color:#F7DC6F\"><b>Resolución Ejercicio 02</b></div>"
      ]
    },
    {
      "cell_type": "markdown",
      "metadata": {
        "id": "gq90Samf6u-G"
      },
      "source": [
        "<div style=\"background-color:#5DADE2\"><b>Apartado 1</b></div>"
      ]
    },
    {
      "cell_type": "code",
      "execution_count": null,
      "metadata": {
        "id": "sgc3pdRB6u-H"
      },
      "outputs": [],
      "source": [
        "# Cargamos el archivo usando read.table. Ponemos la ruta, si tiene o no encabezados y el tipo de delimitación.\n",
        "USA = read.table(\"USA.txt\", header = TRUE, sep = \" \")"
      ]
    },
    {
      "cell_type": "markdown",
      "metadata": {
        "id": "6zJBmmhE6u-H"
      },
      "source": [
        "<div style=\"background-color:#5DADE2\"><b>Apartado 2</b></div>"
      ]
    },
    {
      "cell_type": "code",
      "execution_count": null,
      "metadata": {
        "id": "xvWNxDNy6u-H",
        "outputId": "5f5fa838-5488-4c73-8c39-61451e917717"
      },
      "outputs": [
        {
          "name": "stdout",
          "output_type": "stream",
          "text": [
            "'data.frame':\t51 obs. of  21 variables:\n",
            " $ estado        : Factor w/ 51 levels \"Alabama\",\"Alaska\",..: 1 2 3 4 5 6 7 8 9 10 ...\n",
            " $ region        : int  3 4 4 3 4 4 1 3 3 3 ...\n",
            " $ densidad      : num  94.4 1.2 56.3 56 239.1 ...\n",
            " $ veteranos     : num  8.1 10.1 8.2 7.9 5 8.1 6 8.5 5.2 8.3 ...\n",
            " $ mujeres       : num  51.5 48 50.3 50.9 50.3 49.9 51.3 51.6 52.8 51.1 ...\n",
            " $ grad_instituto: num  82.6 91.6 85.4 83.3 81 89.9 89 87.7 87.5 85.8 ...\n",
            " $ grad_univ     : num  22.3 27.5 26.6 19.8 30.5 36.7 36.2 28.5 51.2 26.2 ...\n",
            " $ afro          : num  26.2 3.3 4.1 15.4 6.2 4 10.1 21.4 50.7 16 ...\n",
            " $ asia          : num  1.1 5.4 2.8 1.2 13 2.8 3.8 3.2 3.5 2.4 ...\n",
            " $ hispanos      : num  3.9 5.5 29.6 6.4 37.6 20.7 13.4 8.2 9.1 22.5 ...\n",
            " $ blancos       : num  67 64.1 57.8 74.5 40.1 70 71.2 65.3 34.8 57.9 ...\n",
            " $ evangelicos   : int  49 26 23 53 18 23 9 15 15 25 ...\n",
            " $ protestantes  : int  1 19 15 16 14 19 13 18 20 15 ...\n",
            " $ relig_afro    : int  18 2 2 10 4 2 4 14 18 8 ...\n",
            " $ catolicos     : int  6 14 25 5 31 19 43 27 18 26 ...\n",
            " $ mormones      : int  1 4 4 0 2 2 1 0 0 0 ...\n",
            " $ jubilados     : num  13.8 7.7 13.8 14.4 11.4 10.9 14.2 14.4 11.4 17.3 ...\n",
            " $ paro          : num  8 7.6 8.4 7.6 10.4 7.8 8.3 7.2 9 8.5 ...\n",
            " $ salario       : int  43464 63648 47044 39018 57020 57255 64247 48972 65246 46071 ...\n",
            " $ obama         : num  38.4 40.8 44.6 36.9 60.2 ...\n",
            " $ diputados     : int  9 3 11 6 55 9 7 3 3 29 ...\n"
          ]
        }
      ],
      "source": [
        "#Revisamos la estructura de los datos\n",
        "str(USA)"
      ]
    },
    {
      "cell_type": "code",
      "execution_count": null,
      "metadata": {
        "id": "nIk8rr116u-J",
        "outputId": "86671fc7-0f58-4d10-93a5-7cda407f0558"
      },
      "outputs": [
        {
          "data": {
            "text/html": [
              "'data.frame'"
            ],
            "text/latex": [
              "'data.frame'"
            ],
            "text/markdown": [
              "'data.frame'"
            ],
            "text/plain": [
              "[1] \"data.frame\""
            ]
          },
          "metadata": {},
          "output_type": "display_data"
        }
      ],
      "source": [
        "#Revisamos la clase de base de datos USA\n",
        "class(USA)"
      ]
    },
    {
      "cell_type": "code",
      "execution_count": null,
      "metadata": {
        "id": "vj5Ya4oN6u-J",
        "outputId": "68f9dc82-673d-4715-d882-dbda34d4206f"
      },
      "outputs": [
        {
          "data": {
            "text/html": [
              "<ol class=list-inline>\n",
              "\t<li>51</li>\n",
              "\t<li>21</li>\n",
              "</ol>\n"
            ],
            "text/latex": [
              "\\begin{enumerate*}\n",
              "\\item 51\n",
              "\\item 21\n",
              "\\end{enumerate*}\n"
            ],
            "text/markdown": [
              "1. 51\n",
              "2. 21\n",
              "\n",
              "\n"
            ],
            "text/plain": [
              "[1] 51 21"
            ]
          },
          "metadata": {},
          "output_type": "display_data"
        }
      ],
      "source": [
        "#Revisamos las dimenciones de las bases de datos\n",
        "dim(USA)"
      ]
    },
    {
      "cell_type": "code",
      "execution_count": null,
      "metadata": {
        "id": "jatYoPi96u-K",
        "outputId": "c732bdeb-5f68-4140-be33-8ade26a773b2"
      },
      "outputs": [
        {
          "data": {
            "text/html": [
              "<ol class=list-inline>\n",
              "\t<li>'estado'</li>\n",
              "\t<li>'region'</li>\n",
              "\t<li>'densidad'</li>\n",
              "\t<li>'veteranos'</li>\n",
              "\t<li>'mujeres'</li>\n",
              "\t<li>'grad_instituto'</li>\n",
              "\t<li>'grad_univ'</li>\n",
              "\t<li>'afro'</li>\n",
              "\t<li>'asia'</li>\n",
              "\t<li>'hispanos'</li>\n",
              "\t<li>'blancos'</li>\n",
              "\t<li>'evangelicos'</li>\n",
              "\t<li>'protestantes'</li>\n",
              "\t<li>'relig_afro'</li>\n",
              "\t<li>'catolicos'</li>\n",
              "\t<li>'mormones'</li>\n",
              "\t<li>'jubilados'</li>\n",
              "\t<li>'paro'</li>\n",
              "\t<li>'salario'</li>\n",
              "\t<li>'obama'</li>\n",
              "\t<li>'diputados'</li>\n",
              "</ol>\n"
            ],
            "text/latex": [
              "\\begin{enumerate*}\n",
              "\\item 'estado'\n",
              "\\item 'region'\n",
              "\\item 'densidad'\n",
              "\\item 'veteranos'\n",
              "\\item 'mujeres'\n",
              "\\item 'grad\\_instituto'\n",
              "\\item 'grad\\_univ'\n",
              "\\item 'afro'\n",
              "\\item 'asia'\n",
              "\\item 'hispanos'\n",
              "\\item 'blancos'\n",
              "\\item 'evangelicos'\n",
              "\\item 'protestantes'\n",
              "\\item 'relig\\_afro'\n",
              "\\item 'catolicos'\n",
              "\\item 'mormones'\n",
              "\\item 'jubilados'\n",
              "\\item 'paro'\n",
              "\\item 'salario'\n",
              "\\item 'obama'\n",
              "\\item 'diputados'\n",
              "\\end{enumerate*}\n"
            ],
            "text/markdown": [
              "1. 'estado'\n",
              "2. 'region'\n",
              "3. 'densidad'\n",
              "4. 'veteranos'\n",
              "5. 'mujeres'\n",
              "6. 'grad_instituto'\n",
              "7. 'grad_univ'\n",
              "8. 'afro'\n",
              "9. 'asia'\n",
              "10. 'hispanos'\n",
              "11. 'blancos'\n",
              "12. 'evangelicos'\n",
              "13. 'protestantes'\n",
              "14. 'relig_afro'\n",
              "15. 'catolicos'\n",
              "16. 'mormones'\n",
              "17. 'jubilados'\n",
              "18. 'paro'\n",
              "19. 'salario'\n",
              "20. 'obama'\n",
              "21. 'diputados'\n",
              "\n",
              "\n"
            ],
            "text/plain": [
              " [1] \"estado\"         \"region\"         \"densidad\"       \"veteranos\"     \n",
              " [5] \"mujeres\"        \"grad_instituto\" \"grad_univ\"      \"afro\"          \n",
              " [9] \"asia\"           \"hispanos\"       \"blancos\"        \"evangelicos\"   \n",
              "[13] \"protestantes\"   \"relig_afro\"     \"catolicos\"      \"mormones\"      \n",
              "[17] \"jubilados\"      \"paro\"           \"salario\"        \"obama\"         \n",
              "[21] \"diputados\"     "
            ]
          },
          "metadata": {},
          "output_type": "display_data"
        }
      ],
      "source": [
        "#Revisamos las variables de la base de datos\n",
        "names(USA)"
      ]
    },
    {
      "cell_type": "code",
      "execution_count": null,
      "metadata": {
        "id": "E2ZW-JRx6u-K",
        "outputId": "a1ccfda6-9dd8-4fb0-80bb-c99bdcb39a07"
      },
      "outputs": [
        {
          "data": {
            "text/html": [
              "<table>\n",
              "<thead><tr><th scope=col>obama</th><th scope=col>grad_univ</th><th scope=col>hispanos</th><th scope=col>blancos</th></tr></thead>\n",
              "<tbody>\n",
              "\t<tr><td>38.36</td><td>22.3 </td><td> 3.9 </td><td>67.0 </td></tr>\n",
              "\t<tr><td>40.81</td><td>27.5 </td><td> 5.5 </td><td>64.1 </td></tr>\n",
              "\t<tr><td>44.59</td><td>26.6 </td><td>29.6 </td><td>57.8 </td></tr>\n",
              "\t<tr><td>36.88</td><td>19.8 </td><td> 6.4 </td><td>74.5 </td></tr>\n",
              "\t<tr><td>60.24</td><td>30.5 </td><td>37.6 </td><td>40.1 </td></tr>\n",
              "\t<tr><td>51.49</td><td>36.7 </td><td>20.7 </td><td>70.0 </td></tr>\n",
              "</tbody>\n",
              "</table>\n"
            ],
            "text/latex": [
              "\\begin{tabular}{r|llll}\n",
              " obama & grad\\_univ & hispanos & blancos\\\\\n",
              "\\hline\n",
              "\t 38.36 & 22.3  &  3.9  & 67.0 \\\\\n",
              "\t 40.81 & 27.5  &  5.5  & 64.1 \\\\\n",
              "\t 44.59 & 26.6  & 29.6  & 57.8 \\\\\n",
              "\t 36.88 & 19.8  &  6.4  & 74.5 \\\\\n",
              "\t 60.24 & 30.5  & 37.6  & 40.1 \\\\\n",
              "\t 51.49 & 36.7  & 20.7  & 70.0 \\\\\n",
              "\\end{tabular}\n"
            ],
            "text/markdown": [
              "\n",
              "| obama | grad_univ | hispanos | blancos |\n",
              "|---|---|---|---|\n",
              "| 38.36 | 22.3  |  3.9  | 67.0  |\n",
              "| 40.81 | 27.5  |  5.5  | 64.1  |\n",
              "| 44.59 | 26.6  | 29.6  | 57.8  |\n",
              "| 36.88 | 19.8  |  6.4  | 74.5  |\n",
              "| 60.24 | 30.5  | 37.6  | 40.1  |\n",
              "| 51.49 | 36.7  | 20.7  | 70.0  |\n",
              "\n"
            ],
            "text/plain": [
              "  obama grad_univ hispanos blancos\n",
              "1 38.36 22.3       3.9     67.0   \n",
              "2 40.81 27.5       5.5     64.1   \n",
              "3 44.59 26.6      29.6     57.8   \n",
              "4 36.88 19.8       6.4     74.5   \n",
              "5 60.24 30.5      37.6     40.1   \n",
              "6 51.49 36.7      20.7     70.0   "
            ]
          },
          "metadata": {},
          "output_type": "display_data"
        }
      ],
      "source": [
        "# Seleccionamos las variables que nos interesan\n",
        "USAdata=USA[, c(\"obama\", \"grad_univ\", \"hispanos\", \"blancos\")]\n",
        "head(USAdata)\n"
      ]
    },
    {
      "cell_type": "code",
      "execution_count": null,
      "metadata": {
        "id": "hAg0_5nj6u-L",
        "outputId": "c8d4d161-106a-424d-bbe2-a9d075950a17"
      },
      "outputs": [
        {
          "data": {
            "text/plain": [
              "     obama         grad_univ        hispanos        blancos    \n",
              " Min.   :24.75   Min.   :17.90   Min.   : 1.00   Min.   :22.7  \n",
              " 1st Qu.:40.23   1st Qu.:24.70   1st Qu.: 3.05   1st Qu.:59.8  \n",
              " Median :50.67   Median :27.10   Median : 8.20   Median :74.5  \n",
              " Mean   :49.03   Mean   :28.23   Mean   :10.21   Mean   :70.7  \n",
              " 3rd Qu.:56.22   3rd Qu.:30.95   3rd Qu.:12.05   3rd Qu.:82.6  \n",
              " Max.   :90.91   Max.   :51.20   Max.   :46.30   Max.   :94.4  "
            ]
          },
          "metadata": {},
          "output_type": "display_data"
        }
      ],
      "source": [
        "# Realizamos el análisis exploratorio de las variables utilizadas\n",
        "summary(USAdata)"
      ]
    },
    {
      "cell_type": "code",
      "execution_count": null,
      "metadata": {
        "id": "hIWxFDW_6u-L"
      },
      "outputs": [],
      "source": [
        "\n"
      ]
    },
    {
      "cell_type": "markdown",
      "metadata": {
        "id": "hAjkMcRq6u-L"
      },
      "source": [
        "<div style=\"background-color:#5DADE2\"><b>Apartado 3</b></div>"
      ]
    },
    {
      "cell_type": "code",
      "execution_count": null,
      "metadata": {
        "id": "sjkxDylk6u-M",
        "outputId": "b39a454d-5623-4a5d-965b-dbab34155051"
      },
      "outputs": [
        {
          "data": {
            "image/png": "[encoded data removed]",
            "text/plain": [
              "plot without title"
            ]
          },
          "metadata": {},
          "output_type": "display_data"
        }
      ],
      "source": [
        "pairs(USAdata,\n",
        "      main = \"Gráficos de Dispersión entre Variables\",\n",
        "      pch = 21, bg = c(\"red\", \"green\", \"blue\", \"yellow\", \"black\"))\n"
      ]
    },
    {
      "cell_type": "code",
      "execution_count": null,
      "metadata": {
        "id": "ZduJy2806u-M",
        "outputId": "1334d287-7551-4606-ca39-61ed61cd0f11"
      },
      "outputs": [
        {
          "data": {
            "text/html": [
              "<table>\n",
              "<thead><tr><th></th><th scope=col>obama</th><th scope=col>grad_univ</th><th scope=col>hispanos</th><th scope=col>blancos</th></tr></thead>\n",
              "<tbody>\n",
              "\t<tr><th scope=row>obama</th><td> 1.0000000</td><td> 0.7154854</td><td> 0.1601314</td><td>-0.4292205</td></tr>\n",
              "\t<tr><th scope=row>grad_univ</th><td> 0.7154854</td><td> 1.0000000</td><td> 0.1282210</td><td>-0.2450445</td></tr>\n",
              "\t<tr><th scope=row>hispanos</th><td> 0.1601314</td><td> 0.1282210</td><td> 1.0000000</td><td>-0.6126307</td></tr>\n",
              "\t<tr><th scope=row>blancos</th><td>-0.4292205</td><td>-0.2450445</td><td>-0.6126307</td><td> 1.0000000</td></tr>\n",
              "</tbody>\n",
              "</table>\n"
            ],
            "text/latex": [
              "\\begin{tabular}{r|llll}\n",
              "  & obama & grad\\_univ & hispanos & blancos\\\\\n",
              "\\hline\n",
              "\tobama &  1.0000000 &  0.7154854 &  0.1601314 & -0.4292205\\\\\n",
              "\tgrad\\_univ &  0.7154854 &  1.0000000 &  0.1282210 & -0.2450445\\\\\n",
              "\thispanos &  0.1601314 &  0.1282210 &  1.0000000 & -0.6126307\\\\\n",
              "\tblancos & -0.4292205 & -0.2450445 & -0.6126307 &  1.0000000\\\\\n",
              "\\end{tabular}\n"
            ],
            "text/markdown": [
              "\n",
              "| <!--/--> | obama | grad_univ | hispanos | blancos |\n",
              "|---|---|---|---|---|\n",
              "| obama |  1.0000000 |  0.7154854 |  0.1601314 | -0.4292205 |\n",
              "| grad_univ |  0.7154854 |  1.0000000 |  0.1282210 | -0.2450445 |\n",
              "| hispanos |  0.1601314 |  0.1282210 |  1.0000000 | -0.6126307 |\n",
              "| blancos | -0.4292205 | -0.2450445 | -0.6126307 |  1.0000000 |\n",
              "\n"
            ],
            "text/plain": [
              "          obama      grad_univ  hispanos   blancos   \n",
              "obama      1.0000000  0.7154854  0.1601314 -0.4292205\n",
              "grad_univ  0.7154854  1.0000000  0.1282210 -0.2450445\n",
              "hispanos   0.1601314  0.1282210  1.0000000 -0.6126307\n",
              "blancos   -0.4292205 -0.2450445 -0.6126307  1.0000000"
            ]
          },
          "metadata": {},
          "output_type": "display_data"
        }
      ],
      "source": [
        "matriz_correlacion = cor(USAdata, method = \"pearson\")\n",
        "matriz_correlacion"
      ]
    },
    {
      "cell_type": "markdown",
      "metadata": {
        "id": "tlv9oaRu6u-N"
      },
      "source": [
        "observamos que existe una relación lineal positiva entre el porcentaje de graduados universitarios y el porcentaje de votos para Obama. y una relación negativa entre obama y personas blancas, lo cual sugiere que en estados con un mayor porcentaje de población blanca, tiende a haber un menor porcentaje de votos para Obama."
      ]
    },
    {
      "cell_type": "code",
      "execution_count": null,
      "metadata": {
        "id": "DwSR-WIB6u-N",
        "outputId": "8b152507-e214-4d60-a380-906caf5947de"
      },
      "outputs": [
        {
          "data": {
            "text/plain": [
              "\n",
              "\tPearson's product-moment correlation\n",
              "\n",
              "data:  USAdata$obama and USAdata$grad_univ\n",
              "t = 7.1689, df = 49, p-value = 3.633e-09\n",
              "alternative hypothesis: true correlation is not equal to 0\n",
              "95 percent confidence interval:\n",
              " 0.547943 0.827839\n",
              "sample estimates:\n",
              "      cor \n",
              "0.7154854 \n"
            ]
          },
          "metadata": {},
          "output_type": "display_data"
        }
      ],
      "source": [
        "# Evidencia contrastada entre obama y graduados\n",
        "cor.test(USAdata$obama,USAdata$grad_univ)"
      ]
    },
    {
      "cell_type": "markdown",
      "metadata": {
        "id": "yR6DLDH66u-N"
      },
      "source": [
        "con un cor de 0.71 se conprueba una fuerte relacion positiva entre estas dos variables, lo cual sugiere que a más cantidad de graduados universitarios más son los votos para obama. el p- value bajo indica que se rechaza la hipotesis nula de no existir correlación.\n"
      ]
    },
    {
      "cell_type": "code",
      "execution_count": null,
      "metadata": {
        "id": "UYOtUnZs6u-O",
        "outputId": "73f2ecbb-ff0f-4c8d-b42d-2aa68e955ebd"
      },
      "outputs": [
        {
          "data": {
            "text/plain": [
              "\n",
              "\tPearson's product-moment correlation\n",
              "\n",
              "data:  USAdata$obama and USAdata$hispanos\n",
              "t = 1.1356, df = 49, p-value = 0.2617\n",
              "alternative hypothesis: true correlation is not equal to 0\n",
              "95 percent confidence interval:\n",
              " -0.1207824  0.4172998\n",
              "sample estimates:\n",
              "      cor \n",
              "0.1601314 \n"
            ]
          },
          "metadata": {},
          "output_type": "display_data"
        }
      ],
      "source": [
        "# Evidencia contrastada entre obama y hispanos\n",
        "cor.test(USAdata$obama,USAdata$hispanos)"
      ]
    },
    {
      "cell_type": "markdown",
      "metadata": {
        "id": "ousBTX_K6u-O"
      },
      "source": [
        "De igual forma existe una correlación positiva entre estas bariables, aunque no es muy fuerte como la anterior."
      ]
    },
    {
      "cell_type": "code",
      "execution_count": null,
      "metadata": {
        "id": "cypaztc16u-O",
        "outputId": "5cca144d-a11f-43bc-c360-9489244b6516"
      },
      "outputs": [
        {
          "data": {
            "text/plain": [
              "\n",
              "\tPearson's product-moment correlation\n",
              "\n",
              "data:  USAdata$obama and USAdata$blancos\n",
              "t = -3.3266, df = 49, p-value = 0.001673\n",
              "alternative hypothesis: true correlation is not equal to 0\n",
              "95 percent confidence interval:\n",
              " -0.6302539 -0.1742479\n",
              "sample estimates:\n",
              "       cor \n",
              "-0.4292205 \n"
            ]
          },
          "metadata": {},
          "output_type": "display_data"
        }
      ],
      "source": [
        "# Evidencia contrastada entre obama y blancos\n",
        "cor.test(USAdata$obama,USAdata$blancos)"
      ]
    },
    {
      "cell_type": "markdown",
      "metadata": {
        "id": "H3f3tNo-6u-P"
      },
      "source": [
        "existe una correlación negativa entre estas variables es decir mientras mas personas blancas menor es la cantidad de votos para obama"
      ]
    },
    {
      "cell_type": "markdown",
      "metadata": {
        "id": "N0WO17_M6u-P"
      },
      "source": [
        "<div style=\"background-color:#5DADE2\"><b>Apartado 4</b></div>"
      ]
    },
    {
      "cell_type": "code",
      "execution_count": null,
      "metadata": {
        "id": "5UssBL7a6u-P",
        "outputId": "f97b96c0-634c-4b90-b5ec-d0569537cf06"
      },
      "outputs": [
        {
          "data": {
            "text/plain": [
              "\n",
              "Call:\n",
              "lm(formula = obama ~ grad_univ + hispanos + blancos, data = USAdata)\n",
              "\n",
              "Coefficients:\n",
              "(Intercept)    grad_univ     hispanos      blancos  \n",
              "    31.9948       1.3181      -0.1661      -0.2614  \n"
            ]
          },
          "metadata": {},
          "output_type": "display_data"
        }
      ],
      "source": [
        "# Alternativa 1 incluyendo el dataset como parámetro\n",
        "modelo = lm(obama ~ grad_univ+hispanos+blancos, data = USAdata)\n",
        "modelo\n"
      ]
    },
    {
      "cell_type": "markdown",
      "metadata": {
        "id": "RWPwayar6u-Q"
      },
      "source": [
        "En este modelo de regresión lineal, la variable dependiente es el porcentaje de votos para Obama, y las variables independientes son el porcentaje de graduados universitarios (`grad_univ`), el porcentaje de hispanohablantes (`hispanos`) y el porcentaje de personas blancas (`blancos`).\n",
        "\n",
        "Intercepción (β0 = 31.9948): Este coeficiente representa el porcentaje esperado de votos para Obama cuando todas las variables independientes son cero.\n",
        "\n",
        "Graduados Universitarios (β1 = 1.3181): Este coeficiente sugiere que, manteniendo constantes los demás factores, por cada punto porcentual adicional en el porcentaje de graduados universitarios, se espera un aumento de 1.3181 puntos porcentuales en el porcentaje de votos para Obama.\n",
        "\n",
        "Hispanohablantes (β2 = -0.1661: El coeficiente negativo para los hispanohablantes indica que, con todo lo demás constante, por cada punto porcentual adicional en el porcentaje de hispanohablantes, el porcentaje de votos para Obama disminuye en 0.1661 puntos porcentuales.\n",
        "\n",
        "Personas Blancas (β3 = -0.2614): El coeficiente negativo para el porcentaje de personas blancas muestra que por cada punto porcentual adicional en el porcentaje de personas blancas, el porcentaje de votos para Obama disminuye en 0.2614 puntos porcentuales."
      ]
    },
    {
      "cell_type": "code",
      "execution_count": null,
      "metadata": {
        "id": "3aOGEhYJ6u-Q",
        "outputId": "01408034-c710-4cd5-c002-75b0810b6a02"
      },
      "outputs": [
        {
          "name": "stdout",
          "output_type": "stream",
          "text": [
            "List of 12\n",
            " $ coefficients : Named num [1:4] 31.995 1.318 -0.166 -0.261\n",
            "  ..- attr(*, \"names\")= chr [1:4] \"(Intercept)\" \"grad_univ\" \"hispanos\" \"blancos\"\n",
            " $ residuals    : Named num [1:51] -4.865 -9.762 -2.44 -0.673 4.771 ...\n",
            "  ..- attr(*, \"names\")= chr [1:51] \"1\" \"2\" \"3\" \"4\" ...\n",
            " $ effects      : Named num [1:51] -350.11 59.75 -5.76 -23.08 5.1 ...\n",
            "  ..- attr(*, \"names\")= chr [1:51] \"(Intercept)\" \"grad_univ\" \"hispanos\" \"blancos\" ...\n",
            " $ rank         : int 4\n",
            " $ fitted.values: Named num [1:51] 43.2 50.6 47 37.6 55.5 ...\n",
            "  ..- attr(*, \"names\")= chr [1:51] \"1\" \"2\" \"3\" \"4\" ...\n",
            " $ assign       : int [1:4] 0 1 2 3\n",
            " $ qr           :List of 5\n",
            "  ..$ qr   : num [1:51, 1:4] -7.14 0.14 0.14 0.14 0.14 ...\n",
            "  .. ..- attr(*, \"dimnames\")=List of 2\n",
            "  .. .. ..$ : chr [1:51] \"1\" \"2\" \"3\" \"4\" ...\n",
            "  .. .. ..$ : chr [1:4] \"(Intercept)\" \"grad_univ\" \"hispanos\" \"blancos\"\n",
            "  .. ..- attr(*, \"assign\")= int [1:4] 0 1 2 3\n",
            "  ..$ qraux: num [1:4] 1.14 1 1.29 1\n",
            "  ..$ pivot: int [1:4] 1 2 3 4\n",
            "  ..$ tol  : num 1e-07\n",
            "  ..$ rank : int 4\n",
            "  ..- attr(*, \"class\")= chr \"qr\"\n",
            " $ df.residual  : int 47\n",
            " $ xlevels      : Named list()\n",
            " $ call         : language lm(formula = obama ~ grad_univ + hispanos + blancos, data = USAdata)\n",
            " $ terms        :Classes 'terms', 'formula'  language obama ~ grad_univ + hispanos + blancos\n",
            "  .. ..- attr(*, \"variables\")= language list(obama, grad_univ, hispanos, blancos)\n",
            "  .. ..- attr(*, \"factors\")= int [1:4, 1:3] 0 1 0 0 0 0 1 0 0 0 ...\n",
            "  .. .. ..- attr(*, \"dimnames\")=List of 2\n",
            "  .. .. .. ..$ : chr [1:4] \"obama\" \"grad_univ\" \"hispanos\" \"blancos\"\n",
            "  .. .. .. ..$ : chr [1:3] \"grad_univ\" \"hispanos\" \"blancos\"\n",
            "  .. ..- attr(*, \"term.labels\")= chr [1:3] \"grad_univ\" \"hispanos\" \"blancos\"\n",
            "  .. ..- attr(*, \"order\")= int [1:3] 1 1 1\n",
            "  .. ..- attr(*, \"intercept\")= int 1\n",
            "  .. ..- attr(*, \"response\")= int 1\n",
            "  .. ..- attr(*, \".Environment\")=<environment: R_GlobalEnv> \n",
            "  .. ..- attr(*, \"predvars\")= language list(obama, grad_univ, hispanos, blancos)\n",
            "  .. ..- attr(*, \"dataClasses\")= Named chr [1:4] \"numeric\" \"numeric\" \"numeric\" \"numeric\"\n",
            "  .. .. ..- attr(*, \"names\")= chr [1:4] \"obama\" \"grad_univ\" \"hispanos\" \"blancos\"\n",
            " $ model        :'data.frame':\t51 obs. of  4 variables:\n",
            "  ..$ obama    : num [1:51] 38.4 40.8 44.6 36.9 60.2 ...\n",
            "  ..$ grad_univ: num [1:51] 22.3 27.5 26.6 19.8 30.5 36.7 36.2 28.5 51.2 26.2 ...\n",
            "  ..$ hispanos : num [1:51] 3.9 5.5 29.6 6.4 37.6 20.7 13.4 8.2 9.1 22.5 ...\n",
            "  ..$ blancos  : num [1:51] 67 64.1 57.8 74.5 40.1 70 71.2 65.3 34.8 57.9 ...\n",
            "  ..- attr(*, \"terms\")=Classes 'terms', 'formula'  language obama ~ grad_univ + hispanos + blancos\n",
            "  .. .. ..- attr(*, \"variables\")= language list(obama, grad_univ, hispanos, blancos)\n",
            "  .. .. ..- attr(*, \"factors\")= int [1:4, 1:3] 0 1 0 0 0 0 1 0 0 0 ...\n",
            "  .. .. .. ..- attr(*, \"dimnames\")=List of 2\n",
            "  .. .. .. .. ..$ : chr [1:4] \"obama\" \"grad_univ\" \"hispanos\" \"blancos\"\n",
            "  .. .. .. .. ..$ : chr [1:3] \"grad_univ\" \"hispanos\" \"blancos\"\n",
            "  .. .. ..- attr(*, \"term.labels\")= chr [1:3] \"grad_univ\" \"hispanos\" \"blancos\"\n",
            "  .. .. ..- attr(*, \"order\")= int [1:3] 1 1 1\n",
            "  .. .. ..- attr(*, \"intercept\")= int 1\n",
            "  .. .. ..- attr(*, \"response\")= int 1\n",
            "  .. .. ..- attr(*, \".Environment\")=<environment: R_GlobalEnv> \n",
            "  .. .. ..- attr(*, \"predvars\")= language list(obama, grad_univ, hispanos, blancos)\n",
            "  .. .. ..- attr(*, \"dataClasses\")= Named chr [1:4] \"numeric\" \"numeric\" \"numeric\" \"numeric\"\n",
            "  .. .. .. ..- attr(*, \"names\")= chr [1:4] \"obama\" \"grad_univ\" \"hispanos\" \"blancos\"\n",
            " - attr(*, \"class\")= chr \"lm\"\n"
          ]
        }
      ],
      "source": [
        "# Información de salida del modelo de regresión estimado\n",
        "str(modelo)"
      ]
    },
    {
      "cell_type": "markdown",
      "metadata": {
        "id": "lPgioPVB6u-R"
      },
      "source": [
        "<div style=\"background-color:#5DADE2\"><b>Apartado 5</b></div>"
      ]
    },
    {
      "cell_type": "code",
      "execution_count": null,
      "metadata": {
        "id": "ATQyCdSI6u-R",
        "outputId": "b5c40330-e488-4aaa-8b4a-e8550f3d87b2"
      },
      "outputs": [
        {
          "data": {
            "text/plain": [
              "\n",
              "Call:\n",
              "lm(formula = obama ~ grad_univ + hispanos + blancos, data = USAdata)\n",
              "\n",
              "Residuals:\n",
              "     Min       1Q   Median       3Q      Max \n",
              "-23.4779  -4.6450   0.1355   5.8230  14.3982 \n",
              "\n",
              "Coefficients:\n",
              "            Estimate Std. Error t value Pr(>|t|)    \n",
              "(Intercept) 31.99476    9.90541   3.230  0.00226 ** \n",
              "grad_univ    1.31815    0.19592   6.728 2.11e-08 ***\n",
              "hispanos    -0.16608    0.13780  -1.205  0.23413    \n",
              "blancos     -0.26145    0.08801  -2.971  0.00467 ** \n",
              "---\n",
              "Signif. codes:  0 '***' 0.001 '**' 0.01 '*' 0.05 '.' 0.1 ' ' 1\n",
              "\n",
              "Residual standard error: 7.771 on 47 degrees of freedom\n",
              "Multiple R-squared:  0.5931,\tAdjusted R-squared:  0.5671 \n",
              "F-statistic: 22.83 on 3 and 47 DF,  p-value: 2.89e-09\n"
            ]
          },
          "metadata": {},
          "output_type": "display_data"
        }
      ],
      "source": [
        "# Aplicamos la función summary para obtener los principales resultados del modelo de regresión lineal\n",
        "output <- summary(modelo)\n",
        "output"
      ]
    },
    {
      "cell_type": "markdown",
      "metadata": {
        "id": "ZS_JJdo06u-Y"
      },
      "source": [
        "**<u>Interpretación resultados</u>.-**  Los errores estándar de los coeficientes estimados  son 9.90541, 0.19592, 0.13780, y 0.08801. Estos valores indican la precisión de las estimaciones de los coeficientes; errores estándar más bajos indican estimaciones más precisas.\n",
        "\n",
        "Los valores t son las razones de los coeficientes estimados a sus errores estándar. Son utilizados para probar la hipótesis nula de que cada coeficiente es igual a cero (no tiene efecto). En este modelo, los coeficientes para grad_univ y blancos son estadísticamente significativos (p < 0.05), indicando que estas variables tienen un efecto significativo sobre la variable dependiente obama. El coeficiente para hispanos no es estadísticamente significativo, lo que sugiere que no tiene un efecto significativo en la variable dependiente, por lo que se la puede sacar del modelo.\n"
      ]
    },
    {
      "cell_type": "code",
      "execution_count": null,
      "metadata": {
        "id": "jfL_zErq6u-Z",
        "outputId": "2a687e99-d952-4435-dbe8-d587280dea6e"
      },
      "outputs": [
        {
          "data": {
            "text/html": [
              "<table>\n",
              "<thead><tr><th></th><th scope=col>Estimate</th><th scope=col>Std. Error</th><th scope=col>t value</th><th scope=col>Pr(&gt;|t|)</th></tr></thead>\n",
              "<tbody>\n",
              "\t<tr><th scope=row>(Intercept)</th><td>31.9947636  </td><td>9.90541032  </td><td> 3.230029   </td><td>2.261463e-03</td></tr>\n",
              "\t<tr><th scope=row>grad_univ</th><td> 1.3181500  </td><td>0.19591687  </td><td> 6.728109   </td><td>2.113953e-08</td></tr>\n",
              "\t<tr><th scope=row>hispanos</th><td>-0.1660848  </td><td>0.13779863  </td><td>-1.205272   </td><td>2.341317e-01</td></tr>\n",
              "\t<tr><th scope=row>blancos</th><td>-0.2614478  </td><td>0.08801138  </td><td>-2.970613   </td><td>4.670602e-03</td></tr>\n",
              "</tbody>\n",
              "</table>\n"
            ],
            "text/latex": [
              "\\begin{tabular}{r|llll}\n",
              "  & Estimate & Std. Error & t value & Pr(>\\textbar{}t\\textbar{})\\\\\n",
              "\\hline\n",
              "\t(Intercept) & 31.9947636   & 9.90541032   &  3.230029    & 2.261463e-03\\\\\n",
              "\tgrad\\_univ &  1.3181500   & 0.19591687   &  6.728109    & 2.113953e-08\\\\\n",
              "\thispanos & -0.1660848   & 0.13779863   & -1.205272    & 2.341317e-01\\\\\n",
              "\tblancos & -0.2614478   & 0.08801138   & -2.970613    & 4.670602e-03\\\\\n",
              "\\end{tabular}\n"
            ],
            "text/markdown": [
              "\n",
              "| <!--/--> | Estimate | Std. Error | t value | Pr(>|t|) |\n",
              "|---|---|---|---|---|\n",
              "| (Intercept) | 31.9947636   | 9.90541032   |  3.230029    | 2.261463e-03 |\n",
              "| grad_univ |  1.3181500   | 0.19591687   |  6.728109    | 2.113953e-08 |\n",
              "| hispanos | -0.1660848   | 0.13779863   | -1.205272    | 2.341317e-01 |\n",
              "| blancos | -0.2614478   | 0.08801138   | -2.970613    | 4.670602e-03 |\n",
              "\n"
            ],
            "text/plain": [
              "            Estimate   Std. Error t value   Pr(>|t|)    \n",
              "(Intercept) 31.9947636 9.90541032  3.230029 2.261463e-03\n",
              "grad_univ    1.3181500 0.19591687  6.728109 2.113953e-08\n",
              "hispanos    -0.1660848 0.13779863 -1.205272 2.341317e-01\n",
              "blancos     -0.2614478 0.08801138 -2.970613 4.670602e-03"
            ]
          },
          "metadata": {},
          "output_type": "display_data"
        }
      ],
      "source": [
        "# Extracción directa de los coeficientes de regresión\n",
        "output$coef"
      ]
    },
    {
      "cell_type": "markdown",
      "metadata": {
        "id": "LUOz7dRC6u-Z"
      },
      "source": [
        "**<u>Interpretación resultados</u>.-** Estos resultados sugieren que el porcentaje de graduados universitarios y el porcentaje de personas blancas son predictores significativos del porcentaje de votos para Obama. El porcentaje de hispanohablantes, no muestra un impacto estadísticamente significativo."
      ]
    },
    {
      "cell_type": "code",
      "execution_count": null,
      "metadata": {
        "id": "fqp9CTMN6u-a",
        "outputId": "7f3086a6-9077-4f08-97af-a884c78d50bf"
      },
      "outputs": [
        {
          "data": {
            "text/html": [
              "<dl class=dl-horizontal>\n",
              "\t<dt>1</dt>\n",
              "\t\t<dd>-4.86477767767597</dd>\n",
              "\t<dt>2</dt>\n",
              "\t\t<dd>-9.76162042854844</dd>\n",
              "\t<dt>3</dt>\n",
              "\t\t<dd>-2.43976175443584</dd>\n",
              "\t<dt>4</dt>\n",
              "\t\t<dd>-0.673332383750975</dd>\n",
              "\t<dt>5</dt>\n",
              "\t\t<dd>4.77050658036955</dd>\n",
              "\t<dt>6</dt>\n",
              "\t\t<dd>-7.14156908240478</dd>\n",
              "</dl>\n"
            ],
            "text/latex": [
              "\\begin{description*}\n",
              "\\item[1] -4.86477767767597\n",
              "\\item[2] -9.76162042854844\n",
              "\\item[3] -2.43976175443584\n",
              "\\item[4] -0.673332383750975\n",
              "\\item[5] 4.77050658036955\n",
              "\\item[6] -7.14156908240478\n",
              "\\end{description*}\n"
            ],
            "text/markdown": [
              "1\n",
              ":   -4.864777677675972\n",
              ":   -9.761620428548443\n",
              ":   -2.439761754435844\n",
              ":   -0.6733323837509755\n",
              ":   4.770506580369556\n",
              ":   -7.14156908240478\n",
              "\n"
            ],
            "text/plain": [
              "         1          2          3          4          5          6 \n",
              "-4.8647777 -9.7616204 -2.4397618 -0.6733324  4.7705066 -7.1415691 "
            ]
          },
          "metadata": {},
          "output_type": "display_data"
        }
      ],
      "source": [
        "# Extracción directa del valor de los residuos estimados\n",
        "head(modelo$residuals)"
      ]
    },
    {
      "cell_type": "markdown",
      "metadata": {
        "id": "hkIql1aN6u-a"
      },
      "source": [
        "**<u>Interpretación resultados</u>.-** En este caso, los residuos representan la diferencia entre los porcentajes de votos observados para Obama y los porcentajes predichos por el modelo de regresión lineal. Estos residuos son indicativos de la parte del porcentaje de votos para Obama que no se puede explicar solo por las variables independientes consideradas en el modelo"
      ]
    },
    {
      "cell_type": "code",
      "execution_count": null,
      "metadata": {
        "id": "5Fn7phPY6u-b",
        "outputId": "125af58a-413a-4e9f-916d-74363bec53d9"
      },
      "outputs": [
        {
          "data": {
            "text/html": [
              "47"
            ],
            "text/latex": [
              "47"
            ],
            "text/markdown": [
              "47"
            ],
            "text/plain": [
              "[1] 47"
            ]
          },
          "metadata": {},
          "output_type": "display_data"
        }
      ],
      "source": [
        "# Extracción del valor de los grados de libertad con la función `df.residual`\n",
        "df = df.residual(modelo)\n",
        "df"
      ]
    },
    {
      "cell_type": "markdown",
      "metadata": {
        "id": "RNAD-IrL6u-b"
      },
      "source": [
        " **<u>Interpretación resultados</u>.-** Un número mayor de grados de libertad generalmente indica una mayor confiabilidad en las conclusiones estadísticas derivadas del modelo, ya que se dispone de más datos para estimar los parámetros y evaluar el ajuste del modelo. No existe un criterio formal que indique qué es un número elevado o no de grados de libertad aunque si es menor que  100\n",
        "  sí que se suele identificar con una menor confiabilidad en los resultados.\n",
        "  En este caso es 42 por lo que no tiene muchos datos para tener mayor confiablilidad."
      ]
    },
    {
      "cell_type": "code",
      "execution_count": null,
      "metadata": {
        "id": "ywZhxH-p6u-b",
        "outputId": "09e0bdb2-036f-4578-de6e-29f990860da4"
      },
      "outputs": [
        {
          "data": {
            "text/html": [
              "7.77099120825946"
            ],
            "text/latex": [
              "7.77099120825946"
            ],
            "text/markdown": [
              "7.77099120825946"
            ],
            "text/plain": [
              "[1] 7.770991"
            ]
          },
          "metadata": {},
          "output_type": "display_data"
        }
      ],
      "source": [
        "# Extracción directa de la suma de cuadrados de los residuos (utilizamos output NO modelo)\n",
        "head(output$sigma)"
      ]
    },
    {
      "cell_type": "markdown",
      "metadata": {
        "id": "QYJQZ2n06u-c"
      },
      "source": [
        "**<u>Interpretación resultados</u>.-** Mientras menor sea el valor de SSR, mejor es el ajuste del modelo a los datos. una SSR de 7.77099120825946 en ul modelo de regresión indica la cantidad de variabilidad en los datos que el modelo no ha podido explicar."
      ]
    },
    {
      "cell_type": "code",
      "execution_count": null,
      "metadata": {
        "id": "t5vccgpC6u-c",
        "outputId": "962f0756-6ae7-4bd7-e883-94c41a047424"
      },
      "outputs": [
        {
          "data": {
            "text/html": [
              "<table>\n",
              "<thead><tr><th></th><th scope=col>Estimate</th><th scope=col>Std. Error</th><th scope=col>t value</th><th scope=col>Pr(&gt;|t|)</th></tr></thead>\n",
              "<tbody>\n",
              "\t<tr><th scope=row>(Intercept)</th><td>31.9947636  </td><td>9.90541032  </td><td> 3.230029   </td><td>2.261463e-03</td></tr>\n",
              "\t<tr><th scope=row>grad_univ</th><td> 1.3181500  </td><td>0.19591687  </td><td> 6.728109   </td><td>2.113953e-08</td></tr>\n",
              "\t<tr><th scope=row>hispanos</th><td>-0.1660848  </td><td>0.13779863  </td><td>-1.205272   </td><td>2.341317e-01</td></tr>\n",
              "\t<tr><th scope=row>blancos</th><td>-0.2614478  </td><td>0.08801138  </td><td>-2.970613   </td><td>4.670602e-03</td></tr>\n",
              "</tbody>\n",
              "</table>\n"
            ],
            "text/latex": [
              "\\begin{tabular}{r|llll}\n",
              "  & Estimate & Std. Error & t value & Pr(>\\textbar{}t\\textbar{})\\\\\n",
              "\\hline\n",
              "\t(Intercept) & 31.9947636   & 9.90541032   &  3.230029    & 2.261463e-03\\\\\n",
              "\tgrad\\_univ &  1.3181500   & 0.19591687   &  6.728109    & 2.113953e-08\\\\\n",
              "\thispanos & -0.1660848   & 0.13779863   & -1.205272    & 2.341317e-01\\\\\n",
              "\tblancos & -0.2614478   & 0.08801138   & -2.970613    & 4.670602e-03\\\\\n",
              "\\end{tabular}\n"
            ],
            "text/markdown": [
              "\n",
              "| <!--/--> | Estimate | Std. Error | t value | Pr(>|t|) |\n",
              "|---|---|---|---|---|\n",
              "| (Intercept) | 31.9947636   | 9.90541032   |  3.230029    | 2.261463e-03 |\n",
              "| grad_univ |  1.3181500   | 0.19591687   |  6.728109    | 2.113953e-08 |\n",
              "| hispanos | -0.1660848   | 0.13779863   | -1.205272    | 2.341317e-01 |\n",
              "| blancos | -0.2614478   | 0.08801138   | -2.970613    | 4.670602e-03 |\n",
              "\n"
            ],
            "text/plain": [
              "            Estimate   Std. Error t value   Pr(>|t|)    \n",
              "(Intercept) 31.9947636 9.90541032  3.230029 2.261463e-03\n",
              "grad_univ    1.3181500 0.19591687  6.728109 2.113953e-08\n",
              "hispanos    -0.1660848 0.13779863 -1.205272 2.341317e-01\n",
              "blancos     -0.2614478 0.08801138 -2.970613 4.670602e-03"
            ]
          },
          "metadata": {},
          "output_type": "display_data"
        }
      ],
      "source": [
        "# Extracción directa de los errores de los coeficientes de regresión (utilizamos output NO modelo)\n",
        "output$coef"
      ]
    },
    {
      "cell_type": "markdown",
      "metadata": {
        "id": "VYRta73P6u-d"
      },
      "source": [
        "**<u>Interpretación resultados</u>.-** el error estándar proporciona una medida de la fiabilidad de las estimaciones de los coeficientes. Coeficientes con errores estándar bajos son generalmente preferibles, ya que indican estimaciones más precisas y menos variabilidad en los datos. en este caso son relativamente bajos."
      ]
    },
    {
      "cell_type": "code",
      "execution_count": null,
      "metadata": {
        "id": "45Cvvd5W6u-d",
        "outputId": "99fa71fb-68b9-4f6c-a214-7f7a4174fa2e"
      },
      "outputs": [
        {
          "data": {
            "text/html": [
              "0.593077169260745"
            ],
            "text/latex": [
              "0.593077169260745"
            ],
            "text/markdown": [
              "0.593077169260745"
            ],
            "text/plain": [
              "[1] 0.5930772"
            ]
          },
          "metadata": {},
          "output_type": "display_data"
        }
      ],
      "source": [
        "# Extracción directa del valor de los coeficientes de determinación\n",
        "# Obtenemos R2 (utilizamos output NO modelo)\n",
        "R2=output$r.squared\n",
        "R2"
      ]
    },
    {
      "cell_type": "markdown",
      "metadata": {
        "id": "0SpgDvoj6u-d"
      },
      "source": [
        "**<u>Interpretación resultados</u>.-** El coeficiente de determinación $R^2$, es una medida fundamental en la interpretación de un modelo de regresión lineal múltiple. En este caso, donde la variable dependiente son los botos a Obama y las variables independientes son graduados, hispanos y blancos, un $R^2$ igual a $0.593077169260745$ significa que aproximadamente el $59.30\\%$ de la **variabilidad en los botos a obama pueden ser explicadas por dichas variables**."
      ]
    },
    {
      "cell_type": "code",
      "execution_count": null,
      "metadata": {
        "id": "ApELrlAW6u-e",
        "outputId": "c2dd4f5e-4d86-4c15-85fb-57874de70479"
      },
      "outputs": [
        {
          "data": {
            "text/html": [
              "<table>\n",
              "<thead><tr><th></th><th scope=col>2.5 %</th><th scope=col>97.5 %</th></tr></thead>\n",
              "<tbody>\n",
              "\t<tr><th scope=row>(Intercept)</th><td>12.0676484 </td><td>51.92187887</td></tr>\n",
              "\t<tr><th scope=row>grad_univ</th><td> 0.9240161 </td><td> 1.71228391</td></tr>\n",
              "\t<tr><th scope=row>hispanos</th><td>-0.4432999 </td><td> 0.11113024</td></tr>\n",
              "\t<tr><th scope=row>blancos</th><td>-0.4385038 </td><td>-0.08439169</td></tr>\n",
              "</tbody>\n",
              "</table>\n"
            ],
            "text/latex": [
              "\\begin{tabular}{r|ll}\n",
              "  & 2.5 \\% & 97.5 \\%\\\\\n",
              "\\hline\n",
              "\t(Intercept) & 12.0676484  & 51.92187887\\\\\n",
              "\tgrad\\_univ &  0.9240161  &  1.71228391\\\\\n",
              "\thispanos & -0.4432999  &  0.11113024\\\\\n",
              "\tblancos & -0.4385038  & -0.08439169\\\\\n",
              "\\end{tabular}\n"
            ],
            "text/markdown": [
              "\n",
              "| <!--/--> | 2.5 % | 97.5 % |\n",
              "|---|---|---|\n",
              "| (Intercept) | 12.0676484  | 51.92187887 |\n",
              "| grad_univ |  0.9240161  |  1.71228391 |\n",
              "| hispanos | -0.4432999  |  0.11113024 |\n",
              "| blancos | -0.4385038  | -0.08439169 |\n",
              "\n"
            ],
            "text/plain": [
              "            2.5 %      97.5 %     \n",
              "(Intercept) 12.0676484 51.92187887\n",
              "grad_univ    0.9240161  1.71228391\n",
              "hispanos    -0.4432999  0.11113024\n",
              "blancos     -0.4385038 -0.08439169"
            ]
          },
          "metadata": {},
          "output_type": "display_data"
        }
      ],
      "source": [
        "# Extracción de los intervalos de confianza para los coeficientes de regresión con la **función** `confint`\n",
        "# Ejemplo para un nivel de confianza del 95%\n",
        "ci.bhat <- confint(modelo)\n",
        "ci.bhat"
      ]
    },
    {
      "cell_type": "markdown",
      "metadata": {
        "id": "ukcAPyY_6u-e"
      },
      "source": [
        "**<u>Interpretación resultados</u>.-** Los intervalos de confianza del 95% proporcionan un rango dentro del cual podemos estar razonablemente seguros de que se encuentran los verdaderos valores de los coeficientes de la población:\n",
        "\n",
        "- La intercepción, que indica el valor esperado de obama cuando todas las variables independientes son cero, probablemente se sitúe entre 12.07 y 51.92.\n",
        "- En grad_univ sobre obama probablemente esté entre 0.92 y 1.71.\n",
        "- Para hispanos, el intervalo incluye tanto valores negativos como positivos (de -0.44 a 0.11), lo que implica incertidumbre sobre la dirección de su efecto en obama.\n",
        "- El coeficiente de blancos muestra un efecto negativo consistente sobre obama, con un intervalo de -0.44 a -0.08, sugiriendo una disminución en el apoyo a Obama a medida que aumenta el porcentaje de personas blancas."
      ]
    },
    {
      "cell_type": "code",
      "execution_count": null,
      "metadata": {
        "id": "kZDIoKr46u-e",
        "outputId": "3c685bfe-a01c-4ddb-e254-a2c5cfdb5e63"
      },
      "outputs": [
        {
          "name": "stdout",
          "output_type": "stream",
          "text": [
            "   value \n",
            "22.83367 \n"
          ]
        }
      ],
      "source": [
        "# Extracción directa del valor del estadístico F\n",
        "fstat.all <- output$fstatistic[1]\n",
        "print(fstat.all)"
      ]
    },
    {
      "cell_type": "markdown",
      "metadata": {
        "id": "Zpy1aUr36u-f"
      },
      "source": [
        "### 03 Ejercicio [2 puntos]\n",
        "\n",
        "Utilizando el dataset del ejercicio anterior encontrar de forma automática el mejor modelo de regresión lineal múltiple para explicar la variable `obama` en función del resto de variables excepto `estado`. Comparar sus métricas y realizar la diagnosis del modelo de regresión elegido. Es decir, tenéis que hacer los siguientes pasos:\n",
        "\n",
        "1. Criterios de selección del modelo en base al ajuste de los datos\n",
        "2. Proceso de automatización del proceso de selección del mejor modelo\n",
        "3. Requisitos y validación del mejor modelo seleccionado en base al ajuste de los datos"
      ]
    },
    {
      "cell_type": "markdown",
      "metadata": {
        "id": "fkWAHZyL6u-f"
      },
      "source": [
        "<div style=\"background-color:#F7DC6F\"><b>Resolución Ejercicio 03</b></div>"
      ]
    },
    {
      "cell_type": "markdown",
      "metadata": {
        "id": "a5AnHpOn6u-f"
      },
      "source": [
        "<div style=\"background-color:#5DADE2\"><b>Apartado 1</b></div>"
      ]
    },
    {
      "cell_type": "code",
      "execution_count": null,
      "metadata": {
        "id": "smrrzRy-6u-g",
        "outputId": "a2bd8b16-7f33-4753-9fa8-7dea469aec22"
      },
      "outputs": [
        {
          "name": "stdout",
          "output_type": "stream",
          "text": [
            "'data.frame':\t51 obs. of  21 variables:\n",
            " $ estado        : Factor w/ 51 levels \"Alabama\",\"Alaska\",..: 1 2 3 4 5 6 7 8 9 10 ...\n",
            " $ region        : int  3 4 4 3 4 4 1 3 3 3 ...\n",
            " $ densidad      : num  94.4 1.2 56.3 56 239.1 ...\n",
            " $ veteranos     : num  8.1 10.1 8.2 7.9 5 8.1 6 8.5 5.2 8.3 ...\n",
            " $ mujeres       : num  51.5 48 50.3 50.9 50.3 49.9 51.3 51.6 52.8 51.1 ...\n",
            " $ grad_instituto: num  82.6 91.6 85.4 83.3 81 89.9 89 87.7 87.5 85.8 ...\n",
            " $ grad_univ     : num  22.3 27.5 26.6 19.8 30.5 36.7 36.2 28.5 51.2 26.2 ...\n",
            " $ afro          : num  26.2 3.3 4.1 15.4 6.2 4 10.1 21.4 50.7 16 ...\n",
            " $ asia          : num  1.1 5.4 2.8 1.2 13 2.8 3.8 3.2 3.5 2.4 ...\n",
            " $ hispanos      : num  3.9 5.5 29.6 6.4 37.6 20.7 13.4 8.2 9.1 22.5 ...\n",
            " $ blancos       : num  67 64.1 57.8 74.5 40.1 70 71.2 65.3 34.8 57.9 ...\n",
            " $ evangelicos   : int  49 26 23 53 18 23 9 15 15 25 ...\n",
            " $ protestantes  : int  1 19 15 16 14 19 13 18 20 15 ...\n",
            " $ relig_afro    : int  18 2 2 10 4 2 4 14 18 8 ...\n",
            " $ catolicos     : int  6 14 25 5 31 19 43 27 18 26 ...\n",
            " $ mormones      : int  1 4 4 0 2 2 1 0 0 0 ...\n",
            " $ jubilados     : num  13.8 7.7 13.8 14.4 11.4 10.9 14.2 14.4 11.4 17.3 ...\n",
            " $ paro          : num  8 7.6 8.4 7.6 10.4 7.8 8.3 7.2 9 8.5 ...\n",
            " $ salario       : int  43464 63648 47044 39018 57020 57255 64247 48972 65246 46071 ...\n",
            " $ obama         : num  38.4 40.8 44.6 36.9 60.2 ...\n",
            " $ diputados     : int  9 3 11 6 55 9 7 3 3 29 ...\n"
          ]
        }
      ],
      "source": [
        "# Veamos las variables que podemos seleccionar\n",
        "str(USA)"
      ]
    },
    {
      "cell_type": "code",
      "execution_count": null,
      "metadata": {
        "id": "m6q5WbAG6u-g",
        "outputId": "0178b774-deea-4f9d-806d-2ed3af010a7b"
      },
      "outputs": [
        {
          "data": {
            "text/html": [
              "<ol class=list-inline>\n",
              "\t<li>'estado'</li>\n",
              "\t<li>'region'</li>\n",
              "\t<li>'densidad'</li>\n",
              "\t<li>'veteranos'</li>\n",
              "\t<li>'mujeres'</li>\n",
              "\t<li>'grad_instituto'</li>\n",
              "\t<li>'grad_univ'</li>\n",
              "\t<li>'afro'</li>\n",
              "\t<li>'asia'</li>\n",
              "\t<li>'hispanos'</li>\n",
              "\t<li>'blancos'</li>\n",
              "\t<li>'evangelicos'</li>\n",
              "\t<li>'protestantes'</li>\n",
              "\t<li>'relig_afro'</li>\n",
              "\t<li>'catolicos'</li>\n",
              "\t<li>'mormones'</li>\n",
              "\t<li>'jubilados'</li>\n",
              "\t<li>'paro'</li>\n",
              "\t<li>'salario'</li>\n",
              "\t<li>'obama'</li>\n",
              "\t<li>'diputados'</li>\n",
              "</ol>\n"
            ],
            "text/latex": [
              "\\begin{enumerate*}\n",
              "\\item 'estado'\n",
              "\\item 'region'\n",
              "\\item 'densidad'\n",
              "\\item 'veteranos'\n",
              "\\item 'mujeres'\n",
              "\\item 'grad\\_instituto'\n",
              "\\item 'grad\\_univ'\n",
              "\\item 'afro'\n",
              "\\item 'asia'\n",
              "\\item 'hispanos'\n",
              "\\item 'blancos'\n",
              "\\item 'evangelicos'\n",
              "\\item 'protestantes'\n",
              "\\item 'relig\\_afro'\n",
              "\\item 'catolicos'\n",
              "\\item 'mormones'\n",
              "\\item 'jubilados'\n",
              "\\item 'paro'\n",
              "\\item 'salario'\n",
              "\\item 'obama'\n",
              "\\item 'diputados'\n",
              "\\end{enumerate*}\n"
            ],
            "text/markdown": [
              "1. 'estado'\n",
              "2. 'region'\n",
              "3. 'densidad'\n",
              "4. 'veteranos'\n",
              "5. 'mujeres'\n",
              "6. 'grad_instituto'\n",
              "7. 'grad_univ'\n",
              "8. 'afro'\n",
              "9. 'asia'\n",
              "10. 'hispanos'\n",
              "11. 'blancos'\n",
              "12. 'evangelicos'\n",
              "13. 'protestantes'\n",
              "14. 'relig_afro'\n",
              "15. 'catolicos'\n",
              "16. 'mormones'\n",
              "17. 'jubilados'\n",
              "18. 'paro'\n",
              "19. 'salario'\n",
              "20. 'obama'\n",
              "21. 'diputados'\n",
              "\n",
              "\n"
            ],
            "text/plain": [
              " [1] \"estado\"         \"region\"         \"densidad\"       \"veteranos\"     \n",
              " [5] \"mujeres\"        \"grad_instituto\" \"grad_univ\"      \"afro\"          \n",
              " [9] \"asia\"           \"hispanos\"       \"blancos\"        \"evangelicos\"   \n",
              "[13] \"protestantes\"   \"relig_afro\"     \"catolicos\"      \"mormones\"      \n",
              "[17] \"jubilados\"      \"paro\"           \"salario\"        \"obama\"         \n",
              "[21] \"diputados\"     "
            ]
          },
          "metadata": {},
          "output_type": "display_data"
        }
      ],
      "source": [
        "# Variables de la base de datos 'Boston'\n",
        "names(USA)"
      ]
    },
    {
      "cell_type": "code",
      "execution_count": null,
      "metadata": {
        "id": "0aLD4bsx6u-g"
      },
      "outputs": [],
      "source": [
        "# Seleccionamos las variables que nos interesan eliminando chas y rad\n",
        "\n",
        "zdata = USA[ , !(names(USA) %in% \"estado\")]"
      ]
    },
    {
      "cell_type": "code",
      "execution_count": null,
      "metadata": {
        "id": "p3kGYB5w6u-h",
        "outputId": "d34b789f-6b8a-46f8-fd43-f2233510c6f2"
      },
      "outputs": [
        {
          "data": {
            "text/html": [
              "<table>\n",
              "<thead><tr><th scope=col>region</th><th scope=col>densidad</th><th scope=col>veteranos</th><th scope=col>mujeres</th><th scope=col>grad_instituto</th><th scope=col>grad_univ</th><th scope=col>afro</th><th scope=col>asia</th><th scope=col>hispanos</th><th scope=col>blancos</th><th scope=col>evangelicos</th><th scope=col>protestantes</th><th scope=col>relig_afro</th><th scope=col>catolicos</th><th scope=col>mormones</th><th scope=col>jubilados</th><th scope=col>paro</th><th scope=col>salario</th><th scope=col>obama</th><th scope=col>diputados</th></tr></thead>\n",
              "<tbody>\n",
              "\t<tr><td>3    </td><td> 94.4</td><td> 8.1 </td><td>51.5 </td><td>82.6 </td><td>22.3 </td><td>26.2 </td><td> 1.1 </td><td> 3.9 </td><td>67.0 </td><td>49   </td><td> 1   </td><td>18   </td><td> 6   </td><td>1    </td><td>13.8 </td><td> 8.0 </td><td>43464</td><td>38.36</td><td> 9   </td></tr>\n",
              "\t<tr><td>4    </td><td>  1.2</td><td>10.1 </td><td>48.0 </td><td>91.6 </td><td>27.5 </td><td> 3.3 </td><td> 5.4 </td><td> 5.5 </td><td>64.1 </td><td>26   </td><td>19   </td><td> 2   </td><td>14   </td><td>4    </td><td> 7.7 </td><td> 7.6 </td><td>63648</td><td>40.81</td><td> 3   </td></tr>\n",
              "\t<tr><td>4    </td><td> 56.3</td><td> 8.2 </td><td>50.3 </td><td>85.4 </td><td>26.6 </td><td> 4.1 </td><td> 2.8 </td><td>29.6 </td><td>57.8 </td><td>23   </td><td>15   </td><td> 2   </td><td>25   </td><td>4    </td><td>13.8 </td><td> 8.4 </td><td>47044</td><td>44.59</td><td>11   </td></tr>\n",
              "\t<tr><td>3    </td><td> 56.0</td><td> 7.9 </td><td>50.9 </td><td>83.3 </td><td>19.8 </td><td>15.4 </td><td> 1.2 </td><td> 6.4 </td><td>74.5 </td><td>53   </td><td>16   </td><td>10   </td><td> 5   </td><td>0    </td><td>14.4 </td><td> 7.6 </td><td>39018</td><td>36.88</td><td> 6   </td></tr>\n",
              "\t<tr><td>4    </td><td>239.1</td><td> 5.0 </td><td>50.3 </td><td>81.0 </td><td>30.5 </td><td> 6.2 </td><td>13.0 </td><td>37.6 </td><td>40.1 </td><td>18   </td><td>14   </td><td> 4   </td><td>31   </td><td>2    </td><td>11.4 </td><td>10.4 </td><td>57020</td><td>60.24</td><td>55   </td></tr>\n",
              "\t<tr><td>4    </td><td> 48.5</td><td> 8.1 </td><td>49.9 </td><td>89.9 </td><td>36.7 </td><td> 4.0 </td><td> 2.8 </td><td>20.7 </td><td>70.0 </td><td>23   </td><td>19   </td><td> 2   </td><td>19   </td><td>2    </td><td>10.9 </td><td> 7.8 </td><td>57255</td><td>51.49</td><td> 9   </td></tr>\n",
              "</tbody>\n",
              "</table>\n"
            ],
            "text/latex": [
              "\\begin{tabular}{r|llllllllllllllllllll}\n",
              " region & densidad & veteranos & mujeres & grad\\_instituto & grad\\_univ & afro & asia & hispanos & blancos & evangelicos & protestantes & relig\\_afro & catolicos & mormones & jubilados & paro & salario & obama & diputados\\\\\n",
              "\\hline\n",
              "\t 3     &  94.4 &  8.1  & 51.5  & 82.6  & 22.3  & 26.2  &  1.1  &  3.9  & 67.0  & 49    &  1    & 18    &  6    & 1     & 13.8  &  8.0  & 43464 & 38.36 &  9   \\\\\n",
              "\t 4     &   1.2 & 10.1  & 48.0  & 91.6  & 27.5  &  3.3  &  5.4  &  5.5  & 64.1  & 26    & 19    &  2    & 14    & 4     &  7.7  &  7.6  & 63648 & 40.81 &  3   \\\\\n",
              "\t 4     &  56.3 &  8.2  & 50.3  & 85.4  & 26.6  &  4.1  &  2.8  & 29.6  & 57.8  & 23    & 15    &  2    & 25    & 4     & 13.8  &  8.4  & 47044 & 44.59 & 11   \\\\\n",
              "\t 3     &  56.0 &  7.9  & 50.9  & 83.3  & 19.8  & 15.4  &  1.2  &  6.4  & 74.5  & 53    & 16    & 10    &  5    & 0     & 14.4  &  7.6  & 39018 & 36.88 &  6   \\\\\n",
              "\t 4     & 239.1 &  5.0  & 50.3  & 81.0  & 30.5  &  6.2  & 13.0  & 37.6  & 40.1  & 18    & 14    &  4    & 31    & 2     & 11.4  & 10.4  & 57020 & 60.24 & 55   \\\\\n",
              "\t 4     &  48.5 &  8.1  & 49.9  & 89.9  & 36.7  &  4.0  &  2.8  & 20.7  & 70.0  & 23    & 19    &  2    & 19    & 2     & 10.9  &  7.8  & 57255 & 51.49 &  9   \\\\\n",
              "\\end{tabular}\n"
            ],
            "text/markdown": [
              "\n",
              "| region | densidad | veteranos | mujeres | grad_instituto | grad_univ | afro | asia | hispanos | blancos | evangelicos | protestantes | relig_afro | catolicos | mormones | jubilados | paro | salario | obama | diputados |\n",
              "|---|---|---|---|---|---|---|---|---|---|---|---|---|---|---|---|---|---|---|---|\n",
              "| 3     |  94.4 |  8.1  | 51.5  | 82.6  | 22.3  | 26.2  |  1.1  |  3.9  | 67.0  | 49    |  1    | 18    |  6    | 1     | 13.8  |  8.0  | 43464 | 38.36 |  9    |\n",
              "| 4     |   1.2 | 10.1  | 48.0  | 91.6  | 27.5  |  3.3  |  5.4  |  5.5  | 64.1  | 26    | 19    |  2    | 14    | 4     |  7.7  |  7.6  | 63648 | 40.81 |  3    |\n",
              "| 4     |  56.3 |  8.2  | 50.3  | 85.4  | 26.6  |  4.1  |  2.8  | 29.6  | 57.8  | 23    | 15    |  2    | 25    | 4     | 13.8  |  8.4  | 47044 | 44.59 | 11    |\n",
              "| 3     |  56.0 |  7.9  | 50.9  | 83.3  | 19.8  | 15.4  |  1.2  |  6.4  | 74.5  | 53    | 16    | 10    |  5    | 0     | 14.4  |  7.6  | 39018 | 36.88 |  6    |\n",
              "| 4     | 239.1 |  5.0  | 50.3  | 81.0  | 30.5  |  6.2  | 13.0  | 37.6  | 40.1  | 18    | 14    |  4    | 31    | 2     | 11.4  | 10.4  | 57020 | 60.24 | 55    |\n",
              "| 4     |  48.5 |  8.1  | 49.9  | 89.9  | 36.7  |  4.0  |  2.8  | 20.7  | 70.0  | 23    | 19    |  2    | 19    | 2     | 10.9  |  7.8  | 57255 | 51.49 |  9    |\n",
              "\n"
            ],
            "text/plain": [
              "  region densidad veteranos mujeres grad_instituto grad_univ afro asia hispanos\n",
              "1 3       94.4     8.1      51.5    82.6           22.3      26.2  1.1  3.9    \n",
              "2 4        1.2    10.1      48.0    91.6           27.5       3.3  5.4  5.5    \n",
              "3 4       56.3     8.2      50.3    85.4           26.6       4.1  2.8 29.6    \n",
              "4 3       56.0     7.9      50.9    83.3           19.8      15.4  1.2  6.4    \n",
              "5 4      239.1     5.0      50.3    81.0           30.5       6.2 13.0 37.6    \n",
              "6 4       48.5     8.1      49.9    89.9           36.7       4.0  2.8 20.7    \n",
              "  blancos evangelicos protestantes relig_afro catolicos mormones jubilados paro\n",
              "1 67.0    49           1           18          6        1        13.8       8.0\n",
              "2 64.1    26          19            2         14        4         7.7       7.6\n",
              "3 57.8    23          15            2         25        4        13.8       8.4\n",
              "4 74.5    53          16           10          5        0        14.4       7.6\n",
              "5 40.1    18          14            4         31        2        11.4      10.4\n",
              "6 70.0    23          19            2         19        2        10.9       7.8\n",
              "  salario obama diputados\n",
              "1 43464   38.36  9       \n",
              "2 63648   40.81  3       \n",
              "3 47044   44.59 11       \n",
              "4 39018   36.88  6       \n",
              "5 57020   60.24 55       \n",
              "6 57255   51.49  9       "
            ]
          },
          "metadata": {},
          "output_type": "display_data"
        }
      ],
      "source": [
        "# Visualizamos la base de datos seleccionada\n",
        "head(zdata)"
      ]
    },
    {
      "cell_type": "code",
      "execution_count": null,
      "metadata": {
        "id": "2xd-f4PI6u-h"
      },
      "outputs": [],
      "source": [
        "# Comprobamos si existen datos NAs para en caso afirmativo, eliminarlos y que no nos den problemas\n",
        "wdata=na.omit(zdata)\n"
      ]
    },
    {
      "cell_type": "code",
      "execution_count": null,
      "metadata": {
        "id": "EnyxfLOb6u-h",
        "outputId": "1caa3424-87b0-4fd0-8f74-81f7d864860c"
      },
      "outputs": [
        {
          "data": {
            "text/html": [
              "51"
            ],
            "text/latex": [
              "51"
            ],
            "text/markdown": [
              "51"
            ],
            "text/plain": [
              "[1] 51"
            ]
          },
          "metadata": {},
          "output_type": "display_data"
        },
        {
          "data": {
            "text/html": [
              "51"
            ],
            "text/latex": [
              "51"
            ],
            "text/markdown": [
              "51"
            ],
            "text/plain": [
              "[1] 51"
            ]
          },
          "metadata": {},
          "output_type": "display_data"
        }
      ],
      "source": [
        "# Podemos comprobar como NO existen datos missing\n",
        "nrow(zdata) # Base de datos inicial\n",
        "nrow(wdata) # Base de datos tras el na.omit"
      ]
    },
    {
      "cell_type": "code",
      "execution_count": null,
      "metadata": {
        "id": "U2KmX4zp6u-i",
        "outputId": "cc34052c-2eeb-43df-bc1d-3b8c87bb4164"
      },
      "outputs": [
        {
          "data": {
            "text/html": [
              "<table>\n",
              "<thead><tr><th scope=col>region</th><th scope=col>densidad</th><th scope=col>veteranos</th><th scope=col>mujeres</th><th scope=col>grad_instituto</th><th scope=col>grad_univ</th><th scope=col>afro</th><th scope=col>asia</th><th scope=col>hispanos</th><th scope=col>blancos</th><th scope=col>evangelicos</th><th scope=col>protestantes</th><th scope=col>relig_afro</th><th scope=col>catolicos</th><th scope=col>mormones</th><th scope=col>jubilados</th><th scope=col>paro</th><th scope=col>salario</th><th scope=col>obama</th><th scope=col>diputados</th></tr></thead>\n",
              "<tbody>\n",
              "\t<tr><td>3    </td><td> 94.4</td><td> 8.1 </td><td>51.5 </td><td>82.6 </td><td>22.3 </td><td>26.2 </td><td> 1.1 </td><td> 3.9 </td><td>67.0 </td><td>49   </td><td> 1   </td><td>18   </td><td> 6   </td><td>1    </td><td>13.8 </td><td> 8.0 </td><td>43464</td><td>38.36</td><td> 9   </td></tr>\n",
              "\t<tr><td>4    </td><td>  1.2</td><td>10.1 </td><td>48.0 </td><td>91.6 </td><td>27.5 </td><td> 3.3 </td><td> 5.4 </td><td> 5.5 </td><td>64.1 </td><td>26   </td><td>19   </td><td> 2   </td><td>14   </td><td>4    </td><td> 7.7 </td><td> 7.6 </td><td>63648</td><td>40.81</td><td> 3   </td></tr>\n",
              "\t<tr><td>4    </td><td> 56.3</td><td> 8.2 </td><td>50.3 </td><td>85.4 </td><td>26.6 </td><td> 4.1 </td><td> 2.8 </td><td>29.6 </td><td>57.8 </td><td>23   </td><td>15   </td><td> 2   </td><td>25   </td><td>4    </td><td>13.8 </td><td> 8.4 </td><td>47044</td><td>44.59</td><td>11   </td></tr>\n",
              "\t<tr><td>3    </td><td> 56.0</td><td> 7.9 </td><td>50.9 </td><td>83.3 </td><td>19.8 </td><td>15.4 </td><td> 1.2 </td><td> 6.4 </td><td>74.5 </td><td>53   </td><td>16   </td><td>10   </td><td> 5   </td><td>0    </td><td>14.4 </td><td> 7.6 </td><td>39018</td><td>36.88</td><td> 6   </td></tr>\n",
              "\t<tr><td>4    </td><td>239.1</td><td> 5.0 </td><td>50.3 </td><td>81.0 </td><td>30.5 </td><td> 6.2 </td><td>13.0 </td><td>37.6 </td><td>40.1 </td><td>18   </td><td>14   </td><td> 4   </td><td>31   </td><td>2    </td><td>11.4 </td><td>10.4 </td><td>57020</td><td>60.24</td><td>55   </td></tr>\n",
              "\t<tr><td>4    </td><td> 48.5</td><td> 8.1 </td><td>49.9 </td><td>89.9 </td><td>36.7 </td><td> 4.0 </td><td> 2.8 </td><td>20.7 </td><td>70.0 </td><td>23   </td><td>19   </td><td> 2   </td><td>19   </td><td>2    </td><td>10.9 </td><td> 7.8 </td><td>57255</td><td>51.49</td><td> 9   </td></tr>\n",
              "</tbody>\n",
              "</table>\n"
            ],
            "text/latex": [
              "\\begin{tabular}{r|llllllllllllllllllll}\n",
              " region & densidad & veteranos & mujeres & grad\\_instituto & grad\\_univ & afro & asia & hispanos & blancos & evangelicos & protestantes & relig\\_afro & catolicos & mormones & jubilados & paro & salario & obama & diputados\\\\\n",
              "\\hline\n",
              "\t 3     &  94.4 &  8.1  & 51.5  & 82.6  & 22.3  & 26.2  &  1.1  &  3.9  & 67.0  & 49    &  1    & 18    &  6    & 1     & 13.8  &  8.0  & 43464 & 38.36 &  9   \\\\\n",
              "\t 4     &   1.2 & 10.1  & 48.0  & 91.6  & 27.5  &  3.3  &  5.4  &  5.5  & 64.1  & 26    & 19    &  2    & 14    & 4     &  7.7  &  7.6  & 63648 & 40.81 &  3   \\\\\n",
              "\t 4     &  56.3 &  8.2  & 50.3  & 85.4  & 26.6  &  4.1  &  2.8  & 29.6  & 57.8  & 23    & 15    &  2    & 25    & 4     & 13.8  &  8.4  & 47044 & 44.59 & 11   \\\\\n",
              "\t 3     &  56.0 &  7.9  & 50.9  & 83.3  & 19.8  & 15.4  &  1.2  &  6.4  & 74.5  & 53    & 16    & 10    &  5    & 0     & 14.4  &  7.6  & 39018 & 36.88 &  6   \\\\\n",
              "\t 4     & 239.1 &  5.0  & 50.3  & 81.0  & 30.5  &  6.2  & 13.0  & 37.6  & 40.1  & 18    & 14    &  4    & 31    & 2     & 11.4  & 10.4  & 57020 & 60.24 & 55   \\\\\n",
              "\t 4     &  48.5 &  8.1  & 49.9  & 89.9  & 36.7  &  4.0  &  2.8  & 20.7  & 70.0  & 23    & 19    &  2    & 19    & 2     & 10.9  &  7.8  & 57255 & 51.49 &  9   \\\\\n",
              "\\end{tabular}\n"
            ],
            "text/markdown": [
              "\n",
              "| region | densidad | veteranos | mujeres | grad_instituto | grad_univ | afro | asia | hispanos | blancos | evangelicos | protestantes | relig_afro | catolicos | mormones | jubilados | paro | salario | obama | diputados |\n",
              "|---|---|---|---|---|---|---|---|---|---|---|---|---|---|---|---|---|---|---|---|\n",
              "| 3     |  94.4 |  8.1  | 51.5  | 82.6  | 22.3  | 26.2  |  1.1  |  3.9  | 67.0  | 49    |  1    | 18    |  6    | 1     | 13.8  |  8.0  | 43464 | 38.36 |  9    |\n",
              "| 4     |   1.2 | 10.1  | 48.0  | 91.6  | 27.5  |  3.3  |  5.4  |  5.5  | 64.1  | 26    | 19    |  2    | 14    | 4     |  7.7  |  7.6  | 63648 | 40.81 |  3    |\n",
              "| 4     |  56.3 |  8.2  | 50.3  | 85.4  | 26.6  |  4.1  |  2.8  | 29.6  | 57.8  | 23    | 15    |  2    | 25    | 4     | 13.8  |  8.4  | 47044 | 44.59 | 11    |\n",
              "| 3     |  56.0 |  7.9  | 50.9  | 83.3  | 19.8  | 15.4  |  1.2  |  6.4  | 74.5  | 53    | 16    | 10    |  5    | 0     | 14.4  |  7.6  | 39018 | 36.88 |  6    |\n",
              "| 4     | 239.1 |  5.0  | 50.3  | 81.0  | 30.5  |  6.2  | 13.0  | 37.6  | 40.1  | 18    | 14    |  4    | 31    | 2     | 11.4  | 10.4  | 57020 | 60.24 | 55    |\n",
              "| 4     |  48.5 |  8.1  | 49.9  | 89.9  | 36.7  |  4.0  |  2.8  | 20.7  | 70.0  | 23    | 19    |  2    | 19    | 2     | 10.9  |  7.8  | 57255 | 51.49 |  9    |\n",
              "\n"
            ],
            "text/plain": [
              "  region densidad veteranos mujeres grad_instituto grad_univ afro asia hispanos\n",
              "1 3       94.4     8.1      51.5    82.6           22.3      26.2  1.1  3.9    \n",
              "2 4        1.2    10.1      48.0    91.6           27.5       3.3  5.4  5.5    \n",
              "3 4       56.3     8.2      50.3    85.4           26.6       4.1  2.8 29.6    \n",
              "4 3       56.0     7.9      50.9    83.3           19.8      15.4  1.2  6.4    \n",
              "5 4      239.1     5.0      50.3    81.0           30.5       6.2 13.0 37.6    \n",
              "6 4       48.5     8.1      49.9    89.9           36.7       4.0  2.8 20.7    \n",
              "  blancos evangelicos protestantes relig_afro catolicos mormones jubilados paro\n",
              "1 67.0    49           1           18          6        1        13.8       8.0\n",
              "2 64.1    26          19            2         14        4         7.7       7.6\n",
              "3 57.8    23          15            2         25        4        13.8       8.4\n",
              "4 74.5    53          16           10          5        0        14.4       7.6\n",
              "5 40.1    18          14            4         31        2        11.4      10.4\n",
              "6 70.0    23          19            2         19        2        10.9       7.8\n",
              "  salario obama diputados\n",
              "1 43464   38.36  9       \n",
              "2 63648   40.81  3       \n",
              "3 47044   44.59 11       \n",
              "4 39018   36.88  6       \n",
              "5 57020   60.24 55       \n",
              "6 57255   51.49  9       "
            ]
          },
          "metadata": {},
          "output_type": "display_data"
        }
      ],
      "source": [
        "# Visualizamos la base de datos seleccionada (podemos utilizar las BD zdata o wdata indistintamente)\n",
        "head(wdata)"
      ]
    },
    {
      "cell_type": "markdown",
      "metadata": {
        "id": "wQ_V78Ps6u-i"
      },
      "source": [
        "<div style=\"background-color:#5DADE2\"><b>Apartado 2</b></div>"
      ]
    },
    {
      "cell_type": "markdown",
      "metadata": {
        "id": "ovliAtaC6u-i"
      },
      "source": [
        " Proceso de automatización del proceso de selección del mejor modelo"
      ]
    },
    {
      "cell_type": "code",
      "execution_count": null,
      "metadata": {
        "id": "LFbO1JLY6u-j",
        "outputId": "6de57f36-539d-4b2b-fe97-6c81b1c6fda8"
      },
      "outputs": [
        {
          "data": {
            "text/plain": [
              "\n",
              "Call:\n",
              "lm(formula = obama ~ ., data = wdata)\n",
              "\n",
              "Residuals:\n",
              "    Min      1Q  Median      3Q     Max \n",
              "-8.0109 -2.2652  0.4366  1.7794 12.4711 \n",
              "\n",
              "Coefficients:\n",
              "                 Estimate Std. Error t value Pr(>|t|)    \n",
              "(Intercept)    -1.464e+02  1.747e+02  -0.838 0.408275    \n",
              "region         -2.145e+00  1.714e+00  -1.251 0.220294    \n",
              "densidad        2.133e-03  1.155e-03   1.846 0.074472 .  \n",
              "veteranos       3.909e-01  1.259e+00   0.311 0.758220    \n",
              "mujeres         1.487e+00  3.250e+00   0.457 0.650507    \n",
              "grad_instituto  6.418e-01  5.968e-01   1.076 0.290449    \n",
              "grad_univ       8.180e-01  3.982e-01   2.054 0.048457 *  \n",
              "afro           -3.334e-02  4.630e-01  -0.072 0.943056    \n",
              "asia            1.362e+00  4.382e-01   3.107 0.004025 ** \n",
              "hispanos        5.531e-01  3.185e-01   1.737 0.092399 .  \n",
              "blancos         3.252e-01  2.590e-01   1.256 0.218547    \n",
              "evangelicos    -1.851e-01  1.186e-01  -1.561 0.128653    \n",
              "protestantes    1.957e-01  1.868e-01   1.048 0.302967    \n",
              "relig_afro      7.583e-01  6.971e-01   1.088 0.285030    \n",
              "catolicos      -6.768e-02  1.965e-01  -0.344 0.732902    \n",
              "mormones       -3.139e-01  1.652e-01  -1.900 0.066791 .  \n",
              "jubilados       2.357e-01  9.611e-01   0.245 0.807841    \n",
              "paro            2.237e+00  5.955e-01   3.757 0.000714 ***\n",
              "salario        -1.813e-04  1.766e-04  -1.027 0.312536    \n",
              "diputados      -1.425e-01  1.287e-01  -1.107 0.276850    \n",
              "---\n",
              "Signif. codes:  0 '***' 0.001 '**' 0.01 '*' 0.05 '.' 0.1 ' ' 1\n",
              "\n",
              "Residual standard error: 4.869 on 31 degrees of freedom\n",
              "Multiple R-squared:  0.8946,\tAdjusted R-squared:  0.8301 \n",
              "F-statistic: 13.86 on 19 and 31 DF,  p-value: 2.936e-10\n"
            ]
          },
          "metadata": {},
          "output_type": "display_data"
        }
      ],
      "source": [
        "# 1º Tenemos que estimar el modelo con todas las variables\n",
        "mod_full=lm(obama ~ ., data = wdata)\n",
        "summary(mod_full)"
      ]
    },
    {
      "cell_type": "code",
      "execution_count": null,
      "metadata": {
        "id": "mkmJckbG6u-j",
        "outputId": "9b000634-61b6-4c7f-c411-020ac0bd5d29"
      },
      "outputs": [
        {
          "name": "stdout",
          "output_type": "stream",
          "text": [
            "Start:  AIC=176.06\n",
            "obama ~ region + densidad + veteranos + mujeres + grad_instituto + \n",
            "    grad_univ + afro + asia + hispanos + blancos + evangelicos + \n",
            "    protestantes + relig_afro + catolicos + mormones + jubilados + \n",
            "    paro + salario + diputados\n",
            "\n",
            "                 Df Sum of Sq     RSS    AIC\n",
            "- afro            1      0.12  734.94 174.07\n",
            "- jubilados       1      1.43  736.24 174.16\n",
            "- veteranos       1      2.29  737.10 174.22\n",
            "- catolicos       1      2.81  737.63 174.25\n",
            "- mujeres         1      4.96  739.78 174.40\n",
            "- salario         1     24.98  759.80 175.76\n",
            "- protestantes    1     26.01  760.83 175.83\n",
            "- grad_instituto  1     27.42  762.24 175.93\n",
            "- relig_afro      1     28.05  762.87 175.97\n",
            "- diputados       1     29.04  763.86 176.03\n",
            "<none>                         734.82 176.06\n",
            "- region          1     37.10  771.91 176.57\n",
            "- blancos         1     37.39  772.20 176.59\n",
            "- evangelicos     1     57.77  792.58 177.92\n",
            "- hispanos        1     71.48  806.30 178.79\n",
            "- densidad        1     80.77  815.59 179.38\n",
            "- mormones        1     85.56  820.37 179.68\n",
            "- grad_univ       1    100.04  834.85 180.57\n",
            "- asia            1    228.82  963.63 187.88\n",
            "- paro            1    334.60 1069.41 193.19\n",
            "\n",
            "Step:  AIC=174.07\n",
            "obama ~ region + densidad + veteranos + mujeres + grad_instituto + \n",
            "    grad_univ + asia + hispanos + blancos + evangelicos + protestantes + \n",
            "    relig_afro + catolicos + mormones + jubilados + paro + salario + \n",
            "    diputados\n",
            "\n",
            "                 Df Sum of Sq     RSS    AIC\n",
            "- jubilados       1      1.36  736.30 172.16\n",
            "- veteranos       1      2.38  737.32 172.23\n",
            "- catolicos       1      2.78  737.72 172.26\n",
            "- mujeres         1      4.90  739.84 172.41\n",
            "- salario         1     24.93  759.87 173.77\n",
            "- protestantes    1     26.36  761.30 173.86\n",
            "- grad_instituto  1     27.93  762.87 173.97\n",
            "<none>                         734.94 174.07\n",
            "- diputados       1     30.12  765.06 174.12\n",
            "- region          1     37.20  772.14 174.58\n",
            "- blancos         1     52.74  787.68 175.60\n",
            "- evangelicos     1     57.73  792.67 175.92\n",
            "- relig_afro      1     62.42  797.36 176.22\n",
            "- mormones        1     87.23  822.17 177.79\n",
            "- hispanos        1     92.87  827.80 178.13\n",
            "- densidad        1     94.14  829.08 178.21\n",
            "- grad_univ       1    103.05  837.99 178.76\n",
            "- asia            1    292.53 1027.47 189.15\n",
            "- paro            1    350.86 1085.80 191.97\n",
            "\n",
            "Step:  AIC=172.16\n",
            "obama ~ region + densidad + veteranos + mujeres + grad_instituto + \n",
            "    grad_univ + asia + hispanos + blancos + evangelicos + protestantes + \n",
            "    relig_afro + catolicos + mormones + paro + salario + diputados\n",
            "\n",
            "                 Df Sum of Sq     RSS    AIC\n",
            "- catolicos       1      1.81  738.10 170.28\n",
            "- veteranos       1      4.79  741.09 170.49\n",
            "- mujeres         1     18.66  754.96 171.44\n",
            "- salario         1     26.97  763.27 172.00\n",
            "- protestantes    1     27.03  763.32 172.00\n",
            "- diputados       1     28.78  765.08 172.12\n",
            "<none>                         736.30 172.16\n",
            "- grad_instituto  1     33.75  770.05 172.45\n",
            "- region          1     35.91  772.21 172.59\n",
            "- blancos         1     52.88  789.18 173.70\n",
            "- evangelicos     1     56.81  793.11 173.95\n",
            "- relig_afro      1     62.74  799.04 174.33\n",
            "- mormones        1     90.02  826.32 176.04\n",
            "- hispanos        1     92.00  828.30 176.16\n",
            "- densidad        1     99.29  835.58 176.61\n",
            "- grad_univ       1    117.73  854.03 177.72\n",
            "- asia            1    296.70 1033.00 187.43\n",
            "- paro            1    357.29 1093.58 190.34\n",
            "\n",
            "Step:  AIC=170.29\n",
            "obama ~ region + densidad + veteranos + mujeres + grad_instituto + \n",
            "    grad_univ + asia + hispanos + blancos + evangelicos + protestantes + \n",
            "    relig_afro + mormones + paro + salario + diputados\n",
            "\n",
            "                 Df Sum of Sq     RSS    AIC\n",
            "- veteranos       1      8.86  746.97 168.89\n",
            "- mujeres         1     25.03  763.14 169.99\n",
            "- salario         1     25.23  763.33 170.00\n",
            "- diputados       1     27.08  765.18 170.12\n",
            "<none>                         738.10 170.28\n",
            "- protestantes    1     31.86  769.97 170.44\n",
            "- grad_instituto  1     31.94  770.05 170.45\n",
            "- region          1     37.06  775.16 170.78\n",
            "- blancos         1     52.68  790.79 171.80\n",
            "- relig_afro      1     61.82  799.92 172.39\n",
            "- evangelicos     1     68.02  806.12 172.78\n",
            "- densidad        1     98.39  836.49 174.67\n",
            "- hispanos        1    106.98  845.08 175.19\n",
            "- mormones        1    110.03  848.14 175.37\n",
            "- grad_univ       1    116.40  854.51 175.75\n",
            "- asia            1    328.27 1066.37 187.05\n",
            "- paro            1    355.92 1094.03 188.36\n",
            "\n",
            "Step:  AIC=168.89\n",
            "obama ~ region + densidad + mujeres + grad_instituto + grad_univ + \n",
            "    asia + hispanos + blancos + evangelicos + protestantes + \n",
            "    relig_afro + mormones + paro + salario + diputados\n",
            "\n",
            "                 Df Sum of Sq     RSS    AIC\n",
            "- salario         1     23.05  770.02 168.44\n",
            "- region          1     28.42  775.39 168.80\n",
            "- mujeres         1     29.00  775.97 168.84\n",
            "<none>                         746.97 168.89\n",
            "- protestantes    1     33.87  780.84 169.16\n",
            "- grad_instituto  1     41.38  788.35 169.64\n",
            "- diputados       1     51.81  798.78 170.31\n",
            "- blancos         1     51.83  798.79 170.31\n",
            "- relig_afro      1     58.39  805.36 170.73\n",
            "- evangelicos     1     69.44  816.41 171.43\n",
            "- densidad        1     89.84  836.81 172.69\n",
            "- hispanos        1    105.34  852.31 173.62\n",
            "- grad_univ       1    108.32  855.29 173.80\n",
            "- mormones        1    205.07  952.04 179.27\n",
            "- asia            1    322.86 1069.83 185.22\n",
            "- paro            1    350.98 1097.95 186.54\n",
            "\n",
            "Step:  AIC=168.44\n",
            "obama ~ region + densidad + mujeres + grad_instituto + grad_univ + \n",
            "    asia + hispanos + blancos + evangelicos + protestantes + \n",
            "    relig_afro + mormones + paro + diputados\n",
            "\n",
            "                 Df Sum of Sq     RSS    AIC\n",
            "- region          1     21.27  791.29 167.83\n",
            "<none>                         770.02 168.44\n",
            "- protestantes    1     34.40  804.42 168.67\n",
            "- grad_instituto  1     40.82  810.84 169.08\n",
            "- blancos         1     44.53  814.55 169.31\n",
            "- relig_afro      1     48.08  818.10 169.53\n",
            "- diputados       1     52.05  822.07 169.78\n",
            "- evangelicos     1     59.30  829.33 170.23\n",
            "- mujeres         1     61.94  831.96 170.39\n",
            "- grad_univ       1     91.30  861.32 172.16\n",
            "- densidad        1     97.14  867.17 172.50\n",
            "- hispanos        1    100.26  870.28 172.69\n",
            "- mormones        1    202.76  972.79 178.37\n",
            "- asia            1    304.77 1074.80 183.45\n",
            "- paro            1    350.16 1120.18 185.56\n",
            "\n",
            "Step:  AIC=167.83\n",
            "obama ~ densidad + mujeres + grad_instituto + grad_univ + asia + \n",
            "    hispanos + blancos + evangelicos + protestantes + relig_afro + \n",
            "    mormones + paro + diputados\n",
            "\n",
            "                 Df Sum of Sq     RSS    AIC\n",
            "- protestantes    1     29.27  820.56 167.69\n",
            "<none>                         791.29 167.83\n",
            "- relig_afro      1     34.64  825.93 168.02\n",
            "- diputados       1     37.99  829.28 168.22\n",
            "- grad_instituto  1     39.47  830.76 168.32\n",
            "- blancos         1     40.48  831.77 168.38\n",
            "- hispanos        1     81.36  872.65 170.82\n",
            "- densidad        1     81.54  872.83 170.84\n",
            "- grad_univ       1     97.50  888.79 171.76\n",
            "- evangelicos     1    104.90  896.19 172.18\n",
            "- mujeres         1    147.93  939.22 174.57\n",
            "- asia            1    285.33 1076.62 181.54\n",
            "- mormones        1    288.17 1079.46 181.67\n",
            "- paro            1    332.69 1123.98 183.73\n",
            "\n",
            "Step:  AIC=167.69\n",
            "obama ~ densidad + mujeres + grad_instituto + grad_univ + asia + \n",
            "    hispanos + blancos + evangelicos + relig_afro + mormones + \n",
            "    paro + diputados\n",
            "\n",
            "                 Df Sum of Sq     RSS    AIC\n",
            "- diputados       1     24.80  845.36 167.21\n",
            "- relig_afro      1     29.44  850.00 167.48\n",
            "<none>                         820.56 167.69\n",
            "- blancos         1     47.93  868.49 168.58\n",
            "- grad_instituto  1     65.43  885.99 169.60\n",
            "- hispanos        1     81.44  902.00 170.51\n",
            "- grad_univ       1     81.58  902.14 170.52\n",
            "- evangelicos     1     92.20  912.76 171.12\n",
            "- densidad        1    126.62  947.18 173.00\n",
            "- mujeres         1    144.26  964.83 173.95\n",
            "- asia            1    293.26 1113.82 181.27\n",
            "- paro            1    304.57 1125.14 181.78\n",
            "- mormones        1    542.00 1362.56 191.55\n",
            "\n",
            "Step:  AIC=167.2\n",
            "obama ~ densidad + mujeres + grad_instituto + grad_univ + asia + \n",
            "    hispanos + blancos + evangelicos + relig_afro + mormones + \n",
            "    paro\n",
            "\n",
            "                 Df Sum of Sq     RSS    AIC\n",
            "- relig_afro      1     18.06  863.42 166.28\n",
            "- blancos         1     32.44  877.80 167.12\n",
            "<none>                         845.36 167.21\n",
            "- hispanos        1     59.58  904.94 168.68\n",
            "- grad_univ       1     67.63  912.99 169.13\n",
            "- evangelicos     1     86.38  931.74 170.17\n",
            "- grad_instituto  1     88.22  933.58 170.27\n",
            "- densidad        1    135.15  980.51 172.77\n",
            "- mujeres         1    159.05 1004.41 174.00\n",
            "- asia            1    268.62 1113.98 179.28\n",
            "- paro            1    291.91 1137.27 180.33\n",
            "- mormones        1    517.47 1362.83 189.56\n",
            "\n",
            "Step:  AIC=166.28\n",
            "obama ~ densidad + mujeres + grad_instituto + grad_univ + asia + \n",
            "    hispanos + blancos + evangelicos + mormones + paro\n",
            "\n",
            "                 Df Sum of Sq     RSS    AIC\n",
            "- blancos         1     16.03  879.45 165.22\n",
            "<none>                         863.42 166.28\n",
            "- hispanos        1     52.93  916.35 167.32\n",
            "- evangelicos     1     73.35  936.77 168.44\n",
            "- grad_instituto  1     77.62  941.04 168.67\n",
            "- grad_univ       1     78.03  941.45 168.70\n",
            "- densidad        1    119.25  982.67 170.88\n",
            "- mujeres         1    278.56 1141.98 178.54\n",
            "- paro            1    307.75 1171.17 179.83\n",
            "- asia            1    465.03 1328.45 186.26\n",
            "- mormones        1    501.07 1364.49 187.62\n",
            "\n",
            "Step:  AIC=165.22\n",
            "obama ~ densidad + mujeres + grad_instituto + grad_univ + asia + \n",
            "    hispanos + evangelicos + mormones + paro\n",
            "\n",
            "                 Df Sum of Sq     RSS    AIC\n",
            "<none>                         879.45 165.22\n",
            "- hispanos        1     37.14  916.59 165.33\n",
            "- grad_univ       1     70.03  949.47 167.13\n",
            "- evangelicos     1     84.02  963.47 167.87\n",
            "- densidad        1    103.52  982.97 168.90\n",
            "- grad_instituto  1    119.32  998.77 169.71\n",
            "- mujeres         1    285.19 1164.63 177.54\n",
            "- paro            1    305.27 1184.71 178.42\n",
            "- mormones        1    492.00 1371.45 185.88\n",
            "- asia            1    775.31 1654.76 195.46\n"
          ]
        },
        {
          "data": {
            "text/plain": [
              "\n",
              "Call:\n",
              "lm(formula = obama ~ densidad + mujeres + grad_instituto + grad_univ + \n",
              "    asia + hispanos + evangelicos + mormones + paro, data = wdata)\n",
              "\n",
              "Coefficients:\n",
              "   (Intercept)        densidad         mujeres  grad_instituto       grad_univ  \n",
              "    -3.263e+02       1.555e-03       5.087e+00       1.056e+00       4.207e-01  \n",
              "          asia        hispanos     evangelicos        mormones            paro  \n",
              "     7.629e-01       1.379e-01      -1.596e-01      -3.967e-01       1.854e+00  \n"
            ]
          },
          "metadata": {},
          "output_type": "display_data"
        }
      ],
      "source": [
        "# 2º Búsqueda automática del modelo óptimo hacia atrás\n",
        "#usamos la función step, eliminando paso a paso las variables menos importantes, basándose en criterios como el AIC.\n",
        "step(mod_full,direction=\"backward\") # definimos el parametro backward que indica un enfoque elimiación hacia atras"
      ]
    },
    {
      "cell_type": "markdown",
      "metadata": {
        "id": "WO_-Ki356u-j"
      },
      "source": [
        "\n",
        "**<u>Interpretación resultados</u>.-** El modelo final (AIC=165.22) es una versión simplificada del modelo inicial (AIC=176.06) , a medida que va quitando variables  su AIC es más bajo. Este modelo puede ser más efectivo y eficiente para comprender y predecir la variable dependiente \"obama\" en comparación con el modelo inicial que incluía todas las variables.\n"
      ]
    },
    {
      "cell_type": "code",
      "execution_count": null,
      "metadata": {
        "id": "sUs4HQLf6u-k",
        "outputId": "1b274d34-a944-48b8-f859-aafb86acba2e"
      },
      "outputs": [
        {
          "data": {
            "text/plain": [
              "\n",
              "Call:\n",
              "lm(formula = obama ~ 1, data = wdata)\n",
              "\n",
              "Residuals:\n",
              "    Min      1Q  Median      3Q     Max \n",
              "-24.276  -8.801   1.644   7.189  41.884 \n",
              "\n",
              "Coefficients:\n",
              "            Estimate Std. Error t value Pr(>|t|)    \n",
              "(Intercept)   49.026      1.654   29.64   <2e-16 ***\n",
              "---\n",
              "Signif. codes:  0 '***' 0.001 '**' 0.01 '*' 0.05 '.' 0.1 ' ' 1\n",
              "\n",
              "Residual standard error: 11.81 on 50 degrees of freedom\n"
            ]
          },
          "metadata": {},
          "output_type": "display_data"
        }
      ],
      "source": [
        "# 1º Tenemos que estimar el modelo más sencillo (modelo cte)\n",
        "mod_cte= lm(obama~1,data=wdata)\n",
        "summary(mod_cte)"
      ]
    },
    {
      "cell_type": "code",
      "execution_count": null,
      "metadata": {
        "id": "7c836FcC6u-k",
        "outputId": "e6cdfa48-2869-44f1-f292-44e38d746331"
      },
      "outputs": [
        {
          "name": "stdout",
          "output_type": "stream",
          "text": [
            "Start:  AIC=252.83\n",
            "obama ~ 1\n",
            "\n",
            "                 Df Sum of Sq    RSS    AIC\n",
            "+ grad_univ       1    3570.6 3404.3 218.25\n",
            "+ densidad        1    2378.5 4596.4 233.56\n",
            "+ mujeres         1    1702.0 5272.9 240.56\n",
            "+ catolicos       1    1549.6 5425.3 242.02\n",
            "+ salario         1    1351.1 5623.8 243.85\n",
            "+ blancos         1    1285.0 5689.9 244.45\n",
            "+ asia            1    1174.4 5800.5 245.43\n",
            "+ evangelicos     1    1129.4 5845.5 245.82\n",
            "+ mormones        1     843.4 6131.5 248.26\n",
            "+ paro            1     795.7 6179.2 248.65\n",
            "+ veteranos       1     739.8 6235.1 249.11\n",
            "+ region          1     578.7 6396.2 250.41\n",
            "+ afro            1     560.3 6414.6 250.56\n",
            "<none>                        6974.9 252.83\n",
            "+ hispanos        1     178.9 6796.1 253.51\n",
            "+ diputados       1     153.4 6821.5 253.70\n",
            "+ jubilados       1     100.2 6874.7 254.09\n",
            "+ relig_afro      1      98.4 6876.5 254.11\n",
            "+ grad_instituto  1      66.3 6908.6 254.34\n",
            "+ protestantes    1       2.6 6972.3 254.81\n",
            "\n",
            "Step:  AIC=218.25\n",
            "obama ~ grad_univ\n",
            "\n",
            "                 Df Sum of Sq    RSS    AIC\n",
            "+ paro            1    796.92 2607.4 206.65\n",
            "+ mormones        1    768.88 2635.4 207.19\n",
            "+ mujeres         1    612.74 2791.6 210.13\n",
            "+ asia            1    570.04 2834.3 210.90\n",
            "+ jubilados       1    535.64 2868.7 211.52\n",
            "+ blancos         1    478.34 2926.0 212.53\n",
            "+ grad_instituto  1    278.78 3125.5 215.89\n",
            "+ salario         1    232.01 3172.3 216.65\n",
            "+ catolicos       1    224.72 3179.6 216.77\n",
            "+ densidad        1    192.46 3211.9 217.28\n",
            "+ afro            1    189.70 3214.6 217.33\n",
            "+ relig_afro      1    144.20 3260.1 218.04\n",
            "<none>                        3404.3 218.25\n",
            "+ region          1    109.94 3294.4 218.57\n",
            "+ diputados       1    102.72 3301.6 218.69\n",
            "+ hispanos        1     33.17 3371.1 219.75\n",
            "+ veteranos       1     24.68 3379.6 219.88\n",
            "+ protestantes    1      1.33 3403.0 220.23\n",
            "+ evangelicos     1      0.06 3404.3 220.25\n",
            "\n",
            "Step:  AIC=206.65\n",
            "obama ~ grad_univ + paro\n",
            "\n",
            "                 Df Sum of Sq    RSS    AIC\n",
            "+ jubilados       1    697.91 1909.5 192.76\n",
            "+ mormones        1    599.32 2008.1 195.33\n",
            "+ asia            1    500.24 2107.2 197.78\n",
            "+ protestantes    1    236.96 2370.4 203.79\n",
            "+ mujeres         1    223.82 2383.6 204.07\n",
            "+ catolicos       1    205.33 2402.1 204.47\n",
            "+ region          1    199.95 2407.4 204.58\n",
            "+ blancos         1    109.25 2498.2 206.47\n",
            "<none>                        2607.4 206.65\n",
            "+ salario         1     51.92 2555.5 207.62\n",
            "+ densidad        1     46.56 2560.8 207.73\n",
            "+ evangelicos     1     26.41 2581.0 208.13\n",
            "+ veteranos       1     21.56 2585.8 208.22\n",
            "+ hispanos        1     16.99 2590.4 208.31\n",
            "+ afro            1      5.26 2602.2 208.55\n",
            "+ relig_afro      1      1.20 2606.2 208.62\n",
            "+ grad_instituto  1      0.41 2607.0 208.64\n",
            "+ diputados       1      0.40 2607.0 208.64\n",
            "\n",
            "Step:  AIC=192.76\n",
            "obama ~ grad_univ + paro + jubilados\n",
            "\n",
            "                 Df Sum of Sq    RSS    AIC\n",
            "+ asia            1    541.43 1368.1 177.76\n",
            "+ blancos         1    358.99 1550.5 184.14\n",
            "+ mormones        1    202.84 1706.7 189.03\n",
            "<none>                        1909.5 192.76\n",
            "+ protestantes    1     51.06 1858.4 193.38\n",
            "+ densidad        1     32.19 1877.3 193.89\n",
            "+ catolicos       1     28.55 1880.9 193.99\n",
            "+ afro            1     19.86 1889.6 194.23\n",
            "+ relig_afro      1     16.25 1893.2 194.32\n",
            "+ evangelicos     1      5.58 1903.9 194.61\n",
            "+ grad_instituto  1      5.38 1904.1 194.62\n",
            "+ veteranos       1      3.43 1906.1 194.67\n",
            "+ hispanos        1      2.71 1906.8 194.69\n",
            "+ diputados       1      2.13 1907.4 194.70\n",
            "+ mujeres         1      1.22 1908.3 194.73\n",
            "+ region          1      0.76 1908.7 194.74\n",
            "+ salario         1      0.08 1909.4 194.76\n",
            "\n",
            "Step:  AIC=177.76\n",
            "obama ~ grad_univ + paro + jubilados + asia\n",
            "\n",
            "                 Df Sum of Sq    RSS    AIC\n",
            "+ mormones        1   216.485 1151.6 170.97\n",
            "+ densidad        1    86.622 1281.5 176.42\n",
            "+ protestantes    1    75.962 1292.1 176.84\n",
            "+ afro            1    75.783 1292.3 176.85\n",
            "+ region          1    70.435 1297.6 177.06\n",
            "+ relig_afro      1    66.607 1301.5 177.21\n",
            "+ mujeres         1    65.356 1302.7 177.26\n",
            "<none>                        1368.1 177.76\n",
            "+ blancos         1    37.071 1331.0 178.35\n",
            "+ catolicos       1    17.899 1350.2 179.08\n",
            "+ salario         1    16.466 1351.6 179.14\n",
            "+ grad_instituto  1     9.535 1358.5 179.40\n",
            "+ diputados       1     4.143 1363.9 179.60\n",
            "+ hispanos        1     2.982 1365.1 179.65\n",
            "+ evangelicos     1     2.290 1365.8 179.67\n",
            "+ veteranos       1     0.006 1368.1 179.76\n",
            "\n",
            "Step:  AIC=170.97\n",
            "obama ~ grad_univ + paro + jubilados + asia + mormones\n",
            "\n",
            "                 Df Sum of Sq    RSS    AIC\n",
            "+ densidad        1    76.270 1075.3 169.48\n",
            "+ evangelicos     1    53.540 1098.0 170.54\n",
            "<none>                        1151.6 170.97\n",
            "+ mujeres         1    40.976 1110.6 171.12\n",
            "+ region          1    31.021 1120.6 171.58\n",
            "+ afro            1    23.273 1128.3 171.93\n",
            "+ diputados       1    17.817 1133.8 172.18\n",
            "+ relig_afro      1    17.253 1134.3 172.20\n",
            "+ salario         1    15.844 1135.7 172.26\n",
            "+ protestantes    1    14.215 1137.4 172.34\n",
            "+ catolicos       1    11.995 1139.6 172.44\n",
            "+ veteranos       1     8.909 1142.7 172.57\n",
            "+ blancos         1     7.347 1144.2 172.64\n",
            "+ hispanos        1     0.410 1151.2 172.95\n",
            "+ grad_instituto  1     0.211 1151.4 172.96\n",
            "\n",
            "Step:  AIC=169.48\n",
            "obama ~ grad_univ + paro + jubilados + asia + mormones + densidad\n",
            "\n",
            "                 Df Sum of Sq     RSS    AIC\n",
            "+ evangelicos     1    93.303  982.01 166.85\n",
            "+ region          1    59.029 1016.28 168.60\n",
            "+ catolicos       1    53.590 1021.72 168.87\n",
            "<none>                        1075.31 169.48\n",
            "+ mujeres         1    14.991 1060.32 170.76\n",
            "+ protestantes    1    11.516 1063.80 170.93\n",
            "+ grad_instituto  1     8.393 1066.92 171.08\n",
            "+ veteranos       1     5.202 1070.11 171.23\n",
            "+ diputados       1     4.543 1070.77 171.26\n",
            "+ relig_afro      1     1.199 1074.11 171.42\n",
            "+ salario         1     1.142 1074.17 171.42\n",
            "+ hispanos        1     0.946 1074.37 171.43\n",
            "+ blancos         1     0.125 1075.19 171.47\n",
            "+ afro            1     0.079 1075.23 171.47\n",
            "\n",
            "Step:  AIC=166.85\n",
            "obama ~ grad_univ + paro + jubilados + asia + mormones + densidad + \n",
            "    evangelicos\n",
            "\n",
            "                 Df Sum of Sq    RSS    AIC\n",
            "+ mujeres         1    48.810 933.20 166.25\n",
            "<none>                        982.01 166.85\n",
            "+ region          1    32.949 949.06 167.11\n",
            "+ relig_afro      1    23.750 958.26 167.60\n",
            "+ salario         1    15.875 966.14 168.01\n",
            "+ afro            1    15.175 966.84 168.05\n",
            "+ protestantes    1     9.160 972.85 168.37\n",
            "+ diputados       1     6.407 975.60 168.51\n",
            "+ veteranos       1     2.443 979.57 168.72\n",
            "+ hispanos        1     2.345 979.67 168.72\n",
            "+ catolicos       1     1.624 980.39 168.76\n",
            "+ grad_instituto  1     0.767 981.24 168.81\n",
            "+ blancos         1     0.485 981.53 168.82\n",
            "\n",
            "Step:  AIC=166.25\n",
            "obama ~ grad_univ + paro + jubilados + asia + mormones + densidad + \n",
            "    evangelicos + mujeres\n",
            "\n",
            "                 Df Sum of Sq    RSS    AIC\n",
            "+ protestantes    1    39.804 893.40 166.02\n",
            "+ grad_instituto  1    36.193 897.01 166.23\n",
            "<none>                        933.20 166.25\n",
            "+ diputados       1    15.688 917.51 167.38\n",
            "+ region          1     8.478 924.72 167.78\n",
            "+ blancos         1     8.406 924.79 167.78\n",
            "+ veteranos       1     5.987 927.21 167.92\n",
            "+ salario         1     5.677 927.52 167.94\n",
            "+ afro            1     2.035 931.17 168.13\n",
            "+ catolicos       1     1.309 931.89 168.18\n",
            "+ hispanos        1     0.721 932.48 168.21\n",
            "+ relig_afro      1     0.072 933.13 168.24\n",
            "\n",
            "Step:  AIC=166.02\n",
            "obama ~ grad_univ + paro + jubilados + asia + mormones + densidad + \n",
            "    evangelicos + mujeres + protestantes\n",
            "\n",
            "                 Df Sum of Sq    RSS    AIC\n",
            "<none>                        893.40 166.02\n",
            "+ diputados       1   19.5553 873.84 166.90\n",
            "+ grad_instituto  1   16.7478 876.65 167.06\n",
            "+ salario         1    8.9280 884.47 167.51\n",
            "+ veteranos       1    7.3134 886.08 167.60\n",
            "+ catolicos       1    5.6097 887.79 167.70\n",
            "+ region          1    3.0928 890.30 167.85\n",
            "+ relig_afro      1    1.4461 891.95 167.94\n",
            "+ hispanos        1    0.8189 892.58 167.98\n",
            "+ afro            1    0.1707 893.23 168.01\n",
            "+ blancos         1    0.1146 893.28 168.02\n"
          ]
        },
        {
          "data": {
            "text/plain": [
              "\n",
              "Call:\n",
              "lm(formula = obama ~ grad_univ + paro + jubilados + asia + mormones + \n",
              "    densidad + evangelicos + mujeres + protestantes, data = wdata)\n",
              "\n",
              "Coefficients:\n",
              " (Intercept)     grad_univ          paro     jubilados          asia  \n",
              "  -1.365e+02     8.494e-01     2.043e+00     7.263e-01     7.332e-01  \n",
              "    mormones      densidad   evangelicos       mujeres  protestantes  \n",
              "  -2.833e-01     1.134e-03    -1.956e-01     2.678e+00     1.972e-01  \n"
            ]
          },
          "metadata": {},
          "output_type": "display_data"
        }
      ],
      "source": [
        "# 2º Búsqueda automática del modelo óptimo hacia delante\n",
        "step(mod_cte,direction=\"forward\",scope=list(lower=mod_cte, upper=mod_full)) # con forward hay que poner el scope"
      ]
    },
    {
      "cell_type": "markdown",
      "metadata": {
        "id": "5-PCY-6x6u-k"
      },
      "source": [
        "\n",
        "**<u>Interpretación resultados</u>.-** en este caso el modelo final nos da un AIC=166.02 que es mucho mas bajo que el modelo anterior de procedimiento  backward que indica un enfoque elimiación hacia atras. las variables que tomariamos serian obama ~ grad_univ + paro + jubilados + asia + mormones + densidad +  evangelicos + mujeres\n",
        "\\begin{align*}\n",
        "medvi &= \\hat \\beta_{0} + \\hat \\beta_{1} \\times grad\\_univ_{i} + \\hat \\beta_{2} \\times paro_{i} + \\hat \\beta_{3} \\times jubilados_{i} + \\hat \\beta_{4} \\times asia_{i} + \\hat \\beta_{5} \\times mormones_{i} + \\hat \\beta_{6} \\times densidad_{i} + \\hat \\beta_{7} \\times evangelicos_{i} + \\hat \\beta_{8} \\times mujeres_{i} + \\hat \\beta_{9} \\times protestantes_{i} + \\epsilon_{i} \\quad i=1,\\dots,n\\\\\n",
        "\\end{align*}\n",
        "\n",
        "**donde β^0=-1.365e+02, β^1=8.494e-01, , β^2=2.043e+00 , β^3=7.332e-01 , β^4=7.332e-01  , β^5=-2.833e-01, β^6= 1.134e-03 , β^7=-1.956e-01 β^8= 2.678e+00 y β^9= 1.972e-01**5"
      ]
    },
    {
      "cell_type": "markdown",
      "metadata": {
        "id": "9plVJwdX6u-l"
      },
      "source": [
        "<div style=\"background-color:#5DADE2\"><b>Apartado 3</b></div>"
      ]
    },
    {
      "cell_type": "code",
      "execution_count": null,
      "metadata": {
        "id": "8qvkIJn_6u-l",
        "outputId": "2d3714ec-34cc-40ef-e3b2-77311bf6d6cc"
      },
      "outputs": [
        {
          "data": {
            "text/plain": [
              "\n",
              "Call:\n",
              "lm(formula = obama ~ grad_univ + paro + jubilados + asia + mormones + \n",
              "    densidad + evangelicos + mujeres + protestantes, data = wdata)\n",
              "\n",
              "Residuals:\n",
              "    Min      1Q  Median      3Q     Max \n",
              "-9.7611 -2.5454  0.0064  1.6568 14.2602 \n",
              "\n",
              "Coefficients:\n",
              "               Estimate Std. Error t value Pr(>|t|)    \n",
              "(Intercept)  -1.365e+02  6.496e+01  -2.101 0.041858 *  \n",
              "grad_univ     8.494e-01  2.149e-01   3.952 0.000299 ***\n",
              "paro          2.043e+00  5.051e-01   4.044 0.000226 ***\n",
              "jubilados     7.263e-01  5.969e-01   1.217 0.230706    \n",
              "asia          7.332e-01  1.300e-01   5.639 1.41e-06 ***\n",
              "mormones     -2.833e-01  9.879e-02  -2.868 0.006495 ** \n",
              "densidad      1.134e-03  7.031e-04   1.613 0.114465    \n",
              "evangelicos  -1.956e-01  7.757e-02  -2.522 0.015650 *  \n",
              "mujeres       2.678e+00  1.402e+00   1.910 0.063208 .  \n",
              "protestantes  1.972e-01  1.459e-01   1.352 0.183931    \n",
              "---\n",
              "Signif. codes:  0 '***' 0.001 '**' 0.01 '*' 0.05 '.' 0.1 ' ' 1\n",
              "\n",
              "Residual standard error: 4.668 on 41 degrees of freedom\n",
              "Multiple R-squared:  0.8719,\tAdjusted R-squared:  0.8438 \n",
              "F-statistic: 31.01 on 9 and 41 DF,  p-value: 1.543e-15\n"
            ]
          },
          "metadata": {},
          "output_type": "display_data"
        }
      ],
      "source": [
        "# Ajustando un modelo lineal con la función lm\n",
        "modelo <- lm(formula = obama ~ grad_univ + paro + jubilados + asia + mormones + densidad + evangelicos + mujeres + protestantes, data = wdata)\n",
        "\n",
        "# Ver el resumen del modelo\n",
        "summary(modelo)\n"
      ]
    },
    {
      "cell_type": "code",
      "execution_count": null,
      "metadata": {
        "id": "ZzPJKA2-6u-m",
        "outputId": "fe936d86-bf12-413a-88b6-b2d226e2772a"
      },
      "outputs": [
        {
          "data": {
            "image/png": "[encoded data removed]",
            "text/plain": [
              "Plot with title \"\""
            ]
          },
          "metadata": {},
          "output_type": "display_data"
        }
      ],
      "source": [
        "# Gráfico 1: Diagnosis para ver si los residuos y los valores ajustados están linealmente relacionados\n",
        "plot(modelo, which=1)"
      ]
    },
    {
      "cell_type": "markdown",
      "metadata": {
        "id": "CrJmyCWu6u-m"
      },
      "source": [
        "**<u>Interpretación resultados</u>.-** Esta grafica no tienen un patrón claro de asociación. En este caso,por lo que sería una evidencia positiva"
      ]
    },
    {
      "cell_type": "code",
      "execution_count": null,
      "metadata": {
        "id": "-dJ3mnqp6u-m",
        "outputId": "c7674de2-6bb0-4aa2-d939-d858e3bcddf8"
      },
      "outputs": [
        {
          "data": {
            "image/png": "[encoded data removed]",
            "text/plain": [
              "Plot with title \"\""
            ]
          },
          "metadata": {},
          "output_type": "display_data"
        }
      ],
      "source": [
        "# Gráfico 2: Diagnosis para comprobar si los residuos se distribuyen como una normal\n",
        "plot(modelo, which=2)"
      ]
    },
    {
      "cell_type": "markdown",
      "metadata": {
        "id": "bPTfUNJ56u-n"
      },
      "source": [
        " **<u>Interpretación resultados</u>.-** En este caso aparecen patrones tipo \"S\" por lo que sería una evidencia NEGATIVA de que los residuos no siguen una distribución normal."
      ]
    },
    {
      "cell_type": "code",
      "execution_count": null,
      "metadata": {
        "id": "jC94QE4o6u-n",
        "outputId": "6a9a6d2f-c471-4a43-beab-09a8d6b33c51"
      },
      "outputs": [
        {
          "data": {
            "image/png": "[encoded data removed]",
            "text/plain": [
              "Plot with title \"\""
            ]
          },
          "metadata": {},
          "output_type": "display_data"
        }
      ],
      "source": [
        "# Gráfico 3: Diagnosis para comprobar si la varianza de los residuos es constante\n",
        "plot(modelo, which=3)"
      ]
    },
    {
      "cell_type": "markdown",
      "metadata": {
        "id": "d4zlIg6_6u-n"
      },
      "source": [
        "**<u>Interpretación resultados</u>.-** Para que sea una evidencia positiva en esta gráfica se tiene que poder dibujar una línea en torno a la horizontal. En este caso sería una evidencia NEGATIVA. Es decir, la varianza de los residuos no serían homocedásticos sino heterocedásticos."
      ]
    },
    {
      "cell_type": "code",
      "execution_count": null,
      "metadata": {
        "id": "nqElTu0g6u-o",
        "outputId": "9652b9d9-2a02-4042-d1aa-6007cffde581"
      },
      "outputs": [
        {
          "name": "stderr",
          "output_type": "stream",
          "text": [
            "Warning message in sqrt(crit * p * (1 - hh)/hh):\n",
            "\"Se han producido NaNs\"Warning message in sqrt(crit * p * (1 - hh)/hh):\n",
            "\"Se han producido NaNs\""
          ]
        },
        {
          "data": {
            "image/png": "[encoded data removed]",
            "text/plain": [
              "Plot with title \"\""
            ]
          },
          "metadata": {},
          "output_type": "display_data"
        }
      ],
      "source": [
        "# Gráfico 4: Diagnosis para comprobar si existen observaciones anómalas\n",
        "plot(modelo, which=5)"
      ]
    },
    {
      "cell_type": "markdown",
      "metadata": {
        "id": "ibk3Pglh6u-o"
      },
      "source": [
        "**<u>Interpretación resultados</u>.-** Un punto aberrante es una observación que tiene un valor muy alto del residuo asociado. Para que sea una evidencia positiva en esta gráfica NO deben de exitir puntos con valores muy negativos y muy a la derecha. En este caso, incumple dicha condición.por lo que seria una evidencia NEGATIVA."
      ]
    },
    {
      "cell_type": "code",
      "execution_count": null,
      "metadata": {
        "id": "V8T7-PiR6u-r",
        "outputId": "05f73b0c-80e1-40a8-c5ae-3476ffbdf261"
      },
      "outputs": [
        {
          "data": {
            "text/html": [
              "<table>\n",
              "<thead><tr><th></th><th scope=col>grad_univ</th><th scope=col>paro</th><th scope=col>jubilados</th><th scope=col>asia</th><th scope=col>mormones</th><th scope=col>densidad</th><th scope=col>evangelicos</th><th scope=col>mujeres</th><th scope=col>protestantes</th></tr></thead>\n",
              "<tbody>\n",
              "\t<tr><th scope=row>grad_univ</th><td> 1.0000000000</td><td>-0.0003502951</td><td>-0.21107769  </td><td> 0.18051305  </td><td>-0.02207835  </td><td> 0.63724512  </td><td>-0.55889734  </td><td> 0.29454153  </td><td> 0.04633800  </td></tr>\n",
              "\t<tr><th scope=row>paro</th><td>-0.0003502951</td><td> 1.0000000000</td><td>-0.10771214  </td><td> 0.05369202  </td><td>-0.12142477  </td><td> 0.19852667  </td><td> 0.14150757  </td><td> 0.37120094  </td><td>-0.50941826  </td></tr>\n",
              "\t<tr><th scope=row>jubilados</th><td>-0.2110776868</td><td>-0.1077121382</td><td> 1.00000000  </td><td>-0.07601783  </td><td>-0.40981768  </td><td>-0.12428866  </td><td> 0.01891624  </td><td> 0.35193781  </td><td> 0.31816984  </td></tr>\n",
              "\t<tr><th scope=row>asia</th><td> 0.1805130549</td><td> 0.0536920213</td><td>-0.07601783  </td><td> 1.00000000  </td><td> 0.02161304  </td><td> 0.01398511  </td><td>-0.11957990  </td><td>-0.15143633  </td><td>-0.08141654  </td></tr>\n",
              "\t<tr><th scope=row>mormones</th><td>-0.0220783481</td><td>-0.1214247656</td><td>-0.40981768  </td><td> 0.02161304  </td><td> 1.00000000  </td><td>-0.08036094  </td><td>-0.22799088  </td><td>-0.33579558  </td><td>-0.31783916  </td></tr>\n",
              "\t<tr><th scope=row>densidad</th><td> 0.6372451158</td><td> 0.1985266715</td><td>-0.12428866  </td><td> 0.01398511  </td><td>-0.08036094  </td><td> 1.00000000  </td><td>-0.18730620  </td><td> 0.46583195  </td><td>-0.02392855  </td></tr>\n",
              "\t<tr><th scope=row>evangelicos</th><td>-0.5588973395</td><td> 0.1415075705</td><td> 0.01891624  </td><td>-0.11957990  </td><td>-0.22799088  </td><td>-0.18730620  </td><td> 1.00000000  </td><td> 0.06268464  </td><td>-0.05219487  </td></tr>\n",
              "\t<tr><th scope=row>mujeres</th><td> 0.2945415320</td><td> 0.3712009419</td><td> 0.35193781  </td><td>-0.15143633  </td><td>-0.33579558  </td><td> 0.46583195  </td><td> 0.06268464  </td><td> 1.00000000  </td><td>-0.20051498  </td></tr>\n",
              "\t<tr><th scope=row>protestantes</th><td> 0.0463380038</td><td>-0.5094182631</td><td> 0.31816984  </td><td>-0.08141654  </td><td>-0.31783916  </td><td>-0.02392855  </td><td>-0.05219487  </td><td>-0.20051498  </td><td> 1.00000000  </td></tr>\n",
              "</tbody>\n",
              "</table>\n"
            ],
            "text/latex": [
              "\\begin{tabular}{r|lllllllll}\n",
              "  & grad\\_univ & paro & jubilados & asia & mormones & densidad & evangelicos & mujeres & protestantes\\\\\n",
              "\\hline\n",
              "\tgrad\\_univ &  1.0000000000 & -0.0003502951 & -0.21107769   &  0.18051305   & -0.02207835   &  0.63724512   & -0.55889734   &  0.29454153   &  0.04633800  \\\\\n",
              "\tparo & -0.0003502951 &  1.0000000000 & -0.10771214   &  0.05369202   & -0.12142477   &  0.19852667   &  0.14150757   &  0.37120094   & -0.50941826  \\\\\n",
              "\tjubilados & -0.2110776868 & -0.1077121382 &  1.00000000   & -0.07601783   & -0.40981768   & -0.12428866   &  0.01891624   &  0.35193781   &  0.31816984  \\\\\n",
              "\tasia &  0.1805130549 &  0.0536920213 & -0.07601783   &  1.00000000   &  0.02161304   &  0.01398511   & -0.11957990   & -0.15143633   & -0.08141654  \\\\\n",
              "\tmormones & -0.0220783481 & -0.1214247656 & -0.40981768   &  0.02161304   &  1.00000000   & -0.08036094   & -0.22799088   & -0.33579558   & -0.31783916  \\\\\n",
              "\tdensidad &  0.6372451158 &  0.1985266715 & -0.12428866   &  0.01398511   & -0.08036094   &  1.00000000   & -0.18730620   &  0.46583195   & -0.02392855  \\\\\n",
              "\tevangelicos & -0.5588973395 &  0.1415075705 &  0.01891624   & -0.11957990   & -0.22799088   & -0.18730620   &  1.00000000   &  0.06268464   & -0.05219487  \\\\\n",
              "\tmujeres &  0.2945415320 &  0.3712009419 &  0.35193781   & -0.15143633   & -0.33579558   &  0.46583195   &  0.06268464   &  1.00000000   & -0.20051498  \\\\\n",
              "\tprotestantes &  0.0463380038 & -0.5094182631 &  0.31816984   & -0.08141654   & -0.31783916   & -0.02392855   & -0.05219487   & -0.20051498   &  1.00000000  \\\\\n",
              "\\end{tabular}\n"
            ],
            "text/markdown": [
              "\n",
              "| <!--/--> | grad_univ | paro | jubilados | asia | mormones | densidad | evangelicos | mujeres | protestantes |\n",
              "|---|---|---|---|---|---|---|---|---|---|\n",
              "| grad_univ |  1.0000000000 | -0.0003502951 | -0.21107769   |  0.18051305   | -0.02207835   |  0.63724512   | -0.55889734   |  0.29454153   |  0.04633800   |\n",
              "| paro | -0.0003502951 |  1.0000000000 | -0.10771214   |  0.05369202   | -0.12142477   |  0.19852667   |  0.14150757   |  0.37120094   | -0.50941826   |\n",
              "| jubilados | -0.2110776868 | -0.1077121382 |  1.00000000   | -0.07601783   | -0.40981768   | -0.12428866   |  0.01891624   |  0.35193781   |  0.31816984   |\n",
              "| asia |  0.1805130549 |  0.0536920213 | -0.07601783   |  1.00000000   |  0.02161304   |  0.01398511   | -0.11957990   | -0.15143633   | -0.08141654   |\n",
              "| mormones | -0.0220783481 | -0.1214247656 | -0.40981768   |  0.02161304   |  1.00000000   | -0.08036094   | -0.22799088   | -0.33579558   | -0.31783916   |\n",
              "| densidad |  0.6372451158 |  0.1985266715 | -0.12428866   |  0.01398511   | -0.08036094   |  1.00000000   | -0.18730620   |  0.46583195   | -0.02392855   |\n",
              "| evangelicos | -0.5588973395 |  0.1415075705 |  0.01891624   | -0.11957990   | -0.22799088   | -0.18730620   |  1.00000000   |  0.06268464   | -0.05219487   |\n",
              "| mujeres |  0.2945415320 |  0.3712009419 |  0.35193781   | -0.15143633   | -0.33579558   |  0.46583195   |  0.06268464   |  1.00000000   | -0.20051498   |\n",
              "| protestantes |  0.0463380038 | -0.5094182631 |  0.31816984   | -0.08141654   | -0.31783916   | -0.02392855   | -0.05219487   | -0.20051498   |  1.00000000   |\n",
              "\n"
            ],
            "text/plain": [
              "             grad_univ     paro          jubilados   asia        mormones   \n",
              "grad_univ     1.0000000000 -0.0003502951 -0.21107769  0.18051305 -0.02207835\n",
              "paro         -0.0003502951  1.0000000000 -0.10771214  0.05369202 -0.12142477\n",
              "jubilados    -0.2110776868 -0.1077121382  1.00000000 -0.07601783 -0.40981768\n",
              "asia          0.1805130549  0.0536920213 -0.07601783  1.00000000  0.02161304\n",
              "mormones     -0.0220783481 -0.1214247656 -0.40981768  0.02161304  1.00000000\n",
              "densidad      0.6372451158  0.1985266715 -0.12428866  0.01398511 -0.08036094\n",
              "evangelicos  -0.5588973395  0.1415075705  0.01891624 -0.11957990 -0.22799088\n",
              "mujeres       0.2945415320  0.3712009419  0.35193781 -0.15143633 -0.33579558\n",
              "protestantes  0.0463380038 -0.5094182631  0.31816984 -0.08141654 -0.31783916\n",
              "             densidad    evangelicos mujeres     protestantes\n",
              "grad_univ     0.63724512 -0.55889734  0.29454153  0.04633800 \n",
              "paro          0.19852667  0.14150757  0.37120094 -0.50941826 \n",
              "jubilados    -0.12428866  0.01891624  0.35193781  0.31816984 \n",
              "asia          0.01398511 -0.11957990 -0.15143633 -0.08141654 \n",
              "mormones     -0.08036094 -0.22799088 -0.33579558 -0.31783916 \n",
              "densidad      1.00000000 -0.18730620  0.46583195 -0.02392855 \n",
              "evangelicos  -0.18730620  1.00000000  0.06268464 -0.05219487 \n",
              "mujeres       0.46583195  0.06268464  1.00000000 -0.20051498 \n",
              "protestantes -0.02392855 -0.05219487 -0.20051498  1.00000000 "
            ]
          },
          "metadata": {},
          "output_type": "display_data"
        }
      ],
      "source": [
        "# Gráfico 5:\n",
        "# Seleccionamos las variables que nos interesan\n",
        "xdata= wdata[ , c(\"grad_univ\",  \"paro\",  \"jubilados\",  \"asia\",  \"mormones\",  \"densidad\",  \"evangelicos\",  \"mujeres\", \"protestantes\")]\n",
        "# Obtenemos la matriz de correlación con los coeficientes de correlación de Pearson\n",
        "cor(xdata)"
      ]
    },
    {
      "cell_type": "markdown",
      "metadata": {
        "id": "F86SvrLO6u-s"
      },
      "source": [
        "**<u>Interpretación resultados</u>.-**\n",
        "\n",
        "existe correlaciones mas altas entre unas y en otras ninguna en el caso de  grad_univ y densidad (0.6372) hay una correlación positiva moderada, lo que sugiere que a mayor nivel de graduados universitarios en una región. otra reación entre paro y protestantes (-0.5094) donde hay una correlación negativa moderada, lo que podría indicar que en regiones con tasas de desempleo más altas, hay menos protestantes. por lo que se consideraria una evidencia Negativa.\n",
        "\n"
      ]
    },
    {
      "cell_type": "markdown",
      "metadata": {
        "id": "frlAYHjo6u-s"
      },
      "source": [
        "conclusion final.- En este ejercicio hemos obtenido mas evidencias negativas que positivas por lo que podemos concluir que el modelo seleccionado no sería perfecto para explicar la variable obama."
      ]
    },
    {
      "cell_type": "markdown",
      "metadata": {
        "id": "eM-EM8OK6u-s"
      },
      "source": [
        "# Bloque 2: Ejercicios intermedios de la prueba <a id=\"topic3\"></a>&nbsp;&nbsp;<a href=\"#index\"><i class=\"fa fa-list-alt\" aria-hidden=\"true\"></i></a>\n"
      ]
    },
    {
      "cell_type": "markdown",
      "metadata": {
        "id": "xf4cWhN76u-t"
      },
      "source": [
        "### 04 Ejercicio [1.5 puntos]\n",
        "\n",
        "Utilizando el archivo de datos `hatco.RData` que contiene observaciones de clientes de la compañía de distribución industrial Hatco S.L. Realizar un modelo de regresión lineal múltiple de la variable `fidedila` que representa el porcentaje de compra de los clientes de la empresa Hatco S.L. en función de las siguientes variables explicativas: `velocida` que representa la velocidad de entrega, la variable `precio` que representa el nivel de precios, la variable `flexprec` que representa la flexibilidad de precios, la variable `imgfabri` que representa la imagen del fabricante, la variable `imgfvent` que representa la imagen de fuerza de ventas y la variable `calidadp` que representa la calidad del producto. Responder a las siguientes cuestiones:\n",
        "\n",
        "1. Ajustar el mejor modelo de regresión lineal múltiple posible con ese conjunto de variables\n",
        "2. Comparar sus métricas y realizar la diagnosis del modelo de regresión lineal elegido\n",
        "3. Realizar una interpretación de los coeficientes del modelo de regresión lineal elegido\n",
        "4. Realizar la descomposición de valores ajustados y residuos del modelo de regresión lineal elegido\n",
        "5. Evaluar e interpretar la bondad de ajuste del modelo de regresión lineal elegido ($R^2$ y $R^2_{adj}$)\n",
        "6. Evaluar e interpretar la prueba de significatividad individual del modelo de regresión lineal elegido\n",
        "7. Evaluar e interpretar la prueba de significatividad global del modelo de regresión lineal elegido\n",
        "8. Evaluar e interpretar la multicolinealidad (existencia de relación lineal entre las variables independientes del modelo) usando la matriz de correlaciones"
      ]
    },
    {
      "cell_type": "markdown",
      "metadata": {
        "id": "2sA5gllB6u-t"
      },
      "source": [
        "<div style=\"background-color:#F7DC6F\"><b>Resolución Ejercicio 04</b></div>"
      ]
    },
    {
      "cell_type": "markdown",
      "metadata": {
        "id": "Nat3rPaX6u-t"
      },
      "source": [
        "<div style=\"background-color:#5DADE2\"><b>Apartado 1</b></div>"
      ]
    },
    {
      "cell_type": "code",
      "execution_count": null,
      "metadata": {
        "id": "b3TOreCG6u-u"
      },
      "outputs": [],
      "source": [
        "load(\"hatco.RData\")\n"
      ]
    },
    {
      "cell_type": "code",
      "execution_count": null,
      "metadata": {
        "id": "PFhXYvnr6u-u",
        "outputId": "3c218dbf-87cd-4423-a8d2-773b2f1fe2d2"
      },
      "outputs": [
        {
          "name": "stdout",
          "output_type": "stream",
          "text": [
            "'data.frame':\t100 obs. of  16 variables:\n",
            " $ empresa : num  1 2 3 4 5 6 7 8 9 10 ...\n",
            " $ tamano  : Factor w/ 2 levels \"pequeña\",\"grande\": 1 2 2 2 1 2 1 2 1 2 ...\n",
            " $ adquisic: Factor w/ 2 levels \"descentralizada\",..: 1 2 2 2 1 2 1 2 1 2 ...\n",
            " $ tindustr: Factor w/ 2 levels \"otras industrias\",..: 2 1 2 2 2 2 2 1 2 1 ...\n",
            " $ tsitcomp: Factor w/ 3 levels \"nueva tarea\",..: 1 1 2 1 3 2 1 2 3 2 ...\n",
            " $ velocida: num  4.1 1.8 3.4 2.7 6 1.9 4.6 1.3 5.5 4 ...\n",
            " $ precio  : num  0.6 3 5.2 1 0.9 3.3 2.4 4.2 1.6 3.5 ...\n",
            " $ flexprec: num  6.9 6.3 5.7 7.1 9.6 7.9 9.5 6.2 9.4 6.5 ...\n",
            " $ imgfabri: num  4.7 6.6 6 5.9 7.8 4.8 6.6 5.1 4.7 6 ...\n",
            " $ servconj: num  2.4 2.5 4.3 1.8 3.4 2.6 3.5 2.8 3.5 3.7 ...\n",
            " $ imgfvent: num  2.3 4 2.7 2.3 4.6 1.9 4.5 2.2 3 3.2 ...\n",
            " $ calidadp: num  5.2 8.4 8.2 7.8 4.5 9.7 7.6 6.9 7.6 8.7 ...\n",
            " $ fidelida: num  32 43 48 32 58 45 46 44 63 54 ...\n",
            " $ satisfac: num  4.2 4.3 5.2 3.9 6.8 4.4 5.8 4.3 5.4 5.4 ...\n",
            " $ nfidelid: Factor w/ 3 levels \"bajo\",\"medio\",..: 2 2 2 2 3 2 2 2 3 3 ...\n",
            " $ nsatisfa: Factor w/ 2 levels \"bajo\",\"alto\": 1 1 2 1 2 1 2 1 2 2 ...\n",
            " - attr(*, \"variable.labels\")= Named chr  \"Empresa\" \"Tamaño de la empresa\" \"Estructura de adquisición\" \"Tipo de industria\" ...\n",
            "  ..- attr(*, \"names\")= chr  \"empresa\" \"tamano\" \"adquisic\" \"tindustr\" ...\n"
          ]
        }
      ],
      "source": [
        "str(hatco)"
      ]
    },
    {
      "cell_type": "code",
      "execution_count": null,
      "metadata": {
        "id": "2bO-zHTN6u-u",
        "outputId": "ebbd28a2-fc8d-48e7-9938-56c10398234a"
      },
      "outputs": [
        {
          "data": {
            "text/html": [
              "'data.frame'"
            ],
            "text/latex": [
              "'data.frame'"
            ],
            "text/markdown": [
              "'data.frame'"
            ],
            "text/plain": [
              "[1] \"data.frame\""
            ]
          },
          "metadata": {},
          "output_type": "display_data"
        }
      ],
      "source": [
        "# Clases de la base de datos 'hatco'\n",
        "class(hatco)"
      ]
    },
    {
      "cell_type": "code",
      "execution_count": null,
      "metadata": {
        "id": "qdpcXREn6u-v",
        "outputId": "84eb5a1d-a1f9-41dc-bc45-1a768f062175"
      },
      "outputs": [
        {
          "data": {
            "text/html": [
              "<ol class=list-inline>\n",
              "\t<li>100</li>\n",
              "\t<li>16</li>\n",
              "</ol>\n"
            ],
            "text/latex": [
              "\\begin{enumerate*}\n",
              "\\item 100\n",
              "\\item 16\n",
              "\\end{enumerate*}\n"
            ],
            "text/markdown": [
              "1. 100\n",
              "2. 16\n",
              "\n",
              "\n"
            ],
            "text/plain": [
              "[1] 100  16"
            ]
          },
          "metadata": {},
          "output_type": "display_data"
        }
      ],
      "source": [
        "# Dimensiones de la base de datos\n",
        "dim(hatco)"
      ]
    },
    {
      "cell_type": "code",
      "execution_count": null,
      "metadata": {
        "id": "peInEFLy6u-v",
        "outputId": "7568b809-7f99-442b-dc4a-26d09f2c0dec"
      },
      "outputs": [
        {
          "data": {
            "text/html": [
              "<ol class=list-inline>\n",
              "\t<li>'empresa'</li>\n",
              "\t<li>'tamano'</li>\n",
              "\t<li>'adquisic'</li>\n",
              "\t<li>'tindustr'</li>\n",
              "\t<li>'tsitcomp'</li>\n",
              "\t<li>'velocida'</li>\n",
              "\t<li>'precio'</li>\n",
              "\t<li>'flexprec'</li>\n",
              "\t<li>'imgfabri'</li>\n",
              "\t<li>'servconj'</li>\n",
              "\t<li>'imgfvent'</li>\n",
              "\t<li>'calidadp'</li>\n",
              "\t<li>'fidelida'</li>\n",
              "\t<li>'satisfac'</li>\n",
              "\t<li>'nfidelid'</li>\n",
              "\t<li>'nsatisfa'</li>\n",
              "</ol>\n"
            ],
            "text/latex": [
              "\\begin{enumerate*}\n",
              "\\item 'empresa'\n",
              "\\item 'tamano'\n",
              "\\item 'adquisic'\n",
              "\\item 'tindustr'\n",
              "\\item 'tsitcomp'\n",
              "\\item 'velocida'\n",
              "\\item 'precio'\n",
              "\\item 'flexprec'\n",
              "\\item 'imgfabri'\n",
              "\\item 'servconj'\n",
              "\\item 'imgfvent'\n",
              "\\item 'calidadp'\n",
              "\\item 'fidelida'\n",
              "\\item 'satisfac'\n",
              "\\item 'nfidelid'\n",
              "\\item 'nsatisfa'\n",
              "\\end{enumerate*}\n"
            ],
            "text/markdown": [
              "1. 'empresa'\n",
              "2. 'tamano'\n",
              "3. 'adquisic'\n",
              "4. 'tindustr'\n",
              "5. 'tsitcomp'\n",
              "6. 'velocida'\n",
              "7. 'precio'\n",
              "8. 'flexprec'\n",
              "9. 'imgfabri'\n",
              "10. 'servconj'\n",
              "11. 'imgfvent'\n",
              "12. 'calidadp'\n",
              "13. 'fidelida'\n",
              "14. 'satisfac'\n",
              "15. 'nfidelid'\n",
              "16. 'nsatisfa'\n",
              "\n",
              "\n"
            ],
            "text/plain": [
              " [1] \"empresa\"  \"tamano\"   \"adquisic\" \"tindustr\" \"tsitcomp\" \"velocida\"\n",
              " [7] \"precio\"   \"flexprec\" \"imgfabri\" \"servconj\" \"imgfvent\" \"calidadp\"\n",
              "[13] \"fidelida\" \"satisfac\" \"nfidelid\" \"nsatisfa\""
            ]
          },
          "metadata": {},
          "output_type": "display_data"
        }
      ],
      "source": [
        "# Variables de la base de datos\n",
        "names(hatco)"
      ]
    },
    {
      "cell_type": "code",
      "execution_count": null,
      "metadata": {
        "id": "xvGvCbro6u-v",
        "outputId": "9b5e3d33-4b31-4fa5-ab8b-92c4c5f35c64"
      },
      "outputs": [
        {
          "data": {
            "text/html": [
              "<table>\n",
              "<thead><tr><th scope=col>fidelida</th><th scope=col>velocida</th><th scope=col>precio</th><th scope=col>flexprec</th><th scope=col>imgfabri</th><th scope=col>imgfvent</th><th scope=col>calidadp</th></tr></thead>\n",
              "<tbody>\n",
              "\t<tr><td>32 </td><td>4.1</td><td>0.6</td><td>6.9</td><td>4.7</td><td>2.3</td><td>5.2</td></tr>\n",
              "\t<tr><td>43 </td><td>1.8</td><td>3.0</td><td>6.3</td><td>6.6</td><td>4.0</td><td>8.4</td></tr>\n",
              "\t<tr><td>48 </td><td>3.4</td><td>5.2</td><td>5.7</td><td>6.0</td><td>2.7</td><td>8.2</td></tr>\n",
              "\t<tr><td>32 </td><td>2.7</td><td>1.0</td><td>7.1</td><td>5.9</td><td>2.3</td><td>7.8</td></tr>\n",
              "\t<tr><td>58 </td><td>6.0</td><td>0.9</td><td>9.6</td><td>7.8</td><td>4.6</td><td>4.5</td></tr>\n",
              "\t<tr><td>45 </td><td>1.9</td><td>3.3</td><td>7.9</td><td>4.8</td><td>1.9</td><td>9.7</td></tr>\n",
              "</tbody>\n",
              "</table>\n"
            ],
            "text/latex": [
              "\\begin{tabular}{r|lllllll}\n",
              " fidelida & velocida & precio & flexprec & imgfabri & imgfvent & calidadp\\\\\n",
              "\\hline\n",
              "\t 32  & 4.1 & 0.6 & 6.9 & 4.7 & 2.3 & 5.2\\\\\n",
              "\t 43  & 1.8 & 3.0 & 6.3 & 6.6 & 4.0 & 8.4\\\\\n",
              "\t 48  & 3.4 & 5.2 & 5.7 & 6.0 & 2.7 & 8.2\\\\\n",
              "\t 32  & 2.7 & 1.0 & 7.1 & 5.9 & 2.3 & 7.8\\\\\n",
              "\t 58  & 6.0 & 0.9 & 9.6 & 7.8 & 4.6 & 4.5\\\\\n",
              "\t 45  & 1.9 & 3.3 & 7.9 & 4.8 & 1.9 & 9.7\\\\\n",
              "\\end{tabular}\n"
            ],
            "text/markdown": [
              "\n",
              "| fidelida | velocida | precio | flexprec | imgfabri | imgfvent | calidadp |\n",
              "|---|---|---|---|---|---|---|\n",
              "| 32  | 4.1 | 0.6 | 6.9 | 4.7 | 2.3 | 5.2 |\n",
              "| 43  | 1.8 | 3.0 | 6.3 | 6.6 | 4.0 | 8.4 |\n",
              "| 48  | 3.4 | 5.2 | 5.7 | 6.0 | 2.7 | 8.2 |\n",
              "| 32  | 2.7 | 1.0 | 7.1 | 5.9 | 2.3 | 7.8 |\n",
              "| 58  | 6.0 | 0.9 | 9.6 | 7.8 | 4.6 | 4.5 |\n",
              "| 45  | 1.9 | 3.3 | 7.9 | 4.8 | 1.9 | 9.7 |\n",
              "\n"
            ],
            "text/plain": [
              "  fidelida velocida precio flexprec imgfabri imgfvent calidadp\n",
              "1 32       4.1      0.6    6.9      4.7      2.3      5.2     \n",
              "2 43       1.8      3.0    6.3      6.6      4.0      8.4     \n",
              "3 48       3.4      5.2    5.7      6.0      2.7      8.2     \n",
              "4 32       2.7      1.0    7.1      5.9      2.3      7.8     \n",
              "5 58       6.0      0.9    9.6      7.8      4.6      4.5     \n",
              "6 45       1.9      3.3    7.9      4.8      1.9      9.7     "
            ]
          },
          "metadata": {},
          "output_type": "display_data"
        }
      ],
      "source": [
        "# Seleccionamos las  variables que nos interesan\n",
        "zdata <- hatco[, c(\"fidelida\", \"velocida\", \"precio\", \"flexprec\", \"imgfabri\", \"imgfvent\", \"calidadp\")]\n",
        "# Visualizamos la base de datos seleccionada\n",
        "head(zdata)"
      ]
    },
    {
      "cell_type": "code",
      "execution_count": null,
      "metadata": {
        "id": "E8KsAAuU6u-w"
      },
      "outputs": [],
      "source": [
        "# Comprobamos si existen datos NAs para en caso afirmativo, eliminarlos y que no nos den problemas\n",
        "wdata=na.omit(zdata)"
      ]
    },
    {
      "cell_type": "code",
      "execution_count": null,
      "metadata": {
        "id": "h079BBHP6u-w",
        "outputId": "b6508641-67bf-46bf-84b5-3f21c1199085"
      },
      "outputs": [
        {
          "data": {
            "text/html": [
              "100"
            ],
            "text/latex": [
              "100"
            ],
            "text/markdown": [
              "100"
            ],
            "text/plain": [
              "[1] 100"
            ]
          },
          "metadata": {},
          "output_type": "display_data"
        },
        {
          "data": {
            "text/html": [
              "99"
            ],
            "text/latex": [
              "99"
            ],
            "text/markdown": [
              "99"
            ],
            "text/plain": [
              "[1] 99"
            ]
          },
          "metadata": {},
          "output_type": "display_data"
        }
      ],
      "source": [
        "# Podemos comprobar como NO existen datos missing\n",
        "nrow(zdata) # Base de datos inicial\n",
        "nrow(wdata) # Base de datos tras el na.omit"
      ]
    },
    {
      "cell_type": "code",
      "execution_count": null,
      "metadata": {
        "id": "I7kjfMA66u-w",
        "outputId": "b4f1618d-8b56-42c0-f5e1-d54796c9d49e"
      },
      "outputs": [
        {
          "data": {
            "text/html": [
              "<table>\n",
              "<thead><tr><th scope=col>fidelida</th><th scope=col>velocida</th><th scope=col>precio</th><th scope=col>flexprec</th><th scope=col>imgfabri</th><th scope=col>imgfvent</th><th scope=col>calidadp</th></tr></thead>\n",
              "<tbody>\n",
              "\t<tr><td>32 </td><td>4.1</td><td>0.6</td><td>6.9</td><td>4.7</td><td>2.3</td><td>5.2</td></tr>\n",
              "\t<tr><td>43 </td><td>1.8</td><td>3.0</td><td>6.3</td><td>6.6</td><td>4.0</td><td>8.4</td></tr>\n",
              "\t<tr><td>48 </td><td>3.4</td><td>5.2</td><td>5.7</td><td>6.0</td><td>2.7</td><td>8.2</td></tr>\n",
              "\t<tr><td>32 </td><td>2.7</td><td>1.0</td><td>7.1</td><td>5.9</td><td>2.3</td><td>7.8</td></tr>\n",
              "\t<tr><td>58 </td><td>6.0</td><td>0.9</td><td>9.6</td><td>7.8</td><td>4.6</td><td>4.5</td></tr>\n",
              "\t<tr><td>45 </td><td>1.9</td><td>3.3</td><td>7.9</td><td>4.8</td><td>1.9</td><td>9.7</td></tr>\n",
              "</tbody>\n",
              "</table>\n"
            ],
            "text/latex": [
              "\\begin{tabular}{r|lllllll}\n",
              " fidelida & velocida & precio & flexprec & imgfabri & imgfvent & calidadp\\\\\n",
              "\\hline\n",
              "\t 32  & 4.1 & 0.6 & 6.9 & 4.7 & 2.3 & 5.2\\\\\n",
              "\t 43  & 1.8 & 3.0 & 6.3 & 6.6 & 4.0 & 8.4\\\\\n",
              "\t 48  & 3.4 & 5.2 & 5.7 & 6.0 & 2.7 & 8.2\\\\\n",
              "\t 32  & 2.7 & 1.0 & 7.1 & 5.9 & 2.3 & 7.8\\\\\n",
              "\t 58  & 6.0 & 0.9 & 9.6 & 7.8 & 4.6 & 4.5\\\\\n",
              "\t 45  & 1.9 & 3.3 & 7.9 & 4.8 & 1.9 & 9.7\\\\\n",
              "\\end{tabular}\n"
            ],
            "text/markdown": [
              "\n",
              "| fidelida | velocida | precio | flexprec | imgfabri | imgfvent | calidadp |\n",
              "|---|---|---|---|---|---|---|\n",
              "| 32  | 4.1 | 0.6 | 6.9 | 4.7 | 2.3 | 5.2 |\n",
              "| 43  | 1.8 | 3.0 | 6.3 | 6.6 | 4.0 | 8.4 |\n",
              "| 48  | 3.4 | 5.2 | 5.7 | 6.0 | 2.7 | 8.2 |\n",
              "| 32  | 2.7 | 1.0 | 7.1 | 5.9 | 2.3 | 7.8 |\n",
              "| 58  | 6.0 | 0.9 | 9.6 | 7.8 | 4.6 | 4.5 |\n",
              "| 45  | 1.9 | 3.3 | 7.9 | 4.8 | 1.9 | 9.7 |\n",
              "\n"
            ],
            "text/plain": [
              "  fidelida velocida precio flexprec imgfabri imgfvent calidadp\n",
              "1 32       4.1      0.6    6.9      4.7      2.3      5.2     \n",
              "2 43       1.8      3.0    6.3      6.6      4.0      8.4     \n",
              "3 48       3.4      5.2    5.7      6.0      2.7      8.2     \n",
              "4 32       2.7      1.0    7.1      5.9      2.3      7.8     \n",
              "5 58       6.0      0.9    9.6      7.8      4.6      4.5     \n",
              "6 45       1.9      3.3    7.9      4.8      1.9      9.7     "
            ]
          },
          "metadata": {},
          "output_type": "display_data"
        }
      ],
      "source": [
        "# Visualizamos la base de datos seleccionada\n",
        "head(wdata)"
      ]
    },
    {
      "cell_type": "code",
      "execution_count": null,
      "metadata": {
        "id": "B82oeiJX6u-w",
        "outputId": "ca1b974c-c085-4e30-8e22-a237a5e064a0"
      },
      "outputs": [
        {
          "data": {
            "text/plain": [
              "    fidelida        velocida         precio        flexprec     \n",
              " Min.   :25.00   Min.   :0.000   Min.   :0.20   Min.   : 5.000  \n",
              " 1st Qu.:39.00   1st Qu.:2.550   1st Qu.:1.45   1st Qu.: 6.700  \n",
              " Median :47.00   Median :3.400   Median :2.20   Median : 8.000  \n",
              " Mean   :46.24   Mean   :3.525   Mean   :2.37   Mean   : 7.883  \n",
              " 3rd Qu.:53.50   3rd Qu.:4.600   3rd Qu.:3.25   3rd Qu.: 9.100  \n",
              " Max.   :65.00   Max.   :6.100   Max.   :5.40   Max.   :10.000  \n",
              "    imgfabri        imgfvent        calidadp     \n",
              " Min.   :2.500   Min.   :1.100   Min.   : 3.700  \n",
              " 1st Qu.:4.550   1st Qu.:2.200   1st Qu.: 5.800  \n",
              " Median :5.000   Median :2.600   Median : 7.200  \n",
              " Mean   :5.251   Mean   :2.662   Mean   : 6.981  \n",
              " 3rd Qu.:6.000   3rd Qu.:3.000   3rd Qu.: 8.350  \n",
              " Max.   :8.200   Max.   :4.600   Max.   :10.000  "
            ]
          },
          "metadata": {},
          "output_type": "display_data"
        }
      ],
      "source": [
        "# Realizamos el análisis exploratorio de las variables utilizadas\n",
        "summary(wdata)"
      ]
    },
    {
      "cell_type": "markdown",
      "metadata": {
        "id": "-HeVravp6u-x"
      },
      "source": [
        "Los datos muestran un rango amplio por lo que la percepción de los clientes sobre varios aspectos de la empresa indica que hay una gama amplia de experiencias y opiniones entre los clientes, incluyendo la fidelidad del cliente, velocidad de entrega, nivel de precios, flexibilidad de precios, imagen del fabricante y de la fuerza de ventas, y la calidad del producto.\n",
        " Las percepciones sobre la imagen del fabricante y la fuerza de ventas tienden a ser positivas, con medias ligeramente superiors`."
      ]
    },
    {
      "cell_type": "code",
      "execution_count": null,
      "metadata": {
        "id": "oxot8xV16u-x",
        "outputId": "04dd8236-8e7e-447e-ae78-e74aa2534943"
      },
      "outputs": [
        {
          "data": {
            "text/html": [
              "<table>\n",
              "<thead><tr><th></th><th scope=col>fidelida</th><th scope=col>velocida</th><th scope=col>precio</th><th scope=col>flexprec</th><th scope=col>imgfabri</th><th scope=col>imgfvent</th><th scope=col>calidadp</th></tr></thead>\n",
              "<tbody>\n",
              "\t<tr><th scope=row>0%</th><td>25.0 </td><td>0.00 </td><td>0.20 </td><td> 5.0 </td><td>2.50 </td><td>1.1  </td><td> 3.70</td></tr>\n",
              "\t<tr><th scope=row>25%</th><td>39.0 </td><td>2.55 </td><td>1.45 </td><td> 6.7 </td><td>4.55 </td><td>2.2  </td><td> 5.80</td></tr>\n",
              "\t<tr><th scope=row>50%</th><td>47.0 </td><td>3.40 </td><td>2.20 </td><td> 8.0 </td><td>5.00 </td><td>2.6  </td><td> 7.20</td></tr>\n",
              "\t<tr><th scope=row>75%</th><td>53.5 </td><td>4.60 </td><td>3.25 </td><td> 9.1 </td><td>6.00 </td><td>3.0  </td><td> 8.35</td></tr>\n",
              "\t<tr><th scope=row>100%</th><td>65.0 </td><td>6.10 </td><td>5.40 </td><td>10.0 </td><td>8.20 </td><td>4.6  </td><td>10.00</td></tr>\n",
              "</tbody>\n",
              "</table>\n"
            ],
            "text/latex": [
              "\\begin{tabular}{r|lllllll}\n",
              "  & fidelida & velocida & precio & flexprec & imgfabri & imgfvent & calidadp\\\\\n",
              "\\hline\n",
              "\t0\\% & 25.0  & 0.00  & 0.20  &  5.0  & 2.50  & 1.1   &  3.70\\\\\n",
              "\t25\\% & 39.0  & 2.55  & 1.45  &  6.7  & 4.55  & 2.2   &  5.80\\\\\n",
              "\t50\\% & 47.0  & 3.40  & 2.20  &  8.0  & 5.00  & 2.6   &  7.20\\\\\n",
              "\t75\\% & 53.5  & 4.60  & 3.25  &  9.1  & 6.00  & 3.0   &  8.35\\\\\n",
              "\t100\\% & 65.0  & 6.10  & 5.40  & 10.0  & 8.20  & 4.6   & 10.00\\\\\n",
              "\\end{tabular}\n"
            ],
            "text/markdown": [
              "\n",
              "| <!--/--> | fidelida | velocida | precio | flexprec | imgfabri | imgfvent | calidadp |\n",
              "|---|---|---|---|---|---|---|---|\n",
              "| 0% | 25.0  | 0.00  | 0.20  |  5.0  | 2.50  | 1.1   |  3.70 |\n",
              "| 25% | 39.0  | 2.55  | 1.45  |  6.7  | 4.55  | 2.2   |  5.80 |\n",
              "| 50% | 47.0  | 3.40  | 2.20  |  8.0  | 5.00  | 2.6   |  7.20 |\n",
              "| 75% | 53.5  | 4.60  | 3.25  |  9.1  | 6.00  | 3.0   |  8.35 |\n",
              "| 100% | 65.0  | 6.10  | 5.40  | 10.0  | 8.20  | 4.6   | 10.00 |\n",
              "\n"
            ],
            "text/plain": [
              "     fidelida velocida precio flexprec imgfabri imgfvent calidadp\n",
              "0%   25.0     0.00     0.20    5.0     2.50     1.1       3.70   \n",
              "25%  39.0     2.55     1.45    6.7     4.55     2.2       5.80   \n",
              "50%  47.0     3.40     2.20    8.0     5.00     2.6       7.20   \n",
              "75%  53.5     4.60     3.25    9.1     6.00     3.0       8.35   \n",
              "100% 65.0     6.10     5.40   10.0     8.20     4.6      10.00   "
            ]
          },
          "metadata": {},
          "output_type": "display_data"
        }
      ],
      "source": [
        "#Medidas de posición (cuartiles)\n",
        "sapply(wdata, quantile, na.rm = TRUE)\n"
      ]
    },
    {
      "cell_type": "code",
      "execution_count": null,
      "metadata": {
        "id": "GiC4HkMN6u-y",
        "outputId": "81072cca-5fc2-4315-8eec-a3e95b23afa5"
      },
      "outputs": [
        {
          "data": {
            "text/html": [
              "<dl class=dl-horizontal>\n",
              "\t<dt>fidelida</dt>\n",
              "\t\t<dd>79.8648381776953</dd>\n",
              "\t<dt>velocida</dt>\n",
              "\t\t<dd>1.75149866007009</dd>\n",
              "\t<dt>precio</dt>\n",
              "\t\t<dd>1.44090909090909</dd>\n",
              "\t<dt>flexprec</dt>\n",
              "\t\t<dd>1.92939600082457</dd>\n",
              "\t<dt>imgfabri</dt>\n",
              "\t\t<dd>1.29252525252525</dd>\n",
              "\t<dt>imgfvent</dt>\n",
              "\t\t<dd>0.599123891981035</dd>\n",
              "\t<dt>calidadp</dt>\n",
              "\t\t<dd>2.52891362605648</dd>\n",
              "</dl>\n"
            ],
            "text/latex": [
              "\\begin{description*}\n",
              "\\item[fidelida] 79.8648381776953\n",
              "\\item[velocida] 1.75149866007009\n",
              "\\item[precio] 1.44090909090909\n",
              "\\item[flexprec] 1.92939600082457\n",
              "\\item[imgfabri] 1.29252525252525\n",
              "\\item[imgfvent] 0.599123891981035\n",
              "\\item[calidadp] 2.52891362605648\n",
              "\\end{description*}\n"
            ],
            "text/markdown": [
              "fidelida\n",
              ":   79.8648381776953velocida\n",
              ":   1.75149866007009precio\n",
              ":   1.44090909090909flexprec\n",
              ":   1.92939600082457imgfabri\n",
              ":   1.29252525252525imgfvent\n",
              ":   0.599123891981035calidadp\n",
              ":   2.52891362605648\n",
              "\n"
            ],
            "text/plain": [
              "  fidelida   velocida     precio   flexprec   imgfabri   imgfvent   calidadp \n",
              "79.8648382  1.7514987  1.4409091  1.9293960  1.2925253  0.5991239  2.5289136 "
            ]
          },
          "metadata": {},
          "output_type": "display_data"
        }
      ],
      "source": [
        "#Medidas de dispersión varianza\n",
        "sapply(wdata, var, na.rm = TRUE)\n",
        "\n"
      ]
    },
    {
      "cell_type": "code",
      "execution_count": null,
      "metadata": {
        "id": "_Ffoq-Yi6u-y",
        "outputId": "cb161dd0-3be5-4672-919c-3a9cde50afca"
      },
      "outputs": [
        {
          "data": {
            "text/html": [
              "<dl class=dl-horizontal>\n",
              "\t<dt>fidelida</dt>\n",
              "\t\t<dd>8.93671294032069</dd>\n",
              "\t<dt>velocida</dt>\n",
              "\t\t<dd>1.32344197457618</dd>\n",
              "\t<dt>precio</dt>\n",
              "\t\t<dd>1.20037872811421</dd>\n",
              "\t<dt>flexprec</dt>\n",
              "\t\t<dd>1.38902699787462</dd>\n",
              "\t<dt>imgfabri</dt>\n",
              "\t\t<dd>1.13689280608387</dd>\n",
              "\t<dt>imgfvent</dt>\n",
              "\t\t<dd>0.77403093735395</dd>\n",
              "\t<dt>calidadp</dt>\n",
              "\t\t<dd>1.59025583666795</dd>\n",
              "</dl>\n"
            ],
            "text/latex": [
              "\\begin{description*}\n",
              "\\item[fidelida] 8.93671294032069\n",
              "\\item[velocida] 1.32344197457618\n",
              "\\item[precio] 1.20037872811421\n",
              "\\item[flexprec] 1.38902699787462\n",
              "\\item[imgfabri] 1.13689280608387\n",
              "\\item[imgfvent] 0.77403093735395\n",
              "\\item[calidadp] 1.59025583666795\n",
              "\\end{description*}\n"
            ],
            "text/markdown": [
              "fidelida\n",
              ":   8.93671294032069velocida\n",
              ":   1.32344197457618precio\n",
              ":   1.20037872811421flexprec\n",
              ":   1.38902699787462imgfabri\n",
              ":   1.13689280608387imgfvent\n",
              ":   0.77403093735395calidadp\n",
              ":   1.59025583666795\n",
              "\n"
            ],
            "text/plain": [
              " fidelida  velocida    precio  flexprec  imgfabri  imgfvent  calidadp \n",
              "8.9367129 1.3234420 1.2003787 1.3890270 1.1368928 0.7740309 1.5902558 "
            ]
          },
          "metadata": {},
          "output_type": "display_data"
        }
      ],
      "source": [
        "# Medidas de dispersión  desviación estándar\n",
        "sapply(wdata, sd, na.rm = TRUE)"
      ]
    },
    {
      "cell_type": "code",
      "execution_count": null,
      "metadata": {
        "id": "3SVjeoYV6u-z",
        "outputId": "d9aefab8-f417-4d8e-8473-895ce12b1048"
      },
      "outputs": [
        {
          "data": {
            "image/png": "[encoded data removed]",
            "text/plain": [
              "plot without title"
            ]
          },
          "metadata": {},
          "output_type": "display_data"
        }
      ],
      "source": [
        "# Evidencia gráfica a través del gráfico de dispersión\n",
        "pairs(wdata, lower.panel = NULL)"
      ]
    },
    {
      "cell_type": "markdown",
      "metadata": {
        "id": "4TiAbAc76u-z"
      },
      "source": [
        "**<u>Interpretación resultados</u>.-** se puede observar que entre unas variables hay un patron notorio de correlación. por ejemplo la velocidad con la imagen de venta."
      ]
    },
    {
      "cell_type": "code",
      "execution_count": null,
      "metadata": {
        "id": "16JZH4z66u-z",
        "outputId": "5e846c45-1756-4962-f6d8-944ec328fe80"
      },
      "outputs": [
        {
          "data": {
            "text/html": [
              "<table>\n",
              "<thead><tr><th></th><th scope=col>fidelida</th><th scope=col>velocida</th><th scope=col>precio</th><th scope=col>flexprec</th><th scope=col>imgfabri</th><th scope=col>imgfvent</th><th scope=col>calidadp</th></tr></thead>\n",
              "<tbody>\n",
              "\t<tr><th scope=row>fidelida</th><td> 1.00000000</td><td> 0.67428681</td><td> 0.07682487</td><td> 0.57807750</td><td> 0.22442574</td><td> 0.26674626</td><td>-0.2040126 </td></tr>\n",
              "\t<tr><th scope=row>velocida</th><td> 0.67428681</td><td> 1.00000000</td><td>-0.35439461</td><td> 0.51879732</td><td> 0.04885481</td><td> 0.08084452</td><td>-0.4898477 </td></tr>\n",
              "\t<tr><th scope=row>precio</th><td> 0.07682487</td><td>-0.35439461</td><td> 1.00000000</td><td>-0.48550163</td><td> 0.27150666</td><td> 0.18873090</td><td> 0.4682256 </td></tr>\n",
              "\t<tr><th scope=row>flexprec</th><td> 0.57807750</td><td> 0.51879732</td><td>-0.48550163</td><td> 1.00000000</td><td>-0.11472112</td><td>-0.03801323</td><td>-0.4454256 </td></tr>\n",
              "\t<tr><th scope=row>imgfabri</th><td> 0.22442574</td><td> 0.04885481</td><td> 0.27150666</td><td>-0.11472112</td><td> 1.00000000</td><td> 0.79015164</td><td> 0.1990413 </td></tr>\n",
              "\t<tr><th scope=row>imgfvent</th><td> 0.26674626</td><td> 0.08084452</td><td> 0.18873090</td><td>-0.03801323</td><td> 0.79015164</td><td> 1.00000000</td><td> 0.1805295 </td></tr>\n",
              "\t<tr><th scope=row>calidadp</th><td>-0.20401261</td><td>-0.48984768</td><td> 0.46822563</td><td>-0.44542562</td><td> 0.19904126</td><td> 0.18052945</td><td> 1.0000000 </td></tr>\n",
              "</tbody>\n",
              "</table>\n"
            ],
            "text/latex": [
              "\\begin{tabular}{r|lllllll}\n",
              "  & fidelida & velocida & precio & flexprec & imgfabri & imgfvent & calidadp\\\\\n",
              "\\hline\n",
              "\tfidelida &  1.00000000 &  0.67428681 &  0.07682487 &  0.57807750 &  0.22442574 &  0.26674626 & -0.2040126 \\\\\n",
              "\tvelocida &  0.67428681 &  1.00000000 & -0.35439461 &  0.51879732 &  0.04885481 &  0.08084452 & -0.4898477 \\\\\n",
              "\tprecio &  0.07682487 & -0.35439461 &  1.00000000 & -0.48550163 &  0.27150666 &  0.18873090 &  0.4682256 \\\\\n",
              "\tflexprec &  0.57807750 &  0.51879732 & -0.48550163 &  1.00000000 & -0.11472112 & -0.03801323 & -0.4454256 \\\\\n",
              "\timgfabri &  0.22442574 &  0.04885481 &  0.27150666 & -0.11472112 &  1.00000000 &  0.79015164 &  0.1990413 \\\\\n",
              "\timgfvent &  0.26674626 &  0.08084452 &  0.18873090 & -0.03801323 &  0.79015164 &  1.00000000 &  0.1805295 \\\\\n",
              "\tcalidadp & -0.20401261 & -0.48984768 &  0.46822563 & -0.44542562 &  0.19904126 &  0.18052945 &  1.0000000 \\\\\n",
              "\\end{tabular}\n"
            ],
            "text/markdown": [
              "\n",
              "| <!--/--> | fidelida | velocida | precio | flexprec | imgfabri | imgfvent | calidadp |\n",
              "|---|---|---|---|---|---|---|---|\n",
              "| fidelida |  1.00000000 |  0.67428681 |  0.07682487 |  0.57807750 |  0.22442574 |  0.26674626 | -0.2040126  |\n",
              "| velocida |  0.67428681 |  1.00000000 | -0.35439461 |  0.51879732 |  0.04885481 |  0.08084452 | -0.4898477  |\n",
              "| precio |  0.07682487 | -0.35439461 |  1.00000000 | -0.48550163 |  0.27150666 |  0.18873090 |  0.4682256  |\n",
              "| flexprec |  0.57807750 |  0.51879732 | -0.48550163 |  1.00000000 | -0.11472112 | -0.03801323 | -0.4454256  |\n",
              "| imgfabri |  0.22442574 |  0.04885481 |  0.27150666 | -0.11472112 |  1.00000000 |  0.79015164 |  0.1990413  |\n",
              "| imgfvent |  0.26674626 |  0.08084452 |  0.18873090 | -0.03801323 |  0.79015164 |  1.00000000 |  0.1805295  |\n",
              "| calidadp | -0.20401261 | -0.48984768 |  0.46822563 | -0.44542562 |  0.19904126 |  0.18052945 |  1.0000000  |\n",
              "\n"
            ],
            "text/plain": [
              "         fidelida    velocida    precio      flexprec    imgfabri   \n",
              "fidelida  1.00000000  0.67428681  0.07682487  0.57807750  0.22442574\n",
              "velocida  0.67428681  1.00000000 -0.35439461  0.51879732  0.04885481\n",
              "precio    0.07682487 -0.35439461  1.00000000 -0.48550163  0.27150666\n",
              "flexprec  0.57807750  0.51879732 -0.48550163  1.00000000 -0.11472112\n",
              "imgfabri  0.22442574  0.04885481  0.27150666 -0.11472112  1.00000000\n",
              "imgfvent  0.26674626  0.08084452  0.18873090 -0.03801323  0.79015164\n",
              "calidadp -0.20401261 -0.48984768  0.46822563 -0.44542562  0.19904126\n",
              "         imgfvent    calidadp  \n",
              "fidelida  0.26674626 -0.2040126\n",
              "velocida  0.08084452 -0.4898477\n",
              "precio    0.18873090  0.4682256\n",
              "flexprec -0.03801323 -0.4454256\n",
              "imgfabri  0.79015164  0.1990413\n",
              "imgfvent  1.00000000  0.1805295\n",
              "calidadp  0.18052945  1.0000000"
            ]
          },
          "metadata": {},
          "output_type": "display_data"
        }
      ],
      "source": [
        "# Evidencia numérica\n",
        "cor(wdata)"
      ]
    },
    {
      "cell_type": "markdown",
      "metadata": {
        "id": "EGwExrDt6u-0"
      },
      "source": [
        "**<u>Interpretación resultados</u>.-** Observamos que en todos los casos el coeficiente de correlación estimado entre las variables independientes y la variable dependiente es distinto de 0, con lo cual sería una evidencia de que las variables sí están relacionadas."
      ]
    },
    {
      "cell_type": "code",
      "execution_count": null,
      "metadata": {
        "id": "H4m6wIo86u-0",
        "outputId": "6fd2315b-c619-4e70-ad73-2b9b88ac723d"
      },
      "outputs": [
        {
          "data": {
            "text/plain": [
              "\n",
              "\tPearson's product-moment correlation\n",
              "\n",
              "data:  wdata$fidelida and wdata$velocida\n",
              "t = 8.9929, df = 97, p-value = 2.003e-14\n",
              "alternative hypothesis: true correlation is not equal to 0\n",
              "95 percent confidence interval:\n",
              " 0.550100 0.769296\n",
              "sample estimates:\n",
              "      cor \n",
              "0.6742868 \n"
            ]
          },
          "metadata": {},
          "output_type": "display_data"
        }
      ],
      "source": [
        "# Evidencia contrastada (variable fidelida)\n",
        "cor.test(wdata$fidelida, wdata$velocida)"
      ]
    },
    {
      "cell_type": "markdown",
      "metadata": {
        "id": "bOaoL55c6u-0"
      },
      "source": [
        "**<u>Interpretación resultados</u>.-** Un p-valor menor a 0.05 sugiere hay suficiente evidencia para rechazar la hipótesis nula.\n",
        "Esto implica hay evidencia estadísticamente significativa de una correlación entre fidelida y velocidad."
      ]
    },
    {
      "cell_type": "code",
      "execution_count": null,
      "metadata": {
        "id": "jwikX4Za6u-1",
        "outputId": "2a137b9c-ece9-47c9-dd58-7b63934c045a"
      },
      "outputs": [
        {
          "data": {
            "text/plain": [
              "\n",
              "\tPearson's product-moment correlation\n",
              "\n",
              "data:  wdata$fidelida and wdata$precio\n",
              "t = 0.75888, df = 97, p-value = 0.4498\n",
              "alternative hypothesis: true correlation is not equal to 0\n",
              "95 percent confidence interval:\n",
              " -0.1224440  0.2701397\n",
              "sample estimates:\n",
              "       cor \n",
              "0.07682487 \n"
            ]
          },
          "metadata": {},
          "output_type": "display_data"
        }
      ],
      "source": [
        "# Evidencia contrastada (variable precio)\n",
        "cor.test(wdata$fidelida, wdata$precio)"
      ]
    },
    {
      "cell_type": "markdown",
      "metadata": {
        "id": "Dw-mYK_Z6u-1"
      },
      "source": [
        "**<u>Interpretación resultados</u>.-** Un p-valor de 0.4498 sugiere que NO hay suficiente evidencia para rechazar la hipótesis nula a un nivel de significancia convencional (como 0.05).\n",
        "Esto implica que no hay evidencia estadísticamente significativa de una correlación entre fidelida y precio."
      ]
    },
    {
      "cell_type": "code",
      "execution_count": null,
      "metadata": {
        "id": "6HKMJ_EO6u-1",
        "outputId": "34e7f19a-6e88-4af9-a3db-2e020327149f"
      },
      "outputs": [
        {
          "data": {
            "text/plain": [
              "\n",
              "\tPearson's product-moment correlation\n",
              "\n",
              "data:  wdata$fidelida and wdata$flexprec\n",
              "t = 6.9774, df = 97, p-value = 3.716e-10\n",
              "alternative hypothesis: true correlation is not equal to 0\n",
              "95 percent confidence interval:\n",
              " 0.4297031 0.6960559\n",
              "sample estimates:\n",
              "      cor \n",
              "0.5780775 \n"
            ]
          },
          "metadata": {},
          "output_type": "display_data"
        }
      ],
      "source": [
        "# Evidencia contrastada (variable flexprec)\n",
        "cor.test(wdata$fidelida, wdata$flexprec)"
      ]
    },
    {
      "cell_type": "markdown",
      "metadata": {
        "id": "ewzGtlhY6u-2"
      },
      "source": [
        "**<u>Interpretación resultados</u>.-** Un p-valor menor a 0.05 sugiere hay suficiente evidencia para rechazar la hipótesis nula.\n",
        "Esto implica hay evidencia estadísticamente significativa de una correlación entre fidelida y flexprec."
      ]
    },
    {
      "cell_type": "code",
      "execution_count": null,
      "metadata": {
        "id": "l3M8gyfv6u-2",
        "outputId": "76a995a9-79b8-4c82-c98a-ca558eeb4e89"
      },
      "outputs": [
        {
          "data": {
            "text/plain": [
              "\n",
              "\tPearson's product-moment correlation\n",
              "\n",
              "data:  wdata$fidelida and wdata$imgfabri\n",
              "t = 2.2682, df = 97, p-value = 0.02553\n",
              "alternative hypothesis: true correlation is not equal to 0\n",
              "95 percent confidence interval:\n",
              " 0.02826623 0.40394123\n",
              "sample estimates:\n",
              "      cor \n",
              "0.2244257 \n"
            ]
          },
          "metadata": {},
          "output_type": "display_data"
        }
      ],
      "source": [
        "# Evidencia contrastada (variable imgfabri)\n",
        "cor.test(wdata$fidelida, wdata$imgfabri)"
      ]
    },
    {
      "cell_type": "markdown",
      "metadata": {
        "id": "tEv3CqsI6u-2"
      },
      "source": [
        "**<u>Interpretación resultados</u>.-** Un p-valor menor a 0.05 sugiere hay suficiente evidencia para rechazar la hipótesis nula.\n",
        "Esto implica hay evidencia estadísticamente significativa de una correlación entre fidelida y imgfabri."
      ]
    },
    {
      "cell_type": "code",
      "execution_count": null,
      "metadata": {
        "id": "FckejSlJ6u-3",
        "outputId": "78234f35-c1d5-47df-dce4-101825a011dc"
      },
      "outputs": [
        {
          "data": {
            "text/plain": [
              "\n",
              "\tPearson's product-moment correlation\n",
              "\n",
              "data:  wdata$fidelida and wdata$imgfvent\n",
              "t = 2.7259, df = 97, p-value = 0.007609\n",
              "alternative hypothesis: true correlation is not equal to 0\n",
              "95 percent confidence interval:\n",
              " 0.07318845 0.44093875\n",
              "sample estimates:\n",
              "      cor \n",
              "0.2667463 \n"
            ]
          },
          "metadata": {},
          "output_type": "display_data"
        }
      ],
      "source": [
        "# Evidencia contrastada (variable imgfvent)\n",
        "cor.test(wdata$fidelida, wdata$imgfvent)"
      ]
    },
    {
      "cell_type": "markdown",
      "metadata": {
        "id": "meP066fn6u-3"
      },
      "source": [
        "**<u>Interpretación resultados</u>.-** Un p-valor menor a 0.05 sugiere hay suficiente evidencia para rechazar la hipótesis nula.\n",
        "Esto implica hay evidencia estadísticamente significativa de una correlación entre fidelida y imgfabri."
      ]
    },
    {
      "cell_type": "code",
      "execution_count": null,
      "metadata": {
        "id": "aMNZU3uM6u-3",
        "outputId": "a0366cec-4182-496c-891e-730117933196"
      },
      "outputs": [
        {
          "data": {
            "text/plain": [
              "\n",
              "\tPearson's product-moment correlation\n",
              "\n",
              "data:  wdata$fidelida and wdata$calidadp\n",
              "t = -2.0525, df = 97, p-value = 0.04282\n",
              "alternative hypothesis: true correlation is not equal to 0\n",
              "95 percent confidence interval:\n",
              " -0.385883186 -0.006877785\n",
              "sample estimates:\n",
              "       cor \n",
              "-0.2040126 \n"
            ]
          },
          "metadata": {},
          "output_type": "display_data"
        }
      ],
      "source": [
        "# Evidencia contrastada (variable calidadp)\n",
        "cor.test(wdata$fidelida, wdata$calidadp)"
      ]
    },
    {
      "cell_type": "markdown",
      "metadata": {
        "id": "zYmb2p4P6u-3"
      },
      "source": [
        "**<u>Interpretación resultados</u>.-** Un p-valor menor a 0.05 sugiere hay suficiente evidencia para rechazar la hipótesis nula.\n",
        "Esto implica hay evidencia estadísticamente significativa de una correlación entre fidelida y calidadp."
      ]
    },
    {
      "cell_type": "code",
      "execution_count": null,
      "metadata": {
        "id": "6wy_bzR56u-4",
        "outputId": "eb324d08-727b-4797-b403-b7adaaaef58c"
      },
      "outputs": [
        {
          "data": {
            "text/plain": [
              "\n",
              "Call:\n",
              "lm(formula = fidelida ~ velocida + flexprec + imgfabri + imgfvent + \n",
              "    calidadp, data = wdata)\n",
              "\n",
              "Coefficients:\n",
              "(Intercept)     velocida     flexprec     imgfabri     imgfvent     calidadp  \n",
              "    -3.1963       3.7206       2.5691       0.9296       1.2433       1.1283  \n"
            ]
          },
          "metadata": {},
          "output_type": "display_data"
        }
      ],
      "source": [
        "# Estimación del modelo de regresión lineal múltiple incluyendo el dataset como parámetro\n",
        "modelo <- lm(fidelida ~ velocida+flexprec+imgfabri+imgfvent+calidadp, data = wdata)  # no consideramos la variable precio\n",
        "modelo"
      ]
    },
    {
      "cell_type": "code",
      "execution_count": null,
      "metadata": {
        "id": "SakBNAGg6u-4",
        "outputId": "be3401e3-5dc0-40cc-a0e8-6e2bc6b71384"
      },
      "outputs": [
        {
          "name": "stdout",
          "output_type": "stream",
          "text": [
            "List of 12\n",
            " $ coefficients : Named num [1:6] -3.2 3.72 2.57 0.93 1.24 ...\n",
            "  ..- attr(*, \"names\")= chr [1:6] \"(Intercept)\" \"velocida\" \"flexprec\" \"imgfabri\" ...\n",
            " $ residuals    : Named num [1:99] -10.88 2.73 5.72 -10.24 -3.84 ...\n",
            "  ..- attr(*, \"names\")= chr [1:99] \"1\" \"2\" \"3\" \"4\" ...\n",
            " $ effects      : Named num [1:99] -460.07 59.65 23.62 -21.12 -7.31 ...\n",
            "  ..- attr(*, \"names\")= chr [1:99] \"(Intercept)\" \"velocida\" \"flexprec\" \"imgfabri\" ...\n",
            " $ rank         : int 6\n",
            " $ fitted.values: Named num [1:99] 42.9 40.3 42.3 42.2 61.8 ...\n",
            "  ..- attr(*, \"names\")= chr [1:99] \"1\" \"2\" \"3\" \"4\" ...\n",
            " $ assign       : int [1:6] 0 1 2 3 4 5\n",
            " $ qr           :List of 5\n",
            "  ..$ qr   : num [1:99, 1:6] -9.95 0.101 0.101 0.101 0.101 ...\n",
            "  .. ..- attr(*, \"dimnames\")=List of 2\n",
            "  .. .. ..$ : chr [1:99] \"1\" \"2\" \"3\" \"4\" ...\n",
            "  .. .. ..$ : chr [1:6] \"(Intercept)\" \"velocida\" \"flexprec\" \"imgfabri\" ...\n",
            "  .. ..- attr(*, \"assign\")= int [1:6] 0 1 2 3 4 5\n",
            "  ..$ qraux: num [1:6] 1.1 1.14 1.17 1.06 1.16 ...\n",
            "  ..$ pivot: int [1:6] 1 2 3 4 5 6\n",
            "  ..$ tol  : num 1e-07\n",
            "  ..$ rank : int 6\n",
            "  ..- attr(*, \"class\")= chr \"qr\"\n",
            " $ df.residual  : int 93\n",
            " $ xlevels      : Named list()\n",
            " $ call         : language lm(formula = fidelida ~ velocida + flexprec + imgfabri + imgfvent + calidadp,      data = wdata)\n",
            " $ terms        :Classes 'terms', 'formula'  language fidelida ~ velocida + flexprec + imgfabri + imgfvent + calidadp\n",
            "  .. ..- attr(*, \"variables\")= language list(fidelida, velocida, flexprec, imgfabri, imgfvent, calidadp)\n",
            "  .. ..- attr(*, \"factors\")= int [1:6, 1:5] 0 1 0 0 0 0 0 0 1 0 ...\n",
            "  .. .. ..- attr(*, \"dimnames\")=List of 2\n",
            "  .. .. .. ..$ : chr [1:6] \"fidelida\" \"velocida\" \"flexprec\" \"imgfabri\" ...\n",
            "  .. .. .. ..$ : chr [1:5] \"velocida\" \"flexprec\" \"imgfabri\" \"imgfvent\" ...\n",
            "  .. ..- attr(*, \"term.labels\")= chr [1:5] \"velocida\" \"flexprec\" \"imgfabri\" \"imgfvent\" ...\n",
            "  .. ..- attr(*, \"order\")= int [1:5] 1 1 1 1 1\n",
            "  .. ..- attr(*, \"intercept\")= int 1\n",
            "  .. ..- attr(*, \"response\")= int 1\n",
            "  .. ..- attr(*, \".Environment\")=<environment: R_GlobalEnv> \n",
            "  .. ..- attr(*, \"predvars\")= language list(fidelida, velocida, flexprec, imgfabri, imgfvent, calidadp)\n",
            "  .. ..- attr(*, \"dataClasses\")= Named chr [1:6] \"numeric\" \"numeric\" \"numeric\" \"numeric\" ...\n",
            "  .. .. ..- attr(*, \"names\")= chr [1:6] \"fidelida\" \"velocida\" \"flexprec\" \"imgfabri\" ...\n",
            " $ model        :'data.frame':\t99 obs. of  6 variables:\n",
            "  ..$ fidelida: num [1:99] 32 43 48 32 58 45 46 44 63 54 ...\n",
            "  ..$ velocida: num [1:99] 4.1 1.8 3.4 2.7 6 1.9 4.6 1.3 5.5 4 ...\n",
            "  ..$ flexprec: num [1:99] 6.9 6.3 5.7 7.1 9.6 7.9 9.5 6.2 9.4 6.5 ...\n",
            "  ..$ imgfabri: num [1:99] 4.7 6.6 6 5.9 7.8 4.8 6.6 5.1 4.7 6 ...\n",
            "  ..$ imgfvent: num [1:99] 2.3 4 2.7 2.3 4.6 1.9 4.5 2.2 3 3.2 ...\n",
            "  ..$ calidadp: num [1:99] 5.2 8.4 8.2 7.8 4.5 9.7 7.6 6.9 7.6 8.7 ...\n",
            "  ..- attr(*, \"terms\")=Classes 'terms', 'formula'  language fidelida ~ velocida + flexprec + imgfabri + imgfvent + calidadp\n",
            "  .. .. ..- attr(*, \"variables\")= language list(fidelida, velocida, flexprec, imgfabri, imgfvent, calidadp)\n",
            "  .. .. ..- attr(*, \"factors\")= int [1:6, 1:5] 0 1 0 0 0 0 0 0 1 0 ...\n",
            "  .. .. .. ..- attr(*, \"dimnames\")=List of 2\n",
            "  .. .. .. .. ..$ : chr [1:6] \"fidelida\" \"velocida\" \"flexprec\" \"imgfabri\" ...\n",
            "  .. .. .. .. ..$ : chr [1:5] \"velocida\" \"flexprec\" \"imgfabri\" \"imgfvent\" ...\n",
            "  .. .. ..- attr(*, \"term.labels\")= chr [1:5] \"velocida\" \"flexprec\" \"imgfabri\" \"imgfvent\" ...\n",
            "  .. .. ..- attr(*, \"order\")= int [1:5] 1 1 1 1 1\n",
            "  .. .. ..- attr(*, \"intercept\")= int 1\n",
            "  .. .. ..- attr(*, \"response\")= int 1\n",
            "  .. .. ..- attr(*, \".Environment\")=<environment: R_GlobalEnv> \n",
            "  .. .. ..- attr(*, \"predvars\")= language list(fidelida, velocida, flexprec, imgfabri, imgfvent, calidadp)\n",
            "  .. .. ..- attr(*, \"dataClasses\")= Named chr [1:6] \"numeric\" \"numeric\" \"numeric\" \"numeric\" ...\n",
            "  .. .. .. ..- attr(*, \"names\")= chr [1:6] \"fidelida\" \"velocida\" \"flexprec\" \"imgfabri\" ...\n",
            " - attr(*, \"class\")= chr \"lm\"\n"
          ]
        }
      ],
      "source": [
        "# Observamos la estructura del output de la regresión\n",
        "str(modelo)"
      ]
    },
    {
      "cell_type": "code",
      "execution_count": null,
      "metadata": {
        "id": "vGQL1Axe6u-5",
        "outputId": "947bf99d-bb17-4f33-e40b-4bbcbe662b35"
      },
      "outputs": [
        {
          "data": {
            "text/plain": [
              "\n",
              "Call:\n",
              "lm(formula = fidelida ~ velocida + flexprec + imgfabri + imgfvent + \n",
              "    calidadp, data = wdata)\n",
              "\n",
              "Residuals:\n",
              "     Min       1Q   Median       3Q      Max \n",
              "-12.6307  -3.6459   0.7568   3.7994  11.1693 \n",
              "\n",
              "Coefficients:\n",
              "            Estimate Std. Error t value Pr(>|t|)    \n",
              "(Intercept)  -3.1963     6.1465  -0.520   0.6043    \n",
              "velocida      3.7206     0.5508   6.754 1.23e-09 ***\n",
              "flexprec      2.5691     0.5044   5.094 1.83e-06 ***\n",
              "imgfabri      0.9296     0.8343   1.114   0.2680    \n",
              "imgfvent      1.2433     1.2208   1.018   0.3111    \n",
              "calidadp      1.1283     0.4417   2.554   0.0123 *  \n",
              "---\n",
              "Signif. codes:  0 '***' 0.001 '**' 0.01 '*' 0.05 '.' 0.1 ' ' 1\n",
              "\n",
              "Residual standard error: 5.68 on 93 degrees of freedom\n",
              "Multiple R-squared:  0.6167,\tAdjusted R-squared:  0.5961 \n",
              "F-statistic: 29.92 on 5 and 93 DF,  p-value: < 2.2e-16\n"
            ]
          },
          "metadata": {},
          "output_type": "display_data"
        }
      ],
      "source": [
        "# Hacemos un summary del modelo\n",
        "output <- summary(modelo)\n",
        "output"
      ]
    },
    {
      "cell_type": "markdown",
      "metadata": {
        "id": "vZwYVMC96u-5"
      },
      "source": [
        "<div style=\"background-color:#5DADE2\"><b>Apartado 2</b></div>"
      ]
    },
    {
      "cell_type": "markdown",
      "metadata": {
        "id": "iTtF_Zea6u-5"
      },
      "source": [
        "Comparar sus métricas y realizar la diagnosis del modelo de regresión lineal elegido"
      ]
    },
    {
      "cell_type": "code",
      "execution_count": null,
      "metadata": {
        "id": "iIHp5feF6u-5",
        "outputId": "6f14e473-75f0-4ac6-ee8e-2d49395a1daa"
      },
      "outputs": [
        {
          "data": {
            "text/html": [
              "0.616666304682763"
            ],
            "text/latex": [
              "0.616666304682763"
            ],
            "text/markdown": [
              "0.616666304682763"
            ],
            "text/plain": [
              "[1] 0.6166663"
            ]
          },
          "metadata": {},
          "output_type": "display_data"
        }
      ],
      "source": [
        "# coeficiente de determinación ajustado\n",
        "R2=c(summary(modelo)$r.squared)\n",
        "R2"
      ]
    },
    {
      "cell_type": "markdown",
      "metadata": {
        "id": "RW2h1Z-s6u-6"
      },
      "source": [
        " **Coeficiente de Ajuste (0.616666304682763)** Nos indica la proporción de la variabilidad en la variable dependiente que es explicada por el modelo. significa que aproximadamente el 62% de la variabilidad en la variable dependiente puede ser explicada por las variables independientes incluidas en el modelo. Un valor más alto indica un mejor ajuste del modelo.\n"
      ]
    },
    {
      "cell_type": "code",
      "execution_count": null,
      "metadata": {
        "id": "X6tFxBlV6u-6",
        "outputId": "e6d5fd39-2c65-476e-e38f-11bd3490608c"
      },
      "outputs": [
        {
          "data": {
            "text/html": [
              "349.722057049437"
            ],
            "text/latex": [
              "349.722057049437"
            ],
            "text/markdown": [
              "349.722057049437"
            ],
            "text/plain": [
              "[1] 349.7221"
            ]
          },
          "metadata": {},
          "output_type": "display_data"
        }
      ],
      "source": [
        "#criterios de información de Akaike (AIC)\n",
        "AIC=c(extractAIC(modelo)[2])\n",
        "AIC"
      ]
    },
    {
      "cell_type": "markdown",
      "metadata": {
        "id": "SSj8nrMS6u-7"
      },
      "source": [
        " **Criterio de Información de Akaike (AIC) (349.722057049437)** El AIC es una medida de la calidad de un modelo estadístico,un AIC más bajo indica un modelo mejor."
      ]
    },
    {
      "cell_type": "code",
      "execution_count": null,
      "metadata": {
        "id": "PKOQWdEz6u-7",
        "outputId": "1593e5c7-34e9-429b-9c5d-dbd5084ba06f"
      },
      "outputs": [
        {
          "data": {
            "text/html": [
              "365.353078165365"
            ],
            "text/latex": [
              "365.353078165365"
            ],
            "text/markdown": [
              "365.353078165365"
            ],
            "text/plain": [
              "[1] 365.3531"
            ]
          },
          "metadata": {},
          "output_type": "display_data"
        }
      ],
      "source": [
        "#criterios de información de Bayesiano (BIC)\n",
        "BIC=c(extractAIC(modelo,k=log(nrow(hatco)))[2])\n",
        "BIC"
      ]
    },
    {
      "cell_type": "markdown",
      "metadata": {
        "id": "7qDIAziS6u-7"
      },
      "source": [
        "**Criterio de Información Bayesiano (BIC) (365.353078165365):** el BIC es otra medida de la calidad del modelo. A diferencia del AIC, el BIC penaliza más fuertemente los modelos con un mayor número de parámetros (o variables independientes). Un valor más bajo indica un mejor modelo."
      ]
    },
    {
      "cell_type": "markdown",
      "metadata": {
        "id": "Bugengrd6u-8"
      },
      "source": [
        "Esumen, estos valores sugieren que el modelo tiene un ajuste razonable, explicando una cantidad significativa de la variabilidad en la variable dependiente. Sin embargo, para una evaluación completa, es importante comparar estos valores con los de otros modelos y considerar otros aspectos del análisis, como la significancia de los coeficientes individuales y la validez de los supuestos del modelo."
      ]
    },
    {
      "cell_type": "markdown",
      "metadata": {
        "id": "LBwop5_T6u-8"
      },
      "source": [
        "<div style=\"background-color:#5DADE2\"><b>Apartado 3</b></div>"
      ]
    },
    {
      "cell_type": "markdown",
      "metadata": {
        "id": "USnEROJv6u-8"
      },
      "source": [
        "**Realizar una interpretación de los coeficientes del modelo de regresión lineal elegido**"
      ]
    },
    {
      "cell_type": "code",
      "execution_count": null,
      "metadata": {
        "id": "4F5s1vwR6u-9",
        "outputId": "bd05d819-7787-429b-d16b-2fd86480a8af"
      },
      "outputs": [
        {
          "data": {
            "text/html": [
              "<table>\n",
              "<thead><tr><th></th><th scope=col>Estimate</th><th scope=col>Std. Error</th><th scope=col>t value</th><th scope=col>Pr(&gt;|t|)</th></tr></thead>\n",
              "<tbody>\n",
              "\t<tr><th scope=row>(Intercept)</th><td>-3.1963155  </td><td>6.1464752   </td><td>-0.5200242  </td><td>6.042824e-01</td></tr>\n",
              "\t<tr><th scope=row>velocida</th><td> 3.7206026  </td><td>0.5508455   </td><td> 6.7543486  </td><td>1.225638e-09</td></tr>\n",
              "\t<tr><th scope=row>flexprec</th><td> 2.5691281  </td><td>0.5043566   </td><td> 5.0938726  </td><td>1.830186e-06</td></tr>\n",
              "\t<tr><th scope=row>imgfabri</th><td> 0.9296422  </td><td>0.8342856   </td><td> 1.1142973  </td><td>2.680232e-01</td></tr>\n",
              "\t<tr><th scope=row>imgfvent</th><td> 1.2433377  </td><td>1.2208033   </td><td> 1.0184587  </td><td>3.111022e-01</td></tr>\n",
              "\t<tr><th scope=row>calidadp</th><td> 1.1282736  </td><td>0.4417120   </td><td> 2.5543194  </td><td>1.226447e-02</td></tr>\n",
              "</tbody>\n",
              "</table>\n"
            ],
            "text/latex": [
              "\\begin{tabular}{r|llll}\n",
              "  & Estimate & Std. Error & t value & Pr(>\\textbar{}t\\textbar{})\\\\\n",
              "\\hline\n",
              "\t(Intercept) & -3.1963155   & 6.1464752    & -0.5200242   & 6.042824e-01\\\\\n",
              "\tvelocida &  3.7206026   & 0.5508455    &  6.7543486   & 1.225638e-09\\\\\n",
              "\tflexprec &  2.5691281   & 0.5043566    &  5.0938726   & 1.830186e-06\\\\\n",
              "\timgfabri &  0.9296422   & 0.8342856    &  1.1142973   & 2.680232e-01\\\\\n",
              "\timgfvent &  1.2433377   & 1.2208033    &  1.0184587   & 3.111022e-01\\\\\n",
              "\tcalidadp &  1.1282736   & 0.4417120    &  2.5543194   & 1.226447e-02\\\\\n",
              "\\end{tabular}\n"
            ],
            "text/markdown": [
              "\n",
              "| <!--/--> | Estimate | Std. Error | t value | Pr(>|t|) |\n",
              "|---|---|---|---|---|\n",
              "| (Intercept) | -3.1963155   | 6.1464752    | -0.5200242   | 6.042824e-01 |\n",
              "| velocida |  3.7206026   | 0.5508455    |  6.7543486   | 1.225638e-09 |\n",
              "| flexprec |  2.5691281   | 0.5043566    |  5.0938726   | 1.830186e-06 |\n",
              "| imgfabri |  0.9296422   | 0.8342856    |  1.1142973   | 2.680232e-01 |\n",
              "| imgfvent |  1.2433377   | 1.2208033    |  1.0184587   | 3.111022e-01 |\n",
              "| calidadp |  1.1282736   | 0.4417120    |  2.5543194   | 1.226447e-02 |\n",
              "\n"
            ],
            "text/plain": [
              "            Estimate   Std. Error t value    Pr(>|t|)    \n",
              "(Intercept) -3.1963155 6.1464752  -0.5200242 6.042824e-01\n",
              "velocida     3.7206026 0.5508455   6.7543486 1.225638e-09\n",
              "flexprec     2.5691281 0.5043566   5.0938726 1.830186e-06\n",
              "imgfabri     0.9296422 0.8342856   1.1142973 2.680232e-01\n",
              "imgfvent     1.2433377 1.2208033   1.0184587 3.111022e-01\n",
              "calidadp     1.1282736 0.4417120   2.5543194 1.226447e-02"
            ]
          },
          "metadata": {},
          "output_type": "display_data"
        }
      ],
      "source": [
        "# Extracción directa de los coeficientes de regresión (utilizamos output NO modelo)\n",
        "output$coef"
      ]
    },
    {
      "cell_type": "markdown",
      "metadata": {
        "id": "HdXAfaNX6u-9"
      },
      "source": [
        "*<u>Interpretación resultados</u>.-** En este caso el valor más representativo es la velocidad de entrega del producto por lo que si deseamos mayor fidelidad en la empresa debemos enfocarnos en este punto.\n",
        "Similarmente la flexibilidad en el precio también muestra un impacto positivo y significativo. Esto sugiere que ser flexible en precios al incluir descuentos, ofertas personalizadas contribuye a aumentar la fidelidad del cliente."
      ]
    },
    {
      "cell_type": "markdown",
      "metadata": {
        "id": "6eSNLh3S6u-9"
      },
      "source": [
        "<div style=\"background-color:#5DADE2\"><b>Apartado 4</b></div>"
      ]
    },
    {
      "cell_type": "markdown",
      "metadata": {
        "id": "19WLmL2w6u--"
      },
      "source": [
        "**Realizar la descomposición de valores ajustados y residuos del modelo de regresión lineal elegido**"
      ]
    },
    {
      "cell_type": "code",
      "execution_count": null,
      "metadata": {
        "id": "AgquxRUb6u--",
        "outputId": "232fb5ac-f873-4947-cf63-e5574ddad0dc"
      },
      "outputs": [
        {
          "data": {
            "text/html": [
              "<dl class=dl-horizontal>\n",
              "\t<dt>1</dt>\n",
              "\t\t<dd>42.8811565970376</dd>\n",
              "\t<dt>2</dt>\n",
              "\t\t<dd>40.2727635446214</dd>\n",
              "\t<dt>3</dt>\n",
              "\t\t<dd>42.2844717089092</dd>\n",
              "\t<dt>4</dt>\n",
              "\t\t<dd>42.2352205065462</dd>\n",
              "\t<dt>5</dt>\n",
              "\t\t<dd>61.838723526158</dd>\n",
              "\t<dt>6</dt>\n",
              "\t\t<dd>41.9378191537692</dd>\n",
              "</dl>\n"
            ],
            "text/latex": [
              "\\begin{description*}\n",
              "\\item[1] 42.8811565970376\n",
              "\\item[2] 40.2727635446214\n",
              "\\item[3] 42.2844717089092\n",
              "\\item[4] 42.2352205065462\n",
              "\\item[5] 61.838723526158\n",
              "\\item[6] 41.9378191537692\n",
              "\\end{description*}\n"
            ],
            "text/markdown": [
              "1\n",
              ":   42.88115659703762\n",
              ":   40.27276354462143\n",
              ":   42.28447170890924\n",
              ":   42.23522050654625\n",
              ":   61.8387235261586\n",
              ":   41.9378191537692\n",
              "\n"
            ],
            "text/plain": [
              "       1        2        3        4        5        6 \n",
              "42.88116 40.27276 42.28447 42.23522 61.83872 41.93782 "
            ]
          },
          "metadata": {},
          "output_type": "display_data"
        }
      ],
      "source": [
        "# Extracción directa de los valores ajustados de la variable dependiente\n",
        "head(modelo$fitted.values)"
      ]
    },
    {
      "cell_type": "markdown",
      "metadata": {
        "id": "66hYq1D46u--"
      },
      "source": [
        "**<u>Interpretación resultados</u>.-** Estos valores ajustados, son el resultado de aplicar la ecuación de regresión a los valores observados de las variables independientes. En términos prácticos, **representan lo que el modelo anticipa que debería serla fidelidad** para cada una de las variables independientes. La comparación de estos valores ajustados con los valores observados de salarios permite evaluar la precisión y utilidad del modelo. Si los valores ajustados se alinean estrechamente con los valores observados, indica que el modelo es un buen predictor de la fidelidad en función de las variables independientes consideradas. Sin embargo, las discrepancias entre los valores ajustados y observados pueden señalar limitaciones del modelo o la necesidad de considerar otras variables que también podrían influir en la fidelidad."
      ]
    },
    {
      "cell_type": "code",
      "execution_count": null,
      "metadata": {
        "id": "WPIvQeYn6u-_",
        "outputId": "92fe98cd-b1ea-486b-c5e4-69a78d96b7ec"
      },
      "outputs": [
        {
          "data": {
            "text/html": [
              "<dl class=dl-horizontal>\n",
              "\t<dt>1</dt>\n",
              "\t\t<dd>-10.8811565970376</dd>\n",
              "\t<dt>2</dt>\n",
              "\t\t<dd>2.72723645537859</dd>\n",
              "\t<dt>3</dt>\n",
              "\t\t<dd>5.71552829109084</dd>\n",
              "\t<dt>4</dt>\n",
              "\t\t<dd>-10.2352205065462</dd>\n",
              "\t<dt>5</dt>\n",
              "\t\t<dd>-3.83872352615804</dd>\n",
              "\t<dt>6</dt>\n",
              "\t\t<dd>3.06218084623084</dd>\n",
              "</dl>\n"
            ],
            "text/latex": [
              "\\begin{description*}\n",
              "\\item[1] -10.8811565970376\n",
              "\\item[2] 2.72723645537859\n",
              "\\item[3] 5.71552829109084\n",
              "\\item[4] -10.2352205065462\n",
              "\\item[5] -3.83872352615804\n",
              "\\item[6] 3.06218084623084\n",
              "\\end{description*}\n"
            ],
            "text/markdown": [
              "1\n",
              ":   -10.88115659703762\n",
              ":   2.727236455378593\n",
              ":   5.715528291090844\n",
              ":   -10.23522050654625\n",
              ":   -3.838723526158046\n",
              ":   3.06218084623084\n",
              "\n"
            ],
            "text/plain": [
              "         1          2          3          4          5          6 \n",
              "-10.881157   2.727236   5.715528 -10.235221  -3.838724   3.062181 "
            ]
          },
          "metadata": {},
          "output_type": "display_data"
        }
      ],
      "source": [
        "# Extracción directa del valor de los residuos estimados\n",
        "head(modelo$residuals)"
      ]
    },
    {
      "cell_type": "markdown",
      "metadata": {
        "id": "Ba33W4Yr6u-_"
      },
      "source": [
        "**<u>Interpretación resultados</u>.-** En este caso, los residuos representan la diferencia entre los valores observados de fidelidad y los valores predichos por el modelo. Estos residuos **son indicativos de la parte de la fidelidad que no se puede explicar solo por las variables independientes consideradas**. Si los residuos son pequeños y distribuidos aleatoriamente alrededor de cero, sugiere que el modelo se ajusta bien a los datos, si los residuos son grandes o muestran algún patrón, esto puede indicar que el modelo no captura completamente la relación, o que hay otras variables influyentes no consideradas en el modelo."
      ]
    },
    {
      "cell_type": "markdown",
      "metadata": {
        "id": "2zIeAbo16u-_"
      },
      "source": [
        "<div style=\"background-color:#5DADE2\"><b>Apartado 5</b></div>"
      ]
    },
    {
      "cell_type": "markdown",
      "metadata": {
        "id": "qayR3KaH6u_A"
      },
      "source": [
        "**Evaluar e interpretar la bondad de ajuste del modelo de regresión lineal elegido ($R^2$ y $R^2_{adj}$)**"
      ]
    },
    {
      "cell_type": "code",
      "execution_count": null,
      "metadata": {
        "id": "p24c78HV6u_A",
        "outputId": "c425c055-ca73-4bf5-8f56-920bf57368b7"
      },
      "outputs": [
        {
          "data": {
            "text/html": [
              "5.67986311678898"
            ],
            "text/latex": [
              "5.67986311678898"
            ],
            "text/markdown": [
              "5.67986311678898"
            ],
            "text/plain": [
              "[1] 5.679863"
            ]
          },
          "metadata": {},
          "output_type": "display_data"
        }
      ],
      "source": [
        "# Extracción directa de la suma de cuadrados de los residuos (utilizamos output NO modelo)\n",
        "head(output$sigma)"
      ]
    },
    {
      "cell_type": "markdown",
      "metadata": {
        "id": "_XTM_T3o6u_A"
      },
      "source": [
        "**<u>Interpretación resultados</u>.-** La suma de cuadrados de los residuos (SSR) es una medida estadística que refleja la variabilidad en una variable dependiente, en este caso, el nivel de fidelidad, que no es explicada por el modelo de regresión lineal múltiple. un SSR de $5.67986311678898$ indica la **cantidad total de variabilidad en fidelidad que no es capturada por el modelo**. Un SSR más bajo sugiere que el modelo explica una mayor proporción de la variabilidad en la fdelidad, mientras que un valor más alto indicaría que hay factores adicionales, no considerados en el modelo, que influyen en la fidelidad."
      ]
    },
    {
      "cell_type": "code",
      "execution_count": null,
      "metadata": {
        "id": "EY12VRgN6u_B",
        "outputId": "e59f2460-9940-4112-e280-c2414f2ccad5"
      },
      "outputs": [
        {
          "data": {
            "text/html": [
              "0.616666304682763"
            ],
            "text/latex": [
              "0.616666304682763"
            ],
            "text/markdown": [
              "0.616666304682763"
            ],
            "text/plain": [
              "[1] 0.6166663"
            ]
          },
          "metadata": {},
          "output_type": "display_data"
        }
      ],
      "source": [
        "# Extracción directa del valor de los coeficientes de determinación\n",
        "# Obtenemos R2 (utilizamos output NO modelo)\n",
        "R2=output$r.squared\n",
        "R2"
      ]
    },
    {
      "cell_type": "markdown",
      "metadata": {
        "id": "Uv6k_dco6u_B"
      },
      "source": [
        "**<u>Interpretación resultados</u>.-** El coeficiente de determinación $R^2$, es una medida fundamental en la interpretación de un modelo de regresión lineal múltiple. En este caso,un $R^2$ igual a $0.616666304682763$ significa que aproximadamente el $61.66\\%$ de la **variabilidad en la fidelidad puede ser explicada por las variables independientes consideradas en el modelo**."
      ]
    },
    {
      "cell_type": "code",
      "execution_count": null,
      "metadata": {
        "id": "JdzvPvem6u_C",
        "outputId": "a93b62ab-e089-433d-83a7-08e2fd4a0c17"
      },
      "outputs": [
        {
          "data": {
            "text/html": [
              "0.596056966224847"
            ],
            "text/latex": [
              "0.596056966224847"
            ],
            "text/markdown": [
              "0.596056966224847"
            ],
            "text/plain": [
              "[1] 0.596057"
            ]
          },
          "metadata": {},
          "output_type": "display_data"
        }
      ],
      "source": [
        "# Obtenemos R2 ajustado directamente del output (NO del modelo)\n",
        "R2adj=output$adj.r.squared\n",
        "R2adj"
      ]
    },
    {
      "cell_type": "code",
      "execution_count": null,
      "metadata": {
        "id": "_5j390oR6u_C",
        "outputId": "f7047719-8879-4554-8868-7ea3158dda90"
      },
      "outputs": [
        {
          "data": {
            "text/html": [
              "0.608922189625849"
            ],
            "text/latex": [
              "0.608922189625849"
            ],
            "text/markdown": [
              "0.608922189625849"
            ],
            "text/plain": [
              "[1] 0.6089222"
            ]
          },
          "metadata": {},
          "output_type": "display_data"
        }
      ],
      "source": [
        "# Obtenemos R2 ajustado a través de su ecuación formal 1-(1-R2)*(n-1/n-k)\n",
        "# k = número parámetros estimados\n",
        "# n = número de observaciones\n",
        "R2adj_2=1-(1-R2)*((102-1)/(102-3))\n",
        "R2adj_2"
      ]
    },
    {
      "cell_type": "markdown",
      "metadata": {
        "id": "-X8IlbMa6u_C"
      },
      "source": [
        "Este valor ajusta el coeficiente de determinación 0.608922189625849  para tener en cuenta el número de predictores en el modelo, proporcionando una medida más precisa del ajuste del modelo, especialmente cuando se comparan modelos con un número diferente de predictores"
      ]
    },
    {
      "cell_type": "markdown",
      "metadata": {
        "id": "ywLPpAJk6u_D"
      },
      "source": [
        "<div style=\"background-color:#5DADE2\"><b>Apartado 6</b></div>"
      ]
    },
    {
      "cell_type": "markdown",
      "metadata": {
        "id": "IkzUzklt6u_D"
      },
      "source": [
        "**Evaluar e interpretar la prueba de significatividad individual del modelo de regresión lineal elegido**"
      ]
    },
    {
      "cell_type": "code",
      "execution_count": null,
      "metadata": {
        "id": "_afsc6zc6u_D",
        "outputId": "a73780f5-a590-491b-8c08-04ca98cf493a"
      },
      "outputs": [
        {
          "data": {
            "text/plain": [
              "\n",
              "Call:\n",
              "lm(formula = fidelida ~ velocida + flexprec + imgfabri + imgfvent + \n",
              "    calidadp, data = wdata)\n",
              "\n",
              "Residuals:\n",
              "     Min       1Q   Median       3Q      Max \n",
              "-12.6307  -3.6459   0.7568   3.7994  11.1693 \n",
              "\n",
              "Coefficients:\n",
              "            Estimate Std. Error t value Pr(>|t|)    \n",
              "(Intercept)  -3.1963     6.1465  -0.520   0.6043    \n",
              "velocida      3.7206     0.5508   6.754 1.23e-09 ***\n",
              "flexprec      2.5691     0.5044   5.094 1.83e-06 ***\n",
              "imgfabri      0.9296     0.8343   1.114   0.2680    \n",
              "imgfvent      1.2433     1.2208   1.018   0.3111    \n",
              "calidadp      1.1283     0.4417   2.554   0.0123 *  \n",
              "---\n",
              "Signif. codes:  0 '***' 0.001 '**' 0.01 '*' 0.05 '.' 0.1 ' ' 1\n",
              "\n",
              "Residual standard error: 5.68 on 93 degrees of freedom\n",
              "Multiple R-squared:  0.6167,\tAdjusted R-squared:  0.5961 \n",
              "F-statistic: 29.92 on 5 and 93 DF,  p-value: < 2.2e-16\n"
            ]
          },
          "metadata": {},
          "output_type": "display_data"
        }
      ],
      "source": [
        "# Obtenemos los p-valores de la prueba de significatividad individual\n",
        "summary(modelo)"
      ]
    },
    {
      "cell_type": "markdown",
      "metadata": {
        "id": "pBedgj4t6u_E"
      },
      "source": [
        "**<u>Interpretación resultados</u>.-**\n",
        "Error Estándar Residual: 5.68, que es una medida de la variabilidad de los residuos (errores de predicción).\n",
        "R-cuadrado: 0.6167, indicando que aproximadamente el 61.67% de la variabilidad en 'fidelida' es explicada por el modelo.\n",
        "R-cuadrado Ajustado: 0.5961, ajustado por el número de predictores, sigue siendo relativamente alto.\n",
        "F-estadístico: 29.92 con un p-valor muy bajo (< 2.2e-16), sugiere que el modelo en conjunto es estadísticamente significativo, es decir, al menos una de las variables independientes es relevante para predecir 'fidelid esto sugiere que  tanto la velocidad como la flexibilidad de precios son factores clave para aumentar la fidelidad de los clientes. En cambio, las variables 'imgfabri' e 'imgfvent' no parecen tener un impacto significativo en la fidelidad. La calidad del producto ('calidadp'), aunque en menor medida que la velocidad y la flexibilidad de precios, también es un factor importante. dad."
      ]
    },
    {
      "cell_type": "markdown",
      "metadata": {
        "id": "Sk7MMQqT6u_E"
      },
      "source": [
        "<div style=\"background-color:#5DADE2\"><b>Apartado 7</b></div>"
      ]
    },
    {
      "cell_type": "markdown",
      "metadata": {
        "id": "TxH4-xMZ6u_E"
      },
      "source": [
        "**Evaluar e interpretar la prueba de significatividad global del modelo de regresión lineal elegido**"
      ]
    },
    {
      "cell_type": "code",
      "execution_count": null,
      "metadata": {
        "id": "F1O0Jgxz6u_F",
        "outputId": "39f3580c-7c35-45d0-ab7e-0b7119265953"
      },
      "outputs": [
        {
          "data": {
            "text/plain": [
              "\n",
              "Call:\n",
              "lm(formula = fidelida ~ velocida + flexprec + imgfabri + imgfvent + \n",
              "    calidadp, data = wdata)\n",
              "\n",
              "Residuals:\n",
              "     Min       1Q   Median       3Q      Max \n",
              "-12.6307  -3.6459   0.7568   3.7994  11.1693 \n",
              "\n",
              "Coefficients:\n",
              "            Estimate Std. Error t value Pr(>|t|)    \n",
              "(Intercept)  -3.1963     6.1465  -0.520   0.6043    \n",
              "velocida      3.7206     0.5508   6.754 1.23e-09 ***\n",
              "flexprec      2.5691     0.5044   5.094 1.83e-06 ***\n",
              "imgfabri      0.9296     0.8343   1.114   0.2680    \n",
              "imgfvent      1.2433     1.2208   1.018   0.3111    \n",
              "calidadp      1.1283     0.4417   2.554   0.0123 *  \n",
              "---\n",
              "Signif. codes:  0 '***' 0.001 '**' 0.01 '*' 0.05 '.' 0.1 ' ' 1\n",
              "\n",
              "Residual standard error: 5.68 on 93 degrees of freedom\n",
              "Multiple R-squared:  0.6167,\tAdjusted R-squared:  0.5961 \n",
              "F-statistic: 29.92 on 5 and 93 DF,  p-value: < 2.2e-16\n"
            ]
          },
          "metadata": {},
          "output_type": "display_data"
        }
      ],
      "source": [
        "# Obtenemos el p-valor de la prueba de significatividad conjunta (F-statistic + p-value)\n",
        "summary(modelo)"
      ]
    },
    {
      "cell_type": "markdown",
      "metadata": {
        "id": "zcoamzK-6u_F"
      },
      "source": [
        "**<u>Interpretación resultados</u>.-** En este caso, realizamos el contraste de **significatividad global** del conjunto de parámetros $\\beta^{'s}$ siendo la hipótesis nula $H_0:\\beta_0=\\beta_1=\\beta_2=\\beta_3$. En este caso, rechazamos la hipótesis nula ya que el p-valor es menor que el nivel de significación fijado por defecto ($5\\%$). Lo que implica que los valores de los coeficientes son diferentes entre sí.\n",
        "El modelo en su conjunto es considerado estadísticamente significativo, lo que significa que es muy probable que las variables incluidas en el modelo, en conjunto, influyan en la fidelidad."
      ]
    },
    {
      "cell_type": "markdown",
      "metadata": {
        "id": "8wlU1Wa06u_F"
      },
      "source": [
        "<div style=\"background-color:#5DADE2\"><b>Apartado 8</b></div>"
      ]
    },
    {
      "cell_type": "markdown",
      "metadata": {
        "id": "D84zROzs6u_G"
      },
      "source": [
        "**Evaluar e interpretar la multicolinealidad (existencia de relación lineal entre las variables independientes del modelo) usando la matriz de correlaciones**"
      ]
    },
    {
      "cell_type": "code",
      "execution_count": null,
      "metadata": {
        "id": "OM59TqYK6u_G"
      },
      "outputs": [],
      "source": [
        "# Seleccionamos las 2 variables que nos interesan\n",
        "xdata=wdata[, c(\"flexprec\", \"velocida\")]"
      ]
    },
    {
      "cell_type": "code",
      "execution_count": null,
      "metadata": {
        "id": "r0pT91pF6u_G",
        "outputId": "fee6507e-8448-4dc8-ee95-d8da1a0dcb42"
      },
      "outputs": [
        {
          "data": {
            "text/html": [
              "<table>\n",
              "<thead><tr><th></th><th scope=col>flexprec</th><th scope=col>velocida</th></tr></thead>\n",
              "<tbody>\n",
              "\t<tr><th scope=row>flexprec</th><td>1.0000000</td><td>0.5187973</td></tr>\n",
              "\t<tr><th scope=row>velocida</th><td>0.5187973</td><td>1.0000000</td></tr>\n",
              "</tbody>\n",
              "</table>\n"
            ],
            "text/latex": [
              "\\begin{tabular}{r|ll}\n",
              "  & flexprec & velocida\\\\\n",
              "\\hline\n",
              "\tflexprec & 1.0000000 & 0.5187973\\\\\n",
              "\tvelocida & 0.5187973 & 1.0000000\\\\\n",
              "\\end{tabular}\n"
            ],
            "text/markdown": [
              "\n",
              "| <!--/--> | flexprec | velocida |\n",
              "|---|---|---|\n",
              "| flexprec | 1.0000000 | 0.5187973 |\n",
              "| velocida | 0.5187973 | 1.0000000 |\n",
              "\n"
            ],
            "text/plain": [
              "         flexprec  velocida \n",
              "flexprec 1.0000000 0.5187973\n",
              "velocida 0.5187973 1.0000000"
            ]
          },
          "metadata": {},
          "output_type": "display_data"
        }
      ],
      "source": [
        "# Obtenemos la matriz de correlación con los coeficientes de correlación de Pearson\n",
        "cor(xdata)"
      ]
    },
    {
      "cell_type": "code",
      "execution_count": null,
      "metadata": {
        "id": "E3axk_7v6u_H",
        "outputId": "ba754a43-d383-4669-e51f-8987f5ef99d9"
      },
      "outputs": [
        {
          "data": {
            "text/plain": [
              "\n",
              "\tPearson's product-moment correlation\n",
              "\n",
              "data:  xdata$flexprec and xdata$velocida\n",
              "t = 5.9768, df = 97, p-value = 3.775e-08\n",
              "alternative hypothesis: true correlation is not equal to 0\n",
              "95 percent confidence interval:\n",
              " 0.3580565 0.6496719\n",
              "sample estimates:\n",
              "      cor \n",
              "0.5187973 \n"
            ]
          },
          "metadata": {},
          "output_type": "display_data"
        }
      ],
      "source": [
        "cor.test(xdata$flexprec,xdata$velocida)"
      ]
    },
    {
      "cell_type": "markdown",
      "metadata": {
        "id": "WN9uL3BQ6u_H"
      },
      "source": [
        "**<u>Interpretación resultados</u>.-** El $p$-valor obtenido es muy pequeño siendo $< \\alpha = 0.05$, luego tenemos que rechazar la hipótesis nula de que la correlación sea igual $0$, es decir SI está correlacionado. Por tanto, esto sería una evidencia de que existe un problema de multicolinealidad ya que las dos variables independientes NO son independientes sino que están relacionadas entre sí."
      ]
    },
    {
      "cell_type": "markdown",
      "metadata": {
        "id": "DSYfEQ5L6u_H"
      },
      "source": [
        "### 05 Ejercicio [1.5 puntos]\n",
        "\n",
        "En este ejercicio deberéis de <u>crear vuestra propia función de R</u> con el objetivo de automatizar el proceso de ajuste de un modelo de regresión lineal múltiple a un conjunto de datos de sección cruzada dado. Es decir, tenéis que replicar la función `lm` de la librería $\\tt stats$. Una vez creada, comparar los resultados obtenidos con la propia función `lm` utilizando alguna de las bases de datos propias de las librerías de R teniendo en cuenta los principales objetos de la salida de los modelos: output de la regresión, coeficientes de regresión estimados, residuos estimados, grados de libertad, etc.\n",
        "\n",
        "Para aplicar a un ejemplo la función que diseñéis podéis utilizar cualquier base de datos disponible en las precargadas de R."
      ]
    },
    {
      "cell_type": "code",
      "execution_count": null,
      "metadata": {
        "id": "8QUQJ5mU6u_I",
        "outputId": "cf361b3c-3ec2-48eb-b926-065b46dfeba0"
      },
      "outputs": [
        {
          "name": "stderr",
          "output_type": "stream",
          "text": [
            "Warning message in data(package = .packages(all.available = TRUE)):\n",
            "\"datasets have been moved from package 'base' to package 'datasets'\"Warning message in data(package = .packages(all.available = TRUE)):\n",
            "\"datasets have been moved from package 'stats' to package 'datasets'\""
          ]
        },
        {
          "data": {
            "text/html": [
              "<h3>Data sets</h3>\n",
              "<table>\n",
              "<thead><tr><th scope=col>Package</th><th scope=col>Item</th><th scope=col>Title</th></tr></thead>\n",
              "<tbody>\n",
              "\t<tr><td>datasets                                                                       </td><td>AirPassengers                                                                  </td><td>Monthly Airline Passenger Numbers 1949-1960                                    </td></tr>\n",
              "\t<tr><td>datasets                                                                       </td><td>BJsales                                                                        </td><td>Sales Data with Leading Indicator                                              </td></tr>\n",
              "\t<tr><td>datasets                                                                       </td><td>BJsales.lead (BJsales)                                                         </td><td>Sales Data with Leading Indicator                                              </td></tr>\n",
              "\t<tr><td>datasets                                                                       </td><td>BOD                                                                            </td><td>Biochemical Oxygen Demand                                                      </td></tr>\n",
              "\t<tr><td>datasets                                                                       </td><td>CO2                                                                            </td><td>Carbon Dioxide Uptake in Grass Plants                                          </td></tr>\n",
              "\t<tr><td>datasets                                                                       </td><td>ChickWeight                                                                    </td><td>Weight versus age of chicks on different diets                                 </td></tr>\n",
              "\t<tr><td>datasets                                                                       </td><td>DNase                                                                          </td><td>Elisa assay of DNase                                                           </td></tr>\n",
              "\t<tr><td>datasets                                                                       </td><td>EuStockMarkets                                                                 </td><td>Daily Closing Prices of Major European Stock Indices, 1991-1998                </td></tr>\n",
              "\t<tr><td>datasets                                                                       </td><td>Formaldehyde                                                                   </td><td>Determination of Formaldehyde                                                  </td></tr>\n",
              "\t<tr><td>datasets                                                                       </td><td>HairEyeColor                                                                   </td><td>Hair and Eye Color of Statistics Students                                      </td></tr>\n",
              "\t<tr><td>datasets                                                                       </td><td>Harman23.cor                                                                   </td><td>Harman Example 2.3                                                             </td></tr>\n",
              "\t<tr><td>datasets                                                                       </td><td>Harman74.cor                                                                   </td><td>Harman Example 7.4                                                             </td></tr>\n",
              "\t<tr><td>datasets                                                                       </td><td>Indometh                                                                       </td><td>Pharmacokinetics of Indomethacin                                               </td></tr>\n",
              "\t<tr><td>datasets                                                                       </td><td>InsectSprays                                                                   </td><td>Effectiveness of Insect Sprays                                                 </td></tr>\n",
              "\t<tr><td><span style=white-space:pre-wrap>datasets    </span>                                                                       </td><td><span style=white-space:pre-wrap>JohnsonJohnson          </span>                                                           </td><td><span style=white-space:pre-wrap>Quarterly Earnings per Johnson &amp; Johnson Share                                 </span></td></tr>\n",
              "\t<tr><td>datasets                                                                       </td><td>LakeHuron                                                                      </td><td>Level of Lake Huron 1875-1972                                                  </td></tr>\n",
              "\t<tr><td>datasets                                                                       </td><td>LifeCycleSavings                                                               </td><td>Intercountry Life-Cycle Savings Data                                           </td></tr>\n",
              "\t<tr><td>datasets                                                                       </td><td>Loblolly                                                                       </td><td>Growth of Loblolly pine trees                                                  </td></tr>\n",
              "\t<tr><td>datasets                                                                       </td><td>Nile                                                                           </td><td>Flow of the River Nile                                                         </td></tr>\n",
              "\t<tr><td>datasets                                                                       </td><td>Orange                                                                         </td><td>Growth of Orange Trees                                                         </td></tr>\n",
              "\t<tr><td>datasets                                                                       </td><td>OrchardSprays                                                                  </td><td>Potency of Orchard Sprays                                                      </td></tr>\n",
              "\t<tr><td>datasets                                                                       </td><td>PlantGrowth                                                                    </td><td>Results from an Experiment on Plant Growth                                     </td></tr>\n",
              "\t<tr><td>datasets                                                                       </td><td>Puromycin                                                                      </td><td>Reaction Velocity of an Enzymatic Reaction                                     </td></tr>\n",
              "\t<tr><td>datasets                                                                       </td><td>Seatbelts                                                                      </td><td>Road Casualties in Great Britain 1969-84                                       </td></tr>\n",
              "\t<tr><td>datasets                                                                       </td><td>Theoph                                                                         </td><td>Pharmacokinetics of Theophylline                                               </td></tr>\n",
              "\t<tr><td>datasets                                                                       </td><td>Titanic                                                                        </td><td>Survival of passengers on the Titanic                                          </td></tr>\n",
              "\t<tr><td>datasets                                                                       </td><td>ToothGrowth                                                                    </td><td>The Effect of Vitamin C on Tooth Growth in Guinea Pigs                         </td></tr>\n",
              "\t<tr><td>datasets                                                                       </td><td>UCBAdmissions                                                                  </td><td>Student Admissions at UC Berkeley                                              </td></tr>\n",
              "\t<tr><td>datasets                                                                       </td><td>UKDriverDeaths                                                                 </td><td>Road Casualties in Great Britain 1969-84                                       </td></tr>\n",
              "\t<tr><td>datasets                                                                       </td><td>UKgas                                                                          </td><td>UK Quarterly Gas Consumption                                                   </td></tr>\n",
              "\t<tr><td>datasets                                                                       </td><td>USAccDeaths                                                                    </td><td>Accidental Deaths in the US 1973-1978                                          </td></tr>\n",
              "\t<tr><td>datasets                                                                       </td><td>USArrests                                                                      </td><td>Violent Crime Rates by US State                                                </td></tr>\n",
              "\t<tr><td>datasets                                                                       </td><td>USJudgeRatings                                                                 </td><td>Lawyers' Ratings of State Judges in the US Superior Court                      </td></tr>\n",
              "\t<tr><td>datasets                                                                       </td><td>USPersonalExpenditure                                                          </td><td>Personal Expenditure Data                                                      </td></tr>\n",
              "\t<tr><td>datasets                                                                       </td><td>UScitiesD                                                                      </td><td>Distances Between European Cities and Between US Cities                        </td></tr>\n",
              "\t<tr><td>datasets                                                                       </td><td>VADeaths                                                                       </td><td>Death Rates in Virginia (1940)                                                 </td></tr>\n",
              "\t<tr><td>datasets                                                                       </td><td>WWWusage                                                                       </td><td>Internet Usage per Minute                                                      </td></tr>\n",
              "\t<tr><td>datasets                                                                       </td><td>WorldPhones                                                                    </td><td>The World's Telephones                                                         </td></tr>\n",
              "\t<tr><td>datasets                                                                       </td><td>ability.cov                                                                    </td><td>Ability and Intelligence Tests                                                 </td></tr>\n",
              "\t<tr><td>datasets                                                                       </td><td>airmiles                                                                       </td><td>Passenger Miles on Commercial US Airlines, 1937-1960                           </td></tr>\n",
              "\t<tr><td>datasets                                                                       </td><td>airquality                                                                     </td><td>New York Air Quality Measurements                                              </td></tr>\n",
              "\t<tr><td>datasets                                                                       </td><td>anscombe                                                                       </td><td>Anscombe's Quartet of 'Identical' Simple Linear Regressions                    </td></tr>\n",
              "\t<tr><td>datasets                                                                       </td><td>attenu                                                                         </td><td>The Joyner-Boore Attenuation Data                                              </td></tr>\n",
              "\t<tr><td>datasets                                                                       </td><td>attitude                                                                       </td><td>The Chatterjee-Price Attitude Data                                             </td></tr>\n",
              "\t<tr><td>datasets                                                                       </td><td>austres                                                                        </td><td>Quarterly Time Series of the Number of Australian Residents                    </td></tr>\n",
              "\t<tr><td>datasets                                                                       </td><td>beaver1 (beavers)                                                              </td><td>Body Temperature Series of Two Beavers                                         </td></tr>\n",
              "\t<tr><td>datasets                                                                       </td><td>beaver2 (beavers)                                                              </td><td>Body Temperature Series of Two Beavers                                         </td></tr>\n",
              "\t<tr><td>datasets                                                                       </td><td>cars                                                                           </td><td>Speed and Stopping Distances of Cars                                           </td></tr>\n",
              "\t<tr><td>datasets                                                                       </td><td>chickwts                                                                       </td><td>Chicken Weights by Feed Type                                                   </td></tr>\n",
              "\t<tr><td>datasets                                                                       </td><td>co2                                                                            </td><td>Mauna Loa Atmospheric CO2 Concentration                                        </td></tr>\n",
              "\t<tr><td>datasets                                                                       </td><td>crimtab                                                                        </td><td>Student's 3000 Criminals Data                                                  </td></tr>\n",
              "\t<tr><td>datasets                                                                       </td><td>discoveries                                                                    </td><td>Yearly Numbers of Important Discoveries                                        </td></tr>\n",
              "\t<tr><td>datasets                                                                       </td><td>esoph                                                                          </td><td>Smoking, Alcohol and (O)esophageal Cancer                                      </td></tr>\n",
              "\t<tr><td>datasets                                                                       </td><td>euro                                                                           </td><td>Conversion Rates of Euro Currencies                                            </td></tr>\n",
              "\t<tr><td>datasets                                                                       </td><td>euro.cross (euro)                                                              </td><td>Conversion Rates of Euro Currencies                                            </td></tr>\n",
              "\t<tr><td>datasets                                                                       </td><td>eurodist                                                                       </td><td>Distances Between European Cities and Between US Cities                        </td></tr>\n",
              "\t<tr><td>datasets                                                                       </td><td>faithful                                                                       </td><td>Old Faithful Geyser Data                                                       </td></tr>\n",
              "\t<tr><td>datasets                                                                       </td><td>fdeaths (UKLungDeaths)                                                         </td><td>Monthly Deaths from Lung Diseases in the UK                                    </td></tr>\n",
              "\t<tr><td>datasets                                                                       </td><td>freeny                                                                         </td><td>Freeny's Revenue Data                                                          </td></tr>\n",
              "\t<tr><td>datasets                                                                       </td><td>freeny.x (freeny)                                                              </td><td>Freeny's Revenue Data                                                          </td></tr>\n",
              "\t<tr><td>datasets                                                                       </td><td>freeny.y (freeny)                                                              </td><td>Freeny's Revenue Data                                                          </td></tr>\n",
              "\t<tr><td>datasets                                                                       </td><td>infert                                                                         </td><td>Infertility after Spontaneous and Induced Abortion                             </td></tr>\n",
              "\t<tr><td>datasets                                                                       </td><td>iris                                                                           </td><td>Edgar Anderson's Iris Data                                                     </td></tr>\n",
              "\t<tr><td>datasets                                                                       </td><td>iris3                                                                          </td><td>Edgar Anderson's Iris Data                                                     </td></tr>\n",
              "\t<tr><td>datasets                                                                       </td><td>islands                                                                        </td><td>Areas of the World's Major Landmasses                                          </td></tr>\n",
              "\t<tr><td>datasets                                                                       </td><td>ldeaths (UKLungDeaths)                                                         </td><td>Monthly Deaths from Lung Diseases in the UK                                    </td></tr>\n",
              "\t<tr><td>datasets                                                                       </td><td>lh                                                                             </td><td>Luteinizing Hormone in Blood Samples                                           </td></tr>\n",
              "\t<tr><td>datasets                                                                       </td><td>longley                                                                        </td><td>Longley's Economic Regression Data                                             </td></tr>\n",
              "\t<tr><td>datasets                                                                       </td><td>lynx                                                                           </td><td>Annual Canadian Lynx trappings 1821-1934                                       </td></tr>\n",
              "\t<tr><td>datasets                                                                       </td><td>mdeaths (UKLungDeaths)                                                         </td><td>Monthly Deaths from Lung Diseases in the UK                                    </td></tr>\n",
              "\t<tr><td>datasets                                                                       </td><td>morley                                                                         </td><td>Michelson Speed of Light Data                                                  </td></tr>\n",
              "\t<tr><td>datasets                                                                       </td><td>mtcars                                                                         </td><td>Motor Trend Car Road Tests                                                     </td></tr>\n",
              "\t<tr><td>datasets                                                                       </td><td>nhtemp                                                                         </td><td>Average Yearly Temperatures in New Haven                                       </td></tr>\n",
              "\t<tr><td>datasets                                                                       </td><td>nottem                                                                         </td><td>Average Monthly Temperatures at Nottingham, 1920-1939                          </td></tr>\n",
              "\t<tr><td>datasets                                                                       </td><td>npk                                                                            </td><td>Classical N, P, K Factorial Experiment                                         </td></tr>\n",
              "\t<tr><td>datasets                                                                       </td><td>occupationalStatus                                                             </td><td>Occupational Status of Fathers and their Sons                                  </td></tr>\n",
              "\t<tr><td>datasets                                                                       </td><td>precip                                                                         </td><td>Annual Precipitation in US Cities                                              </td></tr>\n",
              "\t<tr><td>datasets                                                                       </td><td>presidents                                                                     </td><td>Quarterly Approval Ratings of US Presidents                                    </td></tr>\n",
              "\t<tr><td>datasets                                                                       </td><td>pressure                                                                       </td><td>Vapor Pressure of Mercury as a Function of Temperature                         </td></tr>\n",
              "\t<tr><td>datasets                                                                       </td><td>quakes                                                                         </td><td>Locations of Earthquakes off Fiji                                              </td></tr>\n",
              "\t<tr><td>datasets                                                                       </td><td>randu                                                                          </td><td>Random Numbers from Congruential Generator RANDU                               </td></tr>\n",
              "\t<tr><td>datasets                                                                       </td><td>rivers                                                                         </td><td>Lengths of Major North American Rivers                                         </td></tr>\n",
              "\t<tr><td>datasets                                                                       </td><td>rock                                                                           </td><td>Measurements on Petroleum Rock Samples                                         </td></tr>\n",
              "\t<tr><td>datasets                                                                       </td><td>sleep                                                                          </td><td>Student's Sleep Data                                                           </td></tr>\n",
              "\t<tr><td>datasets                                                                       </td><td>stack.loss (stackloss)                                                         </td><td>Brownlee's Stack Loss Plant Data                                               </td></tr>\n",
              "\t<tr><td>datasets                                                                       </td><td>stack.x (stackloss)                                                            </td><td>Brownlee's Stack Loss Plant Data                                               </td></tr>\n",
              "\t<tr><td>datasets                                                                       </td><td>stackloss                                                                      </td><td>Brownlee's Stack Loss Plant Data                                               </td></tr>\n",
              "\t<tr><td>datasets                                                                       </td><td>state.abb (state)                                                              </td><td>US State Facts and Figures                                                     </td></tr>\n",
              "\t<tr><td>datasets                                                                       </td><td>state.area (state)                                                             </td><td>US State Facts and Figures                                                     </td></tr>\n",
              "\t<tr><td>datasets                                                                       </td><td>state.center (state)                                                           </td><td>US State Facts and Figures                                                     </td></tr>\n",
              "\t<tr><td>datasets                                                                       </td><td>state.division (state)                                                         </td><td>US State Facts and Figures                                                     </td></tr>\n",
              "\t<tr><td>datasets                                                                       </td><td>state.name (state)                                                             </td><td>US State Facts and Figures                                                     </td></tr>\n",
              "\t<tr><td>datasets                                                                       </td><td>state.region (state)                                                           </td><td>US State Facts and Figures                                                     </td></tr>\n",
              "\t<tr><td>datasets                                                                       </td><td>state.x77 (state)                                                              </td><td>US State Facts and Figures                                                     </td></tr>\n",
              "\t<tr><td>datasets                                                                       </td><td>sunspot.month                                                                  </td><td>Monthly Sunspot Data, from 1749 to \"Present\"                                   </td></tr>\n",
              "\t<tr><td>datasets                                                                       </td><td>sunspot.year                                                                   </td><td>Yearly Sunspot Data, 1700-1988                                                 </td></tr>\n",
              "\t<tr><td>datasets                                                                       </td><td>sunspots                                                                       </td><td>Monthly Sunspot Numbers, 1749-1983                                             </td></tr>\n",
              "\t<tr><td>datasets                                                                       </td><td>swiss                                                                          </td><td>Swiss Fertility and Socioeconomic Indicators (1888) Data                       </td></tr>\n",
              "\t<tr><td>datasets                                                                       </td><td>treering                                                                       </td><td>Yearly Treering Data, -6000-1979                                               </td></tr>\n",
              "\t<tr><td>datasets                                                                       </td><td>trees                                                                          </td><td>Diameter, Height and Volume for Black Cherry Trees                             </td></tr>\n",
              "\t<tr><td>datasets                                                                       </td><td>uspop                                                                          </td><td>Populations Recorded by the US Census                                          </td></tr>\n",
              "\t<tr><td>datasets                                                                       </td><td>volcano                                                                        </td><td>Topographic Information on Auckland's Maunga Whau Volcano                      </td></tr>\n",
              "\t<tr><td>datasets                                                                       </td><td>warpbreaks                                                                     </td><td>The Number of Breaks in Yarn during Weaving                                    </td></tr>\n",
              "\t<tr><td>datasets                                                                       </td><td>women                                                                          </td><td>Average Heights and Weights for American Women                                 </td></tr>\n",
              "\t<tr><td>boot                                                                           </td><td>acme                                                                           </td><td>Monthly Excess Returns                                                         </td></tr>\n",
              "\t<tr><td>boot                                                                           </td><td>aids                                                                           </td><td>Delay in AIDS Reporting in England and Wales                                   </td></tr>\n",
              "\t<tr><td>boot                                                                           </td><td>aircondit                                                                      </td><td>Failures of Air-conditioning Equipment                                         </td></tr>\n",
              "\t<tr><td>boot                                                                           </td><td>aircondit7                                                                     </td><td>Failures of Air-conditioning Equipment                                         </td></tr>\n",
              "\t<tr><td>boot                                                                           </td><td>amis                                                                           </td><td>Car Speeding and Warning Signs                                                 </td></tr>\n",
              "\t<tr><td>boot                                                                           </td><td>aml                                                                            </td><td>Remission Times for Acute Myelogenous Leukaemia                                </td></tr>\n",
              "\t<tr><td>boot                                                                           </td><td>beaver                                                                         </td><td>Beaver Body Temperature Data                                                   </td></tr>\n",
              "\t<tr><td>boot                                                                           </td><td>bigcity                                                                        </td><td>Population of U.S. Cities                                                      </td></tr>\n",
              "\t<tr><td>boot                                                                           </td><td>brambles                                                                       </td><td>Spatial Location of Bramble Canes                                              </td></tr>\n",
              "\t<tr><td>boot                                                                           </td><td>breslow                                                                        </td><td>Smoking Deaths Among Doctors                                                   </td></tr>\n",
              "\t<tr><td>boot                                                                           </td><td>calcium                                                                        </td><td>Calcium Uptake Data                                                            </td></tr>\n",
              "\t<tr><td>boot                                                                           </td><td>cane                                                                           </td><td>Sugar-cane Disease Data                                                        </td></tr>\n",
              "\t<tr><td>boot                                                                           </td><td>capability                                                                     </td><td>Simulated Manufacturing Process Data                                           </td></tr>\n",
              "\t<tr><td>boot                                                                           </td><td>catsM                                                                          </td><td>Weight Data for Domestic Cats                                                  </td></tr>\n",
              "\t<tr><td>boot                                                                           </td><td>cav                                                                            </td><td>Position of Muscle Caveolae                                                    </td></tr>\n",
              "\t<tr><td>boot                                                                           </td><td>cd4                                                                            </td><td>CD4 Counts for HIV-Positive Patients                                           </td></tr>\n",
              "\t<tr><td>boot                                                                           </td><td>cd4.nested                                                                     </td><td>Nested Bootstrap of cd4 data                                                   </td></tr>\n",
              "\t<tr><td>boot                                                                           </td><td>channing                                                                       </td><td>Channing House Data                                                            </td></tr>\n",
              "\t<tr><td>boot                                                                           </td><td>city                                                                           </td><td>Population of U.S. Cities                                                      </td></tr>\n",
              "\t<tr><td>boot                                                                           </td><td>claridge                                                                       </td><td>Genetic Links to Left-handedness                                               </td></tr>\n",
              "\t<tr><td>boot                                                                           </td><td>cloth                                                                          </td><td>Number of Flaws in Cloth                                                       </td></tr>\n",
              "\t<tr><td>boot                                                                           </td><td>co.transfer                                                                    </td><td>Carbon Monoxide Transfer                                                       </td></tr>\n",
              "\t<tr><td>boot                                                                           </td><td>coal                                                                           </td><td>Dates of Coal Mining Disasters                                                 </td></tr>\n",
              "\t<tr><td>boot                                                                           </td><td>darwin                                                                         </td><td>Darwin's Plant Height Differences                                              </td></tr>\n",
              "\t<tr><td>boot                                                                           </td><td>dogs                                                                           </td><td>Cardiac Data for Domestic Dogs                                                 </td></tr>\n",
              "\t<tr><td>boot                                                                           </td><td>downs.bc                                                                       </td><td>Incidence of Down's Syndrome in British Columbia                               </td></tr>\n",
              "\t<tr><td>boot                                                                           </td><td>ducks                                                                          </td><td>Behavioral and Plumage Characteristics of Hybrid Ducks                         </td></tr>\n",
              "\t<tr><td>boot                                                                           </td><td>fir                                                                            </td><td>Counts of Balsam-fir Seedlings                                                 </td></tr>\n",
              "\t<tr><td>boot                                                                           </td><td>frets                                                                          </td><td>Head Dimensions in Brothers                                                    </td></tr>\n",
              "\t<tr><td>boot                                                                           </td><td>grav                                                                           </td><td>Acceleration Due to Gravity                                                    </td></tr>\n",
              "\t<tr><td>boot                                                                           </td><td>gravity                                                                        </td><td>Acceleration Due to Gravity                                                    </td></tr>\n",
              "\t<tr><td>boot                                                                           </td><td>hirose                                                                         </td><td>Failure Time of PET Film                                                       </td></tr>\n",
              "\t<tr><td>boot                                                                           </td><td>islay                                                                          </td><td>Jura Quartzite Azimuths on Islay                                               </td></tr>\n",
              "\t<tr><td>boot                                                                           </td><td>manaus                                                                         </td><td>Average Heights of the Rio Negro river at Manaus                               </td></tr>\n",
              "\t<tr><td>boot                                                                           </td><td>melanoma                                                                       </td><td>Survival from Malignant Melanoma                                               </td></tr>\n",
              "\t<tr><td>boot                                                                           </td><td>motor                                                                          </td><td>Data from a Simulated Motorcycle Accident                                      </td></tr>\n",
              "\t<tr><td>boot                                                                           </td><td>neuro                                                                          </td><td>Neurophysiological Point Process Data                                          </td></tr>\n",
              "\t<tr><td>boot                                                                           </td><td>nitrofen                                                                       </td><td>Toxicity of Nitrofen in Aquatic Systems                                        </td></tr>\n",
              "\t<tr><td>boot                                                                           </td><td>nodal                                                                          </td><td>Nodal Involvement in Prostate Cancer                                           </td></tr>\n",
              "\t<tr><td>boot                                                                           </td><td>nuclear                                                                        </td><td>Nuclear Power Station Construction Data                                        </td></tr>\n",
              "\t<tr><td>boot                                                                           </td><td>paulsen                                                                        </td><td>Neurotransmission in Guinea Pig Brains                                         </td></tr>\n",
              "\t<tr><td>boot                                                                           </td><td>poisons                                                                        </td><td>Animal Survival Times                                                          </td></tr>\n",
              "\t<tr><td>boot                                                                           </td><td>polar                                                                          </td><td>Pole Positions of New Caledonian Laterites                                     </td></tr>\n",
              "\t<tr><td>boot                                                                           </td><td>remission                                                                      </td><td>Cancer Remission and Cell Activity                                             </td></tr>\n",
              "\t<tr><td>boot                                                                           </td><td>salinity                                                                       </td><td>Water Salinity and River Discharge                                             </td></tr>\n",
              "\t<tr><td>boot                                                                           </td><td>survival                                                                       </td><td>Survival of Rats after Radiation Doses                                         </td></tr>\n",
              "\t<tr><td>boot                                                                           </td><td>tau                                                                            </td><td>Tau Particle Decay Modes                                                       </td></tr>\n",
              "\t<tr><td>boot                                                                           </td><td>tuna                                                                           </td><td>Tuna Sighting Data                                                             </td></tr>\n",
              "\t<tr><td>boot                                                                           </td><td>urine                                                                          </td><td>Urine Analysis Data                                                            </td></tr>\n",
              "\t<tr><td>boot                                                                           </td><td>wool                                                                           </td><td>Australian Relative Wool Prices                                                </td></tr>\n",
              "\t<tr><td>broom                                                                          </td><td>argument_glossary                                                              </td><td>Allowed argument names in tidiers                                              </td></tr>\n",
              "\t<tr><td>broom                                                                          </td><td>column_glossary                                                                </td><td>Allowed column names in tidied tibbles                                         </td></tr>\n",
              "\t<tr><td>caret                                                                          </td><td>GermanCredit                                                                   </td><td>German Credit Data                                                             </td></tr>\n",
              "\t<tr><td>caret                                                                          </td><td>Sacramento                                                                     </td><td>Sacramento CA Home Prices                                                      </td></tr>\n",
              "\t<tr><td>caret                                                                          </td><td>absorp (tecator)                                                               </td><td>Fat, Water and Protein Content of Meat Samples                                 </td></tr>\n",
              "\t<tr><td>caret                                                                          </td><td>bbbDescr (BloodBrain)                                                          </td><td>Blood Brain Barrier Data                                                       </td></tr>\n",
              "\t<tr><td>caret                                                                          </td><td>cars                                                                           </td><td>Kelly Blue Book resale data for 2005 model year GM cars                        </td></tr>\n",
              "\t<tr><td>caret                                                                          </td><td>cox2Class (cox2)                                                               </td><td>COX-2 Activity Data                                                            </td></tr>\n",
              "\t<tr><td>caret                                                                          </td><td>cox2Descr (cox2)                                                               </td><td>COX-2 Activity Data                                                            </td></tr>\n",
              "\t<tr><td>caret                                                                          </td><td>cox2IC50 (cox2)                                                                </td><td>COX-2 Activity Data                                                            </td></tr>\n",
              "\t<tr><td>caret                                                                          </td><td>dhfr                                                                           </td><td>Dihydrofolate Reductase Inhibitors Data                                        </td></tr>\n",
              "\t<tr><td>caret                                                                          </td><td>endpoints (tecator)                                                            </td><td>Fat, Water and Protein Content of Meat Samples                                 </td></tr>\n",
              "\t<tr><td>caret                                                                          </td><td>fattyAcids (oil)                                                               </td><td>Fatty acid composition of commercial oils                                      </td></tr>\n",
              "\t<tr><td>caret                                                                          </td><td>logBBB (BloodBrain)                                                            </td><td>Blood Brain Barrier Data                                                       </td></tr>\n",
              "\t<tr><td>caret                                                                          </td><td>mdrrClass (mdrr)                                                               </td><td>Multidrug Resistance Reversal (MDRR) Agent Data                                </td></tr>\n",
              "\t<tr><td>caret                                                                          </td><td>mdrrDescr (mdrr)                                                               </td><td>Multidrug Resistance Reversal (MDRR) Agent Data                                </td></tr>\n",
              "\t<tr><td>caret                                                                          </td><td>oilType (oil)                                                                  </td><td>Fatty acid composition of commercial oils                                      </td></tr>\n",
              "\t<tr><td>caret                                                                          </td><td>potteryClass (pottery)                                                         </td><td>Pottery from Pre-Classical Sites in Italy                                      </td></tr>\n",
              "\t<tr><td>caret                                                                          </td><td>scat                                                                           </td><td>Morphometric Data on Scat                                                      </td></tr>\n",
              "\t<tr><td>caret                                                                          </td><td>scat_orig (scat)                                                               </td><td>Morphometric Data on Scat                                                      </td></tr>\n",
              "\t<tr><td>caret                                                                          </td><td>segmentationData                                                               </td><td>Cell Body Segmentation                                                         </td></tr>\n",
              "\t<tr><td>cluster                                                                        </td><td>agriculture                                                                    </td><td>European Union Agricultural Workforces                                         </td></tr>\n",
              "\t<tr><td>cluster                                                                        </td><td>animals                                                                        </td><td>Attributes of Animals                                                          </td></tr>\n",
              "\t<tr><td>cluster                                                                        </td><td>chorSub                                                                        </td><td>Subset of C-horizon of Kola Data                                               </td></tr>\n",
              "\t<tr><td>cluster                                                                        </td><td>flower                                                                         </td><td>Flower Characteristics                                                         </td></tr>\n",
              "\t<tr><td>cluster                                                                        </td><td>plantTraits                                                                    </td><td>Plant Species Traits Data                                                      </td></tr>\n",
              "\t<tr><td>cluster                                                                        </td><td>pluton                                                                         </td><td>Isotopic Composition Plutonium Batches                                         </td></tr>\n",
              "\t<tr><td>cluster                                                                        </td><td>ruspini                                                                        </td><td>Ruspini Data                                                                   </td></tr>\n",
              "\t<tr><td>cluster                                                                        </td><td>votes.repub                                                                    </td><td>Votes for Republican Candidate in Presidential Elections                       </td></tr>\n",
              "\t<tr><td>cluster                                                                        </td><td>xclara                                                                         </td><td>Bivariate Data Set with 3 Clusters                                             </td></tr>\n",
              "\t<tr><td>colorspace                                                                     </td><td>USSouthPolygon                                                                 </td><td>Polygon for County Map of US South States: Alabama, Georgia, and South Carolina</td></tr>\n",
              "\t<tr><td>colorspace                                                                     </td><td>max_chroma_table                                                               </td><td>Compute Maximum Chroma for Given Hue and Luminance in HCL                      </td></tr>\n",
              "\t<tr><td>curl                                                                           </td><td>curl_symbols                                                                   </td><td>List curl version and options.                                                 </td></tr>\n",
              "\t<tr><td>dichromat                                                                      </td><td>dalton                                                                         </td><td>Effects of Daltonism (Red-Green Color Blindness)                               </td></tr>\n",
              "\t<tr><td>dichromat                                                                      </td><td>dalton.colors (dalton)                                                         </td><td>Effects of Daltonism (Red-Green Color Blindness)                               </td></tr>\n",
              "\t<tr><td>dplyr                                                                          </td><td>band_instruments                                                               </td><td>Band membership                                                                </td></tr>\n",
              "\t<tr><td>dplyr                                                                          </td><td>band_instruments2                                                              </td><td>Band membership                                                                </td></tr>\n",
              "\t<tr><td>dplyr                                                                          </td><td>band_members                                                                   </td><td>Band membership                                                                </td></tr>\n",
              "\t<tr><td>dplyr                                                                          </td><td>nasa                                                                           </td><td>NASA spatio-temporal data                                                      </td></tr>\n",
              "\t<tr><td>dplyr                                                                          </td><td>starwars                                                                       </td><td>Starwars characters                                                            </td></tr>\n",
              "\t<tr><td>dplyr                                                                          </td><td>storms                                                                         </td><td>Storm tracks data                                                              </td></tr>\n",
              "\t<tr><td>forcats                                                                        </td><td>gss_cat                                                                        </td><td>A sample of categorical variables from the General Social survey               </td></tr>\n",
              "\t<tr><td>ggplot2                                                                        </td><td>diamonds                                                                       </td><td>Prices of 50,000 round cut diamonds                                            </td></tr>\n",
              "\t<tr><td>ggplot2                                                                        </td><td>economics                                                                      </td><td>US economic time series                                                        </td></tr>\n",
              "\t<tr><td>ggplot2                                                                        </td><td>economics_long                                                                 </td><td>US economic time series                                                        </td></tr>\n",
              "\t<tr><td>ggplot2                                                                        </td><td>faithfuld                                                                      </td><td>2d density estimate of Old Faithful data                                       </td></tr>\n",
              "\t<tr><td>ggplot2                                                                        </td><td>luv_colours                                                                    </td><td>'colors()' in Luv space                                                        </td></tr>\n",
              "\t<tr><td>ggplot2                                                                        </td><td>midwest                                                                        </td><td>Midwest demographics                                                           </td></tr>\n",
              "\t<tr><td>ggplot2                                                                        </td><td>mpg                                                                            </td><td>Fuel economy data from 1999 and 2008 for 38 popular models of car              </td></tr>\n",
              "\t<tr><td>ggplot2                                                                        </td><td>msleep                                                                         </td><td>An updated and expanded version of the mammals sleep dataset                   </td></tr>\n",
              "\t<tr><td>ggplot2                                                                        </td><td>presidential                                                                   </td><td>Terms of 11 presidents from Eisenhower to Obama                                </td></tr>\n",
              "\t<tr><td>ggplot2                                                                        </td><td>seals                                                                          </td><td>Vector field of seal movements                                                 </td></tr>\n",
              "\t<tr><td>ggplot2                                                                        </td><td>txhousing                                                                      </td><td>Housing sales in TX                                                            </td></tr>\n",
              "\t<tr><td>glmnet                                                                         </td><td>beta_CVX (CVXResults)                                                          </td><td>Simulated data for the glmnet vignette                                         </td></tr>\n",
              "\t<tr><td>glmnet                                                                         </td><td>x (BinomialExample)                                                            </td><td>Simulated data for the glmnet vignette                                         </td></tr>\n",
              "\t<tr><td>glmnet                                                                         </td><td>x (CoxExample)                                                                 </td><td>Simulated data for the glmnet vignette                                         </td></tr>\n",
              "\t<tr><td>glmnet                                                                         </td><td>x (MultiGaussianExample)                                                       </td><td>Simulated data for the glmnet vignette                                         </td></tr>\n",
              "\t<tr><td>glmnet                                                                         </td><td>x (MultinomialExample)                                                         </td><td>Simulated data for the glmnet vignette                                         </td></tr>\n",
              "\t<tr><td>glmnet                                                                         </td><td>x (PoissonExample)                                                             </td><td>Simulated data for the glmnet vignette                                         </td></tr>\n",
              "\t<tr><td>glmnet                                                                         </td><td>x (QuickStartExample)                                                          </td><td>Simulated data for the glmnet vignette                                         </td></tr>\n",
              "\t<tr><td>glmnet                                                                         </td><td>x (SparseExample)                                                              </td><td>Simulated data for the glmnet vignette                                         </td></tr>\n",
              "\t<tr><td>glmnet                                                                         </td><td>y (BinomialExample)                                                            </td><td>Simulated data for the glmnet vignette                                         </td></tr>\n",
              "\t<tr><td>glmnet                                                                         </td><td>y (CoxExample)                                                                 </td><td>Simulated data for the glmnet vignette                                         </td></tr>\n",
              "\t<tr><td>glmnet                                                                         </td><td>y (MultiGaussianExample)                                                       </td><td>Simulated data for the glmnet vignette                                         </td></tr>\n",
              "\t<tr><td>glmnet                                                                         </td><td>y (MultinomialExample)                                                         </td><td>Simulated data for the glmnet vignette                                         </td></tr>\n",
              "\t<tr><td>glmnet                                                                         </td><td>y (PoissonExample)                                                             </td><td>Simulated data for the glmnet vignette                                         </td></tr>\n",
              "\t<tr><td>glmnet                                                                         </td><td>y (QuickStartExample)                                                          </td><td>Simulated data for the glmnet vignette                                         </td></tr>\n",
              "\t<tr><td>glmnet                                                                         </td><td>y (SparseExample)                                                              </td><td>Simulated data for the glmnet vignette                                         </td></tr>\n",
              "\t<tr><td>hexbin                                                                         </td><td>NHANES                                                                         </td><td>NHANES Data : National Health and Nutrition Examination Survey                 </td></tr>\n",
              "\t<tr><td>ipred                                                                          </td><td>DLBCL                                                                          </td><td>Diffuse Large B-Cell Lymphoma                                                  </td></tr>\n",
              "\t<tr><td>ipred                                                                          </td><td>GlaucomaMVF                                                                    </td><td>Glaucoma Database                                                              </td></tr>\n",
              "\t<tr><td>ipred                                                                          </td><td>Smoking                                                                        </td><td>Smoking Styles                                                                 </td></tr>\n",
              "\t<tr><td>ipred                                                                          </td><td>dystrophy                                                                      </td><td>Detection of muscular dystrophy carriers.                                      </td></tr>\n",
              "\t<tr><td>lattice                                                                        </td><td>USMortality                                                                    </td><td>Mortality Rates in US by Cause and Gender                                      </td></tr>\n",
              "\t<tr><td>lattice                                                                        </td><td>USRegionalMortality                                                            </td><td>Mortality Rates in US by Cause and Gender                                      </td></tr>\n",
              "\t<tr><td>lattice                                                                        </td><td>barley                                                                         </td><td>Yield data from a Minnesota barley trial                                       </td></tr>\n",
              "\t<tr><td>lattice                                                                        </td><td>environmental                                                                  </td><td>Atmospheric environmental conditions in New York City                          </td></tr>\n",
              "\t<tr><td>lattice                                                                        </td><td>ethanol                                                                        </td><td>Engine exhaust fumes from burning ethanol                                      </td></tr>\n",
              "\t<tr><td>lattice                                                                        </td><td>melanoma                                                                       </td><td>Melanoma skin cancer incidence                                                 </td></tr>\n",
              "\t<tr><td>lattice                                                                        </td><td>singer                                                                         </td><td>Heights of New York Choral Society singers                                     </td></tr>\n",
              "\t<tr><td>lava                                                                           </td><td>bmd                                                                            </td><td>Longitudinal Bone Mineral Density Data (Wide format)                           </td></tr>\n",
              "\t<tr><td>lava                                                                           </td><td>bmidata                                                                        </td><td>Data                                                                           </td></tr>\n",
              "\t<tr><td>lava                                                                           </td><td>brisa                                                                          </td><td>Simulated data                                                                 </td></tr>\n",
              "\t<tr><td>lava                                                                           </td><td>calcium                                                                        </td><td>Longitudinal Bone Mineral Density Data                                         </td></tr>\n",
              "\t<tr><td>lava                                                                           </td><td>hubble                                                                         </td><td>Hubble data                                                                    </td></tr>\n",
              "\t<tr><td>lava                                                                           </td><td>hubble2                                                                        </td><td>Hubble data                                                                    </td></tr>\n",
              "\t<tr><td>lava                                                                           </td><td>indoorenv                                                                      </td><td>Data                                                                           </td></tr>\n",
              "\t<tr><td>lava                                                                           </td><td>missingdata                                                                    </td><td>Missing data example                                                           </td></tr>\n",
              "\t<tr><td>lava                                                                           </td><td>nldata                                                                         </td><td>Example data (nonlinear model)                                                 </td></tr>\n",
              "\t<tr><td>lava                                                                           </td><td>nsem                                                                           </td><td>Example SEM data (nonlinear)                                                   </td></tr>\n",
              "\t<tr><td>lava                                                                           </td><td>semdata                                                                        </td><td>Example SEM data                                                               </td></tr>\n",
              "\t<tr><td>lava                                                                           </td><td>serotonin                                                                      </td><td>Serotonin data                                                                 </td></tr>\n",
              "\t<tr><td>lava                                                                           </td><td>serotonin2                                                                     </td><td>Data                                                                           </td></tr>\n",
              "\t<tr><td>lava                                                                           </td><td>twindata                                                                       </td><td>Twin menarche data                                                             </td></tr>\n",
              "\t<tr><td>lubridate                                                                      </td><td>lakers                                                                         </td><td>Lakers 2008-2009 basketball data set                                           </td></tr>\n",
              "\t<tr><td>maps                                                                           </td><td>canada.cities                                                                  </td><td>Database of Canadian cities                                                    </td></tr>\n",
              "\t<tr><td>maps                                                                           </td><td>county.fips                                                                    </td><td>FIPS county codes for US County Map                                            </td></tr>\n",
              "\t<tr><td>maps                                                                           </td><td>countyMapEnv                                                                   </td><td>United States County Map                                                       </td></tr>\n",
              "\t<tr><td>maps                                                                           </td><td>franceMapEnv                                                                   </td><td>France Map                                                                     </td></tr>\n",
              "\t<tr><td>maps                                                                           </td><td>iso3166                                                                        </td><td>ISO 3166 country codes (2 or 3 letters) and sovereignty.                       </td></tr>\n",
              "\t<tr><td>maps                                                                           </td><td>italyMapEnv                                                                    </td><td>Italy Map                                                                      </td></tr>\n",
              "\t<tr><td>maps                                                                           </td><td>lakesMapEnv                                                                    </td><td>World lakes database                                                           </td></tr>\n",
              "\t<tr><td>maps                                                                           </td><td>legacy_world2MapEnv                                                            </td><td>Legacy low resolution World Map. DEPRECATED!                                   </td></tr>\n",
              "\t<tr><td>maps                                                                           </td><td>legacy_worldMapEnv                                                             </td><td>Legacy low resolution World Map. DEPRECATED!                                   </td></tr>\n",
              "\t<tr><td>maps                                                                           </td><td>nzMapEnv                                                                       </td><td>New Zealand Basic Map                                                          </td></tr>\n",
              "\t<tr><td>maps                                                                           </td><td>ozone                                                                          </td><td>Sample datasets                                                                </td></tr>\n",
              "\t<tr><td>maps                                                                           </td><td>state.carto.center                                                             </td><td>United States State Population Cartogram Map                                   </td></tr>\n",
              "\t<tr><td>maps                                                                           </td><td>state.cartoMapEnv                                                              </td><td>United States State Population Cartogram Map                                   </td></tr>\n",
              "\t<tr><td>maps                                                                           </td><td>state.fips                                                                     </td><td>FIPS state codes for US 48 State Map                                           </td></tr>\n",
              "\t<tr><td>maps                                                                           </td><td>state.vbm.center                                                               </td><td>United States State Visibility Base Map                                        </td></tr>\n",
              "\t<tr><td>maps                                                                           </td><td>state.vbmMapEnv                                                                </td><td>United States State Visibility Base Map                                        </td></tr>\n",
              "\t<tr><td>maps                                                                           </td><td>stateMapEnv                                                                    </td><td>United States State Boundaries Map                                             </td></tr>\n",
              "\t<tr><td>maps                                                                           </td><td>unemp                                                                          </td><td>Sample datasets                                                                </td></tr>\n",
              "\t<tr><td>maps                                                                           </td><td>us.cities                                                                      </td><td>Database of US cities                                                          </td></tr>\n",
              "\t<tr><td>maps                                                                           </td><td>usaMapEnv                                                                      </td><td>United States Coast Map                                                        </td></tr>\n",
              "\t<tr><td>maps                                                                           </td><td>votes.repub                                                                    </td><td>Sample datasets                                                                </td></tr>\n",
              "\t<tr><td>maps                                                                           </td><td>world.cities                                                                   </td><td>Database of world cities                                                       </td></tr>\n",
              "\t<tr><td>maps                                                                           </td><td>world2MapEnv                                                                   </td><td>Pacific Centric Low resolution World Map                                       </td></tr>\n",
              "\t<tr><td>maps                                                                           </td><td>worldMapEnv                                                                    </td><td>Low (mid) resolution World Map                                                 </td></tr>\n",
              "\t<tr><td>MASS                                                                           </td><td>Aids2                                                                          </td><td>Australian AIDS Survival Data                                                  </td></tr>\n",
              "\t<tr><td>MASS                                                                           </td><td>Animals                                                                        </td><td>Brain and Body Weights for 28 Species                                          </td></tr>\n",
              "\t<tr><td>MASS                                                                           </td><td>Boston                                                                         </td><td>Housing Values in Suburbs of Boston                                            </td></tr>\n",
              "\t<tr><td>MASS                                                                           </td><td>Cars93                                                                         </td><td>Data from 93 Cars on Sale in the USA in 1993                                   </td></tr>\n",
              "\t<tr><td>MASS                                                                           </td><td>Cushings                                                                       </td><td>Diagnostic Tests on Patients with Cushing's Syndrome                           </td></tr>\n",
              "\t<tr><td>MASS                                                                           </td><td>DDT                                                                            </td><td>DDT in Kale                                                                    </td></tr>\n",
              "\t<tr><td>MASS                                                                           </td><td>GAGurine                                                                       </td><td>Level of GAG in Urine of Children                                              </td></tr>\n",
              "\t<tr><td>MASS                                                                           </td><td>Insurance                                                                      </td><td>Numbers of Car Insurance claims                                                </td></tr>\n",
              "\t<tr><td>MASS                                                                           </td><td>Melanoma                                                                       </td><td>Survival from Malignant Melanoma                                               </td></tr>\n",
              "\t<tr><td>MASS                                                                           </td><td>OME                                                                            </td><td>Tests of Auditory Perception in Children with OME                              </td></tr>\n",
              "\t<tr><td>MASS                                                                           </td><td>Pima.te                                                                        </td><td>Diabetes in Pima Indian Women                                                  </td></tr>\n",
              "\t<tr><td>MASS                                                                           </td><td>Pima.tr                                                                        </td><td>Diabetes in Pima Indian Women                                                  </td></tr>\n",
              "\t<tr><td>MASS                                                                           </td><td>Pima.tr2                                                                       </td><td>Diabetes in Pima Indian Women                                                  </td></tr>\n",
              "\t<tr><td>MASS                                                                           </td><td>Rabbit                                                                         </td><td>Blood Pressure in Rabbits                                                      </td></tr>\n",
              "\t<tr><td>MASS                                                                           </td><td>Rubber                                                                         </td><td>Accelerated Testing of Tyre Rubber                                             </td></tr>\n",
              "\t<tr><td>MASS                                                                           </td><td>SP500                                                                          </td><td>Returns of the Standard and Poors 500                                          </td></tr>\n",
              "\t<tr><td>MASS                                                                           </td><td>Sitka                                                                          </td><td>Growth Curves for Sitka Spruce Trees in 1988                                   </td></tr>\n",
              "\t<tr><td>MASS                                                                           </td><td>Sitka89                                                                        </td><td>Growth Curves for Sitka Spruce Trees in 1989                                   </td></tr>\n",
              "\t<tr><td>MASS                                                                           </td><td>Skye                                                                           </td><td>AFM Compositions of Aphyric Skye Lavas                                         </td></tr>\n",
              "\t<tr><td>MASS                                                                           </td><td>Traffic                                                                        </td><td>Effect of Swedish Speed Limits on Accidents                                    </td></tr>\n",
              "\t<tr><td>MASS                                                                           </td><td>UScereal                                                                       </td><td>Nutritional and Marketing Information on US Cereals                            </td></tr>\n",
              "\t<tr><td>MASS                                                                           </td><td>UScrime                                                                        </td><td>The Effect of Punishment Regimes on Crime Rates                                </td></tr>\n",
              "\t<tr><td>MASS                                                                           </td><td>VA                                                                             </td><td>Veteran's Administration Lung Cancer Trial                                     </td></tr>\n",
              "\t<tr><td>MASS                                                                           </td><td>abbey                                                                          </td><td>Determinations of Nickel Content                                               </td></tr>\n",
              "\t<tr><td>MASS                                                                           </td><td>accdeaths                                                                      </td><td>Accidental Deaths in the US 1973-1978                                          </td></tr>\n",
              "\t<tr><td>MASS                                                                           </td><td>anorexia                                                                       </td><td>Anorexia Data on Weight Change                                                 </td></tr>\n",
              "\t<tr><td>MASS                                                                           </td><td>bacteria                                                                       </td><td>Presence of Bacteria after Drug Treatments                                     </td></tr>\n",
              "\t<tr><td>MASS                                                                           </td><td>beav1                                                                          </td><td>Body Temperature Series of Beaver 1                                            </td></tr>\n",
              "\t<tr><td>MASS                                                                           </td><td>beav2                                                                          </td><td>Body Temperature Series of Beaver 2                                            </td></tr>\n",
              "\t<tr><td>MASS                                                                           </td><td>biopsy                                                                         </td><td>Biopsy Data on Breast Cancer Patients                                          </td></tr>\n",
              "\t<tr><td>MASS                                                                           </td><td>birthwt                                                                        </td><td>Risk Factors Associated with Low Infant Birth Weight                           </td></tr>\n",
              "\t<tr><td>MASS                                                                           </td><td>cabbages                                                                       </td><td>Data from a cabbage field trial                                                </td></tr>\n",
              "\t<tr><td>MASS                                                                           </td><td>caith                                                                          </td><td>Colours of Eyes and Hair of People in Caithness                                </td></tr>\n",
              "\t<tr><td>MASS                                                                           </td><td>cats                                                                           </td><td>Anatomical Data from Domestic Cats                                             </td></tr>\n",
              "\t<tr><td>MASS                                                                           </td><td>cement                                                                         </td><td>Heat Evolved by Setting Cements                                                </td></tr>\n",
              "\t<tr><td>MASS                                                                           </td><td>chem                                                                           </td><td>Copper in Wholemeal Flour                                                      </td></tr>\n",
              "\t<tr><td>MASS                                                                           </td><td>coop                                                                           </td><td>Co-operative Trial in Analytical Chemistry                                     </td></tr>\n",
              "\t<tr><td>MASS                                                                           </td><td>cpus                                                                           </td><td>Performance of Computer CPUs                                                   </td></tr>\n",
              "\t<tr><td>MASS                                                                           </td><td>crabs                                                                          </td><td>Morphological Measurements on Leptograpsus Crabs                               </td></tr>\n",
              "\t<tr><td>MASS                                                                           </td><td>deaths                                                                         </td><td>Monthly Deaths from Lung Diseases in the UK                                    </td></tr>\n",
              "\t<tr><td>MASS                                                                           </td><td>drivers                                                                        </td><td>Deaths of Car Drivers in Great Britain 1969-84                                 </td></tr>\n",
              "\t<tr><td>MASS                                                                           </td><td>eagles                                                                         </td><td>Foraging Ecology of Bald Eagles                                                </td></tr>\n",
              "\t<tr><td>MASS                                                                           </td><td>epil                                                                           </td><td>Seizure Counts for Epileptics                                                  </td></tr>\n",
              "\t<tr><td>MASS                                                                           </td><td>farms                                                                          </td><td>Ecological Factors in Farm Management                                          </td></tr>\n",
              "\t<tr><td>MASS                                                                           </td><td>fgl                                                                            </td><td>Measurements of Forensic Glass Fragments                                       </td></tr>\n",
              "\t<tr><td>MASS                                                                           </td><td>forbes                                                                         </td><td>Forbes' Data on Boiling Points in the Alps                                     </td></tr>\n",
              "\t<tr><td>MASS                                                                           </td><td>galaxies                                                                       </td><td>Velocities for 82 Galaxies                                                     </td></tr>\n",
              "\t<tr><td>MASS                                                                           </td><td>gehan                                                                          </td><td>Remission Times of Leukaemia Patients                                          </td></tr>\n",
              "\t<tr><td>MASS                                                                           </td><td>genotype                                                                       </td><td>Rat Genotype Data                                                              </td></tr>\n",
              "\t<tr><td>MASS                                                                           </td><td>geyser                                                                         </td><td>Old Faithful Geyser Data                                                       </td></tr>\n",
              "\t<tr><td>MASS                                                                           </td><td>gilgais                                                                        </td><td>Line Transect of Soil in Gilgai Territory                                      </td></tr>\n",
              "\t<tr><td>MASS                                                                           </td><td>hills                                                                          </td><td>Record Times in Scottish Hill Races                                            </td></tr>\n",
              "\t<tr><td>MASS                                                                           </td><td>housing                                                                        </td><td>Frequency Table from a Copenhagen Housing Conditions Survey                    </td></tr>\n",
              "\t<tr><td>MASS                                                                           </td><td>immer                                                                          </td><td>Yields from a Barley Field Trial                                               </td></tr>\n",
              "\t<tr><td>MASS                                                                           </td><td>leuk                                                                           </td><td>Survival Times and White Blood Counts for Leukaemia Patients                   </td></tr>\n",
              "\t<tr><td>MASS                                                                           </td><td>mammals                                                                        </td><td>Brain and Body Weights for 62 Species of Land Mammals                          </td></tr>\n",
              "\t<tr><td>MASS                                                                           </td><td>mcycle                                                                         </td><td>Data from a Simulated Motorcycle Accident                                      </td></tr>\n",
              "\t<tr><td>MASS                                                                           </td><td>menarche                                                                       </td><td>Age of Menarche in Warsaw                                                      </td></tr>\n",
              "\t<tr><td>MASS                                                                           </td><td>michelson                                                                      </td><td>Michelson's Speed of Light Data                                                </td></tr>\n",
              "\t<tr><td>MASS                                                                           </td><td>minn38                                                                         </td><td>Minnesota High School Graduates of 1938                                        </td></tr>\n",
              "\t<tr><td>MASS                                                                           </td><td>motors                                                                         </td><td>Accelerated Life Testing of Motorettes                                         </td></tr>\n",
              "\t<tr><td>MASS                                                                           </td><td>muscle                                                                         </td><td>Effect of Calcium Chloride on Muscle Contraction in Rat Hearts                 </td></tr>\n",
              "\t<tr><td>MASS                                                                           </td><td>newcomb                                                                        </td><td>Newcomb's Measurements of the Passage Time of Light                            </td></tr>\n",
              "\t<tr><td>MASS                                                                           </td><td>nlschools                                                                      </td><td>Eighth-Grade Pupils in the Netherlands                                         </td></tr>\n",
              "\t<tr><td>MASS                                                                           </td><td>npk                                                                            </td><td>Classical N, P, K Factorial Experiment                                         </td></tr>\n",
              "\t<tr><td>MASS                                                                           </td><td>npr1                                                                           </td><td>US Naval Petroleum Reserve No. 1 data                                          </td></tr>\n",
              "\t<tr><td>MASS                                                                           </td><td>oats                                                                           </td><td>Data from an Oats Field Trial                                                  </td></tr>\n",
              "\t<tr><td>MASS                                                                           </td><td>painters                                                                       </td><td>The Painter's Data of de Piles                                                 </td></tr>\n",
              "\t<tr><td>MASS                                                                           </td><td>petrol                                                                         </td><td>N. L. Prater's Petrol Refinery Data                                            </td></tr>\n",
              "\t<tr><td>MASS                                                                           </td><td>phones                                                                         </td><td>Belgium Phone Calls 1950-1973                                                  </td></tr>\n",
              "\t<tr><td>MASS                                                                           </td><td>quine                                                                          </td><td>Absenteeism from School in Rural New South Wales                               </td></tr>\n",
              "\t<tr><td>MASS                                                                           </td><td>road                                                                           </td><td>Road Accident Deaths in US States                                              </td></tr>\n",
              "\t<tr><td>MASS                                                                           </td><td>rotifer                                                                        </td><td>Numbers of Rotifers by Fluid Density                                           </td></tr>\n",
              "\t<tr><td>MASS                                                                           </td><td>ships                                                                          </td><td>Ships Damage Data                                                              </td></tr>\n",
              "\t<tr><td>MASS                                                                           </td><td>shoes                                                                          </td><td>Shoe wear data of Box, Hunter and Hunter                                       </td></tr>\n",
              "\t<tr><td>MASS                                                                           </td><td>shrimp                                                                         </td><td>Percentage of Shrimp in Shrimp Cocktail                                        </td></tr>\n",
              "\t<tr><td>MASS                                                                           </td><td>shuttle                                                                        </td><td>Space Shuttle Autolander Problem                                               </td></tr>\n",
              "\t<tr><td>MASS                                                                           </td><td>snails                                                                         </td><td>Snail Mortality Data                                                           </td></tr>\n",
              "\t<tr><td>MASS                                                                           </td><td>steam                                                                          </td><td>The Saturated Steam Pressure Data                                              </td></tr>\n",
              "\t<tr><td>MASS                                                                           </td><td>stormer                                                                        </td><td>The Stormer Viscometer Data                                                    </td></tr>\n",
              "\t<tr><td>MASS                                                                           </td><td>survey                                                                         </td><td>Student Survey Data                                                            </td></tr>\n",
              "\t<tr><td>MASS                                                                           </td><td>synth.te                                                                       </td><td>Synthetic Classification Problem                                               </td></tr>\n",
              "\t<tr><td>MASS                                                                           </td><td>synth.tr                                                                       </td><td>Synthetic Classification Problem                                               </td></tr>\n",
              "\t<tr><td>MASS                                                                           </td><td>topo                                                                           </td><td>Spatial Topographic Data                                                       </td></tr>\n",
              "\t<tr><td>MASS                                                                           </td><td>waders                                                                         </td><td>Counts of Waders at 15 Sites in South Africa                                   </td></tr>\n",
              "\t<tr><td>MASS                                                                           </td><td>whiteside                                                                      </td><td>House Insulation: Whiteside's Data                                             </td></tr>\n",
              "\t<tr><td>MASS                                                                           </td><td>wtloss                                                                         </td><td>Weight Loss Data from an Obese Patient                                         </td></tr>\n",
              "\t<tr><td>Matrix                                                                         </td><td>CAex                                                                           </td><td>Albers' example Matrix with \"Difficult\" Eigen Factorization                    </td></tr>\n",
              "\t<tr><td>Matrix                                                                         </td><td>KNex                                                                           </td><td>Koenker-Ng Example Sparse Model Matrix and Response Vector                     </td></tr>\n",
              "\t<tr><td>Matrix                                                                         </td><td>USCounties                                                                     </td><td>USCounties Contiguity Matrix                                                   </td></tr>\n",
              "\t<tr><td>mgcv                                                                           </td><td>columb                                                                         </td><td>Reduced version of Columbus OH crime data                                      </td></tr>\n",
              "\t<tr><td>mgcv                                                                           </td><td>columb.polys                                                                   </td><td>Reduced version of Columbus OH crime data                                      </td></tr>\n",
              "\t<tr><td>ModelMetrics                                                                   </td><td>testDF                                                                         </td><td>Test data                                                                      </td></tr>\n",
              "\t<tr><td>modelr                                                                         </td><td>heights                                                                        </td><td>Height and income data.                                                        </td></tr>\n",
              "\t<tr><td>modelr                                                                         </td><td>sim1                                                                           </td><td>Simple simulated datasets                                                      </td></tr>\n",
              "\t<tr><td>modelr                                                                         </td><td>sim2                                                                           </td><td>Simple simulated datasets                                                      </td></tr>\n",
              "\t<tr><td>modelr                                                                         </td><td>sim3                                                                           </td><td>Simple simulated datasets                                                      </td></tr>\n",
              "\t<tr><td>modelr                                                                         </td><td>sim4                                                                           </td><td>Simple simulated datasets                                                      </td></tr>\n",
              "\t<tr><td>nlme                                                                           </td><td>Alfalfa                                                                        </td><td>Split-Plot Experiment on Varieties of Alfalfa                                  </td></tr>\n",
              "\t<tr><td>nlme                                                                           </td><td>Assay                                                                          </td><td>Bioassay on Cell Culture Plate                                                 </td></tr>\n",
              "\t<tr><td>nlme                                                                           </td><td>BodyWeight                                                                     </td><td>Rat weight over time for different diets                                       </td></tr>\n",
              "\t<tr><td>nlme                                                                           </td><td>Cefamandole                                                                    </td><td>Pharmacokinetics of Cefamandole                                                </td></tr>\n",
              "\t<tr><td>nlme                                                                           </td><td>Dialyzer                                                                       </td><td>High-Flux Hemodialyzer                                                         </td></tr>\n",
              "\t<tr><td>nlme                                                                           </td><td>Earthquake                                                                     </td><td>Earthquake Intensity                                                           </td></tr>\n",
              "\t<tr><td>nlme                                                                           </td><td>Fatigue                                                                        </td><td>Cracks caused by metal fatigue                                                 </td></tr>\n",
              "\t<tr><td>nlme                                                                           </td><td>Gasoline                                                                       </td><td>Refinery yield of gasoline                                                     </td></tr>\n",
              "\t<tr><td>nlme                                                                           </td><td>Glucose                                                                        </td><td>Glucose levels over time                                                       </td></tr>\n",
              "\t<tr><td>nlme                                                                           </td><td>Glucose2                                                                       </td><td>Glucose Levels Following Alcohol Ingestion                                     </td></tr>\n",
              "\t<tr><td>nlme                                                                           </td><td>Gun                                                                            </td><td>Methods for firing naval guns                                                  </td></tr>\n",
              "\t<tr><td>nlme                                                                           </td><td>IGF                                                                            </td><td>Radioimmunoassay of IGF-I Protein                                              </td></tr>\n",
              "\t<tr><td>nlme                                                                           </td><td>Machines                                                                       </td><td>Productivity Scores for Machines and Workers                                   </td></tr>\n",
              "\t<tr><td>nlme                                                                           </td><td>MathAchSchool                                                                  </td><td>School demographic data for MathAchieve                                        </td></tr>\n",
              "\t<tr><td>nlme                                                                           </td><td>MathAchieve                                                                    </td><td>Mathematics achievement scores                                                 </td></tr>\n",
              "\t<tr><td>nlme                                                                           </td><td>Meat                                                                           </td><td>Tenderness of meat                                                             </td></tr>\n",
              "\t<tr><td>nlme                                                                           </td><td>Milk                                                                           </td><td>Protein content of cows' milk                                                  </td></tr>\n",
              "\t<tr><td>nlme                                                                           </td><td>Muscle                                                                         </td><td>Contraction of heart muscle sections                                           </td></tr>\n",
              "\t<tr><td>nlme                                                                           </td><td>Nitrendipene                                                                   </td><td>Assay of nitrendipene                                                          </td></tr>\n",
              "\t<tr><td>nlme                                                                           </td><td>Oats                                                                           </td><td>Split-plot Experiment on Varieties of Oats                                     </td></tr>\n",
              "\t<tr><td>nlme                                                                           </td><td>Orthodont                                                                      </td><td>Growth curve data on an orthdontic measurement                                 </td></tr>\n",
              "\t<tr><td>nlme                                                                           </td><td>Ovary                                                                          </td><td>Counts of Ovarian Follicles                                                    </td></tr>\n",
              "\t<tr><td>nlme                                                                           </td><td>Oxboys                                                                         </td><td>Heights of Boys in Oxford                                                      </td></tr>\n",
              "\t<tr><td>nlme                                                                           </td><td>Oxide                                                                          </td><td>Variability in Semiconductor Manufacturing                                     </td></tr>\n",
              "\t<tr><td>nlme                                                                           </td><td>PBG                                                                            </td><td>Effect of Phenylbiguanide on Blood Pressure                                    </td></tr>\n",
              "\t<tr><td>nlme                                                                           </td><td>Phenobarb                                                                      </td><td>Phenobarbitol Kinetics                                                         </td></tr>\n",
              "\t<tr><td>nlme                                                                           </td><td>Pixel                                                                          </td><td>X-ray pixel intensities over time                                              </td></tr>\n",
              "\t<tr><td>nlme                                                                           </td><td>Quinidine                                                                      </td><td>Quinidine Kinetics                                                             </td></tr>\n",
              "\t<tr><td>nlme                                                                           </td><td>Rail                                                                           </td><td>Evaluation of Stress in Railway Rails                                          </td></tr>\n",
              "\t<tr><td>nlme                                                                           </td><td>RatPupWeight                                                                   </td><td>The weight of rat pups                                                         </td></tr>\n",
              "\t<tr><td>nlme                                                                           </td><td>Relaxin                                                                        </td><td>Assay for Relaxin                                                              </td></tr>\n",
              "\t<tr><td>nlme                                                                           </td><td>Remifentanil                                                                   </td><td>Pharmacokinetics of remifentanil                                               </td></tr>\n",
              "\t<tr><td>nlme                                                                           </td><td>Soybean                                                                        </td><td>Growth of soybean plants                                                       </td></tr>\n",
              "\t<tr><td>nlme                                                                           </td><td>Spruce                                                                         </td><td>Growth of Spruce Trees                                                         </td></tr>\n",
              "\t<tr><td>nlme                                                                           </td><td>Tetracycline1                                                                  </td><td>Pharmacokinetics of tetracycline                                               </td></tr>\n",
              "\t<tr><td>nlme                                                                           </td><td>Tetracycline2                                                                  </td><td>Pharmacokinetics of tetracycline                                               </td></tr>\n",
              "\t<tr><td>nlme                                                                           </td><td>Wafer                                                                          </td><td>Modeling of Analog MOS Circuits                                                </td></tr>\n",
              "\t<tr><td>nlme                                                                           </td><td>Wheat                                                                          </td><td>Yields by growing conditions                                                   </td></tr>\n",
              "\t<tr><td>nlme                                                                           </td><td>Wheat2                                                                         </td><td>Wheat Yield Trials                                                             </td></tr>\n",
              "\t<tr><td>nlme                                                                           </td><td>bdf                                                                            </td><td>Language scores                                                                </td></tr>\n",
              "\t<tr><td>nlme                                                                           </td><td>ergoStool                                                                      </td><td>Ergometrics experiment with stool types                                        </td></tr>\n",
              "\t<tr><td>plyr                                                                           </td><td>baseball                                                                       </td><td>Yearly batting records for all major league baseball players                   </td></tr>\n",
              "\t<tr><td>plyr                                                                           </td><td>ozone                                                                          </td><td>Monthly ozone measurements over Central America.                               </td></tr>\n",
              "\t<tr><td>randomForest                                                                   </td><td>imports85                                                                      </td><td>The Automobile Data                                                            </td></tr>\n",
              "\t<tr><td>rbokeh                                                                         </td><td>co2_df                                                                         </td><td>\"co2\" dataset                                                                  </td></tr>\n",
              "\t<tr><td>rbokeh                                                                         </td><td>elements                                                                       </td><td>\"Periodic Table\" dataset                                                       </td></tr>\n",
              "\t<tr><td>recipes                                                                        </td><td>Smithsonian                                                                    </td><td>Smithsonian Museums                                                            </td></tr>\n",
              "\t<tr><td>recipes                                                                        </td><td>biomass                                                                        </td><td>Biomass Data                                                                   </td></tr>\n",
              "\t<tr><td>recipes                                                                        </td><td>covers                                                                         </td><td>Raw Cover Type Data                                                            </td></tr>\n",
              "\t<tr><td>recipes                                                                        </td><td>credit_data                                                                    </td><td>Credit Data                                                                    </td></tr>\n",
              "\t<tr><td>recipes                                                                        </td><td>okc                                                                            </td><td>OkCupid Data                                                                   </td></tr>\n",
              "\t<tr><td>reshape2                                                                       </td><td>french_fries                                                                   </td><td>Sensory data from a french fries experiment.                                   </td></tr>\n",
              "\t<tr><td>reshape2                                                                       </td><td>smiths                                                                         </td><td>Demo data describing the Smiths.                                               </td></tr>\n",
              "\t<tr><td>reshape2                                                                       </td><td>tips                                                                           </td><td>Tipping data                                                                   </td></tr>\n",
              "\t<tr><td>rpart                                                                          </td><td>car.test.frame                                                                 </td><td>Automobile Data from 'Consumer Reports' 1990                                   </td></tr>\n",
              "\t<tr><td>rpart                                                                          </td><td>car90                                                                          </td><td>Automobile Data from 'Consumer Reports' 1990                                   </td></tr>\n",
              "\t<tr><td>rpart                                                                          </td><td>cu.summary                                                                     </td><td>Automobile Data from 'Consumer Reports' 1990                                   </td></tr>\n",
              "\t<tr><td>rpart                                                                          </td><td>kyphosis                                                                       </td><td>Data on Children who have had Corrective Spinal Surgery                        </td></tr>\n",
              "\t<tr><td>rpart                                                                          </td><td>solder                                                                         </td><td>Soldering of Components on Printed-Circuit Boards                              </td></tr>\n",
              "\t<tr><td>rpart                                                                          </td><td>solder.balance (solder)                                                        </td><td>Soldering of Components on Printed-Circuit Boards                              </td></tr>\n",
              "\t<tr><td>rpart                                                                          </td><td>stagec                                                                         </td><td>Stage C Prostate Cancer                                                        </td></tr>\n",
              "\t<tr><td>stringr                                                                        </td><td>fruit                                                                          </td><td>Sample character vectors for practicing string manipulations.                  </td></tr>\n",
              "\t<tr><td>stringr                                                                        </td><td>sentences                                                                      </td><td>Sample character vectors for practicing string manipulations.                  </td></tr>\n",
              "\t<tr><td>stringr                                                                        </td><td>words                                                                          </td><td>Sample character vectors for practicing string manipulations.                  </td></tr>\n",
              "\t<tr><td>survival                                                                       </td><td>aml (leukemia)                                                                 </td><td>Acute Myelogenous Leukemia survival data                                       </td></tr>\n",
              "\t<tr><td>survival                                                                       </td><td>bladder                                                                        </td><td>Bladder Cancer Recurrences                                                     </td></tr>\n",
              "\t<tr><td>survival                                                                       </td><td>bladder1 (bladder)                                                             </td><td>Bladder Cancer Recurrences                                                     </td></tr>\n",
              "\t<tr><td>survival                                                                       </td><td>bladder2 (bladder)                                                             </td><td>Bladder Cancer Recurrences                                                     </td></tr>\n",
              "\t<tr><td>survival                                                                       </td><td>cancer                                                                         </td><td>NCCTG Lung Cancer Data                                                         </td></tr>\n",
              "\t<tr><td>survival                                                                       </td><td>capacitor (reliability)                                                        </td><td>Reliability data sets                                                          </td></tr>\n",
              "\t<tr><td>survival                                                                       </td><td>cgd                                                                            </td><td>Chronic Granulotamous Disease data                                             </td></tr>\n",
              "\t<tr><td>survival                                                                       </td><td>cgd0 (cgd)                                                                     </td><td>Chronic Granulotomous Disease data                                             </td></tr>\n",
              "\t<tr><td>survival                                                                       </td><td>colon                                                                          </td><td>Chemotherapy for Stage B/C colon cancer                                        </td></tr>\n",
              "\t<tr><td>survival                                                                       </td><td>cracks (reliability)                                                           </td><td>Reliability data sets                                                          </td></tr>\n",
              "\t<tr><td>survival                                                                       </td><td>diabetic                                                                       </td><td>Ddiabetic retinopathy                                                          </td></tr>\n",
              "\t<tr><td>survival                                                                       </td><td>flchain                                                                        </td><td>Assay of serum free light chain for 7874 subjects.                             </td></tr>\n",
              "\t<tr><td>survival                                                                       </td><td>genfan (reliability)                                                           </td><td>Reliability data sets                                                          </td></tr>\n",
              "\t<tr><td>survival                                                                       </td><td>heart                                                                          </td><td>Stanford Heart Transplant data                                                 </td></tr>\n",
              "\t<tr><td>survival                                                                       </td><td>ifluid (reliability)                                                           </td><td>Reliability data sets                                                          </td></tr>\n",
              "\t<tr><td>survival                                                                       </td><td>imotor (reliability)                                                           </td><td>Reliability data sets                                                          </td></tr>\n",
              "\t<tr><td>survival                                                                       </td><td>jasa (heart)                                                                   </td><td>Stanford Heart Transplant data                                                 </td></tr>\n",
              "\t<tr><td>survival                                                                       </td><td>jasa1 (heart)                                                                  </td><td>Stanford Heart Transplant data                                                 </td></tr>\n",
              "\t<tr><td>survival                                                                       </td><td>kidney                                                                         </td><td>Kidney catheter data                                                           </td></tr>\n",
              "\t<tr><td>survival                                                                       </td><td>leukemia                                                                       </td><td>Acute Myelogenous Leukemia survival data                                       </td></tr>\n",
              "\t<tr><td>survival                                                                       </td><td>logan                                                                          </td><td>Data from the 1972-78 GSS data used by Logan                                   </td></tr>\n",
              "\t<tr><td>survival                                                                       </td><td>lung                                                                           </td><td>NCCTG Lung Cancer Data                                                         </td></tr>\n",
              "\t<tr><td>survival                                                                       </td><td>mgus                                                                           </td><td>Monoclonal gammopathy data                                                     </td></tr>\n",
              "\t<tr><td>survival                                                                       </td><td>mgus1 (mgus)                                                                   </td><td>Monoclonal gammopathy data                                                     </td></tr>\n",
              "\t<tr><td>survival                                                                       </td><td>mgus2                                                                          </td><td>Monoclonal gammopathy data                                                     </td></tr>\n",
              "\t<tr><td>survival                                                                       </td><td>myeloid                                                                        </td><td>Acute myeloid leukemia                                                         </td></tr>\n",
              "\t<tr><td>survival                                                                       </td><td>nwtco                                                                          </td><td>Data from the National Wilm's Tumor Study                                      </td></tr>\n",
              "\t<tr><td>survival                                                                       </td><td>ovarian                                                                        </td><td>Ovarian Cancer Survival Data                                                   </td></tr>\n",
              "\t<tr><td>survival                                                                       </td><td>pbc                                                                            </td><td>Mayo Clinic Primary Biliary Cirrhosis Data                                     </td></tr>\n",
              "\t<tr><td>survival                                                                       </td><td>pbcseq (pbc)                                                                   </td><td>Mayo Clinic Primary Biliary Cirrhosis, sequential data                         </td></tr>\n",
              "\t<tr><td>survival                                                                       </td><td>rats                                                                           </td><td>Rat treatment data from Mantel et al                                           </td></tr>\n",
              "\t<tr><td>survival                                                                       </td><td>rats2 (rats)                                                                   </td><td>Rat data from Gail et al.                                                      </td></tr>\n",
              "\t<tr><td>survival                                                                       </td><td>retinopathy                                                                    </td><td>Diabetic Retinopathy                                                           </td></tr>\n",
              "\t<tr><td>survival                                                                       </td><td>rhDNase                                                                        </td><td>rhDNASE data set                                                               </td></tr>\n",
              "\t<tr><td>survival                                                                       </td><td>solder                                                                         </td><td>Data from a soldering experiment                                               </td></tr>\n",
              "\t<tr><td>survival                                                                       </td><td>stanford2                                                                      </td><td>More Stanford Heart Transplant data                                            </td></tr>\n",
              "\t<tr><td>survival                                                                       </td><td>survexp.mn (survexp)                                                           </td><td>Census Data Sets for the Expected Survival and Person Years Functions          </td></tr>\n",
              "\t<tr><td>survival                                                                       </td><td>survexp.us (survexp)                                                           </td><td>Census Data Sets for the Expected Survival and Person Years Functions          </td></tr>\n",
              "\t<tr><td>survival                                                                       </td><td>survexp.usr (survexp)                                                          </td><td>Census Data Sets for the Expected Survival and Person Years Functions          </td></tr>\n",
              "\t<tr><td>survival                                                                       </td><td>tobin                                                                          </td><td>Tobin's Tobit data                                                             </td></tr>\n",
              "\t<tr><td>survival                                                                       </td><td>transplant                                                                     </td><td>Liver transplant waiting list                                                  </td></tr>\n",
              "\t<tr><td>survival                                                                       </td><td>turbine (reliability)                                                          </td><td>Reliability data sets                                                          </td></tr>\n",
              "\t<tr><td>survival                                                                       </td><td>udca                                                                           </td><td>Data from a trial of usrodeoxycholic acid                                      </td></tr>\n",
              "\t<tr><td>survival                                                                       </td><td>udca1 (udca)                                                                   </td><td>Data from a trial of usrodeoxycholic acid                                      </td></tr>\n",
              "\t<tr><td>survival                                                                       </td><td>udca2 (udca)                                                                   </td><td>Data from a trial of usrodeoxycholic acid                                      </td></tr>\n",
              "\t<tr><td>survival                                                                       </td><td>uspop2                                                                         </td><td>Projected US Population                                                        </td></tr>\n",
              "\t<tr><td>survival                                                                       </td><td>valveSeat (reliability)                                                        </td><td>Reliability data sets                                                          </td></tr>\n",
              "\t<tr><td>survival                                                                       </td><td>veteran                                                                        </td><td>Veterans' Administration Lung Cancer study                                     </td></tr>\n",
              "\t<tr><td>tidyr                                                                          </td><td>population                                                                     </td><td>World Health Organization TB data                                              </td></tr>\n",
              "\t<tr><td>tidyr                                                                          </td><td>smiths                                                                         </td><td>Some data about the Smith family.                                              </td></tr>\n",
              "\t<tr><td>tidyr                                                                          </td><td>table1                                                                         </td><td>Example tabular representations                                                </td></tr>\n",
              "\t<tr><td>tidyr                                                                          </td><td>table2                                                                         </td><td>Example tabular representations                                                </td></tr>\n",
              "\t<tr><td>tidyr                                                                          </td><td>table3                                                                         </td><td>Example tabular representations                                                </td></tr>\n",
              "\t<tr><td>tidyr                                                                          </td><td>table4a                                                                        </td><td>Example tabular representations                                                </td></tr>\n",
              "\t<tr><td>tidyr                                                                          </td><td>table4b                                                                        </td><td>Example tabular representations                                                </td></tr>\n",
              "\t<tr><td>tidyr                                                                          </td><td>table5                                                                         </td><td>Example tabular representations                                                </td></tr>\n",
              "\t<tr><td>tidyr                                                                          </td><td>who                                                                            </td><td>World Health Organization TB data                                              </td></tr>\n",
              "\t<tr><td>TTR                                                                            </td><td>ttrc                                                                           </td><td>Technical Trading Rule Composite data                                          </td></tr>\n",
              "\t<tr><td>viridisLite                                                                    </td><td>viridis.map                                                                    </td><td>Original 'viridis'and 'cividis' color map                                      </td></tr>\n",
              "\t<tr><td>xtable                                                                         </td><td>tli                                                                            </td><td>Math scores from Texas Assessment of Academic Skills (TAAS)                    </td></tr>\n",
              "\t<tr><td>xts                                                                            </td><td>sample_matrix                                                                  </td><td>Sample Data Matrix For xts Example and Unit Testing                            </td></tr>\n",
              "</tbody>\n",
              "</table>\n",
              "\n"
            ],
            "text/plain": [
              "Data sets in package 'boot':\n",
              "\n",
              "acme                    Monthly Excess Returns\n",
              "aids                    Delay in AIDS Reporting in England and Wales\n",
              "aircondit               Failures of Air-conditioning Equipment\n",
              "aircondit7              Failures of Air-conditioning Equipment\n",
              "amis                    Car Speeding and Warning Signs\n",
              "aml                     Remission Times for Acute Myelogenous Leukaemia\n",
              "beaver                  Beaver Body Temperature Data\n",
              "bigcity                 Population of U.S. Cities\n",
              "brambles                Spatial Location of Bramble Canes\n",
              "breslow                 Smoking Deaths Among Doctors\n",
              "calcium                 Calcium Uptake Data\n",
              "cane                    Sugar-cane Disease Data\n",
              "capability              Simulated Manufacturing Process Data\n",
              "catsM                   Weight Data for Domestic Cats\n",
              "cav                     Position of Muscle Caveolae\n",
              "cd4                     CD4 Counts for HIV-Positive Patients\n",
              "cd4.nested              Nested Bootstrap of cd4 data\n",
              "channing                Channing House Data\n",
              "city                    Population of U.S. Cities\n",
              "claridge                Genetic Links to Left-handedness\n",
              "cloth                   Number of Flaws in Cloth\n",
              "co.transfer             Carbon Monoxide Transfer\n",
              "coal                    Dates of Coal Mining Disasters\n",
              "darwin                  Darwin's Plant Height Differences\n",
              "dogs                    Cardiac Data for Domestic Dogs\n",
              "downs.bc                Incidence of Down's Syndrome in British\n",
              "                        Columbia\n",
              "ducks                   Behavioral and Plumage Characteristics of\n",
              "                        Hybrid Ducks\n",
              "fir                     Counts of Balsam-fir Seedlings\n",
              "frets                   Head Dimensions in Brothers\n",
              "grav                    Acceleration Due to Gravity\n",
              "gravity                 Acceleration Due to Gravity\n",
              "hirose                  Failure Time of PET Film\n",
              "islay                   Jura Quartzite Azimuths on Islay\n",
              "manaus                  Average Heights of the Rio Negro river at\n",
              "                        Manaus\n",
              "melanoma                Survival from Malignant Melanoma\n",
              "motor                   Data from a Simulated Motorcycle Accident\n",
              "neuro                   Neurophysiological Point Process Data\n",
              "nitrofen                Toxicity of Nitrofen in Aquatic Systems\n",
              "nodal                   Nodal Involvement in Prostate Cancer\n",
              "nuclear                 Nuclear Power Station Construction Data\n",
              "paulsen                 Neurotransmission in Guinea Pig Brains\n",
              "poisons                 Animal Survival Times\n",
              "polar                   Pole Positions of New Caledonian Laterites\n",
              "remission               Cancer Remission and Cell Activity\n",
              "salinity                Water Salinity and River Discharge\n",
              "survival                Survival of Rats after Radiation Doses\n",
              "tau                     Tau Particle Decay Modes\n",
              "tuna                    Tuna Sighting Data\n",
              "urine                   Urine Analysis Data\n",
              "wool                    Australian Relative Wool Prices\n",
              "Data sets in package 'broom':\n",
              "\n",
              "argument_glossary       Allowed argument names in tidiers\n",
              "column_glossary         Allowed column names in tidied tibbles\n",
              "Data sets in package 'caret':\n",
              "\n",
              "GermanCredit            German Credit Data\n",
              "Sacramento              Sacramento CA Home Prices\n",
              "absorp (tecator)        Fat, Water and Protein Content of Meat Samples\n",
              "bbbDescr (BloodBrain)   Blood Brain Barrier Data\n",
              "cars                    Kelly Blue Book resale data for 2005 model year\n",
              "                        GM cars\n",
              "cox2Class (cox2)        COX-2 Activity Data\n",
              "cox2Descr (cox2)        COX-2 Activity Data\n",
              "cox2IC50 (cox2)         COX-2 Activity Data\n",
              "dhfr                    Dihydrofolate Reductase Inhibitors Data\n",
              "endpoints (tecator)     Fat, Water and Protein Content of Meat Samples\n",
              "fattyAcids (oil)        Fatty acid composition of commercial oils\n",
              "logBBB (BloodBrain)     Blood Brain Barrier Data\n",
              "mdrrClass (mdrr)        Multidrug Resistance Reversal (MDRR) Agent Data\n",
              "mdrrDescr (mdrr)        Multidrug Resistance Reversal (MDRR) Agent Data\n",
              "oilType (oil)           Fatty acid composition of commercial oils\n",
              "potteryClass (pottery)\n",
              "                        Pottery from Pre-Classical Sites in Italy\n",
              "scat                    Morphometric Data on Scat\n",
              "scat_orig (scat)        Morphometric Data on Scat\n",
              "segmentationData        Cell Body Segmentation\n",
              "Data sets in package 'cluster':\n",
              "\n",
              "agriculture             European Union Agricultural Workforces\n",
              "animals                 Attributes of Animals\n",
              "chorSub                 Subset of C-horizon of Kola Data\n",
              "flower                  Flower Characteristics\n",
              "plantTraits             Plant Species Traits Data\n",
              "pluton                  Isotopic Composition Plutonium Batches\n",
              "ruspini                 Ruspini Data\n",
              "votes.repub             Votes for Republican Candidate in Presidential\n",
              "                        Elections\n",
              "xclara                  Bivariate Data Set with 3 Clusters\n",
              "Data sets in package 'colorspace':\n",
              "\n",
              "USSouthPolygon          Polygon for County Map of US South States:\n",
              "                        Alabama, Georgia, and South Carolina\n",
              "max_chroma_table        Compute Maximum Chroma for Given Hue and\n",
              "                        Luminance in HCL\n",
              "Data sets in package 'curl':\n",
              "\n",
              "curl_symbols            List curl version and options.\n",
              "Data sets in package 'datasets':\n",
              "\n",
              "AirPassengers           Monthly Airline Passenger Numbers 1949-1960\n",
              "BJsales                 Sales Data with Leading Indicator\n",
              "BJsales.lead (BJsales)\n",
              "                        Sales Data with Leading Indicator\n",
              "BOD                     Biochemical Oxygen Demand\n",
              "CO2                     Carbon Dioxide Uptake in Grass Plants\n",
              "ChickWeight             Weight versus age of chicks on different diets\n",
              "DNase                   Elisa assay of DNase\n",
              "EuStockMarkets          Daily Closing Prices of Major European Stock\n",
              "                        Indices, 1991-1998\n",
              "Formaldehyde            Determination of Formaldehyde\n",
              "HairEyeColor            Hair and Eye Color of Statistics Students\n",
              "Harman23.cor            Harman Example 2.3\n",
              "Harman74.cor            Harman Example 7.4\n",
              "Indometh                Pharmacokinetics of Indomethacin\n",
              "InsectSprays            Effectiveness of Insect Sprays\n",
              "JohnsonJohnson          Quarterly Earnings per Johnson & Johnson Share\n",
              "LakeHuron               Level of Lake Huron 1875-1972\n",
              "LifeCycleSavings        Intercountry Life-Cycle Savings Data\n",
              "Loblolly                Growth of Loblolly pine trees\n",
              "Nile                    Flow of the River Nile\n",
              "Orange                  Growth of Orange Trees\n",
              "OrchardSprays           Potency of Orchard Sprays\n",
              "PlantGrowth             Results from an Experiment on Plant Growth\n",
              "Puromycin               Reaction Velocity of an Enzymatic Reaction\n",
              "Seatbelts               Road Casualties in Great Britain 1969-84\n",
              "Theoph                  Pharmacokinetics of Theophylline\n",
              "Titanic                 Survival of passengers on the Titanic\n",
              "ToothGrowth             The Effect of Vitamin C on Tooth Growth in\n",
              "                        Guinea Pigs\n",
              "UCBAdmissions           Student Admissions at UC Berkeley\n",
              "UKDriverDeaths          Road Casualties in Great Britain 1969-84\n",
              "UKgas                   UK Quarterly Gas Consumption\n",
              "USAccDeaths             Accidental Deaths in the US 1973-1978\n",
              "USArrests               Violent Crime Rates by US State\n",
              "USJudgeRatings          Lawyers' Ratings of State Judges in the US\n",
              "                        Superior Court\n",
              "USPersonalExpenditure   Personal Expenditure Data\n",
              "UScitiesD               Distances Between European Cities and Between\n",
              "                        US Cities\n",
              "VADeaths                Death Rates in Virginia (1940)\n",
              "WWWusage                Internet Usage per Minute\n",
              "WorldPhones             The World's Telephones\n",
              "ability.cov             Ability and Intelligence Tests\n",
              "airmiles                Passenger Miles on Commercial US Airlines,\n",
              "                        1937-1960\n",
              "airquality              New York Air Quality Measurements\n",
              "anscombe                Anscombe's Quartet of 'Identical' Simple Linear\n",
              "                        Regressions\n",
              "attenu                  The Joyner-Boore Attenuation Data\n",
              "attitude                The Chatterjee-Price Attitude Data\n",
              "austres                 Quarterly Time Series of the Number of\n",
              "                        Australian Residents\n",
              "beaver1 (beavers)       Body Temperature Series of Two Beavers\n",
              "beaver2 (beavers)       Body Temperature Series of Two Beavers\n",
              "cars                    Speed and Stopping Distances of Cars\n",
              "chickwts                Chicken Weights by Feed Type\n",
              "co2                     Mauna Loa Atmospheric CO2 Concentration\n",
              "crimtab                 Student's 3000 Criminals Data\n",
              "discoveries             Yearly Numbers of Important Discoveries\n",
              "esoph                   Smoking, Alcohol and (O)esophageal Cancer\n",
              "euro                    Conversion Rates of Euro Currencies\n",
              "euro.cross (euro)       Conversion Rates of Euro Currencies\n",
              "eurodist                Distances Between European Cities and Between\n",
              "                        US Cities\n",
              "faithful                Old Faithful Geyser Data\n",
              "fdeaths (UKLungDeaths)\n",
              "                        Monthly Deaths from Lung Diseases in the UK\n",
              "freeny                  Freeny's Revenue Data\n",
              "freeny.x (freeny)       Freeny's Revenue Data\n",
              "freeny.y (freeny)       Freeny's Revenue Data\n",
              "infert                  Infertility after Spontaneous and Induced\n",
              "                        Abortion\n",
              "iris                    Edgar Anderson's Iris Data\n",
              "iris3                   Edgar Anderson's Iris Data\n",
              "islands                 Areas of the World's Major Landmasses\n",
              "ldeaths (UKLungDeaths)\n",
              "                        Monthly Deaths from Lung Diseases in the UK\n",
              "lh                      Luteinizing Hormone in Blood Samples\n",
              "longley                 Longley's Economic Regression Data\n",
              "lynx                    Annual Canadian Lynx trappings 1821-1934\n",
              "mdeaths (UKLungDeaths)\n",
              "                        Monthly Deaths from Lung Diseases in the UK\n",
              "morley                  Michelson Speed of Light Data\n",
              "mtcars                  Motor Trend Car Road Tests\n",
              "nhtemp                  Average Yearly Temperatures in New Haven\n",
              "nottem                  Average Monthly Temperatures at Nottingham,\n",
              "                        1920-1939\n",
              "npk                     Classical N, P, K Factorial Experiment\n",
              "occupationalStatus      Occupational Status of Fathers and their Sons\n",
              "precip                  Annual Precipitation in US Cities\n",
              "presidents              Quarterly Approval Ratings of US Presidents\n",
              "pressure                Vapor Pressure of Mercury as a Function of\n",
              "                        Temperature\n",
              "quakes                  Locations of Earthquakes off Fiji\n",
              "randu                   Random Numbers from Congruential Generator\n",
              "                        RANDU\n",
              "rivers                  Lengths of Major North American Rivers\n",
              "rock                    Measurements on Petroleum Rock Samples\n",
              "sleep                   Student's Sleep Data\n",
              "stack.loss (stackloss)\n",
              "                        Brownlee's Stack Loss Plant Data\n",
              "stack.x (stackloss)     Brownlee's Stack Loss Plant Data\n",
              "stackloss               Brownlee's Stack Loss Plant Data\n",
              "state.abb (state)       US State Facts and Figures\n",
              "state.area (state)      US State Facts and Figures\n",
              "state.center (state)    US State Facts and Figures\n",
              "state.division (state)\n",
              "                        US State Facts and Figures\n",
              "state.name (state)      US State Facts and Figures\n",
              "state.region (state)    US State Facts and Figures\n",
              "state.x77 (state)       US State Facts and Figures\n",
              "sunspot.month           Monthly Sunspot Data, from 1749 to \"Present\"\n",
              "sunspot.year            Yearly Sunspot Data, 1700-1988\n",
              "sunspots                Monthly Sunspot Numbers, 1749-1983\n",
              "swiss                   Swiss Fertility and Socioeconomic Indicators\n",
              "                        (1888) Data\n",
              "treering                Yearly Treering Data, -6000-1979\n",
              "trees                   Diameter, Height and Volume for Black Cherry\n",
              "                        Trees\n",
              "uspop                   Populations Recorded by the US Census\n",
              "volcano                 Topographic Information on Auckland's Maunga\n",
              "                        Whau Volcano\n",
              "warpbreaks              The Number of Breaks in Yarn during Weaving\n",
              "women                   Average Heights and Weights for American Women\n",
              "Data sets in package 'dichromat':\n",
              "\n",
              "dalton                  Effects of Daltonism (Red-Green Color\n",
              "                        Blindness)\n",
              "dalton.colors (dalton)\n",
              "                        Effects of Daltonism (Red-Green Color\n",
              "                        Blindness)\n",
              "Data sets in package 'dplyr':\n",
              "\n",
              "band_instruments        Band membership\n",
              "band_instruments2       Band membership\n",
              "band_members            Band membership\n",
              "nasa                    NASA spatio-temporal data\n",
              "starwars                Starwars characters\n",
              "storms                  Storm tracks data\n",
              "Data sets in package 'forcats':\n",
              "\n",
              "gss_cat                 A sample of categorical variables from the\n",
              "                        General Social survey\n",
              "Data sets in package 'ggplot2':\n",
              "\n",
              "diamonds                Prices of 50,000 round cut diamonds\n",
              "economics               US economic time series\n",
              "economics_long          US economic time series\n",
              "faithfuld               2d density estimate of Old Faithful data\n",
              "luv_colours             'colors()' in Luv space\n",
              "midwest                 Midwest demographics\n",
              "mpg                     Fuel economy data from 1999 and 2008 for 38\n",
              "                        popular models of car\n",
              "msleep                  An updated and expanded version of the mammals\n",
              "                        sleep dataset\n",
              "presidential            Terms of 11 presidents from Eisenhower to Obama\n",
              "seals                   Vector field of seal movements\n",
              "txhousing               Housing sales in TX\n",
              "Data sets in package 'glmnet':\n",
              "\n",
              "beta_CVX (CVXResults)   Simulated data for the glmnet vignette\n",
              "x (BinomialExample)     Simulated data for the glmnet vignette\n",
              "x (CoxExample)          Simulated data for the glmnet vignette\n",
              "x (MultiGaussianExample)\n",
              "                        Simulated data for the glmnet vignette\n",
              "x (MultinomialExample)\n",
              "                        Simulated data for the glmnet vignette\n",
              "x (PoissonExample)      Simulated data for the glmnet vignette\n",
              "x (QuickStartExample)   Simulated data for the glmnet vignette\n",
              "x (SparseExample)       Simulated data for the glmnet vignette\n",
              "y (BinomialExample)     Simulated data for the glmnet vignette\n",
              "y (CoxExample)          Simulated data for the glmnet vignette\n",
              "y (MultiGaussianExample)\n",
              "                        Simulated data for the glmnet vignette\n",
              "y (MultinomialExample)\n",
              "                        Simulated data for the glmnet vignette\n",
              "y (PoissonExample)      Simulated data for the glmnet vignette\n",
              "y (QuickStartExample)   Simulated data for the glmnet vignette\n",
              "y (SparseExample)       Simulated data for the glmnet vignette\n",
              "Data sets in package 'hexbin':\n",
              "\n",
              "NHANES                  NHANES Data : National Health and Nutrition\n",
              "                        Examination Survey\n",
              "Data sets in package 'ipred':\n",
              "\n",
              "DLBCL                   Diffuse Large B-Cell Lymphoma\n",
              "GlaucomaMVF             Glaucoma Database\n",
              "Smoking                 Smoking Styles\n",
              "dystrophy               Detection of muscular dystrophy carriers.\n",
              "Data sets in package 'lattice':\n",
              "\n",
              "USMortality             Mortality Rates in US by Cause and Gender\n",
              "USRegionalMortality     Mortality Rates in US by Cause and Gender\n",
              "barley                  Yield data from a Minnesota barley trial\n",
              "environmental           Atmospheric environmental conditions in New\n",
              "                        York City\n",
              "ethanol                 Engine exhaust fumes from burning ethanol\n",
              "melanoma                Melanoma skin cancer incidence\n",
              "singer                  Heights of New York Choral Society singers\n",
              "Data sets in package 'lava':\n",
              "\n",
              "bmd                     Longitudinal Bone Mineral Density Data (Wide\n",
              "                        format)\n",
              "bmidata                 Data\n",
              "brisa                   Simulated data\n",
              "calcium                 Longitudinal Bone Mineral Density Data\n",
              "hubble                  Hubble data\n",
              "hubble2                 Hubble data\n",
              "indoorenv               Data\n",
              "missingdata             Missing data example\n",
              "nldata                  Example data (nonlinear model)\n",
              "nsem                    Example SEM data (nonlinear)\n",
              "semdata                 Example SEM data\n",
              "serotonin               Serotonin data\n",
              "serotonin2              Data\n",
              "twindata                Twin menarche data\n",
              "Data sets in package 'lubridate':\n",
              "\n",
              "lakers                  Lakers 2008-2009 basketball data set\n",
              "Data sets in package 'maps':\n",
              "\n",
              "canada.cities           Database of Canadian cities\n",
              "county.fips             FIPS county codes for US County Map\n",
              "countyMapEnv            United States County Map\n",
              "franceMapEnv            France Map\n",
              "iso3166                 ISO 3166 country codes (2 or 3 letters) and\n",
              "                        sovereignty.\n",
              "italyMapEnv             Italy Map\n",
              "lakesMapEnv             World lakes database\n",
              "legacy_world2MapEnv     Legacy low resolution World Map. DEPRECATED!\n",
              "legacy_worldMapEnv      Legacy low resolution World Map. DEPRECATED!\n",
              "nzMapEnv                New Zealand Basic Map\n",
              "ozone                   Sample datasets\n",
              "state.carto.center      United States State Population Cartogram Map\n",
              "state.cartoMapEnv       United States State Population Cartogram Map\n",
              "state.fips              FIPS state codes for US 48 State Map\n",
              "state.vbm.center        United States State Visibility Base Map\n",
              "state.vbmMapEnv         United States State Visibility Base Map\n",
              "stateMapEnv             United States State Boundaries Map\n",
              "unemp                   Sample datasets\n",
              "us.cities               Database of US cities\n",
              "usaMapEnv               United States Coast Map\n",
              "votes.repub             Sample datasets\n",
              "world.cities            Database of world cities\n",
              "world2MapEnv            Pacific Centric Low resolution World Map\n",
              "worldMapEnv             Low (mid) resolution World Map\n",
              "Data sets in package 'MASS':\n",
              "\n",
              "Aids2                   Australian AIDS Survival Data\n",
              "Animals                 Brain and Body Weights for 28 Species\n",
              "Boston                  Housing Values in Suburbs of Boston\n",
              "Cars93                  Data from 93 Cars on Sale in the USA in 1993\n",
              "Cushings                Diagnostic Tests on Patients with Cushing's\n",
              "                        Syndrome\n",
              "DDT                     DDT in Kale\n",
              "GAGurine                Level of GAG in Urine of Children\n",
              "Insurance               Numbers of Car Insurance claims\n",
              "Melanoma                Survival from Malignant Melanoma\n",
              "OME                     Tests of Auditory Perception in Children with\n",
              "                        OME\n",
              "Pima.te                 Diabetes in Pima Indian Women\n",
              "Pima.tr                 Diabetes in Pima Indian Women\n",
              "Pima.tr2                Diabetes in Pima Indian Women\n",
              "Rabbit                  Blood Pressure in Rabbits\n",
              "Rubber                  Accelerated Testing of Tyre Rubber\n",
              "SP500                   Returns of the Standard and Poors 500\n",
              "Sitka                   Growth Curves for Sitka Spruce Trees in 1988\n",
              "Sitka89                 Growth Curves for Sitka Spruce Trees in 1989\n",
              "Skye                    AFM Compositions of Aphyric Skye Lavas\n",
              "Traffic                 Effect of Swedish Speed Limits on Accidents\n",
              "UScereal                Nutritional and Marketing Information on US\n",
              "                        Cereals\n",
              "UScrime                 The Effect of Punishment Regimes on Crime Rates\n",
              "VA                      Veteran's Administration Lung Cancer Trial\n",
              "abbey                   Determinations of Nickel Content\n",
              "accdeaths               Accidental Deaths in the US 1973-1978\n",
              "anorexia                Anorexia Data on Weight Change\n",
              "bacteria                Presence of Bacteria after Drug Treatments\n",
              "beav1                   Body Temperature Series of Beaver 1\n",
              "beav2                   Body Temperature Series of Beaver 2\n",
              "biopsy                  Biopsy Data on Breast Cancer Patients\n",
              "birthwt                 Risk Factors Associated with Low Infant Birth\n",
              "                        Weight\n",
              "cabbages                Data from a cabbage field trial\n",
              "caith                   Colours of Eyes and Hair of People in Caithness\n",
              "cats                    Anatomical Data from Domestic Cats\n",
              "cement                  Heat Evolved by Setting Cements\n",
              "chem                    Copper in Wholemeal Flour\n",
              "coop                    Co-operative Trial in Analytical Chemistry\n",
              "cpus                    Performance of Computer CPUs\n",
              "crabs                   Morphological Measurements on Leptograpsus\n",
              "                        Crabs\n",
              "deaths                  Monthly Deaths from Lung Diseases in the UK\n",
              "drivers                 Deaths of Car Drivers in Great Britain 1969-84\n",
              "eagles                  Foraging Ecology of Bald Eagles\n",
              "epil                    Seizure Counts for Epileptics\n",
              "farms                   Ecological Factors in Farm Management\n",
              "fgl                     Measurements of Forensic Glass Fragments\n",
              "forbes                  Forbes' Data on Boiling Points in the Alps\n",
              "galaxies                Velocities for 82 Galaxies\n",
              "gehan                   Remission Times of Leukaemia Patients\n",
              "genotype                Rat Genotype Data\n",
              "geyser                  Old Faithful Geyser Data\n",
              "gilgais                 Line Transect of Soil in Gilgai Territory\n",
              "hills                   Record Times in Scottish Hill Races\n",
              "housing                 Frequency Table from a Copenhagen Housing\n",
              "                        Conditions Survey\n",
              "immer                   Yields from a Barley Field Trial\n",
              "leuk                    Survival Times and White Blood Counts for\n",
              "                        Leukaemia Patients\n",
              "mammals                 Brain and Body Weights for 62 Species of Land\n",
              "                        Mammals\n",
              "mcycle                  Data from a Simulated Motorcycle Accident\n",
              "menarche                Age of Menarche in Warsaw\n",
              "michelson               Michelson's Speed of Light Data\n",
              "minn38                  Minnesota High School Graduates of 1938\n",
              "motors                  Accelerated Life Testing of Motorettes\n",
              "muscle                  Effect of Calcium Chloride on Muscle\n",
              "                        Contraction in Rat Hearts\n",
              "newcomb                 Newcomb's Measurements of the Passage Time of\n",
              "                        Light\n",
              "nlschools               Eighth-Grade Pupils in the Netherlands\n",
              "npk                     Classical N, P, K Factorial Experiment\n",
              "npr1                    US Naval Petroleum Reserve No. 1 data\n",
              "oats                    Data from an Oats Field Trial\n",
              "painters                The Painter's Data of de Piles\n",
              "petrol                  N. L. Prater's Petrol Refinery Data\n",
              "phones                  Belgium Phone Calls 1950-1973\n",
              "quine                   Absenteeism from School in Rural New South\n",
              "                        Wales\n",
              "road                    Road Accident Deaths in US States\n",
              "rotifer                 Numbers of Rotifers by Fluid Density\n",
              "ships                   Ships Damage Data\n",
              "shoes                   Shoe wear data of Box, Hunter and Hunter\n",
              "shrimp                  Percentage of Shrimp in Shrimp Cocktail\n",
              "shuttle                 Space Shuttle Autolander Problem\n",
              "snails                  Snail Mortality Data\n",
              "steam                   The Saturated Steam Pressure Data\n",
              "stormer                 The Stormer Viscometer Data\n",
              "survey                  Student Survey Data\n",
              "synth.te                Synthetic Classification Problem\n",
              "synth.tr                Synthetic Classification Problem\n",
              "topo                    Spatial Topographic Data\n",
              "waders                  Counts of Waders at 15 Sites in South Africa\n",
              "whiteside               House Insulation: Whiteside's Data\n",
              "wtloss                  Weight Loss Data from an Obese Patient\n",
              "Data sets in package 'Matrix':\n",
              "\n",
              "CAex                    Albers' example Matrix with \"Difficult\" Eigen\n",
              "                        Factorization\n",
              "KNex                    Koenker-Ng Example Sparse Model Matrix and\n",
              "                        Response Vector\n",
              "USCounties              USCounties Contiguity Matrix\n",
              "Data sets in package 'mgcv':\n",
              "\n",
              "columb                  Reduced version of Columbus OH crime data\n",
              "columb.polys            Reduced version of Columbus OH crime data\n",
              "Data sets in package 'ModelMetrics':\n",
              "\n",
              "testDF                  Test data\n",
              "Data sets in package 'modelr':\n",
              "\n",
              "heights                 Height and income data.\n",
              "sim1                    Simple simulated datasets\n",
              "sim2                    Simple simulated datasets\n",
              "sim3                    Simple simulated datasets\n",
              "sim4                    Simple simulated datasets\n",
              "Data sets in package 'nlme':\n",
              "\n",
              "Alfalfa                 Split-Plot Experiment on Varieties of Alfalfa\n",
              "Assay                   Bioassay on Cell Culture Plate\n",
              "BodyWeight              Rat weight over time for different diets\n",
              "Cefamandole             Pharmacokinetics of Cefamandole\n",
              "Dialyzer                High-Flux Hemodialyzer\n",
              "Earthquake              Earthquake Intensity\n",
              "Fatigue                 Cracks caused by metal fatigue\n",
              "Gasoline                Refinery yield of gasoline\n",
              "Glucose                 Glucose levels over time\n",
              "Glucose2                Glucose Levels Following Alcohol Ingestion\n",
              "Gun                     Methods for firing naval guns\n",
              "IGF                     Radioimmunoassay of IGF-I Protein\n",
              "Machines                Productivity Scores for Machines and Workers\n",
              "MathAchSchool           School demographic data for MathAchieve\n",
              "MathAchieve             Mathematics achievement scores\n",
              "Meat                    Tenderness of meat\n",
              "Milk                    Protein content of cows' milk\n",
              "Muscle                  Contraction of heart muscle sections\n",
              "Nitrendipene            Assay of nitrendipene\n",
              "Oats                    Split-plot Experiment on Varieties of Oats\n",
              "Orthodont               Growth curve data on an orthdontic measurement\n",
              "Ovary                   Counts of Ovarian Follicles\n",
              "Oxboys                  Heights of Boys in Oxford\n",
              "Oxide                   Variability in Semiconductor Manufacturing\n",
              "PBG                     Effect of Phenylbiguanide on Blood Pressure\n",
              "Phenobarb               Phenobarbitol Kinetics\n",
              "Pixel                   X-ray pixel intensities over time\n",
              "Quinidine               Quinidine Kinetics\n",
              "Rail                    Evaluation of Stress in Railway Rails\n",
              "RatPupWeight            The weight of rat pups\n",
              "Relaxin                 Assay for Relaxin\n",
              "Remifentanil            Pharmacokinetics of remifentanil\n",
              "Soybean                 Growth of soybean plants\n",
              "Spruce                  Growth of Spruce Trees\n",
              "Tetracycline1           Pharmacokinetics of tetracycline\n",
              "Tetracycline2           Pharmacokinetics of tetracycline\n",
              "Wafer                   Modeling of Analog MOS Circuits\n",
              "Wheat                   Yields by growing conditions\n",
              "Wheat2                  Wheat Yield Trials\n",
              "bdf                     Language scores\n",
              "ergoStool               Ergometrics experiment with stool types\n",
              "Data sets in package 'plyr':\n",
              "\n",
              "baseball                Yearly batting records for all major league\n",
              "                        baseball players\n",
              "ozone                   Monthly ozone measurements over Central\n",
              "                        America.\n",
              "Data sets in package 'randomForest':\n",
              "\n",
              "imports85               The Automobile Data\n",
              "Data sets in package 'rbokeh':\n",
              "\n",
              "co2_df                  \"co2\" dataset\n",
              "elements                \"Periodic Table\" dataset\n",
              "Data sets in package 'recipes':\n",
              "\n",
              "Smithsonian             Smithsonian Museums\n",
              "biomass                 Biomass Data\n",
              "covers                  Raw Cover Type Data\n",
              "credit_data             Credit Data\n",
              "okc                     OkCupid Data\n",
              "Data sets in package 'reshape2':\n",
              "\n",
              "french_fries            Sensory data from a french fries experiment.\n",
              "smiths                  Demo data describing the Smiths.\n",
              "tips                    Tipping data\n",
              "Data sets in package 'rpart':\n",
              "\n",
              "car.test.frame          Automobile Data from 'Consumer Reports' 1990\n",
              "car90                   Automobile Data from 'Consumer Reports' 1990\n",
              "cu.summary              Automobile Data from 'Consumer Reports' 1990\n",
              "kyphosis                Data on Children who have had Corrective Spinal\n",
              "                        Surgery\n",
              "solder                  Soldering of Components on Printed-Circuit\n",
              "                        Boards\n",
              "solder.balance (solder)\n",
              "                        Soldering of Components on Printed-Circuit\n",
              "                        Boards\n",
              "stagec                  Stage C Prostate Cancer\n",
              "Data sets in package 'stringr':\n",
              "\n",
              "fruit                   Sample character vectors for practicing string\n",
              "                        manipulations.\n",
              "sentences               Sample character vectors for practicing string\n",
              "                        manipulations.\n",
              "words                   Sample character vectors for practicing string\n",
              "                        manipulations.\n",
              "Data sets in package 'survival':\n",
              "\n",
              "aml (leukemia)          Acute Myelogenous Leukemia survival data\n",
              "bladder                 Bladder Cancer Recurrences\n",
              "bladder1 (bladder)      Bladder Cancer Recurrences\n",
              "bladder2 (bladder)      Bladder Cancer Recurrences\n",
              "cancer                  NCCTG Lung Cancer Data\n",
              "capacitor (reliability)\n",
              "                        Reliability data sets\n",
              "cgd                     Chronic Granulotamous Disease data\n",
              "cgd0 (cgd)              Chronic Granulotomous Disease data\n",
              "colon                   Chemotherapy for Stage B/C colon cancer\n",
              "cracks (reliability)    Reliability data sets\n",
              "diabetic                Ddiabetic retinopathy\n",
              "flchain                 Assay of serum free light chain for 7874\n",
              "                        subjects.\n",
              "genfan (reliability)    Reliability data sets\n",
              "heart                   Stanford Heart Transplant data\n",
              "ifluid (reliability)    Reliability data sets\n",
              "imotor (reliability)    Reliability data sets\n",
              "jasa (heart)            Stanford Heart Transplant data\n",
              "jasa1 (heart)           Stanford Heart Transplant data\n",
              "kidney                  Kidney catheter data\n",
              "leukemia                Acute Myelogenous Leukemia survival data\n",
              "logan                   Data from the 1972-78 GSS data used by Logan\n",
              "lung                    NCCTG Lung Cancer Data\n",
              "mgus                    Monoclonal gammopathy data\n",
              "mgus1 (mgus)            Monoclonal gammopathy data\n",
              "mgus2                   Monoclonal gammopathy data\n",
              "myeloid                 Acute myeloid leukemia\n",
              "nwtco                   Data from the National Wilm's Tumor Study\n",
              "ovarian                 Ovarian Cancer Survival Data\n",
              "pbc                     Mayo Clinic Primary Biliary Cirrhosis Data\n",
              "pbcseq (pbc)            Mayo Clinic Primary Biliary Cirrhosis,\n",
              "                        sequential data\n",
              "rats                    Rat treatment data from Mantel et al\n",
              "rats2 (rats)            Rat data from Gail et al.\n",
              "retinopathy             Diabetic Retinopathy\n",
              "rhDNase                 rhDNASE data set\n",
              "solder                  Data from a soldering experiment\n",
              "stanford2               More Stanford Heart Transplant data\n",
              "survexp.mn (survexp)    Census Data Sets for the Expected Survival and\n",
              "                        Person Years Functions\n",
              "survexp.us (survexp)    Census Data Sets for the Expected Survival and\n",
              "                        Person Years Functions\n",
              "survexp.usr (survexp)   Census Data Sets for the Expected Survival and\n",
              "                        Person Years Functions\n",
              "tobin                   Tobin's Tobit data\n",
              "transplant              Liver transplant waiting list\n",
              "turbine (reliability)   Reliability data sets\n",
              "udca                    Data from a trial of usrodeoxycholic acid\n",
              "udca1 (udca)            Data from a trial of usrodeoxycholic acid\n",
              "udca2 (udca)            Data from a trial of usrodeoxycholic acid\n",
              "uspop2                  Projected US Population\n",
              "valveSeat (reliability)\n",
              "                        Reliability data sets\n",
              "veteran                 Veterans' Administration Lung Cancer study\n",
              "Data sets in package 'tidyr':\n",
              "\n",
              "population              World Health Organization TB data\n",
              "smiths                  Some data about the Smith family.\n",
              "table1                  Example tabular representations\n",
              "table2                  Example tabular representations\n",
              "table3                  Example tabular representations\n",
              "table4a                 Example tabular representations\n",
              "table4b                 Example tabular representations\n",
              "table5                  Example tabular representations\n",
              "who                     World Health Organization TB data\n",
              "Data sets in package 'TTR':\n",
              "\n",
              "ttrc                    Technical Trading Rule Composite data\n",
              "Data sets in package 'viridisLite':\n",
              "\n",
              "viridis.map             Original 'viridis'and 'cividis' color map\n",
              "Data sets in package 'xtable':\n",
              "\n",
              "tli                     Math scores from Texas Assessment of Academic\n",
              "                        Skills (TAAS)\n",
              "Data sets in package 'xts':\n",
              "\n",
              "sample_matrix           Sample Data Matrix For xts Example and Unit\n",
              "                        Testing"
            ]
          },
          "metadata": {},
          "output_type": "display_data"
        }
      ],
      "source": [
        "data(package = .packages(all.available = TRUE))"
      ]
    },
    {
      "cell_type": "code",
      "execution_count": 35,
      "metadata": {
        "colab": {
          "base_uri": "https://localhost:8080/",
          "height": 286
        },
        "id": "xXFlwAJW6u_I",
        "outputId": "62fe3dcc-c350-402c-bf26-68244569e863"
      },
      "outputs": [
        {
          "output_type": "display_data",
          "data": {
            "text/html": [
              "<table class=\"dataframe\">\n",
              "<caption>A data.frame: 6 × 11</caption>\n",
              "<thead>\n",
              "\t<tr><th></th><th scope=col>mpg</th><th scope=col>cyl</th><th scope=col>disp</th><th scope=col>hp</th><th scope=col>drat</th><th scope=col>wt</th><th scope=col>qsec</th><th scope=col>vs</th><th scope=col>am</th><th scope=col>gear</th><th scope=col>carb</th></tr>\n",
              "\t<tr><th></th><th scope=col>&lt;dbl&gt;</th><th scope=col>&lt;dbl&gt;</th><th scope=col>&lt;dbl&gt;</th><th scope=col>&lt;dbl&gt;</th><th scope=col>&lt;dbl&gt;</th><th scope=col>&lt;dbl&gt;</th><th scope=col>&lt;dbl&gt;</th><th scope=col>&lt;dbl&gt;</th><th scope=col>&lt;dbl&gt;</th><th scope=col>&lt;dbl&gt;</th><th scope=col>&lt;dbl&gt;</th></tr>\n",
              "</thead>\n",
              "<tbody>\n",
              "\t<tr><th scope=row>Mazda RX4</th><td>21.0</td><td>6</td><td>160</td><td>110</td><td>3.90</td><td>2.620</td><td>16.46</td><td>0</td><td>1</td><td>4</td><td>4</td></tr>\n",
              "\t<tr><th scope=row>Mazda RX4 Wag</th><td>21.0</td><td>6</td><td>160</td><td>110</td><td>3.90</td><td>2.875</td><td>17.02</td><td>0</td><td>1</td><td>4</td><td>4</td></tr>\n",
              "\t<tr><th scope=row>Datsun 710</th><td>22.8</td><td>4</td><td>108</td><td> 93</td><td>3.85</td><td>2.320</td><td>18.61</td><td>1</td><td>1</td><td>4</td><td>1</td></tr>\n",
              "\t<tr><th scope=row>Hornet 4 Drive</th><td>21.4</td><td>6</td><td>258</td><td>110</td><td>3.08</td><td>3.215</td><td>19.44</td><td>1</td><td>0</td><td>3</td><td>1</td></tr>\n",
              "\t<tr><th scope=row>Hornet Sportabout</th><td>18.7</td><td>8</td><td>360</td><td>175</td><td>3.15</td><td>3.440</td><td>17.02</td><td>0</td><td>0</td><td>3</td><td>2</td></tr>\n",
              "\t<tr><th scope=row>Valiant</th><td>18.1</td><td>6</td><td>225</td><td>105</td><td>2.76</td><td>3.460</td><td>20.22</td><td>1</td><td>0</td><td>3</td><td>1</td></tr>\n",
              "</tbody>\n",
              "</table>\n"
            ],
            "text/markdown": "\nA data.frame: 6 × 11\n\n| <!--/--> | mpg &lt;dbl&gt; | cyl &lt;dbl&gt; | disp &lt;dbl&gt; | hp &lt;dbl&gt; | drat &lt;dbl&gt; | wt &lt;dbl&gt; | qsec &lt;dbl&gt; | vs &lt;dbl&gt; | am &lt;dbl&gt; | gear &lt;dbl&gt; | carb &lt;dbl&gt; |\n|---|---|---|---|---|---|---|---|---|---|---|---|\n| Mazda RX4 | 21.0 | 6 | 160 | 110 | 3.90 | 2.620 | 16.46 | 0 | 1 | 4 | 4 |\n| Mazda RX4 Wag | 21.0 | 6 | 160 | 110 | 3.90 | 2.875 | 17.02 | 0 | 1 | 4 | 4 |\n| Datsun 710 | 22.8 | 4 | 108 |  93 | 3.85 | 2.320 | 18.61 | 1 | 1 | 4 | 1 |\n| Hornet 4 Drive | 21.4 | 6 | 258 | 110 | 3.08 | 3.215 | 19.44 | 1 | 0 | 3 | 1 |\n| Hornet Sportabout | 18.7 | 8 | 360 | 175 | 3.15 | 3.440 | 17.02 | 0 | 0 | 3 | 2 |\n| Valiant | 18.1 | 6 | 225 | 105 | 2.76 | 3.460 | 20.22 | 1 | 0 | 3 | 1 |\n\n",
            "text/latex": "A data.frame: 6 × 11\n\\begin{tabular}{r|lllllllllll}\n  & mpg & cyl & disp & hp & drat & wt & qsec & vs & am & gear & carb\\\\\n  & <dbl> & <dbl> & <dbl> & <dbl> & <dbl> & <dbl> & <dbl> & <dbl> & <dbl> & <dbl> & <dbl>\\\\\n\\hline\n\tMazda RX4 & 21.0 & 6 & 160 & 110 & 3.90 & 2.620 & 16.46 & 0 & 1 & 4 & 4\\\\\n\tMazda RX4 Wag & 21.0 & 6 & 160 & 110 & 3.90 & 2.875 & 17.02 & 0 & 1 & 4 & 4\\\\\n\tDatsun 710 & 22.8 & 4 & 108 &  93 & 3.85 & 2.320 & 18.61 & 1 & 1 & 4 & 1\\\\\n\tHornet 4 Drive & 21.4 & 6 & 258 & 110 & 3.08 & 3.215 & 19.44 & 1 & 0 & 3 & 1\\\\\n\tHornet Sportabout & 18.7 & 8 & 360 & 175 & 3.15 & 3.440 & 17.02 & 0 & 0 & 3 & 2\\\\\n\tValiant & 18.1 & 6 & 225 & 105 & 2.76 & 3.460 & 20.22 & 1 & 0 & 3 & 1\\\\\n\\end{tabular}\n",
            "text/plain": [
              "                  mpg  cyl disp hp  drat wt    qsec  vs am gear carb\n",
              "Mazda RX4         21.0 6   160  110 3.90 2.620 16.46 0  1  4    4   \n",
              "Mazda RX4 Wag     21.0 6   160  110 3.90 2.875 17.02 0  1  4    4   \n",
              "Datsun 710        22.8 4   108   93 3.85 2.320 18.61 1  1  4    1   \n",
              "Hornet 4 Drive    21.4 6   258  110 3.08 3.215 19.44 1  0  3    1   \n",
              "Hornet Sportabout 18.7 8   360  175 3.15 3.440 17.02 0  0  3    2   \n",
              "Valiant           18.1 6   225  105 2.76 3.460 20.22 1  0  3    1   "
            ]
          },
          "metadata": {}
        }
      ],
      "source": [
        "data(mtcars)\n",
        "head(mtcars)\n",
        "\n"
      ]
    },
    {
      "cell_type": "code",
      "source": [
        "# Variables de la base de datos 'wage1'\n",
        "str(mtcars)"
      ],
      "metadata": {
        "colab": {
          "base_uri": "https://localhost:8080/"
        },
        "id": "J0uTyXI084Bc",
        "outputId": "429ba46d-fbfb-476c-ab96-510f3db75654"
      },
      "execution_count": 36,
      "outputs": [
        {
          "output_type": "stream",
          "name": "stdout",
          "text": [
            "'data.frame':\t32 obs. of  11 variables:\n",
            " $ mpg : num  21 21 22.8 21.4 18.7 18.1 14.3 24.4 22.8 19.2 ...\n",
            " $ cyl : num  6 6 4 6 8 6 8 4 4 6 ...\n",
            " $ disp: num  160 160 108 258 360 ...\n",
            " $ hp  : num  110 110 93 110 175 105 245 62 95 123 ...\n",
            " $ drat: num  3.9 3.9 3.85 3.08 3.15 2.76 3.21 3.69 3.92 3.92 ...\n",
            " $ wt  : num  2.62 2.88 2.32 3.21 3.44 ...\n",
            " $ qsec: num  16.5 17 18.6 19.4 17 ...\n",
            " $ vs  : num  0 0 1 1 0 1 0 1 1 1 ...\n",
            " $ am  : num  1 1 1 0 0 0 0 0 0 0 ...\n",
            " $ gear: num  4 4 4 3 3 3 3 4 4 4 ...\n",
            " $ carb: num  4 4 1 1 2 1 4 2 2 4 ...\n"
          ]
        }
      ]
    },
    {
      "cell_type": "markdown",
      "source": [
        " vamos a predecir el consumo de gasolina (millas por galón, mpg) en función de la potencia del motor (hp), el peso del coche (wt), y la transmisión del coche (am)"
      ],
      "metadata": {
        "id": "ahmuS6kzQ0_7"
      }
    },
    {
      "cell_type": "code",
      "source": [
        "class(mtcars)"
      ],
      "metadata": {
        "colab": {
          "base_uri": "https://localhost:8080/",
          "height": 34
        },
        "id": "IUJW11VXJRI-",
        "outputId": "54833a1b-6b39-47e9-dc09-3162237ffcde"
      },
      "execution_count": 37,
      "outputs": [
        {
          "output_type": "display_data",
          "data": {
            "text/html": [
              "'data.frame'"
            ],
            "text/markdown": "'data.frame'",
            "text/latex": "'data.frame'",
            "text/plain": [
              "[1] \"data.frame\""
            ]
          },
          "metadata": {}
        }
      ]
    },
    {
      "cell_type": "code",
      "source": [
        "names(mtcars)"
      ],
      "metadata": {
        "colab": {
          "base_uri": "https://localhost:8080/",
          "height": 34
        },
        "id": "4Zt-J5A3J2j_",
        "outputId": "c0a7421e-ccb2-42c9-93b1-0c6a474c9ccb"
      },
      "execution_count": 38,
      "outputs": [
        {
          "output_type": "display_data",
          "data": {
            "text/html": [
              "<style>\n",
              ".list-inline {list-style: none; margin:0; padding: 0}\n",
              ".list-inline>li {display: inline-block}\n",
              ".list-inline>li:not(:last-child)::after {content: \"\\00b7\"; padding: 0 .5ex}\n",
              "</style>\n",
              "<ol class=list-inline><li>'mpg'</li><li>'cyl'</li><li>'disp'</li><li>'hp'</li><li>'drat'</li><li>'wt'</li><li>'qsec'</li><li>'vs'</li><li>'am'</li><li>'gear'</li><li>'carb'</li></ol>\n"
            ],
            "text/markdown": "1. 'mpg'\n2. 'cyl'\n3. 'disp'\n4. 'hp'\n5. 'drat'\n6. 'wt'\n7. 'qsec'\n8. 'vs'\n9. 'am'\n10. 'gear'\n11. 'carb'\n\n\n",
            "text/latex": "\\begin{enumerate*}\n\\item 'mpg'\n\\item 'cyl'\n\\item 'disp'\n\\item 'hp'\n\\item 'drat'\n\\item 'wt'\n\\item 'qsec'\n\\item 'vs'\n\\item 'am'\n\\item 'gear'\n\\item 'carb'\n\\end{enumerate*}\n",
            "text/plain": [
              " [1] \"mpg\"  \"cyl\"  \"disp\" \"hp\"   \"drat\" \"wt\"   \"qsec\" \"vs\"   \"am\"   \"gear\"\n",
              "[11] \"carb\""
            ]
          },
          "metadata": {}
        }
      ]
    },
    {
      "cell_type": "code",
      "source": [
        "# Limpiamos los datos para eliminar filas con valores NA en las variables de interés\n",
        "titanic_clean = na.omit(mtcars[, c(\"mpg\", \"hp\", \"wt\",  \"am\")])"
      ],
      "metadata": {
        "id": "5tC_eJE49foa"
      },
      "execution_count": 40,
      "outputs": []
    },
    {
      "cell_type": "code",
      "source": [
        "head(titanic_clean)"
      ],
      "metadata": {
        "colab": {
          "base_uri": "https://localhost:8080/",
          "height": 286
        },
        "id": "ehUZK1u8KLC9",
        "outputId": "9311fb8a-2ebf-4b42-fdf8-e4844d97179c"
      },
      "execution_count": 32,
      "outputs": [
        {
          "output_type": "display_data",
          "data": {
            "text/html": [
              "<table class=\"dataframe\">\n",
              "<caption>A data.frame: 6 × 3</caption>\n",
              "<thead>\n",
              "\t<tr><th></th><th scope=col>Survived</th><th scope=col>Class</th><th scope=col>Age</th></tr>\n",
              "\t<tr><th></th><th scope=col>&lt;fct&gt;</th><th scope=col>&lt;fct&gt;</th><th scope=col>&lt;fct&gt;</th></tr>\n",
              "</thead>\n",
              "<tbody>\n",
              "\t<tr><th scope=row>1</th><td>No</td><td>1st </td><td>Child</td></tr>\n",
              "\t<tr><th scope=row>2</th><td>No</td><td>2nd </td><td>Child</td></tr>\n",
              "\t<tr><th scope=row>3</th><td>No</td><td>3rd </td><td>Child</td></tr>\n",
              "\t<tr><th scope=row>4</th><td>No</td><td>Crew</td><td>Child</td></tr>\n",
              "\t<tr><th scope=row>5</th><td>No</td><td>1st </td><td>Child</td></tr>\n",
              "\t<tr><th scope=row>6</th><td>No</td><td>2nd </td><td>Child</td></tr>\n",
              "</tbody>\n",
              "</table>\n"
            ],
            "text/markdown": "\nA data.frame: 6 × 3\n\n| <!--/--> | Survived &lt;fct&gt; | Class &lt;fct&gt; | Age &lt;fct&gt; |\n|---|---|---|---|\n| 1 | No | 1st  | Child |\n| 2 | No | 2nd  | Child |\n| 3 | No | 3rd  | Child |\n| 4 | No | Crew | Child |\n| 5 | No | 1st  | Child |\n| 6 | No | 2nd  | Child |\n\n",
            "text/latex": "A data.frame: 6 × 3\n\\begin{tabular}{r|lll}\n  & Survived & Class & Age\\\\\n  & <fct> & <fct> & <fct>\\\\\n\\hline\n\t1 & No & 1st  & Child\\\\\n\t2 & No & 2nd  & Child\\\\\n\t3 & No & 3rd  & Child\\\\\n\t4 & No & Crew & Child\\\\\n\t5 & No & 1st  & Child\\\\\n\t6 & No & 2nd  & Child\\\\\n\\end{tabular}\n",
            "text/plain": [
              "  Survived Class Age  \n",
              "1 No       1st   Child\n",
              "2 No       2nd   Child\n",
              "3 No       3rd   Child\n",
              "4 No       Crew  Child\n",
              "5 No       1st   Child\n",
              "6 No       2nd   Child"
            ]
          },
          "metadata": {}
        }
      ]
    },
    {
      "cell_type": "code",
      "source": [
        "modelo_mult <- lm(mpg ~ hp + wt + am, data = mtcars)\n",
        "modelo_mult"
      ],
      "metadata": {
        "colab": {
          "base_uri": "https://localhost:8080/",
          "height": 139
        },
        "id": "odkNi148KnWn",
        "outputId": "afe45d19-4c0c-496e-c6dd-23e6d5c43bc1"
      },
      "execution_count": 43,
      "outputs": [
        {
          "output_type": "display_data",
          "data": {
            "text/plain": [
              "\n",
              "Call:\n",
              "lm(formula = mpg ~ hp + wt + am, data = mtcars)\n",
              "\n",
              "Coefficients:\n",
              "(Intercept)           hp           wt           am  \n",
              "   34.00288     -0.03748     -2.87858      2.08371  \n"
            ]
          },
          "metadata": {}
        }
      ]
    },
    {
      "cell_type": "markdown",
      "metadata": {
        "id": "8Ua4kEqs6u_J"
      },
      "source": [
        "<div style=\"background-color:#F7DC6F\"><b>Resolución Ejercicio 05</b></div>"
      ]
    },
    {
      "cell_type": "markdown",
      "metadata": {
        "id": "LVts5qqD6u_J"
      },
      "source": [
        "<div style=\"background-color:#5DADE2\"><b>Apartado 1</b></div>"
      ]
    },
    {
      "cell_type": "markdown",
      "metadata": {
        "id": "aPEkG12L6u_J"
      },
      "source": [
        "Para realizar la siguiente función me he basado en los calculos manuales del punto 2.4 Interpretación salidas de estimación de un modelo de regresión lineal múltiple, que esta en el documento 3.3 Estimación regresión multi-polinómica."
      ]
    },
    {
      "cell_type": "code",
      "execution_count": 50,
      "metadata": {
        "id": "e3PjfVLg6u_K"
      },
      "outputs": [],
      "source": [
        "mi_lm <- function(formula, data) {\n",
        "    # Preparar el modelo y los datos\n",
        "    mf <- model.frame(formula, data)\n",
        "    Y <- model.response(mf)\n",
        "    X <- model.matrix(formula, data)\n",
        "\n",
        "\n",
        "\n",
        "    # Calcular los coeficientes\n",
        "    betas <- solve(t(X) %*% X) %*% t(X) %*% Y\n",
        "\n",
        "    # Calcular residuos\n",
        "    y_ajustado <- X %*% betas\n",
        "    residuos <- Y - y_ajustado\n",
        "\n",
        "    # Grados de libertad\n",
        "    gdl <- nrow(X) - ncol(X)\n",
        "\n",
        "    # Suma de cuadrados de los residuos y sigma\n",
        "    sigma <- sqrt(sum(residuos^2) / gdl)\n",
        "\n",
        "    # Varianza-Covarianza de los coeficientes y errores estándar\n",
        "    varcov <- sigma^2 * solve(t(X) %*% X)\n",
        "    se <- sqrt(diag(varcov))\n",
        "\n",
        "    # Coeficiente de determinación R-cuadrado\n",
        "    SS_total <- sum((Y - mean(Y))^2)\n",
        "    R2 <- 1 - sum(residuos^2) / SS_total\n",
        "\n",
        "    # R-cuadrado ajustado\n",
        "    R2_ajustado <- 1 - (1 - R2) * (gdl / (nrow(X) - 1))\n",
        "\n",
        "    # Devolver los resultados\n",
        "    list(\n",
        "        coeficientes = betas,\n",
        "        residuos = residuos,\n",
        "        grados_de_libertad = gdl,\n",
        "        R_cuadrado = R2,\n",
        "        R_cuadrado_ajustado = R2_ajustado,\n",
        "        varianza_covarianza = varcov,\n",
        "        errores_estandar = se\n",
        "    )\n",
        "}\n"
      ]
    },
    {
      "cell_type": "code",
      "execution_count": 51,
      "metadata": {
        "colab": {
          "base_uri": "https://localhost:8080/",
          "height": 1000
        },
        "id": "XQdmNiqL6u_K",
        "outputId": "2c2b45e0-8ae6-4da7-cefe-177e56c3645a"
      },
      "outputs": [
        {
          "output_type": "display_data",
          "data": {
            "text/html": [
              "<dl>\n",
              "\t<dt>$coeficientes</dt>\n",
              "\t\t<dd><table class=\"dataframe\">\n",
              "<caption>A matrix: 4 × 1 of type dbl</caption>\n",
              "<tbody>\n",
              "\t<tr><th scope=row>(Intercept)</th><td>34.00287512</td></tr>\n",
              "\t<tr><th scope=row>hp</th><td>-0.03747873</td></tr>\n",
              "\t<tr><th scope=row>wt</th><td>-2.87857541</td></tr>\n",
              "\t<tr><th scope=row>am</th><td> 2.08371013</td></tr>\n",
              "</tbody>\n",
              "</table>\n",
              "</dd>\n",
              "\t<dt>$residuos</dt>\n",
              "\t\t<dd><table class=\"dataframe\">\n",
              "<caption>A matrix: 32 × 1 of type dbl</caption>\n",
              "<tbody>\n",
              "\t<tr><th scope=row>Mazda RX4</th><td>-3.4220578</td></tr>\n",
              "\t<tr><th scope=row>Mazda RX4 Wag</th><td>-2.6880211</td></tr>\n",
              "\t<tr><th scope=row>Datsun 710</th><td>-3.1227688</td></tr>\n",
              "\t<tr><th scope=row>Hornet 4 Drive</th><td> 0.7744047</td></tr>\n",
              "\t<tr><th scope=row>Hornet Sportabout</th><td> 1.1582013</td></tr>\n",
              "\t<tr><th scope=row>Valiant</th><td>-2.0077380</td></tr>\n",
              "\t<tr><th scope=row>Duster 360</th><td>-0.2440730</td></tr>\n",
              "\t<tr><th scope=row>Merc 240D</th><td> 1.9034615</td></tr>\n",
              "\t<tr><th scope=row>Merc 230</th><td> 1.4251164</td></tr>\n",
              "\t<tr><th scope=row>Merc 280</th><td>-0.2906924</td></tr>\n",
              "\t<tr><th scope=row>Merc 280C</th><td>-1.6906924</td></tr>\n",
              "\t<tr><th scope=row>Merc 450SE</th><td> 0.8590975</td></tr>\n",
              "\t<tr><th scope=row>Merc 450SL</th><td> 0.7803818</td></tr>\n",
              "\t<tr><th scope=row>Merc 450SLC</th><td>-1.1756894</td></tr>\n",
              "\t<tr><th scope=row>Cadillac Fleetwood</th><td>-0.8072154</td></tr>\n",
              "\t<tr><th scope=row>Lincoln Continental</th><td> 0.0684440</td></tr>\n",
              "\t<tr><th scope=row>Chrysler Imperial</th><td> 4.7032174</td></tr>\n",
              "\t<tr><th scope=row>Fiat 128</th><td> 5.1198766</td></tr>\n",
              "\t<tr><th scope=row>Honda Civic</th><td> 0.9112078</td></tr>\n",
              "\t<tr><th scope=row>Toyota Corolla</th><td> 5.5317178</td></tr>\n",
              "\t<tr><th scope=row>Toyota Corona</th><td>-1.7717503</td></tr>\n",
              "\t<tr><th scope=row>Dodge Challenger</th><td>-2.7484808</td></tr>\n",
              "\t<tr><th scope=row>AMC Javelin</th><td>-3.2931597</td></tr>\n",
              "\t<tr><th scope=row>Camaro Z28</th><td>-0.4668577</td></tr>\n",
              "\t<tr><th scope=row>Pontiac Firebird</th><td> 2.8240244</td></tr>\n",
              "\t<tr><th scope=row>Fiat X1-9</th><td>-0.7429459</td></tr>\n",
              "\t<tr><th scope=row>Porsche 914-2</th><td>-0.5158698</td></tr>\n",
              "\t<tr><th scope=row>Lotus Europa</th><td> 2.9037954</td></tr>\n",
              "\t<tr><th scope=row>Ford Pantera L</th><td>-1.2671175</td></tr>\n",
              "\t<tr><th scope=row>Ferrari Dino</th><td>-1.8541543</td></tr>\n",
              "\t<tr><th scope=row>Maserati Bora</th><td> 1.7453022</td></tr>\n",
              "\t<tr><th scope=row>Volvo 142E</th><td>-2.5989645</td></tr>\n",
              "</tbody>\n",
              "</table>\n",
              "</dd>\n",
              "\t<dt>$grados_de_libertad</dt>\n",
              "\t\t<dd>28</dd>\n",
              "\t<dt>$R_cuadrado</dt>\n",
              "\t\t<dd>0.839890305067833</dd>\n",
              "\t<dt>$R_cuadrado_ajustado</dt>\n",
              "\t\t<dd>0.855384791674172</dd>\n",
              "\t<dt>$varianza_covarianza</dt>\n",
              "\t\t<dd><table class=\"dataframe\">\n",
              "<caption>A matrix: 4 × 4 of type dbl</caption>\n",
              "<thead>\n",
              "\t<tr><th></th><th scope=col>(Intercept)</th><th scope=col>hp</th><th scope=col>wt</th><th scope=col>am</th></tr>\n",
              "</thead>\n",
              "<tbody>\n",
              "\t<tr><th scope=row>(Intercept)</th><td> 6.983648371</td><td> 8.169829e-03</td><td>-2.110453741</td><td>-2.931655806</td></tr>\n",
              "\t<tr><th scope=row>hp</th><td> 0.008169829</td><td> 9.226413e-05</td><td>-0.006091009</td><td>-0.005187758</td></tr>\n",
              "\t<tr><th scope=row>wt</th><td>-2.110453741</td><td>-6.091009e-03</td><td> 0.818971675</td><td> 0.908534063</td></tr>\n",
              "\t<tr><th scope=row>am</th><td>-2.931655806</td><td>-5.187758e-03</td><td> 0.908534063</td><td> 1.894532436</td></tr>\n",
              "</tbody>\n",
              "</table>\n",
              "</dd>\n",
              "\t<dt>$errores_estandar</dt>\n",
              "\t\t<dd><style>\n",
              ".dl-inline {width: auto; margin:0; padding: 0}\n",
              ".dl-inline>dt, .dl-inline>dd {float: none; width: auto; display: inline-block}\n",
              ".dl-inline>dt::after {content: \":\\0020\"; padding-right: .5ex}\n",
              ".dl-inline>dt:not(:first-of-type) {padding-left: .5ex}\n",
              "</style><dl class=dl-inline><dt>(Intercept)</dt><dd>2.64265933699001</dd><dt>hp</dt><dd>0.00960542215740329</dd><dt>wt</dt><dd>0.904970538030567</dd><dt>am</dt><dd>1.37642015230493</dd></dl>\n",
              "</dd>\n",
              "</dl>\n"
            ],
            "text/markdown": "$coeficientes\n:   \nA matrix: 4 × 1 of type dbl\n\n| (Intercept) | 34.00287512 |\n| hp | -0.03747873 |\n| wt | -2.87857541 |\n| am |  2.08371013 |\n\n\n$residuos\n:   \nA matrix: 32 × 1 of type dbl\n\n| Mazda RX4 | -3.4220578 |\n| Mazda RX4 Wag | -2.6880211 |\n| Datsun 710 | -3.1227688 |\n| Hornet 4 Drive |  0.7744047 |\n| Hornet Sportabout |  1.1582013 |\n| Valiant | -2.0077380 |\n| Duster 360 | -0.2440730 |\n| Merc 240D |  1.9034615 |\n| Merc 230 |  1.4251164 |\n| Merc 280 | -0.2906924 |\n| Merc 280C | -1.6906924 |\n| Merc 450SE |  0.8590975 |\n| Merc 450SL |  0.7803818 |\n| Merc 450SLC | -1.1756894 |\n| Cadillac Fleetwood | -0.8072154 |\n| Lincoln Continental |  0.0684440 |\n| Chrysler Imperial |  4.7032174 |\n| Fiat 128 |  5.1198766 |\n| Honda Civic |  0.9112078 |\n| Toyota Corolla |  5.5317178 |\n| Toyota Corona | -1.7717503 |\n| Dodge Challenger | -2.7484808 |\n| AMC Javelin | -3.2931597 |\n| Camaro Z28 | -0.4668577 |\n| Pontiac Firebird |  2.8240244 |\n| Fiat X1-9 | -0.7429459 |\n| Porsche 914-2 | -0.5158698 |\n| Lotus Europa |  2.9037954 |\n| Ford Pantera L | -1.2671175 |\n| Ferrari Dino | -1.8541543 |\n| Maserati Bora |  1.7453022 |\n| Volvo 142E | -2.5989645 |\n\n\n$grados_de_libertad\n:   28\n$R_cuadrado\n:   0.839890305067833\n$R_cuadrado_ajustado\n:   0.855384791674172\n$varianza_covarianza\n:   \nA matrix: 4 × 4 of type dbl\n\n| <!--/--> | (Intercept) | hp | wt | am |\n|---|---|---|---|---|\n| (Intercept) |  6.983648371 |  8.169829e-03 | -2.110453741 | -2.931655806 |\n| hp |  0.008169829 |  9.226413e-05 | -0.006091009 | -0.005187758 |\n| wt | -2.110453741 | -6.091009e-03 |  0.818971675 |  0.908534063 |\n| am | -2.931655806 | -5.187758e-03 |  0.908534063 |  1.894532436 |\n\n\n$errores_estandar\n:   (Intercept)\n:   2.64265933699001hp\n:   0.00960542215740329wt\n:   0.904970538030567am\n:   1.37642015230493\n\n\n\n\n",
            "text/latex": "\\begin{description}\n\\item[\\$coeficientes] A matrix: 4 × 1 of type dbl\n\\begin{tabular}{r|l}\n\t(Intercept) & 34.00287512\\\\\n\thp & -0.03747873\\\\\n\twt & -2.87857541\\\\\n\tam &  2.08371013\\\\\n\\end{tabular}\n\n\\item[\\$residuos] A matrix: 32 × 1 of type dbl\n\\begin{tabular}{r|l}\n\tMazda RX4 & -3.4220578\\\\\n\tMazda RX4 Wag & -2.6880211\\\\\n\tDatsun 710 & -3.1227688\\\\\n\tHornet 4 Drive &  0.7744047\\\\\n\tHornet Sportabout &  1.1582013\\\\\n\tValiant & -2.0077380\\\\\n\tDuster 360 & -0.2440730\\\\\n\tMerc 240D &  1.9034615\\\\\n\tMerc 230 &  1.4251164\\\\\n\tMerc 280 & -0.2906924\\\\\n\tMerc 280C & -1.6906924\\\\\n\tMerc 450SE &  0.8590975\\\\\n\tMerc 450SL &  0.7803818\\\\\n\tMerc 450SLC & -1.1756894\\\\\n\tCadillac Fleetwood & -0.8072154\\\\\n\tLincoln Continental &  0.0684440\\\\\n\tChrysler Imperial &  4.7032174\\\\\n\tFiat 128 &  5.1198766\\\\\n\tHonda Civic &  0.9112078\\\\\n\tToyota Corolla &  5.5317178\\\\\n\tToyota Corona & -1.7717503\\\\\n\tDodge Challenger & -2.7484808\\\\\n\tAMC Javelin & -3.2931597\\\\\n\tCamaro Z28 & -0.4668577\\\\\n\tPontiac Firebird &  2.8240244\\\\\n\tFiat X1-9 & -0.7429459\\\\\n\tPorsche 914-2 & -0.5158698\\\\\n\tLotus Europa &  2.9037954\\\\\n\tFord Pantera L & -1.2671175\\\\\n\tFerrari Dino & -1.8541543\\\\\n\tMaserati Bora &  1.7453022\\\\\n\tVolvo 142E & -2.5989645\\\\\n\\end{tabular}\n\n\\item[\\$grados\\_de\\_libertad] 28\n\\item[\\$R\\_cuadrado] 0.839890305067833\n\\item[\\$R\\_cuadrado\\_ajustado] 0.855384791674172\n\\item[\\$varianza\\_covarianza] A matrix: 4 × 4 of type dbl\n\\begin{tabular}{r|llll}\n  & (Intercept) & hp & wt & am\\\\\n\\hline\n\t(Intercept) &  6.983648371 &  8.169829e-03 & -2.110453741 & -2.931655806\\\\\n\thp &  0.008169829 &  9.226413e-05 & -0.006091009 & -0.005187758\\\\\n\twt & -2.110453741 & -6.091009e-03 &  0.818971675 &  0.908534063\\\\\n\tam & -2.931655806 & -5.187758e-03 &  0.908534063 &  1.894532436\\\\\n\\end{tabular}\n\n\\item[\\$errores\\_estandar] \\begin{description*}\n\\item[(Intercept)] 2.64265933699001\n\\item[hp] 0.00960542215740329\n\\item[wt] 0.904970538030567\n\\item[am] 1.37642015230493\n\\end{description*}\n\n\\end{description}\n",
            "text/plain": [
              "$coeficientes\n",
              "                   [,1]\n",
              "(Intercept) 34.00287512\n",
              "hp          -0.03747873\n",
              "wt          -2.87857541\n",
              "am           2.08371013\n",
              "\n",
              "$residuos\n",
              "                          [,1]\n",
              "Mazda RX4           -3.4220578\n",
              "Mazda RX4 Wag       -2.6880211\n",
              "Datsun 710          -3.1227688\n",
              "Hornet 4 Drive       0.7744047\n",
              "Hornet Sportabout    1.1582013\n",
              "Valiant             -2.0077380\n",
              "Duster 360          -0.2440730\n",
              "Merc 240D            1.9034615\n",
              "Merc 230             1.4251164\n",
              "Merc 280            -0.2906924\n",
              "Merc 280C           -1.6906924\n",
              "Merc 450SE           0.8590975\n",
              "Merc 450SL           0.7803818\n",
              "Merc 450SLC         -1.1756894\n",
              "Cadillac Fleetwood  -0.8072154\n",
              "Lincoln Continental  0.0684440\n",
              "Chrysler Imperial    4.7032174\n",
              "Fiat 128             5.1198766\n",
              "Honda Civic          0.9112078\n",
              "Toyota Corolla       5.5317178\n",
              "Toyota Corona       -1.7717503\n",
              "Dodge Challenger    -2.7484808\n",
              "AMC Javelin         -3.2931597\n",
              "Camaro Z28          -0.4668577\n",
              "Pontiac Firebird     2.8240244\n",
              "Fiat X1-9           -0.7429459\n",
              "Porsche 914-2       -0.5158698\n",
              "Lotus Europa         2.9037954\n",
              "Ford Pantera L      -1.2671175\n",
              "Ferrari Dino        -1.8541543\n",
              "Maserati Bora        1.7453022\n",
              "Volvo 142E          -2.5989645\n",
              "\n",
              "$grados_de_libertad\n",
              "[1] 28\n",
              "\n",
              "$R_cuadrado\n",
              "[1] 0.8398903\n",
              "\n",
              "$R_cuadrado_ajustado\n",
              "[1] 0.8553848\n",
              "\n",
              "$varianza_covarianza\n",
              "             (Intercept)            hp           wt           am\n",
              "(Intercept)  6.983648371  8.169829e-03 -2.110453741 -2.931655806\n",
              "hp           0.008169829  9.226413e-05 -0.006091009 -0.005187758\n",
              "wt          -2.110453741 -6.091009e-03  0.818971675  0.908534063\n",
              "am          -2.931655806 -5.187758e-03  0.908534063  1.894532436\n",
              "\n",
              "$errores_estandar\n",
              "(Intercept)          hp          wt          am \n",
              "2.642659337 0.009605422 0.904970538 1.376420152 \n"
            ]
          },
          "metadata": {}
        }
      ],
      "source": [
        "resultado_mi_lm <- mi_lm(mpg ~ hp + wt + am, mtcars)\n",
        "resultado_mi_lm"
      ]
    },
    {
      "cell_type": "markdown",
      "source": [
        "Se puede observar que hemos obtenido los mismos resultados\n"
      ],
      "metadata": {
        "id": "ar3Jqsm7T3yl"
      }
    },
    {
      "cell_type": "markdown",
      "metadata": {
        "id": "qWUIThTT6u_L"
      },
      "source": [
        "# Bloque 3: Ejercicio avanzado de la prueba <a id=\"topic4\"></a>&nbsp;&nbsp;<a href=\"#index\"><i class=\"fa fa-list-alt\" aria-hidden=\"true\"></i></a>\n"
      ]
    },
    {
      "cell_type": "markdown",
      "metadata": {
        "id": "aYKF2ZVV6u_L"
      },
      "source": [
        "### 06 Ejercicio [2 puntos]\n",
        "\n",
        "En este ejercicio deberéis de realizar paso a paso las diferentes etapas que aparecen en el R Notebook `Script 4.3 Estimación de los modelos de regresión espacial`. Es decir, tenéis que realizar los siguientes apartados.\n",
        "\n",
        "1. Cargar las librerías necesarias.\n",
        "2. Cargar las cartografías de los municipios españoles del Notebook '$4.2$ Estimación modelos de regresión datos espaciales' (`Munic04_ESP`).\n",
        "3. Realizar los mapas descriptivos oportunos.\n",
        "4. Contruir la matriz de pesos espaciales (al menos, por estos dos criterios).\n",
        "- Por contigüidad de la reina\n",
        "- Por k-vecinos cercanos\n",
        "\n",
        "5. Contruir los retardos espaciales.\n",
        "6. Realizar el proceso de correlación entre una variable y su retardo espacial.\n",
        "- Coeficiente de correlación espacial global\n",
        "- Coeficiente de correlación espacial local\n",
        "\n",
        "7. Estimar el modelo de regresión lineal SIN tener en cuenta el efecto espacial.\n",
        "8. Estimar dos modelos de regresión CON dependencia espacial: Spatial Lag Model (SLM) y Spatial Error Model (SEM).\n",
        "\n",
        "**Nota.** El dataset `Munic04_ESP` lo podéis encontrar en la carpeta del tema $4$ y, como sabéis, contiene información sobre diferentes variables socioeconómicas que tenéis que considerar para poder realizar dichos pasos y validar los resultados. La variable dependiente es la tasa de paro `TASA_PARO`, las independientes son el resto de variables numéricas. Ustedes elegís cuántas consideráis teniendo siempre en cuenta que debe de existir una correlación entre las variables explicativas y la explicada para poder aplicar los modelos de regresión."
      ]
    },
    {
      "cell_type": "markdown",
      "metadata": {
        "id": "EBy8jbDZ6u_M"
      },
      "source": [
        "<div style=\"background-color:#F7DC6F\"><b>Resolución Ejercicio 06</b></div>"
      ]
    },
    {
      "cell_type": "markdown",
      "metadata": {
        "id": "ETCETR2j6u_M"
      },
      "source": [
        "<div style=\"background-color:#5DADE2\"><b>Apartado 1</b></div>"
      ]
    },
    {
      "cell_type": "code",
      "execution_count": null,
      "metadata": {
        "id": "NjWXBOIO6u_M",
        "outputId": "85830547-bbf7-4230-8268-9112e2c3f30a"
      },
      "outputs": [
        {
          "ename": "ERROR",
          "evalue": "Error in library(sp): there is no package called 'sp'\n",
          "output_type": "error",
          "traceback": [
            "Error in library(sp): there is no package called 'sp'\nTraceback:\n",
            "1. library(sp)"
          ]
        }
      ],
      "source": [
        "library(sp)\n",
        "library(sf)\n",
        "library(rgdal)\n",
        "library(spdep)\n",
        "library(leaflet)"
      ]
    },
    {
      "cell_type": "markdown",
      "metadata": {
        "id": "l-0oET5_6u_N"
      },
      "source": [
        "<div style=\"background-color:#5DADE2\"><b>Apartado 2</b></div>"
      ]
    },
    {
      "cell_type": "markdown",
      "metadata": {
        "id": "RQqEUQ5b6u_N"
      },
      "source": [
        "<div style=\"background-color:#5DADE2\"><b>Apartado 3</b></div>"
      ]
    },
    {
      "cell_type": "markdown",
      "metadata": {
        "id": "L4d3cPU66u_N"
      },
      "source": [
        "<div style=\"background-color:#5DADE2\"><b>Apartado 4</b></div>"
      ]
    },
    {
      "cell_type": "markdown",
      "metadata": {
        "id": "rhSTcbbR6u_O"
      },
      "source": [
        "<div style=\"background-color:#5DADE2\"><b>Apartado 5</b></div>"
      ]
    },
    {
      "cell_type": "markdown",
      "metadata": {
        "id": "OiCYzQhI6u_O"
      },
      "source": [
        "<div style=\"background-color:#5DADE2\"><b>Apartado 6</b></div>"
      ]
    },
    {
      "cell_type": "markdown",
      "metadata": {
        "id": "4KMRH3hi6u_O"
      },
      "source": [
        "<div style=\"background-color:#5DADE2\"><b>Apartado 7</b></div>"
      ]
    },
    {
      "cell_type": "markdown",
      "metadata": {
        "id": "8vU8blc86u_O"
      },
      "source": [
        "<div style=\"background-color:#5DADE2\"><b>Apartado 8</b></div>"
      ]
    },
    {
      "cell_type": "markdown",
      "metadata": {
        "id": "cQL8iSgD6u_P"
      },
      "source": [
        "<div style = \"float:right\"><a style=\"text-decoration:none\" href = \"#inicio\">Inicio</a></div>"
      ]
    }
  ],
  "metadata": {
    "kernelspec": {
      "display_name": "R",
      "language": "R",
      "name": "ir"
    },
    "language_info": {
      "codemirror_mode": "r",
      "file_extension": ".r",
      "mimetype": "text/x-r-source",
      "name": "R",
      "pygments_lexer": "r",
      "version": "3.6.1"
    },
    "colab": {
      "provenance": []
    }
  },
  "nbformat": 4,
  "nbformat_minor": 0
}